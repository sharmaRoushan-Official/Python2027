{
 "cells": [
  {
   "cell_type": "markdown",
   "id": "d02a2618-f8bc-4ba9-b73a-7a8af9931a93",
   "metadata": {},
   "source": [
    "# 4. Tuples in Python\n",
    "\n",
    " * __Tuples are immutable lists and cannot be changed in any way once it is created.__\n",
    " * __Tuples are ordered collections of items.__\n",
    " * __Created using parentheses() or tuple() constructuor.__\n",
    " * __Can contains heterogeneous data types (eg:- int, str, float).__\n",
    " * __Allow duplicate elements.__\n",
    " * __Support indexing and slicing like lists.__\n",
    " * __Can be nested inside other tuples or lists.__\n",
    " * __Used as dictionary keys if elements are immutable.__\n",
    " * __Support packing and unpacking of varibales.__\n",
    " * __Single-elements tuple needs a trailing comman (5,).__\n",
    " * __Have built-in methods like count() and index().__\n",
    " * __Similar to string indices, the first value in the tuple will have the index [0], the second value [1]__\n",
    " * __Negative indices are counted from the end of the tuple, just like lits.__\n",
    " * __Tuples are the same structure where commas separate the values.__"
   ]
  },
  {
   "cell_type": "code",
   "execution_count": 3,
   "id": "05dbd08d-2a34-416a-9fe3-baa697a40726",
   "metadata": {},
   "outputs": [
    {
     "name": "stdout",
     "output_type": "stream",
     "text": [
      "Hello\n",
      "World\n"
     ]
    }
   ],
   "source": [
    "x,y = 'Hello','World'\n",
    "print(x)\n",
    "print(y)"
   ]
  },
  {
   "cell_type": "code",
   "execution_count": 4,
   "id": "9635f6c8-73a2-4d72-a182-9f6316bea81f",
   "metadata": {},
   "outputs": [
    {
     "name": "stdout",
     "output_type": "stream",
     "text": [
      "Hello\n",
      "apple\n"
     ]
    }
   ],
   "source": [
    "x,y = ('Hello',\"apple\")  # unpacking\n",
    "print(x)\n",
    "print(y)"
   ]
  },
  {
   "cell_type": "code",
   "execution_count": 5,
   "id": "8e3e7924-9193-47e7-8605-1f9280b63888",
   "metadata": {},
   "outputs": [
    {
     "name": "stdout",
     "output_type": "stream",
     "text": [
      "('Hello', 'apple')\n"
     ]
    }
   ],
   "source": [
    "x1 = ('Hello',\"apple\")  # packing\n",
    "print(x1)"
   ]
  },
  {
   "cell_type": "code",
   "execution_count": 6,
   "id": "6a088c7b-07bb-406b-ba05-483300f16e5a",
   "metadata": {},
   "outputs": [
    {
     "name": "stdout",
     "output_type": "stream",
     "text": [
      "() <class 'tuple'>\n"
     ]
    }
   ],
   "source": [
    "x = ()\n",
    "print(x,type(x))"
   ]
  },
  {
   "cell_type": "code",
   "execution_count": 8,
   "id": "e155ab0e-aba0-4baa-a1e9-62402065f3d9",
   "metadata": {},
   "outputs": [
    {
     "name": "stdout",
     "output_type": "stream",
     "text": [
      "() <class 'tuple'>\n"
     ]
    }
   ],
   "source": [
    "x1 = tuple()\n",
    "print(x1,type(x1))"
   ]
  },
  {
   "cell_type": "code",
   "execution_count": 9,
   "id": "f0a01a8d-81b8-4456-9046-9714460eb65b",
   "metadata": {},
   "outputs": [
    {
     "name": "stdout",
     "output_type": "stream",
     "text": [
      "1 <class 'int'>\n"
     ]
    }
   ],
   "source": [
    "x = (1)  # 1-datatype-int\n",
    "print(x,type(x))"
   ]
  },
  {
   "cell_type": "code",
   "execution_count": 10,
   "id": "7582781b-7e5b-4a1a-8d8e-aad8c9bc8769",
   "metadata": {},
   "outputs": [],
   "source": [
    "# 1). Primitive Data types:\n",
    "#     1). Integer, Characters, Complex Value\n",
    "# 2). Non-primitive\n",
    "# # ------------------------\n",
    "# 1). Linear and Non-Linear\n",
    "# # ----------------------------\n",
    "# 1). Linear \n",
    "# 1). Static and Dynamic\n",
    "# 1). static ---> Array - Lists\n",
    "# 2). Dynamic\n",
    "#     Linked list\n",
    "#     stack\n",
    "#     Queue\n",
    "\n",
    "# # Non-linear\n",
    "# # Tree, Heap and Graph"
   ]
  },
  {
   "cell_type": "code",
   "execution_count": 1,
   "id": "e9d8af74-9f94-4956-868a-cf389d52833f",
   "metadata": {},
   "outputs": [
    {
     "ename": "SyntaxError",
     "evalue": "invalid decimal literal (1363826241.py, line 13)",
     "output_type": "error",
     "traceback": [
      "  \u001b[36mCell\u001b[39m\u001b[36m \u001b[39m\u001b[32mIn[1]\u001b[39m\u001b[32m, line 13\u001b[39m\n\u001b[31m    \u001b[39m\u001b[31m(1.String) - \"\"\u001b[39m\n      ^\n\u001b[31mSyntaxError\u001b[39m\u001b[31m:\u001b[39m invalid decimal literal\n"
     ]
    }
   ],
   "source": [
    "Numbers:- Integer, float,\n",
    "\n",
    "Sets\n",
    "\n",
    "\n",
    "dictionary\n",
    "\n",
    "None\n",
    "\n",
    "Boolean\n",
    "\n",
    "# Sequence\n",
    "(1.String) - \"\"\n",
    "(2.Lists) - []\n",
    "(3.Tuples)- ()"
   ]
  },
  {
   "cell_type": "code",
   "execution_count": 10,
   "id": "3b21a68a-3f85-4597-89b2-e316b9e4f32e",
   "metadata": {},
   "outputs": [
    {
     "name": "stdout",
     "output_type": "stream",
     "text": [
      "What's your name\n",
      "('Hello World', 10, 3.16, True, False, False, False, False)\n"
     ]
    }
   ],
   "source": [
    "a = [2,2,2,2,2,20,]\n",
    "b = ('Hello World',10,3.16, True, False,False, False, False)\n",
    "# \"\", ''  string data type\n",
    "\n",
    "print(\"What's your name\")\n",
    "print(b)"
   ]
  },
  {
   "cell_type": "code",
   "execution_count": 8,
   "id": "7f62ee85-3841-4773-88c6-be141de33cbd",
   "metadata": {},
   "outputs": [
    {
     "data": {
      "text/plain": [
       "'2+2'"
      ]
     },
     "execution_count": 8,
     "metadata": {},
     "output_type": "execute_result"
    }
   ],
   "source": [
    "\"2+2\""
   ]
  },
  {
   "cell_type": "code",
   "execution_count": 7,
   "id": "84270c6f-b6f4-4fd4-936c-69b2ee835528",
   "metadata": {},
   "outputs": [
    {
     "data": {
      "text/plain": [
       "4"
      ]
     },
     "execution_count": 7,
     "metadata": {},
     "output_type": "execute_result"
    }
   ],
   "source": [
    "2+2"
   ]
  },
  {
   "cell_type": "code",
   "execution_count": 12,
   "id": "dd50ccd5-adbc-4ce2-befa-6fb6564cb79d",
   "metadata": {},
   "outputs": [
    {
     "name": "stdout",
     "output_type": "stream",
     "text": [
      "()\n",
      "<class 'tuple'>\n"
     ]
    }
   ],
   "source": [
    "tuple1 = ()\n",
    "print(tuple1)\n",
    "print(type(tuple1))"
   ]
  },
  {
   "cell_type": "code",
   "execution_count": 14,
   "id": "b6d644c7-fb52-4f63-b950-d9190884170f",
   "metadata": {},
   "outputs": [
    {
     "name": "stdout",
     "output_type": "stream",
     "text": [
      "()\n",
      "<class 'tuple'>\n"
     ]
    }
   ],
   "source": [
    "tuple2 = tuple()  # inbuld data type\n",
    "print(tuple2)\n",
    "print(type(tuple2))"
   ]
  },
  {
   "cell_type": "code",
   "execution_count": 16,
   "id": "a0efdedb-3166-4fd2-b47f-4f4a55d2c064",
   "metadata": {},
   "outputs": [
    {
     "name": "stdout",
     "output_type": "stream",
     "text": [
      "5 <class 'int'>\n"
     ]
    }
   ],
   "source": [
    "x = (5)  # You can not create single elemnet as a tuple\n",
    "print(x,type(x))"
   ]
  },
  {
   "cell_type": "code",
   "execution_count": 17,
   "id": "ee3fb66f-f18e-4f3d-96fb-ec308ec64306",
   "metadata": {},
   "outputs": [
    {
     "name": "stdout",
     "output_type": "stream",
     "text": [
      "(5,) <class 'tuple'>\n"
     ]
    }
   ],
   "source": [
    "x = (5,)  # You can not create single elemnet as a tuple\n",
    "print(x,type(x))"
   ]
  },
  {
   "cell_type": "code",
   "execution_count": 20,
   "id": "bf2f994b-877d-40f2-a408-d78fb2230116",
   "metadata": {},
   "outputs": [
    {
     "name": "stdout",
     "output_type": "stream",
     "text": [
      "('Hello world',) <class 'tuple'>\n"
     ]
    }
   ],
   "source": [
    "x = (\"Hello world\",)  # You can not create single elemnet as a tuple\n",
    "print(x,type(x))"
   ]
  },
  {
   "cell_type": "code",
   "execution_count": 22,
   "id": "846d4db9-6cb2-4b92-ba1a-16969438b33e",
   "metadata": {},
   "outputs": [
    {
     "name": "stdout",
     "output_type": "stream",
     "text": [
      "('Hello world', 10, 20, 30, 3.147, True, False) <class 'tuple'>\n"
     ]
    }
   ],
   "source": [
    "# tuple is a heterogeneous data type.\n",
    "\n",
    "x1 = ('Hello world',10,20,30,3.147,True,False)\n",
    "print(x1,type(x1))"
   ]
  },
  {
   "cell_type": "code",
   "execution_count": 31,
   "id": "a222e64a-0805-44e8-bb9e-575caa5c959e",
   "metadata": {},
   "outputs": [
    {
     "name": "stdout",
     "output_type": "stream",
     "text": [
      "Hello world\n",
      "10\n",
      "20\n",
      "30\n",
      "3.147\n",
      "True\n",
      "False\n"
     ]
    },
    {
     "ename": "IndexError",
     "evalue": "tuple index out of range",
     "output_type": "error",
     "traceback": [
      "\u001b[31m---------------------------------------------------------------------------\u001b[39m",
      "\u001b[31mIndexError\u001b[39m                                Traceback (most recent call last)",
      "\u001b[36mCell\u001b[39m\u001b[36m \u001b[39m\u001b[32mIn[31]\u001b[39m\u001b[32m, line 10\u001b[39m\n\u001b[32m      8\u001b[39m \u001b[38;5;28mprint\u001b[39m(x1[\u001b[32m5\u001b[39m])\n\u001b[32m      9\u001b[39m \u001b[38;5;28mprint\u001b[39m(x1[\u001b[32m6\u001b[39m])\n\u001b[32m---> \u001b[39m\u001b[32m10\u001b[39m \u001b[38;5;28mprint\u001b[39m(\u001b[43mx1\u001b[49m\u001b[43m[\u001b[49m\u001b[32;43m7\u001b[39;49m\u001b[43m]\u001b[49m)\n",
      "\u001b[31mIndexError\u001b[39m: tuple index out of range"
     ]
    }
   ],
   "source": [
    "# Positive Index, and Negative Value\n",
    "\n",
    "print(x1[0])\n",
    "print(x1[1])\n",
    "print(x1[2])\n",
    "print(x1[3])\n",
    "print(x1[4])\n",
    "print(x1[5])\n",
    "print(x1[6])\n",
    "print(x1[7])"
   ]
  },
  {
   "cell_type": "code",
   "execution_count": 33,
   "id": "a4eecb68-388b-44b6-95da-4a82f9c92d35",
   "metadata": {},
   "outputs": [
    {
     "name": "stdout",
     "output_type": "stream",
     "text": [
      "('Hello world', 10, 20, 30, 3.147, True, False)\n"
     ]
    }
   ],
   "source": [
    "print(x1)"
   ]
  },
  {
   "cell_type": "code",
   "execution_count": 42,
   "id": "647c2a44-f4ab-469e-a267-283f9bbfcf23",
   "metadata": {},
   "outputs": [
    {
     "name": "stdout",
     "output_type": "stream",
     "text": [
      "False\n",
      "True\n",
      "3.147\n",
      "30\n",
      "20\n",
      "10\n",
      "Hello world\n"
     ]
    }
   ],
   "source": [
    "# Negative Value -1\n",
    "print(x1[-1])\n",
    "print(x1[-2])\n",
    "print(x1[-3])\n",
    "print(x1[-4])\n",
    "print(x1[-5])\n",
    "print(x1[-6])\n",
    "print(x1[-7])\n",
    "# print(x1[-8])"
   ]
  },
  {
   "cell_type": "code",
   "execution_count": 48,
   "id": "057ab207-4879-4c35-a461-12d8c8a0383d",
   "metadata": {},
   "outputs": [
    {
     "name": "stdout",
     "output_type": "stream",
     "text": [
      "('Hello world', 10, 20, 30, 3.147, True, False)\n"
     ]
    }
   ],
   "source": [
    "print(x1)"
   ]
  },
  {
   "cell_type": "code",
   "execution_count": 50,
   "id": "af0d394b-2f9b-41b2-b1de-82001efaa468",
   "metadata": {},
   "outputs": [
    {
     "data": {
      "text/plain": [
       "(True, False)"
      ]
     },
     "execution_count": 50,
     "metadata": {},
     "output_type": "execute_result"
    }
   ],
   "source": [
    "# slicing \n",
    "# variable[:]  # starts:ends\n",
    "x1[5:7]"
   ]
  },
  {
   "cell_type": "code",
   "execution_count": 53,
   "id": "0d6acef5-6cc4-4122-96e3-b7afebf44bda",
   "metadata": {},
   "outputs": [
    {
     "data": {
      "text/plain": [
       "(False,)"
      ]
     },
     "execution_count": 53,
     "metadata": {},
     "output_type": "execute_result"
    }
   ],
   "source": [
    "x2 = x1[6:7]\n",
    "x2"
   ]
  },
  {
   "cell_type": "code",
   "execution_count": 54,
   "id": "e41eb150-8f8f-4066-922c-e15b53a52a64",
   "metadata": {},
   "outputs": [
    {
     "name": "stdout",
     "output_type": "stream",
     "text": [
      "(True,)\n"
     ]
    }
   ],
   "source": [
    "x3 = x1[5:6]\n",
    "print(x3)"
   ]
  },
  {
   "cell_type": "code",
   "execution_count": 55,
   "id": "b00966e3-3d46-4711-896a-a4827420377e",
   "metadata": {},
   "outputs": [
    {
     "data": {
      "text/plain": [
       "(False, True)"
      ]
     },
     "execution_count": 55,
     "metadata": {},
     "output_type": "execute_result"
    }
   ],
   "source": [
    "x2+x3"
   ]
  },
  {
   "cell_type": "code",
   "execution_count": 56,
   "id": "20074a1d-8cad-45f5-b794-0adf5e2d20ab",
   "metadata": {},
   "outputs": [
    {
     "name": "stdout",
     "output_type": "stream",
     "text": [
      "100\n"
     ]
    }
   ],
   "source": [
    "x = 100\n",
    "print(x)"
   ]
  },
  {
   "cell_type": "code",
   "execution_count": 61,
   "id": "c2a38a55-b15b-4b16-8429-d541ea616e09",
   "metadata": {},
   "outputs": [
    {
     "name": "stdout",
     "output_type": "stream",
     "text": [
      "('Hello world', 10, 20, 30, 3.147, True, False)\n"
     ]
    }
   ],
   "source": [
    "print(x1)"
   ]
  },
  {
   "cell_type": "code",
   "execution_count": 62,
   "id": "78b970ab-4d59-4e62-831d-c5ad483a8436",
   "metadata": {},
   "outputs": [
    {
     "data": {
      "text/plain": [
       "('Hello world', 20, 3.147, False)"
      ]
     },
     "execution_count": 62,
     "metadata": {},
     "output_type": "execute_result"
    }
   ],
   "source": [
    "# skip value: striding\n",
    "\n",
    "# syntax: variable[::]\n",
    "x1[0:7:2]  # n-1 = 2-1 =1"
   ]
  },
  {
   "cell_type": "code",
   "execution_count": 63,
   "id": "d8b9c715-a72d-48b6-9965-1607bf170f6d",
   "metadata": {},
   "outputs": [
    {
     "data": {
      "text/plain": [
       "('Hello world', 30, False)"
      ]
     },
     "execution_count": 63,
     "metadata": {},
     "output_type": "execute_result"
    }
   ],
   "source": [
    "x1[0:7:3]"
   ]
  },
  {
   "cell_type": "code",
   "execution_count": 64,
   "id": "b4aa8b00-694b-40b6-8019-90d4304a4987",
   "metadata": {},
   "outputs": [
    {
     "data": {
      "text/plain": [
       "('Hello world', 3.147)"
      ]
     },
     "execution_count": 64,
     "metadata": {},
     "output_type": "execute_result"
    }
   ],
   "source": [
    "x1[0:7:4]"
   ]
  },
  {
   "cell_type": "code",
   "execution_count": 65,
   "id": "af34dfa3-224b-41f6-a24d-77c44da7234e",
   "metadata": {},
   "outputs": [
    {
     "name": "stdout",
     "output_type": "stream",
     "text": [
      "('Hello world', 10, 20, 30, 3.147, True, False) <class 'tuple'>\n"
     ]
    }
   ],
   "source": [
    "x1 = ('Hello world',10,20,30,3.147,True,False)\n",
    "print(x1,type(x1))"
   ]
  },
  {
   "cell_type": "code",
   "execution_count": 69,
   "id": "ff408e99-ad2e-4ed3-b297-2800b37ded4d",
   "metadata": {},
   "outputs": [
    {
     "data": {
      "text/plain": [
       "(10,)"
      ]
     },
     "execution_count": 69,
     "metadata": {},
     "output_type": "execute_result"
    }
   ],
   "source": [
    "x1[1::7]  # n-1 = 7-1 = 6"
   ]
  },
  {
   "cell_type": "code",
   "execution_count": 70,
   "id": "75133ea9-0187-4344-9944-317fbcf702e1",
   "metadata": {},
   "outputs": [
    {
     "data": {
      "text/plain": [
       "(1, 2, 3, 4, 1, 2, 3, 4)"
      ]
     },
     "execution_count": 70,
     "metadata": {},
     "output_type": "execute_result"
    }
   ],
   "source": [
    "# Repetation of tuple\n",
    "\n",
    "rep_tup = (1,2,3,4)\n",
    "\n",
    "rep_tup*2"
   ]
  },
  {
   "cell_type": "code",
   "execution_count": 71,
   "id": "bf48b354-06c0-467e-8ff8-6a201d4ce135",
   "metadata": {},
   "outputs": [
    {
     "data": {
      "text/plain": [
       "4"
      ]
     },
     "execution_count": 71,
     "metadata": {},
     "output_type": "execute_result"
    }
   ],
   "source": [
    "2*2"
   ]
  },
  {
   "cell_type": "code",
   "execution_count": 72,
   "id": "5a34eaed-6e67-4691-8b83-18fcd3505256",
   "metadata": {},
   "outputs": [
    {
     "data": {
      "text/plain": [
       "'hello worldhello world'"
      ]
     },
     "execution_count": 72,
     "metadata": {},
     "output_type": "execute_result"
    }
   ],
   "source": [
    "\"hello world\"*2"
   ]
  },
  {
   "cell_type": "code",
   "execution_count": 74,
   "id": "474f2dac-9e95-4551-be7a-41692b6d56ac",
   "metadata": {},
   "outputs": [
    {
     "data": {
      "text/plain": [
       "'w'"
      ]
     },
     "execution_count": 74,
     "metadata": {},
     "output_type": "execute_result"
    }
   ],
   "source": [
    "# sum(), max(), min(), count(), index()\n",
    "# aggrigate function: numerical\n",
    "\n",
    "x = \"hello world\"\n",
    "\n",
    "max(x)"
   ]
  },
  {
   "cell_type": "code",
   "execution_count": 75,
   "id": "417648df-e170-4212-a19a-4a6e56b0f6ec",
   "metadata": {},
   "outputs": [
    {
     "data": {
      "text/plain": [
       "119"
      ]
     },
     "execution_count": 75,
     "metadata": {},
     "output_type": "execute_result"
    }
   ],
   "source": [
    "ord('w')"
   ]
  },
  {
   "cell_type": "code",
   "execution_count": 83,
   "id": "e1591597-2da2-42e3-b919-f6e18f3c022d",
   "metadata": {},
   "outputs": [
    {
     "name": "stdout",
     "output_type": "stream",
     "text": [
      "Sum of the tuple is: 141\n",
      "Maximum value is: 120\n",
      "Minimum value is: -55\n",
      "Count of the value: 3\n",
      "Index value of 120: 1\n"
     ]
    }
   ],
   "source": [
    "tuple1 = (10,120,-55,44,44,88,-55,-55)\n",
    "print('Sum of the tuple is:', sum(tuple1))\n",
    "print(\"Maximum value is:\", max(tuple1))\n",
    "print('Minimum value is:',min(tuple1))\n",
    "print(\"Count of the value:\",tuple1.count(-55))\n",
    "print(\"Index value of 120:\", tuple1.index(120))"
   ]
  },
  {
   "cell_type": "code",
   "execution_count": 84,
   "id": "c252b26c-fe94-41fc-8b58-7a187edf7cc7",
   "metadata": {},
   "outputs": [
    {
     "data": {
      "text/plain": [
       "(10, 120, -55, 44, 44, 88, -55, -55)"
      ]
     },
     "execution_count": 84,
     "metadata": {},
     "output_type": "execute_result"
    }
   ],
   "source": [
    "tuple1"
   ]
  },
  {
   "cell_type": "code",
   "execution_count": 86,
   "id": "372f674d-fd84-4fbf-9377-d26bdb8870f1",
   "metadata": {},
   "outputs": [
    {
     "ename": "TypeError",
     "evalue": "'tuple' object does not support item assignment",
     "output_type": "error",
     "traceback": [
      "\u001b[31m---------------------------------------------------------------------------\u001b[39m",
      "\u001b[31mTypeError\u001b[39m                                 Traceback (most recent call last)",
      "\u001b[36mCell\u001b[39m\u001b[36m \u001b[39m\u001b[32mIn[86]\u001b[39m\u001b[32m, line 3\u001b[39m\n\u001b[32m      1\u001b[39m \u001b[38;5;66;03m# change the value of 10\u001b[39;00m\n\u001b[32m----> \u001b[39m\u001b[32m3\u001b[39m \u001b[43mtuple1\u001b[49m\u001b[43m[\u001b[49m\u001b[32;43m0\u001b[39;49m\u001b[43m]\u001b[49m = \u001b[32m100\u001b[39m\n\u001b[32m      4\u001b[39m tuple1\n",
      "\u001b[31mTypeError\u001b[39m: 'tuple' object does not support item assignment"
     ]
    }
   ],
   "source": [
    "# change the value of 10\n",
    "\n",
    "tuple1[0] = 100\n",
    "tuple1"
   ]
  },
  {
   "cell_type": "code",
   "execution_count": 87,
   "id": "d3bf526f-b97b-4ab7-8ae4-55de940d6c7d",
   "metadata": {},
   "outputs": [
    {
     "ename": "AttributeError",
     "evalue": "'tuple' object has no attribute 'append'",
     "output_type": "error",
     "traceback": [
      "\u001b[31m---------------------------------------------------------------------------\u001b[39m",
      "\u001b[31mAttributeError\u001b[39m                            Traceback (most recent call last)",
      "\u001b[36mCell\u001b[39m\u001b[36m \u001b[39m\u001b[32mIn[87]\u001b[39m\u001b[32m, line 3\u001b[39m\n\u001b[32m      1\u001b[39m \u001b[38;5;66;03m# append(), extend(), insert()\u001b[39;00m\n\u001b[32m----> \u001b[39m\u001b[32m3\u001b[39m \u001b[43mtuple1\u001b[49m\u001b[43m.\u001b[49m\u001b[43mappend\u001b[49m(\u001b[32m20\u001b[39m)\n",
      "\u001b[31mAttributeError\u001b[39m: 'tuple' object has no attribute 'append'"
     ]
    }
   ],
   "source": [
    "# append(), extend(), insert()\n",
    "\n",
    "tuple1.append(20)"
   ]
  },
  {
   "cell_type": "code",
   "execution_count": 88,
   "id": "a1a1200f-48e0-443b-8401-a9b718d739c3",
   "metadata": {},
   "outputs": [
    {
     "data": {
      "text/plain": [
       "(10, 120, -55, 44, 44, 88, -55, -55)"
      ]
     },
     "execution_count": 88,
     "metadata": {},
     "output_type": "execute_result"
    }
   ],
   "source": [
    "tuple1"
   ]
  },
  {
   "cell_type": "code",
   "execution_count": 89,
   "id": "b4340f62-3476-4e00-9d02-6585f4077fe2",
   "metadata": {},
   "outputs": [
    {
     "ename": "TypeError",
     "evalue": "'tuple' object doesn't support item deletion",
     "output_type": "error",
     "traceback": [
      "\u001b[31m---------------------------------------------------------------------------\u001b[39m",
      "\u001b[31mTypeError\u001b[39m                                 Traceback (most recent call last)",
      "\u001b[36mCell\u001b[39m\u001b[36m \u001b[39m\u001b[32mIn[89]\u001b[39m\u001b[32m, line 1\u001b[39m\n\u001b[32m----> \u001b[39m\u001b[32m1\u001b[39m \u001b[38;5;28;01mdel\u001b[39;00m(\u001b[43mtuple1\u001b[49m\u001b[43m[\u001b[49m\u001b[43m-\u001b[49m\u001b[32;43m1\u001b[39;49m\u001b[43m]\u001b[49m)\n",
      "\u001b[31mTypeError\u001b[39m: 'tuple' object doesn't support item deletion"
     ]
    }
   ],
   "source": [
    "del(tuple1[-1])"
   ]
  },
  {
   "cell_type": "code",
   "execution_count": 90,
   "id": "baab711d-2ac9-4bd4-860a-000db5509b9c",
   "metadata": {},
   "outputs": [],
   "source": [
    "del(tuple1)"
   ]
  },
  {
   "cell_type": "code",
   "execution_count": 91,
   "id": "7a10f05a-cbdb-4580-a1be-dc2567847c74",
   "metadata": {},
   "outputs": [
    {
     "ename": "NameError",
     "evalue": "name 'tuple1' is not defined",
     "output_type": "error",
     "traceback": [
      "\u001b[31m---------------------------------------------------------------------------\u001b[39m",
      "\u001b[31mNameError\u001b[39m                                 Traceback (most recent call last)",
      "\u001b[36mCell\u001b[39m\u001b[36m \u001b[39m\u001b[32mIn[91]\u001b[39m\u001b[32m, line 1\u001b[39m\n\u001b[32m----> \u001b[39m\u001b[32m1\u001b[39m \u001b[43mtuple1\u001b[49m\n",
      "\u001b[31mNameError\u001b[39m: name 'tuple1' is not defined"
     ]
    }
   ],
   "source": [
    "tuple1"
   ]
  },
  {
   "cell_type": "code",
   "execution_count": 92,
   "id": "03ddf56e-12a5-4dea-a292-5bb3ee518481",
   "metadata": {},
   "outputs": [],
   "source": [
    "# tup(seq) function \n",
    "\n",
    "# name\n",
    "# fathers name\n",
    "# dob\n",
    "# addres\n",
    "# mother's name\n",
    "# addhar: retine, finterprint : (ID No.-Tuple)\n"
   ]
  },
  {
   "cell_type": "code",
   "execution_count": 93,
   "id": "9764bce0-9410-4ac0-90a8-b4c8a6459421",
   "metadata": {},
   "outputs": [
    {
     "data": {
      "text/plain": [
       "('a', 'p', 'p', 'l', 'e')"
      ]
     },
     "execution_count": 93,
     "metadata": {},
     "output_type": "execute_result"
    }
   ],
   "source": [
    "seq = \"apple\"\n",
    "\n",
    "tuple(seq)"
   ]
  },
  {
   "cell_type": "code",
   "execution_count": 94,
   "id": "59ecff99-bbec-4852-8486-e4a9e7dccb72",
   "metadata": {},
   "outputs": [
    {
     "name": "stdout",
     "output_type": "stream",
     "text": [
      "[-55, -15, -10, 10, 22, 55, 88, 99]\n"
     ]
    }
   ],
   "source": [
    "# sorting: Ascending or descending order\n",
    "\n",
    "tuple_3 = (10,22,55,88,99,-55,-10,-15)\n",
    "\n",
    "# sorted()\n",
    "\n",
    "sorted_tuple = sorted(tuple_3)\n",
    "print(sorted_tuple)  # ascending order."
   ]
  },
  {
   "cell_type": "code",
   "execution_count": 98,
   "id": "d258dc38-89fc-4e7e-90fa-e36688a22ba5",
   "metadata": {},
   "outputs": [
    {
     "name": "stdout",
     "output_type": "stream",
     "text": [
      "[99, 88, 55, 22, 10, -10, -15, -55]\n"
     ]
    }
   ],
   "source": [
    "des_tuple = sorted_tuple[::-1]\n",
    "print(des_tuple)"
   ]
  },
  {
   "cell_type": "code",
   "execution_count": null,
   "id": "53c842dc-e1c4-486b-aa72-fe4df86cb147",
   "metadata": {},
   "outputs": [],
   "source": []
  }
 ],
 "metadata": {
  "kernelspec": {
   "display_name": "Python 3 (ipykernel)",
   "language": "python",
   "name": "python3"
  },
  "language_info": {
   "codemirror_mode": {
    "name": "ipython",
    "version": 3
   },
   "file_extension": ".py",
   "mimetype": "text/x-python",
   "name": "python",
   "nbconvert_exporter": "python",
   "pygments_lexer": "ipython3",
   "version": "3.13.7"
  }
 },
 "nbformat": 4,
 "nbformat_minor": 5
}
