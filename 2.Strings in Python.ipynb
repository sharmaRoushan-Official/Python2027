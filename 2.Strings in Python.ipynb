{
 "cells": [
  {
   "cell_type": "markdown",
   "id": "c76d9360-e449-4e17-a1d7-2f21b3a92e18",
   "metadata": {},
   "source": [
    "# 2. Strings in Python\n",
    "\n",
    " * __Strings are sequence of characters enclosed in single(''),double(\"\"), and triple(\"\"\" \"\"\"/ ''' ''') quotes__\n",
    " * __Strings are immutable (coannot be changed after creating).__\n",
    " * __Strings upport indexing(s[0]) and slicing (s[1:5]).__\n",
    " * __Use len(s) to get string length.__\n",
    " * __Strings support iteration with for chaar in strings:__\n",
    " * __Common methods: .upper(), .lower(), .strip(), .join()__\n",
    " * __Membership test: 'a' in apple -->True__\n",
    " * __Strings can be formatted using f\"Hello {name}\" or .format()__\n",
    " * __Strings can contain escape sequence like: \\n(newline),\\t(tab) or tab is usually 4-spaces.__"
   ]
  },
  {
   "cell_type": "code",
   "execution_count": 1,
   "id": "ecb7b6c4-e3ed-4ef5-bde5-e406c83c40bb",
   "metadata": {},
   "outputs": [
    {
     "name": "stdout",
     "output_type": "stream",
     "text": [
      "Hello world\n"
     ]
    }
   ],
   "source": [
    "print('Hello world')"
   ]
  },
  {
   "cell_type": "code",
   "execution_count": 2,
   "id": "1a4c6755-6a03-4538-a185-5fb1207c8216",
   "metadata": {},
   "outputs": [
    {
     "name": "stdout",
     "output_type": "stream",
     "text": [
      "Hello world\n"
     ]
    }
   ],
   "source": [
    "print(\"Hello world\")"
   ]
  },
  {
   "cell_type": "code",
   "execution_count": 3,
   "id": "ae0d4da9-c468-4b8f-9b2d-5a8d15071bc0",
   "metadata": {},
   "outputs": [
    {
     "name": "stdout",
     "output_type": "stream",
     "text": [
      "1000\n"
     ]
    }
   ],
   "source": [
    "print('1000')"
   ]
  },
  {
   "cell_type": "code",
   "execution_count": 4,
   "id": "c3340c70-ebe6-416a-a185-810062b915c5",
   "metadata": {},
   "outputs": [
    {
     "name": "stdout",
     "output_type": "stream",
     "text": [
      "100.258\n"
     ]
    }
   ],
   "source": [
    "print(\"100.258\")"
   ]
  },
  {
   "cell_type": "code",
   "execution_count": 5,
   "id": "6353de1f-42db-40e9-9f51-1ce7f934bef0",
   "metadata": {},
   "outputs": [
    {
     "name": "stdout",
     "output_type": "stream",
     "text": [
      "True\n"
     ]
    }
   ],
   "source": [
    "print('True')"
   ]
  },
  {
   "cell_type": "code",
   "execution_count": 6,
   "id": "f48bae98-c0d3-4a4d-9baa-63b6c99723ac",
   "metadata": {},
   "outputs": [
    {
     "name": "stdout",
     "output_type": "stream",
     "text": [
      "!@!#%%\n"
     ]
    }
   ],
   "source": [
    "print('!@!#%%')"
   ]
  },
  {
   "cell_type": "markdown",
   "id": "0928e736-5769-486c-ad9a-9de682c28b65",
   "metadata": {},
   "source": [
    "## Indexing varibale\n",
    " * __Positive Indexing__\n",
    " * __Negative Indexing__"
   ]
  },
  {
   "cell_type": "code",
   "execution_count": 7,
   "id": "2761f946-eed2-4987-b6e5-370ed8c68fe7",
   "metadata": {},
   "outputs": [
    {
     "name": "stdout",
     "output_type": "stream",
     "text": [
      "Hello world\n"
     ]
    }
   ],
   "source": [
    "x = \"Hello world\"\n",
    "print(x)"
   ]
  },
  {
   "cell_type": "code",
   "execution_count": 12,
   "id": "13a2004f-6084-47ca-a343-183937ad5a1e",
   "metadata": {},
   "outputs": [
    {
     "name": "stdout",
     "output_type": "stream",
     "text": [
      "H\n",
      "e\n",
      "l\n",
      "l\n",
      "o\n",
      " \n",
      "w\n",
      "o\n",
      "r\n",
      "l\n",
      "d\n"
     ]
    }
   ],
   "source": [
    "# positive indexing\n",
    "print(x[0])\n",
    "print(x[1])\n",
    "print(x[2])\n",
    "print(x[3])\n",
    "print(x[4])\n",
    "print(x[5])\n",
    "print(x[6])\n",
    "print(x[7])\n",
    "print(x[8])\n",
    "print(x[9])\n",
    "print(x[10])"
   ]
  },
  {
   "cell_type": "code",
   "execution_count": 15,
   "id": "df2eee26-8c1f-4e52-a6d7-ba1fec436b78",
   "metadata": {},
   "outputs": [
    {
     "name": "stdout",
     "output_type": "stream",
     "text": [
      "d\n",
      "l\n",
      "r\n",
      "o\n",
      "w\n",
      " \n",
      "o\n",
      "l\n",
      "l\n",
      "e\n",
      "H\n"
     ]
    }
   ],
   "source": [
    "# Negative Indexing\n",
    "print(x[-1])\n",
    "print(x[-2])\n",
    "print(x[-3])\n",
    "print(x[-4])\n",
    "print(x[-5])\n",
    "print(x[-6])\n",
    "print(x[-7])\n",
    "print(x[-8])\n",
    "print(x[-9])\n",
    "print(x[-10])\n",
    "print(x[-11])\n"
   ]
  },
  {
   "cell_type": "code",
   "execution_count": 16,
   "id": "1b5ddd0f-b674-48a6-961a-1d11473aba4a",
   "metadata": {},
   "outputs": [
    {
     "data": {
      "text/plain": [
       "'Hello world'"
      ]
     },
     "execution_count": 16,
     "metadata": {},
     "output_type": "execute_result"
    }
   ],
   "source": [
    "# slicing of string value\n",
    "x = 'Hello world'\n",
    "\n",
    "x[:]  # [starts:stops]\n"
   ]
  },
  {
   "cell_type": "code",
   "execution_count": 19,
   "id": "ddfbe6aa-8a46-42e9-b3d9-571ba4be9e97",
   "metadata": {},
   "outputs": [
    {
     "data": {
      "text/plain": [
       "'Hello'"
      ]
     },
     "execution_count": 19,
     "metadata": {},
     "output_type": "execute_result"
    }
   ],
   "source": [
    "x[0:5]  # n-1 = 5-1 = 4"
   ]
  },
  {
   "cell_type": "code",
   "execution_count": 20,
   "id": "a2938927-176f-48a2-ac44-a6a859b54c99",
   "metadata": {},
   "outputs": [
    {
     "data": {
      "text/plain": [
       "'world'"
      ]
     },
     "execution_count": 20,
     "metadata": {},
     "output_type": "execute_result"
    }
   ],
   "source": [
    "x[6:11]"
   ]
  },
  {
   "cell_type": "code",
   "execution_count": 24,
   "id": "8d6bef10-fe01-4740-be54-060bf1528110",
   "metadata": {},
   "outputs": [
    {
     "data": {
      "text/plain": [
       "'Hlwl'"
      ]
     },
     "execution_count": 24,
     "metadata": {},
     "output_type": "execute_result"
    }
   ],
   "source": [
    "# striding value \n",
    "\n",
    "x = \"Hello world\"\n",
    "\n",
    "x[0:11:3]  # [starts:stops:skip]  n-1 = 1-1 = 0, 2-1 = 1"
   ]
  },
  {
   "cell_type": "code",
   "execution_count": 26,
   "id": "7be00525-547f-4e4f-9cd0-758763afee52",
   "metadata": {},
   "outputs": [
    {
     "data": {
      "text/plain": [
       "'Hl'"
      ]
     },
     "execution_count": 26,
     "metadata": {},
     "output_type": "execute_result"
    }
   ],
   "source": [
    "x[0:6:3]"
   ]
  },
  {
   "cell_type": "code",
   "execution_count": 27,
   "id": "c904cdcc-5fa6-469c-babb-f2b27e6dab78",
   "metadata": {},
   "outputs": [],
   "source": [
    "# Use len(s) to get string length."
   ]
  },
  {
   "cell_type": "code",
   "execution_count": 28,
   "id": "69f07876-d924-443c-8339-60ef7159619d",
   "metadata": {},
   "outputs": [
    {
     "name": "stdout",
     "output_type": "stream",
     "text": [
      "Hello world\n"
     ]
    }
   ],
   "source": [
    "print(x)"
   ]
  },
  {
   "cell_type": "code",
   "execution_count": 29,
   "id": "dbe3da3e-258f-4b37-b728-e488b5a670ea",
   "metadata": {},
   "outputs": [
    {
     "data": {
      "text/plain": [
       "11"
      ]
     },
     "execution_count": 29,
     "metadata": {},
     "output_type": "execute_result"
    }
   ],
   "source": [
    "len(x)"
   ]
  },
  {
   "cell_type": "code",
   "execution_count": 31,
   "id": "8b3e7254-71ec-4c6a-a49e-37fca0364428",
   "metadata": {},
   "outputs": [
    {
     "name": "stdout",
     "output_type": "stream",
     "text": [
      "Sanket Hude\n"
     ]
    }
   ],
   "source": [
    "# concatenation of string\n",
    "\n",
    "firstName = \"Sanket\"\n",
    "lastName = \" Hude\"\n",
    "\n",
    "fullname = firstName+lastName\n",
    "print(fullname)"
   ]
  },
  {
   "cell_type": "code",
   "execution_count": 32,
   "id": "b5730592-0e4a-4614-92ab-8f1f7dcebddd",
   "metadata": {},
   "outputs": [
    {
     "data": {
      "text/plain": [
       "'SanketSanketSanketSanketSanketSanketSanketSanketSanketSanket'"
      ]
     },
     "execution_count": 32,
     "metadata": {},
     "output_type": "execute_result"
    }
   ],
   "source": [
    "# Reperation of value \n",
    "\n",
    "10*firstName"
   ]
  },
  {
   "cell_type": "code",
   "execution_count": 35,
   "id": "c87e273f-972f-4e26-8ab2-2ac5915b04d2",
   "metadata": {},
   "outputs": [
    {
     "name": "stdout",
     "output_type": "stream",
     "text": [
      "Hello world\n",
      "How many people are living on the earth?\n"
     ]
    }
   ],
   "source": [
    "# Escape Sequence\n",
    "\n",
    "print(\"Hello world\\nHow many people are living on the earth?\")  # \\n --> NewLine --> Escape sequence"
   ]
  },
  {
   "cell_type": "code",
   "execution_count": 36,
   "id": "0f72c787-8bb3-4098-80dd-8416afca7ce0",
   "metadata": {},
   "outputs": [
    {
     "name": "stdout",
     "output_type": "stream",
     "text": [
      "Hello world\tHow many people are living on the earth?\n"
     ]
    }
   ],
   "source": [
    "print(\"Hello world\\tHow many people are living on the earth?\")"
   ]
  },
  {
   "cell_type": "markdown",
   "id": "b85f570d-47a8-40d1-b7eb-af9a0ace51ff",
   "metadata": {},
   "source": [
    "| Escape Sequence | Meaning                                |\n",
    "| --------------- | -------------------------------------- |\n",
    "| `\\'`            | Single quote                           |\n",
    "| `\\\"`            | Double quote                           |\n",
    "| `\\\\`            | Backslash                              |\n",
    "| `\\n`            | New line (line break)                  |\n",
    "| `\\t`            | Horizontal tab                         |\n",
    "| `\\r`            | Carriage return                        |\n",
    "| `\\b`            | Backspace                              |\n",
    "| `\\f`            | Form feed                              |\n",
    "| `\\v`            | Vertical tab                           |\n",
    "| `\\0`            | Null character                         |\n",
    "| `\\ooo`          | Octal value (e.g., `\\101` = \"A\")       |\n",
    "| `\\xhh`          | Hexadecimal value (e.g., `\\x41` = \"A\") |\n",
    "| `\\uXXXX`        | Unicode character (16-bit)             |\n",
    "| `\\UXXXXXXXX`    | Unicode character (32-bit)             |\n",
    "| `\\N{name}`      | Unicode character by name              |\n"
   ]
  },
  {
   "cell_type": "code",
   "execution_count": 37,
   "id": "a3b133fc-34c9-4e16-893d-8391aea0fe35",
   "metadata": {},
   "outputs": [
    {
     "name": "stdout",
     "output_type": "stream",
     "text": [
      "How many people are living on the earth?\n"
     ]
    }
   ],
   "source": [
    "print(\"Hello world\\rHow many people are living on the earth?\")"
   ]
  },
  {
   "cell_type": "code",
   "execution_count": 38,
   "id": "a96d2955-e50a-4b4c-bffc-08fbdf94d330",
   "metadata": {},
   "outputs": [
    {
     "name": "stdout",
     "output_type": "stream",
     "text": [
      "Hello worlHow many people are living on the earth?\n"
     ]
    }
   ],
   "source": [
    "print(\"Hello world\\bHow many people are living on the earth?\")"
   ]
  },
  {
   "cell_type": "code",
   "execution_count": 41,
   "id": "1673d68f-dbfe-4c4b-a530-ade3fb016baa",
   "metadata": {},
   "outputs": [
    {
     "name": "stdout",
     "output_type": "stream",
     "text": [
      "Hello world\f",
      "How many people are living on the earth?\n"
     ]
    }
   ],
   "source": [
    "print(\"Hello world\\fHow many people are living on the earth?\")"
   ]
  },
  {
   "cell_type": "code",
   "execution_count": 42,
   "id": "b6164fd7-d725-4652-b9f4-c01f52b76118",
   "metadata": {},
   "outputs": [
    {
     "name": "stdout",
     "output_type": "stream",
     "text": [
      "Hello world\u000b",
      "How many people are living on the earth?\n"
     ]
    }
   ],
   "source": [
    "print(\"Hello world\\vHow many people are living on the earth?\")"
   ]
  },
  {
   "cell_type": "code",
   "execution_count": 46,
   "id": "c96be62d-9c7f-4640-a653-3692002da48f",
   "metadata": {},
   "outputs": [
    {
     "name": "stdout",
     "output_type": "stream",
     "text": [
      "A\n"
     ]
    }
   ],
   "source": [
    "print(\"\\101\")"
   ]
  },
  {
   "cell_type": "markdown",
   "id": "7081cfc2-7c66-4940-a87f-41bc80fed6a4",
   "metadata": {},
   "source": [
    "# String Operations "
   ]
  },
  {
   "cell_type": "code",
   "execution_count": 48,
   "id": "6bd683a2-8b5f-4e6c-a3eb-978bfb769b42",
   "metadata": {},
   "outputs": [
    {
     "name": "stdout",
     "output_type": "stream",
     "text": [
      "Original Text is: hello WORLD\n"
     ]
    },
    {
     "data": {
      "text/plain": [
       "'HELLO WORLD'"
      ]
     },
     "execution_count": 48,
     "metadata": {},
     "output_type": "execute_result"
    }
   ],
   "source": [
    "message = \"hello WORLD\"\n",
    "print('Original Text is:',message)\n",
    "\n",
    "# upper()\n",
    "\n",
    "message.upper()"
   ]
  },
  {
   "cell_type": "code",
   "execution_count": 49,
   "id": "724eb144-f43a-4644-98ca-64569130e585",
   "metadata": {},
   "outputs": [
    {
     "data": {
      "text/plain": [
       "'hello world'"
      ]
     },
     "execution_count": 49,
     "metadata": {},
     "output_type": "execute_result"
    }
   ],
   "source": [
    "# lowerCase \n",
    "\n",
    "message.lower()"
   ]
  },
  {
   "cell_type": "code",
   "execution_count": 50,
   "id": "9422122b-471f-4b6b-bebc-d9f840f0f84b",
   "metadata": {},
   "outputs": [
    {
     "data": {
      "text/plain": [
       "'Hello world'"
      ]
     },
     "execution_count": 50,
     "metadata": {},
     "output_type": "execute_result"
    }
   ],
   "source": [
    "# capitalize()\n",
    "\n",
    "message.capitalize()"
   ]
  },
  {
   "cell_type": "code",
   "execution_count": 51,
   "id": "8053f43b-4301-4162-ba0b-2a6e286ed9c1",
   "metadata": {},
   "outputs": [
    {
     "data": {
      "text/plain": [
       "'Hello World'"
      ]
     },
     "execution_count": 51,
     "metadata": {},
     "output_type": "execute_result"
    }
   ],
   "source": [
    "# title\n",
    "\n",
    "message.title()"
   ]
  },
  {
   "cell_type": "code",
   "execution_count": 52,
   "id": "8e68eb91-0eb0-4e46-b723-b6c8b2fb368b",
   "metadata": {},
   "outputs": [
    {
     "data": {
      "text/plain": [
       "'Hello Sanket'"
      ]
     },
     "execution_count": 52,
     "metadata": {},
     "output_type": "execute_result"
    }
   ],
   "source": [
    "# replace()\n",
    "\n",
    "x = \"Hello world\"\n",
    "\n",
    "x.replace('world',\"Sanket\")"
   ]
  },
  {
   "cell_type": "code",
   "execution_count": 53,
   "id": "82ff510c-f60f-446d-9086-d89a97abf21e",
   "metadata": {},
   "outputs": [
    {
     "name": "stdout",
     "output_type": "stream",
     "text": [
      "Hello world\n"
     ]
    }
   ],
   "source": [
    "# find \n",
    "\n",
    "print(x)"
   ]
  },
  {
   "cell_type": "code",
   "execution_count": 54,
   "id": "336ef586-34a8-43b8-96c6-a69abd96b8ff",
   "metadata": {},
   "outputs": [
    {
     "data": {
      "text/plain": [
       "-1"
      ]
     },
     "execution_count": 54,
     "metadata": {},
     "output_type": "execute_result"
    }
   ],
   "source": [
    "x.find('hello')  # if no text is found then it return -1"
   ]
  },
  {
   "cell_type": "code",
   "execution_count": 55,
   "id": "a597da62-a8e4-4919-9f2e-5f15825dae33",
   "metadata": {},
   "outputs": [
    {
     "data": {
      "text/plain": [
       "0"
      ]
     },
     "execution_count": 55,
     "metadata": {},
     "output_type": "execute_result"
    }
   ],
   "source": [
    "x.find('He')"
   ]
  },
  {
   "cell_type": "code",
   "execution_count": 56,
   "id": "be8427dc-e413-44cc-918a-f00e744a9c34",
   "metadata": {},
   "outputs": [
    {
     "data": {
      "text/plain": [
       "6"
      ]
     },
     "execution_count": 56,
     "metadata": {},
     "output_type": "execute_result"
    }
   ],
   "source": [
    "x.find(\"world\")   # always return the index value of w"
   ]
  },
  {
   "cell_type": "code",
   "execution_count": 57,
   "id": "9ac76bb9-42e6-4555-a9bd-4891420b6fbe",
   "metadata": {},
   "outputs": [
    {
     "data": {
      "text/plain": [
       "'*******************Hello world********************'"
      ]
     },
     "execution_count": 57,
     "metadata": {},
     "output_type": "execute_result"
    }
   ],
   "source": [
    "# Center \n",
    "\n",
    "x.center(50,'*')"
   ]
  },
  {
   "cell_type": "code",
   "execution_count": 58,
   "id": "eee285e1-7451-481b-959a-62d849902276",
   "metadata": {},
   "outputs": [
    {
     "data": {
      "text/plain": [
       "11"
      ]
     },
     "execution_count": 58,
     "metadata": {},
     "output_type": "execute_result"
    }
   ],
   "source": [
    "len(x)"
   ]
  },
  {
   "cell_type": "code",
   "execution_count": 59,
   "id": "f6d8ce08-6d51-4fe1-8277-e074458f1e8a",
   "metadata": {},
   "outputs": [
    {
     "data": {
      "text/plain": [
       "39"
      ]
     },
     "execution_count": 59,
     "metadata": {},
     "output_type": "execute_result"
    }
   ],
   "source": [
    "50-11"
   ]
  },
  {
   "cell_type": "code",
   "execution_count": 60,
   "id": "586c3fa5-b38d-4537-bd10-a5944498e5b1",
   "metadata": {},
   "outputs": [
    {
     "data": {
      "text/plain": [
       "19.5"
      ]
     },
     "execution_count": 60,
     "metadata": {},
     "output_type": "execute_result"
    }
   ],
   "source": [
    "39/2"
   ]
  },
  {
   "cell_type": "code",
   "execution_count": 61,
   "id": "7d111226-1e23-4112-9bb0-ab4840762335",
   "metadata": {},
   "outputs": [
    {
     "data": {
      "text/plain": [
       "39"
      ]
     },
     "execution_count": 61,
     "metadata": {},
     "output_type": "execute_result"
    }
   ],
   "source": [
    "19+20"
   ]
  },
  {
   "cell_type": "code",
   "execution_count": 65,
   "id": "ce5ce5fa-66a8-41cc-a6a9-9bb1005aecdf",
   "metadata": {},
   "outputs": [
    {
     "name": "stdout",
     "output_type": "stream",
     "text": [
      "Hello Sanket\n",
      "Hi, Myself Sanket and I'm 25 years old.\n",
      "Hi, Myself Sanket and I'm 23 years old.\n"
     ]
    }
   ],
   "source": [
    "# format() method\n",
    "\n",
    "txt = \"Hello {word}\"  # {} > --------- placeholder\n",
    "\n",
    "print(txt.format(word=\"Sanket\"))\n",
    "\n",
    "message = \"Hi, Myself {} and I'm {} years old.\"\n",
    "print(message.format(\"Sanket\",25))\n",
    "\n",
    "message = \"Hi, Myself {name} and I'm {age} years old.\"\n",
    "print(message.format(name=\"Sanket\",age=23))\n"
   ]
  },
  {
   "cell_type": "code",
   "execution_count": 66,
   "id": "2d9a76b2-662e-4f45-80f1-bd98718dbf0a",
   "metadata": {},
   "outputs": [
    {
     "name": "stdout",
     "output_type": "stream",
     "text": [
      "Hi, Myself Sanket and I'm 24 years old.\n"
     ]
    }
   ],
   "source": [
    "\n",
    "message = \"Hi, Myself {0} and I'm {1} years old.\"\n",
    "print(message.format('Sanket',24))"
   ]
  },
  {
   "cell_type": "code",
   "execution_count": 67,
   "id": "ad6869f1-d40a-4645-b04c-8e395f558b68",
   "metadata": {},
   "outputs": [
    {
     "data": {
      "text/plain": [
       "'Hello world'"
      ]
     },
     "execution_count": 67,
     "metadata": {},
     "output_type": "execute_result"
    }
   ],
   "source": [
    "# strip\n",
    "\n",
    "x = \" Hello world \"  # it removes from and back spaces.\n",
    "\n",
    "x.strip()"
   ]
  },
  {
   "cell_type": "code",
   "execution_count": 70,
   "id": "518b8247-0e9d-4307-a60c-6d493698a5af",
   "metadata": {},
   "outputs": [
    {
     "name": "stdout",
     "output_type": "stream",
     "text": [
      "Python is fun\n"
     ]
    }
   ],
   "source": [
    "# .join()\n",
    "# It is ues to join elements of an iteratble (like: list, tuple, set) into a single string.\n",
    "# you specify a separator string, and it gets places between the elements.\n",
    "\n",
    "words = ['Python', 'is', 'fun']\n",
    "\n",
    "sentence = \" \".join(words)\n",
    "print(sentence)"
   ]
  },
  {
   "cell_type": "code",
   "execution_count": 72,
   "id": "2f13b676-1188-4f20-9a3e-fdfe8b1d6ff8",
   "metadata": {},
   "outputs": [
    {
     "ename": "TypeError",
     "evalue": "'str' object does not support item assignment",
     "output_type": "error",
     "traceback": [
      "\u001b[31m---------------------------------------------------------------------------\u001b[39m",
      "\u001b[31mTypeError\u001b[39m                                 Traceback (most recent call last)",
      "\u001b[36mCell\u001b[39m\u001b[36m \u001b[39m\u001b[32mIn[72]\u001b[39m\u001b[32m, line 3\u001b[39m\n\u001b[32m      1\u001b[39m x = \u001b[33m\"\u001b[39m\u001b[33mHello world\u001b[39m\u001b[33m\"\u001b[39m\n\u001b[32m      2\u001b[39m \u001b[38;5;66;03m# immutable means not changeable\u001b[39;00m\n\u001b[32m----> \u001b[39m\u001b[32m3\u001b[39m \u001b[43mx\u001b[49m\u001b[43m[\u001b[49m\u001b[32;43m0\u001b[39;49m\u001b[43m]\u001b[49m = \u001b[33m\"\u001b[39m\u001b[33mP\u001b[39m\u001b[33m\"\u001b[39m\n\u001b[32m      4\u001b[39m \u001b[38;5;28mprint\u001b[39m(x)\n",
      "\u001b[31mTypeError\u001b[39m: 'str' object does not support item assignment"
     ]
    }
   ],
   "source": [
    "x = \"Hello world\"\n",
    "# immutable means not changeable\n",
    "x[0] = \"P\"\n",
    "print(x)"
   ]
  },
  {
   "cell_type": "code",
   "execution_count": 73,
   "id": "891b4bc0-4126-48cc-8530-810f4c6e6e52",
   "metadata": {},
   "outputs": [
    {
     "data": {
      "text/plain": [
       "'Hello world'"
      ]
     },
     "execution_count": 73,
     "metadata": {},
     "output_type": "execute_result"
    }
   ],
   "source": [
    "x"
   ]
  },
  {
   "cell_type": "code",
   "execution_count": 78,
   "id": "2ba2acbf-81fe-456d-9819-e0c5d126db22",
   "metadata": {},
   "outputs": [
    {
     "data": {
      "text/plain": [
       "True"
      ]
     },
     "execution_count": 78,
     "metadata": {},
     "output_type": "execute_result"
    }
   ],
   "source": [
    "x = \"Hello world\"\n",
    "\n",
    "\"H\" in x"
   ]
  },
  {
   "cell_type": "code",
   "execution_count": 79,
   "id": "b68854d5-4280-4982-9ee9-a3ad71f597fd",
   "metadata": {},
   "outputs": [
    {
     "data": {
      "text/plain": [
       "True"
      ]
     },
     "execution_count": 79,
     "metadata": {},
     "output_type": "execute_result"
    }
   ],
   "source": [
    "'e' in x"
   ]
  },
  {
   "cell_type": "code",
   "execution_count": 80,
   "id": "0ce0a305-110b-4b3a-99f4-15ea236871a9",
   "metadata": {},
   "outputs": [
    {
     "data": {
      "text/plain": [
       "True"
      ]
     },
     "execution_count": 80,
     "metadata": {},
     "output_type": "execute_result"
    }
   ],
   "source": [
    "'T' not in x"
   ]
  },
  {
   "cell_type": "code",
   "execution_count": null,
   "id": "73e78458-8514-40fd-ab6c-af2f9635261c",
   "metadata": {},
   "outputs": [],
   "source": []
  }
 ],
 "metadata": {
  "kernelspec": {
   "display_name": "Python 3 (ipykernel)",
   "language": "python",
   "name": "python3"
  },
  "language_info": {
   "codemirror_mode": {
    "name": "ipython",
    "version": 3
   },
   "file_extension": ".py",
   "mimetype": "text/x-python",
   "name": "python",
   "nbconvert_exporter": "python",
   "pygments_lexer": "ipython3",
   "version": "3.13.7"
  }
 },
 "nbformat": 4,
 "nbformat_minor": 5
}
