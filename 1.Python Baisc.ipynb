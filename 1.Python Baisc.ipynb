{
 "cells": [
  {
   "cell_type": "code",
   "execution_count": 1,
   "id": "d2c391a4-3dbe-4517-82e3-ef76eaafb8f4",
   "metadata": {},
   "outputs": [
    {
     "name": "stdout",
     "output_type": "stream",
     "text": [
      "Hello world\n"
     ]
    }
   ],
   "source": [
    "print('Hello world')  # single quote"
   ]
  },
  {
   "cell_type": "code",
   "execution_count": 2,
   "id": "412721c8-d6e6-4642-9da3-f00de8f8f33c",
   "metadata": {},
   "outputs": [
    {
     "ename": "NameError",
     "evalue": "name 'printf' is not defined",
     "output_type": "error",
     "traceback": [
      "\u001b[31m---------------------------------------------------------------------------\u001b[39m",
      "\u001b[31mNameError\u001b[39m                                 Traceback (most recent call last)",
      "\u001b[36mCell\u001b[39m\u001b[36m \u001b[39m\u001b[32mIn[2]\u001b[39m\u001b[32m, line 1\u001b[39m\n\u001b[32m----> \u001b[39m\u001b[32m1\u001b[39m \u001b[43mprintf\u001b[49m(\u001b[33m\"\u001b[39m\u001b[33mHello world\u001b[39m\u001b[33m\"\u001b[39m)\n",
      "\u001b[31mNameError\u001b[39m: name 'printf' is not defined"
     ]
    }
   ],
   "source": [
    "printf(\"Hello world\")"
   ]
  },
  {
   "cell_type": "code",
   "execution_count": 3,
   "id": "4a0222f5-5b80-4fde-a909-28d1b5e8bd8f",
   "metadata": {},
   "outputs": [
    {
     "name": "stdout",
     "output_type": "stream",
     "text": [
      "Hello World\n"
     ]
    }
   ],
   "source": [
    "print(\"Hello World\")"
   ]
  },
  {
   "cell_type": "code",
   "execution_count": 4,
   "id": "eef26d45-4309-4211-8e38-124f85aea284",
   "metadata": {},
   "outputs": [],
   "source": [
    "# # include <stdio.h>\n",
    "\n",
    "# int main(){\n",
    "#     printf('Hello world')\n",
    "\n",
    "#     return 0\n",
    "# }"
   ]
  },
  {
   "cell_type": "code",
   "execution_count": 5,
   "id": "1d65b85f-fb38-4145-8640-7877b006f5dd",
   "metadata": {},
   "outputs": [
    {
     "name": "stdout",
     "output_type": "stream",
     "text": [
      "Hello world\n"
     ]
    }
   ],
   "source": [
    "print(\"Hello world\")"
   ]
  },
  {
   "cell_type": "code",
   "execution_count": 6,
   "id": "8e46f702-0986-475f-b4e6-951cbcdd743d",
   "metadata": {},
   "outputs": [],
   "source": [
    "# Shift+Enterkey"
   ]
  },
  {
   "cell_type": "code",
   "execution_count": 7,
   "id": "ff20ab50-02cd-4c9a-8246-3344f8bd69e3",
   "metadata": {},
   "outputs": [
    {
     "ename": "NameError",
     "evalue": "name 'Print' is not defined",
     "output_type": "error",
     "traceback": [
      "\u001b[31m---------------------------------------------------------------------------\u001b[39m",
      "\u001b[31mNameError\u001b[39m                                 Traceback (most recent call last)",
      "\u001b[36mCell\u001b[39m\u001b[36m \u001b[39m\u001b[32mIn[7]\u001b[39m\u001b[32m, line 1\u001b[39m\n\u001b[32m----> \u001b[39m\u001b[32m1\u001b[39m \u001b[43mPrint\u001b[49m(\u001b[33m\"\u001b[39m\u001b[33mHello world\u001b[39m\u001b[33m\"\u001b[39m)\n",
      "\u001b[31mNameError\u001b[39m: name 'Print' is not defined"
     ]
    }
   ],
   "source": [
    "Print(\"Hello world\")"
   ]
  },
  {
   "cell_type": "code",
   "execution_count": 8,
   "id": "90b34ece-5d58-47db-bc08-3ff9cc0f2bf3",
   "metadata": {},
   "outputs": [
    {
     "name": "stdout",
     "output_type": "stream",
     "text": [
      "Hello world\n"
     ]
    }
   ],
   "source": [
    "print(\"Hello world\")"
   ]
  },
  {
   "cell_type": "code",
   "execution_count": 9,
   "id": "96e4ce9c-467c-4b44-b6fa-1002a0d77971",
   "metadata": {},
   "outputs": [
    {
     "name": "stdout",
     "output_type": "stream",
     "text": [
      "100\n"
     ]
    }
   ],
   "source": [
    "print(100)   # 100 "
   ]
  },
  {
   "cell_type": "code",
   "execution_count": 10,
   "id": "d3275ccf-ab08-4d77-b61d-4860ceecac3f",
   "metadata": {},
   "outputs": [
    {
     "name": "stdout",
     "output_type": "stream",
     "text": [
      "Hello world\n"
     ]
    }
   ],
   "source": [
    "print(\"Hello world\")"
   ]
  },
  {
   "cell_type": "code",
   "execution_count": 11,
   "id": "c271edfa-0e81-47c4-814c-6b035ee1bb9c",
   "metadata": {},
   "outputs": [
    {
     "name": "stdout",
     "output_type": "stream",
     "text": [
      "apple\n"
     ]
    }
   ],
   "source": [
    "print('apple')"
   ]
  },
  {
   "cell_type": "code",
   "execution_count": 12,
   "id": "fadf2f93-0498-40e7-b9c7-84b08efc3e42",
   "metadata": {},
   "outputs": [],
   "source": [
    "# single quote or double quotes."
   ]
  },
  {
   "cell_type": "code",
   "execution_count": 18,
   "id": "9a7200da-6735-4a1e-a0c8-177e4ceb1e1b",
   "metadata": {},
   "outputs": [
    {
     "name": "stdout",
     "output_type": "stream",
     "text": [
      "Hello world\n",
      "Hello world\n",
      "100\n",
      "10.25\n",
      "100\n",
      "1000\n",
      "123\n",
      "100.0\n",
      "100.23\n",
      "789.25\n",
      "True\n",
      "False\n"
     ]
    }
   ],
   "source": [
    "# cout \n",
    "\n",
    "# String : Single Quotes or Double Quotes\n",
    "\n",
    "print('Hello world')\n",
    "print(\"Hello world\")\n",
    "print(\"100\")\n",
    "print('10.25')\n",
    "\n",
    "# Number Integer| float| \n",
    "\n",
    "# Integer\n",
    "print(100)  # Integer value\n",
    "print(1000)\n",
    "print(123)\n",
    "\n",
    "# Float\n",
    "print(100.0)\n",
    "print(100.23)\n",
    "print(789.25)\n",
    "\n",
    "\n",
    "# Boolean\n",
    "\n",
    "print(True)  # T always in capital letters and others are in small.\n",
    "print(False)"
   ]
  },
  {
   "cell_type": "code",
   "execution_count": 20,
   "id": "5fe3d8cc-a070-4c09-9bf6-360567830ef8",
   "metadata": {},
   "outputs": [
    {
     "name": "stdout",
     "output_type": "stream",
     "text": [
      "100\n",
      "100\n"
     ]
    }
   ],
   "source": [
    "print('100')  # string\n",
    "\n",
    "print(100)  # integer"
   ]
  },
  {
   "cell_type": "code",
   "execution_count": 22,
   "id": "670a7f58-bc66-4b11-8942-7f98a0e8ebff",
   "metadata": {},
   "outputs": [
    {
     "data": {
      "text/plain": [
       "'100+100'"
      ]
     },
     "execution_count": 22,
     "metadata": {},
     "output_type": "execute_result"
    }
   ],
   "source": [
    "\"100+100\""
   ]
  },
  {
   "cell_type": "code",
   "execution_count": 23,
   "id": "dbf78445-ee99-4509-869e-d218237cd96e",
   "metadata": {},
   "outputs": [
    {
     "data": {
      "text/plain": [
       "200"
      ]
     },
     "execution_count": 23,
     "metadata": {},
     "output_type": "execute_result"
    }
   ],
   "source": [
    "100+100"
   ]
  },
  {
   "cell_type": "code",
   "execution_count": 39,
   "id": "f4d081b7-7e01-4285-9a88-4007d9a37c2b",
   "metadata": {},
   "outputs": [
    {
     "name": "stdout",
     "output_type": "stream",
     "text": [
      "Hello world\n",
      "<class 'str'>\n",
      "Hello world\n",
      "<class 'str'>\n",
      "100\n",
      "<class 'str'>\n",
      "10.25\n",
      "<class 'str'>\n",
      "100\n",
      "<class 'int'>\n",
      "1000\n",
      "<class 'int'>\n",
      "123\n",
      "<class 'int'>\n",
      "100.0\n",
      "<class 'float'>\n",
      "100.23\n",
      "<class 'float'>\n",
      "789.25\n",
      "<class 'float'>\n",
      "True\n",
      "<class 'bool'>\n",
      "False\n",
      "<class 'bool'>\n"
     ]
    }
   ],
   "source": [
    "# type() function\n",
    "\n",
    "# String : Single Quotes or Double Quotes\n",
    "\n",
    "print('Hello world')\n",
    "print(type('Hello world'))\n",
    "print(\"Hello world\")\n",
    "print(type(\"Hello world\"))\n",
    "print(\"100\")\n",
    "print(type(\"100\"))\n",
    "print('10.25')\n",
    "print(type('10.25'))\n",
    "\n",
    "# Number Integer| float| \n",
    "\n",
    "# Integer\n",
    "print(100)  # Integer value\n",
    "print(type(100))\n",
    "print(1000)\n",
    "print(type(1000))\n",
    "print(123)\n",
    "print(type(123))\n",
    "\n",
    "# Float\n",
    "print(100.0)\n",
    "print(type(100.0))\n",
    "print(100.23)\n",
    "print(type(100.23))\n",
    "print(789.25)\n",
    "print(type(789.25))\n",
    "\n",
    "\n",
    "# Boolean\n",
    "\n",
    "print(True)  # T always in capital letters and others are in small.\n",
    "print(type(True))\n",
    "print(False)\n",
    "print(type(False))"
   ]
  },
  {
   "cell_type": "code",
   "execution_count": 43,
   "id": "2b6399a1-1650-4c4a-bc5b-85f385ef83db",
   "metadata": {},
   "outputs": [
    {
     "name": "stdout",
     "output_type": "stream",
     "text": [
      "True\n",
      "1\n",
      "False\n",
      "0\n"
     ]
    }
   ],
   "source": [
    "print(True)\n",
    "print(int(True))\n",
    "\n",
    "\n",
    "print(False)\n",
    "print(int(False))"
   ]
  },
  {
   "cell_type": "code",
   "execution_count": 45,
   "id": "5b611c49-730c-4f4c-bc2e-691db892ce7d",
   "metadata": {},
   "outputs": [
    {
     "name": "stdout",
     "output_type": "stream",
     "text": [
      "5\n",
      "140709666780200\n"
     ]
    }
   ],
   "source": [
    "# varibale \n",
    "\n",
    "x = 5  # X is a varibale 5 is a primitive data type : x is stored in the RAM:\n",
    "print(x)\n",
    "print(id(x))"
   ]
  },
  {
   "cell_type": "code",
   "execution_count": null,
   "id": "e83d3cd8-5fcb-450c-943e-ce22cb763616",
   "metadata": {},
   "outputs": [],
   "source": [
    "var x; #Varibel declaration\n",
    "x = 5  # VAriable initialization"
   ]
  },
  {
   "cell_type": "code",
   "execution_count": 47,
   "id": "0ec8d07e-a6cb-4540-9489-6060cde82162",
   "metadata": {},
   "outputs": [
    {
     "name": "stdout",
     "output_type": "stream",
     "text": [
      "15\n",
      "140709666780520\n"
     ]
    }
   ],
   "source": [
    "x1 = 10+5  #: x1 is a varibale and 10+5 is a expression\n",
    "print(x1)\n",
    "print(id(x1))"
   ]
  },
  {
   "cell_type": "code",
   "execution_count": 49,
   "id": "b6f0f832-55d1-471e-809b-9819b2e123aa",
   "metadata": {},
   "outputs": [
    {
     "name": "stdout",
     "output_type": "stream",
     "text": [
      "10\n",
      "140709666780360\n"
     ]
    }
   ],
   "source": [
    "x = 10\n",
    "print(x)\n",
    "print(id(x))"
   ]
  },
  {
   "cell_type": "code",
   "execution_count": 50,
   "id": "46faec8b-a607-4059-907c-ff9cd1fb3e0e",
   "metadata": {},
   "outputs": [
    {
     "name": "stdout",
     "output_type": "stream",
     "text": [
      "10\n"
     ]
    }
   ],
   "source": [
    "print(x)"
   ]
  },
  {
   "cell_type": "code",
   "execution_count": 51,
   "id": "070fe2cb-7539-49f7-8238-5749d6ace487",
   "metadata": {},
   "outputs": [
    {
     "name": "stdout",
     "output_type": "stream",
     "text": [
      "Hello world\n"
     ]
    }
   ],
   "source": [
    "x = \"Hello world\"\n",
    "print(x)"
   ]
  },
  {
   "cell_type": "code",
   "execution_count": 52,
   "id": "1467c101-bca8-4274-bef5-b9f63f268dcb",
   "metadata": {},
   "outputs": [
    {
     "data": {
      "text/plain": [
       "'Hello world'"
      ]
     },
     "execution_count": 52,
     "metadata": {},
     "output_type": "execute_result"
    }
   ],
   "source": [
    "x"
   ]
  },
  {
   "cell_type": "code",
   "execution_count": 53,
   "id": "16c02873-089c-403a-abf8-85d1a03d0026",
   "metadata": {},
   "outputs": [
    {
     "data": {
      "text/plain": [
       "'Hello world'"
      ]
     },
     "execution_count": 53,
     "metadata": {},
     "output_type": "execute_result"
    }
   ],
   "source": [
    "x"
   ]
  },
  {
   "cell_type": "code",
   "execution_count": 1,
   "id": "646c9dfa-a613-4d3d-9400-77fede8c07b3",
   "metadata": {},
   "outputs": [],
   "source": [
    "import os"
   ]
  },
  {
   "cell_type": "code",
   "execution_count": 2,
   "id": "3074fd46-1c2f-4c22-8878-dfe05d353770",
   "metadata": {},
   "outputs": [],
   "source": [
    "import sys"
   ]
  },
  {
   "cell_type": "code",
   "execution_count": 3,
   "id": "603c2a13-7227-47a8-9df8-49f5652fbfce",
   "metadata": {},
   "outputs": [
    {
     "name": "stdout",
     "output_type": "stream",
     "text": [
      "3.13.7 (tags/v3.13.7:bcee1c3, Aug 14 2025, 14:15:11) [MSC v.1944 64 bit (AMD64)]\n"
     ]
    }
   ],
   "source": [
    "print(sys.version)"
   ]
  },
  {
   "cell_type": "markdown",
   "id": "52c692eb-f23d-4f7c-989c-e4f694a4e7f6",
   "metadata": {},
   "source": [
    "# Data typecasting "
   ]
  },
  {
   "cell_type": "code",
   "execution_count": 9,
   "id": "01556348-9fd5-4056-a8a8-79cf97fee36f",
   "metadata": {},
   "outputs": [
    {
     "name": "stdout",
     "output_type": "stream",
     "text": [
      "10 <class 'int'>\n",
      "10 <class 'str'>\n",
      "10.0 <class 'float'>\n"
     ]
    }
   ],
   "source": [
    "num = 10   \n",
    "print(num,type(num))\n",
    "\n",
    "# string, float\n",
    "\n",
    "# single quotes or double, \n",
    "\n",
    "str1 = str(num)\n",
    "print(str1,type(str1))\n",
    "\n",
    "# float \n",
    "\n",
    "float1 = float(num)\n",
    "print(float1, type(float1))"
   ]
  },
  {
   "cell_type": "code",
   "execution_count": 12,
   "id": "6e9a9642-9150-40e9-9941-f31f41fae2e8",
   "metadata": {},
   "outputs": [
    {
     "name": "stdout",
     "output_type": "stream",
     "text": [
      "100.55 <class 'float'>\n",
      "100.55 <class 'str'>\n",
      "100 <class 'int'>\n"
     ]
    }
   ],
   "source": [
    "num1 = 100.55  \n",
    "print(num1, type(num1))\n",
    "\n",
    "# string, integer  \n",
    "\n",
    "str1 = str(num1)\n",
    "print(str1, type(str1))\n",
    "\n",
    "# integer\n",
    "int1 = int(num1)  # 100\n",
    "print(int1, type(int1))"
   ]
  },
  {
   "cell_type": "code",
   "execution_count": 18,
   "id": "5598a253-39f0-4119-a4bb-013415b9ea89",
   "metadata": {},
   "outputs": [
    {
     "name": "stdout",
     "output_type": "stream",
     "text": [
      "1 <class 'int'>\n",
      "True <class 'str'>\n",
      "1.0 <class 'float'>\n",
      "0 <class 'int'>\n",
      "False <class 'str'>\n",
      "0.0 <class 'float'>\n"
     ]
    }
   ],
   "source": [
    "bool1 = True   # integer, string, float\n",
    "int2 = int(bool1)\n",
    "print(int2, type(int2))\n",
    "\n",
    "str2 = str(bool1)\n",
    "print(str2, type(str2))\n",
    "\n",
    "float1 = float(bool1)\n",
    "print(float1, type(float1))\n",
    "\n",
    "\n",
    "bool2 = False # integer, string, float\n",
    "\n",
    "int3 = int(bool2)\n",
    "print(int3, type(int3))\n",
    "\n",
    "\n",
    "str3 = str(bool2)\n",
    "print(str3, type(str3))\n",
    "\n",
    "float3 = float(bool2)\n",
    "print(float3, type(float3))"
   ]
  },
  {
   "cell_type": "code",
   "execution_count": 20,
   "id": "6f301631-2c95-4110-8d98-7d66b7490a21",
   "metadata": {},
   "outputs": [
    {
     "name": "stdout",
     "output_type": "stream",
     "text": [
      "3.0\n",
      "3\n"
     ]
    }
   ],
   "source": [
    "# Operators \n",
    "\n",
    "print(9/3)   # division\n",
    "\n",
    "print(9//3)  # floor division"
   ]
  },
  {
   "cell_type": "code",
   "execution_count": 21,
   "id": "e80d920e-d8f4-4ea6-8de0-a02668fa947e",
   "metadata": {},
   "outputs": [
    {
     "name": "stdout",
     "output_type": "stream",
     "text": [
      "207.5\n"
     ]
    }
   ],
   "source": [
    "# Express and Variable\n",
    "\n",
    "x = 56+96+78-45*2/4\n",
    "print(x)\n"
   ]
  },
  {
   "cell_type": "code",
   "execution_count": 23,
   "id": "33f8c1d2-c1f8-4ee3-98f5-01da9b5be3e5",
   "metadata": {},
   "outputs": [
    {
     "name": "stdout",
     "output_type": "stream",
     "text": [
      "-25\n"
     ]
    }
   ],
   "source": [
    "# substraction\n",
    "\n",
    "x = 45\n",
    "y = 70\n",
    "print(x-y)"
   ]
  },
  {
   "cell_type": "code",
   "execution_count": 24,
   "id": "05e7c7eb-5e81-4835-becd-fad11dc4517f",
   "metadata": {},
   "outputs": [
    {
     "name": "stdout",
     "output_type": "stream",
     "text": [
      "3150\n"
     ]
    }
   ],
   "source": [
    "# Multiplation (*)\n",
    "\n",
    "x = 45\n",
    "y = 70\n",
    "print(x*y)"
   ]
  },
  {
   "cell_type": "code",
   "execution_count": 25,
   "id": "0d2a1408-c2f5-4213-800a-6da101e95a02",
   "metadata": {},
   "outputs": [
    {
     "name": "stdout",
     "output_type": "stream",
     "text": [
      "0.6428571428571429\n",
      "0\n"
     ]
    }
   ],
   "source": [
    "# division - [/] [//]\n",
    "\n",
    "x = 45\n",
    "y = 70\n",
    "print(x/y)\n",
    "print(x//y)"
   ]
  },
  {
   "cell_type": "code",
   "execution_count": 27,
   "id": "027a7ee0-5099-4825-a1cc-15f74fd12d89",
   "metadata": {},
   "outputs": [
    {
     "name": "stdout",
     "output_type": "stream",
     "text": [
      "25\n"
     ]
    }
   ],
   "source": [
    "# Modulus: It returns remainder of the value\n",
    "x = 45\n",
    "y = 70\n",
    "\n",
    "print(y%x)"
   ]
  },
  {
   "cell_type": "code",
   "execution_count": 28,
   "id": "3039ea5e-b53e-4b86-8cb5-c45980eba60f",
   "metadata": {},
   "outputs": [
    {
     "name": "stdout",
     "output_type": "stream",
     "text": [
      "53073284378983081100680158427125588348600982288180187454105335965020350343958333017013728749589063227176666259765625\n"
     ]
    }
   ],
   "source": [
    "# Exponenent (bares)^power\n",
    "\n",
    "x = 45\n",
    "y = 70\n",
    "\n",
    "print(x**y)"
   ]
  },
  {
   "cell_type": "code",
   "execution_count": 29,
   "id": "a303cdaa-64bc-42f9-a2a2-cd443726b69b",
   "metadata": {},
   "outputs": [],
   "source": [
    "# 45x45x45x45x....................................70"
   ]
  },
  {
   "cell_type": "code",
   "execution_count": 31,
   "id": "6da68ac7-0abc-4532-9a3e-1574180da5d4",
   "metadata": {},
   "outputs": [
    {
     "name": "stdout",
     "output_type": "stream",
     "text": [
      "0\n"
     ]
    }
   ],
   "source": [
    "x = 2\n",
    "y = 2\n",
    "\n",
    "print(x%y)"
   ]
  },
  {
   "cell_type": "code",
   "execution_count": null,
   "id": "d77feb36-a49d-41e6-a42a-8f41041ea251",
   "metadata": {},
   "outputs": [],
   "source": []
  }
 ],
 "metadata": {
  "kernelspec": {
   "display_name": "Python 3 (ipykernel)",
   "language": "python",
   "name": "python3"
  },
  "language_info": {
   "codemirror_mode": {
    "name": "ipython",
    "version": 3
   },
   "file_extension": ".py",
   "mimetype": "text/x-python",
   "name": "python",
   "nbconvert_exporter": "python",
   "pygments_lexer": "ipython3",
   "version": "3.13.7"
  }
 },
 "nbformat": 4,
 "nbformat_minor": 5
}
