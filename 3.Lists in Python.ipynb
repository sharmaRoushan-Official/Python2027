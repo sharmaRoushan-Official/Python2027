{
 "cells": [
  {
   "cell_type": "markdown",
   "id": "b576c4fd-7a12-40ca-8d83-f9f53e20a252",
   "metadata": {},
   "source": [
    "# 3. Lists in Python\n",
    "\n",
    " * __Lists are ordered.__\n",
    " * __Lists can contains any arbitrary objects.__\n",
    " * __Lists elemnets can be accessed by index.__\n",
    " * __Lists can be nested to arbitrary depth.__\n",
    " * __Lists are mutable.__\n",
    " * __Lists are dynamic.__"
   ]
  },
  {
   "cell_type": "code",
   "execution_count": 1,
   "id": "8b31d38d-d0bc-4297-bbb0-a8805e93a623",
   "metadata": {},
   "outputs": [
    {
     "name": "stdout",
     "output_type": "stream",
     "text": [
      "[] <class 'list'>\n"
     ]
    }
   ],
   "source": [
    "# how to creat empty list\n",
    "\n",
    "x = []  # square bracket\n",
    "print(x,type(x))"
   ]
  },
  {
   "cell_type": "code",
   "execution_count": 2,
   "id": "a15c8458-8921-4b67-b9f6-4aca57a8b944",
   "metadata": {},
   "outputs": [
    {
     "name": "stdout",
     "output_type": "stream",
     "text": [
      " <class 'str'>\n"
     ]
    }
   ],
   "source": [
    "y = \"\"\n",
    "print(y,type(y))"
   ]
  },
  {
   "cell_type": "code",
   "execution_count": 4,
   "id": "d2e3e51c-7900-4c2b-b799-bd2cdda95717",
   "metadata": {},
   "outputs": [
    {
     "name": "stdout",
     "output_type": "stream",
     "text": [
      "['python', 25, 2002]\n",
      "<class 'list'>\n"
     ]
    }
   ],
   "source": [
    "nlis = ['python',25,2002]\n",
    "print(nlis)\n",
    "print(type(nlis))"
   ]
  },
  {
   "cell_type": "code",
   "execution_count": 11,
   "id": "35da9d57-2904-4869-a405-eab0e5abc2c0",
   "metadata": {},
   "outputs": [
    {
     "name": "stdout",
     "output_type": "stream",
     "text": [
      "python\n",
      "25\n",
      "2002\n"
     ]
    }
   ],
   "source": [
    "# List value can be accessed by index value with positive and negative index value.\n",
    "# positive index value\n",
    "print(nlis[0])\n",
    "print(nlis[1])\n",
    "print(nlis[2])\n",
    "# print(nlis[3])  out of range "
   ]
  },
  {
   "cell_type": "code",
   "execution_count": 14,
   "id": "0f8d7920-1d0e-498c-a85b-6ae6e0fe2083",
   "metadata": {},
   "outputs": [
    {
     "name": "stdout",
     "output_type": "stream",
     "text": [
      "2002\n",
      "25\n",
      "python\n"
     ]
    }
   ],
   "source": [
    "# Negative Index value\n",
    "\n",
    "print(nlis[-1])\n",
    "print(nlis[-2])\n",
    "print(nlis[-3])"
   ]
  },
  {
   "cell_type": "markdown",
   "id": "35307255-546b-4f23-87f9-b7ec83080754",
   "metadata": {},
   "source": [
    "|What can content a list?|\n",
    "|-------|\n",
    "|strings|\n",
    "|Floats|\n",
    "|Integer|\n",
    "|Boolean|\n",
    "|Nested List|\n",
    "|Nested Tuples|\n",
    "|Any Data Structures|"
   ]
  },
  {
   "cell_type": "code",
   "execution_count": 15,
   "id": "a3f3496f-8054-4d02-9964-cec1df73bf49",
   "metadata": {},
   "outputs": [
    {
     "name": "stdout",
     "output_type": "stream",
     "text": [
      "['Python', 3.14, 2002, True, False, ['hello world', 10, 20], (55, 100, 'Hello Python')]\n"
     ]
    }
   ],
   "source": [
    "nlis = ['Python',3.14,2002, True, False, ['hello world',10,20],(55,100,'Hello Python')]\n",
    "print(nlis)"
   ]
  },
  {
   "cell_type": "code",
   "execution_count": 29,
   "id": "07950127-176f-454b-acd8-888701cee608",
   "metadata": {},
   "outputs": [
    {
     "name": "stdout",
     "output_type": "stream",
     "text": [
      "Python\n",
      "<class 'str'>\n",
      "3.14\n",
      "<class 'float'>\n",
      "2002\n",
      "<class 'int'>\n",
      "True\n",
      "<class 'bool'>\n",
      "False\n",
      "<class 'bool'>\n",
      "['hello world', 10, 20]\n",
      "<class 'list'>\n",
      "(55, 100, 'Hello Python')\n",
      "<class 'tuple'>\n"
     ]
    }
   ],
   "source": [
    "print(nlis[0])\n",
    "print(type(nlis[0]))\n",
    "\n",
    "print(nlis[1])\n",
    "print(type(nlis[1]))\n",
    "\n",
    "print(nlis[2])\n",
    "print(type(nlis[2]))\n",
    "\n",
    "print(nlis[3])\n",
    "print(type(nlis[3]))\n",
    "\n",
    "print(nlis[4])\n",
    "print(type(nlis[4]))\n",
    "\n",
    "print(nlis[5])\n",
    "print(type(nlis[5]))\n",
    "\n",
    "print(nlis[6])\n",
    "print(type(nlis[6]))"
   ]
  },
  {
   "cell_type": "code",
   "execution_count": 30,
   "id": "6ee335ca-3a5b-4bc8-8a78-d399ae3c5fa6",
   "metadata": {},
   "outputs": [
    {
     "data": {
      "text/plain": [
       "7"
      ]
     },
     "execution_count": 30,
     "metadata": {},
     "output_type": "execute_result"
    }
   ],
   "source": [
    "# List Operations : list is mutable (mutable means: you can change, update, deleted, and remove after created the list.)\n",
    "\n",
    "# len(): lenght is used to return total number of element inside the list. # It is a pre-defined keyword\n",
    "\n",
    "len(nlis)"
   ]
  },
  {
   "cell_type": "code",
   "execution_count": 32,
   "id": "80544bb1-348b-4e7d-b6c7-94d83c67d17f",
   "metadata": {},
   "outputs": [
    {
     "name": "stdout",
     "output_type": "stream",
     "text": [
      "['Python', 3.14, 2002, True, False, ['hello world', 10, 20], (55, 100, 'Hello Python')]\n"
     ]
    }
   ],
   "source": [
    "# Slicing of list.\n",
    "\n",
    "print(nlis)"
   ]
  },
  {
   "cell_type": "code",
   "execution_count": 33,
   "id": "f6837339-5740-4f86-8cd8-3c4b42596d72",
   "metadata": {},
   "outputs": [
    {
     "data": {
      "text/plain": [
       "[True, False]"
      ]
     },
     "execution_count": 33,
     "metadata": {},
     "output_type": "execute_result"
    }
   ],
   "source": [
    "# use slicing \n",
    "\n",
    "nlis[3:5]  # n-1"
   ]
  },
  {
   "cell_type": "code",
   "execution_count": 36,
   "id": "2a08d9ec-8e40-48ff-b0e2-77c64cedf1ac",
   "metadata": {},
   "outputs": [
    {
     "data": {
      "text/plain": [
       "['Python', 2002, False, (55, 100, 'Hello Python')]"
      ]
     },
     "execution_count": 36,
     "metadata": {},
     "output_type": "execute_result"
    }
   ],
   "source": [
    "# striding value: skip value\n",
    "\n",
    "nlis[::2]"
   ]
  },
  {
   "cell_type": "code",
   "execution_count": 37,
   "id": "d4fb7514-30be-4cc6-afd9-7fa304962f88",
   "metadata": {},
   "outputs": [],
   "source": [
    "# Operations in List \n",
    "\n",
    "# 1) Extending the list:\n",
    "# We use the extend() funciton to add a new element to the list.\n",
    "# With this function, we add more than one element to the list.\n",
    "\n",
    "\n",
    "list1 = []"
   ]
  },
  {
   "cell_type": "code",
   "execution_count": 38,
   "id": "03bea529-55bd-4ddd-9778-8ab9a6f73baa",
   "metadata": {},
   "outputs": [],
   "source": [
    "list1.extend(['apple',\"banana\"]) # at a time you can take multiple items to put in the list."
   ]
  },
  {
   "cell_type": "code",
   "execution_count": 39,
   "id": "40b2f52b-4712-4d10-a3f5-e0d18ee7de93",
   "metadata": {},
   "outputs": [
    {
     "data": {
      "text/plain": [
       "['apple', 'banana']"
      ]
     },
     "execution_count": 39,
     "metadata": {},
     "output_type": "execute_result"
    }
   ],
   "source": [
    "list1"
   ]
  },
  {
   "cell_type": "code",
   "execution_count": 40,
   "id": "be209797-d951-4ef2-8e4c-28677ce0d628",
   "metadata": {},
   "outputs": [],
   "source": [
    "# append() method\n",
    "# As a different from the extend() mehtod, with the append() method, we add only one element to the list.\n",
    "# You can see the difference by comparing the above and below the codes.\n",
    "\n",
    "\n",
    "list1.append('carrot')"
   ]
  },
  {
   "cell_type": "code",
   "execution_count": 41,
   "id": "95d53d71-842a-4598-bd00-0c9432d8350f",
   "metadata": {},
   "outputs": [
    {
     "data": {
      "text/plain": [
       "['apple', 'banana', 'carrot']"
      ]
     },
     "execution_count": 41,
     "metadata": {},
     "output_type": "execute_result"
    }
   ],
   "source": [
    "list1"
   ]
  },
  {
   "cell_type": "code",
   "execution_count": 42,
   "id": "a91df0af-cc16-458d-bb55-ebc41f92bebc",
   "metadata": {},
   "outputs": [],
   "source": [
    "list1.append(['date','muskmelon'])"
   ]
  },
  {
   "cell_type": "code",
   "execution_count": 43,
   "id": "bfa4697f-bc21-437f-969b-134f3ad75e2e",
   "metadata": {},
   "outputs": [
    {
     "data": {
      "text/plain": [
       "['apple', 'banana', 'carrot', ['date', 'muskmelon']]"
      ]
     },
     "execution_count": 43,
     "metadata": {},
     "output_type": "execute_result"
    }
   ],
   "source": [
    "list1"
   ]
  },
  {
   "cell_type": "code",
   "execution_count": 44,
   "id": "1fbb6065-e560-4630-9293-e11d609775d9",
   "metadata": {},
   "outputs": [
    {
     "data": {
      "text/plain": [
       "['apple', 'banana', 'carrot', ['date', 'muskmelon']]"
      ]
     },
     "execution_count": 44,
     "metadata": {},
     "output_type": "execute_result"
    }
   ],
   "source": [
    "# insert()\n",
    "# It takes two items at a time. first one is the position of elemnet and second is the value.\n",
    "\n",
    "list1"
   ]
  },
  {
   "cell_type": "code",
   "execution_count": 45,
   "id": "fcea37fe-9335-4382-9fe1-93acf60fc4dd",
   "metadata": {},
   "outputs": [
    {
     "data": {
      "text/plain": [
       "['Sanket', 'apple', 'banana', 'carrot', ['date', 'muskmelon']]"
      ]
     },
     "execution_count": 45,
     "metadata": {},
     "output_type": "execute_result"
    }
   ],
   "source": [
    "list1.insert(0,\"Sanket\")\n",
    "list1"
   ]
  },
  {
   "cell_type": "code",
   "execution_count": 51,
   "id": "3527bac2-0242-4f59-b804-8df7f8f082cd",
   "metadata": {},
   "outputs": [
    {
     "name": "stdout",
     "output_type": "stream",
     "text": [
      "7\n",
      "1\n",
      "1\n",
      "7\n",
      "1\n",
      "28\n"
     ]
    }
   ],
   "source": [
    "#count(), index(), max(), min(), sum() function \n",
    "\n",
    "lis = [1,2,3,4,5,6,7]  # numeric value  # 28\n",
    "\n",
    "print(len(lis))\n",
    "\n",
    "print(lis.count(4))  # How many 4 are on the list 'lis'?\n",
    "print(lis.index(2)) # What is the index of the number 2 in the list 'lis'?\n",
    "print(max(lis))  # What is the maximum number in the list 'lis'?\n",
    "print(min(lis))  # What is the minimum number in the list 'lis'?\n",
    "print(sum(lis))  # what is the sum of th enumbers in the lsit?"
   ]
  },
  {
   "cell_type": "code",
   "execution_count": 57,
   "id": "6b341950-466f-49ca-9895-cbb86adee639",
   "metadata": {},
   "outputs": [
    {
     "name": "stdout",
     "output_type": "stream",
     "text": [
      "Before Changing: ['Python', 3.14, 2002, True, False, ['hello world', 10, 20], (55, 100, 'Hello Python')]\n",
      "After Changing: ['hello Python', 3.14, 2002, True, False, ['hello world', 10, 20], (55, 100, 'Hello Python')]\n",
      "After Changing: ['hello Python', 1.618, 2002, True, False, ['hello world', 10, 20], (55, 100, 'Hello Python')]\n"
     ]
    }
   ],
   "source": [
    "# changing the element of a list since it is mutbale \n",
    "\n",
    "nlis = ['Python',3.14,2002, True, False, ['hello world',10,20],(55,100,'Hello Python')]\n",
    "\n",
    "print('Before Changing:',nlis)\n",
    "nlis[0] = 'hello Python'  # It supports mutable element\n",
    "print(\"After Changing:\",nlis)  \n",
    "\n",
    "nlis[1] = 1.618   # It supports mutable element.\n",
    "print(\"After Changing:\",nlis)"
   ]
  },
  {
   "cell_type": "code",
   "execution_count": 59,
   "id": "f0e57f61-046d-4633-91b9-e4c1f67145df",
   "metadata": {},
   "outputs": [
    {
     "name": "stdout",
     "output_type": "stream",
     "text": [
      "Before Changing: ['hello Python', 1.618, 2002, True, False, ['hello world', 10, 20], (55, 100, 'Hello Python')]\n"
     ]
    }
   ],
   "source": [
    "# Deleting the element from the list using del() function\n",
    "\n",
    "print(\"Before Changing:\",nlis)\n",
    "del(nlis[0]) "
   ]
  },
  {
   "cell_type": "code",
   "execution_count": 60,
   "id": "561c7d40-3e30-4235-912d-b5655f845f98",
   "metadata": {},
   "outputs": [
    {
     "name": "stdout",
     "output_type": "stream",
     "text": [
      "After Changing: [1.618, 2002, True, False, ['hello world', 10, 20], (55, 100, 'Hello Python')]\n"
     ]
    }
   ],
   "source": [
    "print(\"After Changing:\",nlis)"
   ]
  },
  {
   "cell_type": "code",
   "execution_count": 63,
   "id": "7bf7dfd0-81d0-495d-b3b4-862e80b80b41",
   "metadata": {},
   "outputs": [
    {
     "name": "stdout",
     "output_type": "stream",
     "text": [
      "String Value Python is a programming language.\n"
     ]
    },
    {
     "data": {
      "text/plain": [
       "['Python', 'is', 'a', 'programming', 'language.']"
      ]
     },
     "execution_count": 63,
     "metadata": {},
     "output_type": "execute_result"
    }
   ],
   "source": [
    "# Converstion of a string into a list using split() function\n",
    "\n",
    "message = \"Python is a programming language.\"\n",
    "print(\"String Value\", message)\n",
    "\n",
    "message.split()"
   ]
  },
  {
   "cell_type": "code",
   "execution_count": 64,
   "id": "73db51a5-65cf-4ff2-a00d-3de7a5b556b0",
   "metadata": {},
   "outputs": [
    {
     "data": {
      "text/plain": [
       "['p', 'y', 't', 'h', 'o', 'n']"
      ]
     },
     "execution_count": 64,
     "metadata": {},
     "output_type": "execute_result"
    }
   ],
   "source": [
    "# Use of split() function with delimiter\n",
    "text = 'p,y,t,h,o,n'\n",
    "\n",
    "text.split(',')"
   ]
  },
  {
   "cell_type": "code",
   "execution_count": 65,
   "id": "315c10ee-c053-4ac1-9810-50bff500b5c7",
   "metadata": {},
   "outputs": [
    {
     "name": "stdout",
     "output_type": "stream",
     "text": [
      "['Python', 3.14, 2002, True, False, ['hello world', 10, 20], (55, 100, 'Hello Python')]\n"
     ]
    }
   ],
   "source": [
    "# Copy the list  \n",
    "\n",
    "nlis = ['Python',3.14,2002, True, False, ['hello world',10,20],(55,100,'Hello Python')]\n",
    "print(nlis)"
   ]
  },
  {
   "cell_type": "code",
   "execution_count": 66,
   "id": "0761725e-ffd0-4b93-bf32-b20b6e5475e7",
   "metadata": {},
   "outputs": [],
   "source": [
    "# Deep copy and shallow copy\n",
    "\n",
    "# Deep Copy: A deep copy creates a completely independent copy, including all inner objects.\n",
    "# means: Outer and inner lists are all new objects in memoroy\n",
    "\n",
    "import copy"
   ]
  },
  {
   "cell_type": "code",
   "execution_count": 71,
   "id": "e817e166-b4ab-4e83-afb9-ccb568364d0e",
   "metadata": {},
   "outputs": [
    {
     "name": "stdout",
     "output_type": "stream",
     "text": [
      "List 1: [[1, 2], [3, 4]]\n",
      "List 2 [[1, 2], [3, 4]]\n"
     ]
    }
   ],
   "source": [
    "list1 = [[1,2],[3,4]]\n",
    "print(\"List 1:\",list1)\n",
    "\n",
    "list2 = copy.deepcopy(list1)\n",
    "print(\"List 2\",list2)"
   ]
  },
  {
   "cell_type": "code",
   "execution_count": 75,
   "id": "764b6685-5d40-46d9-8e96-8cac5d5a4f59",
   "metadata": {},
   "outputs": [
    {
     "name": "stdout",
     "output_type": "stream",
     "text": [
      "List1: [[1, 2], [3, 4]]\n",
      "List2: [[99, 2], [3, 4]]\n"
     ]
    }
   ],
   "source": [
    "list2[0][0] = 99\n",
    "\n",
    "print(\"List1:\",list1)\n",
    "print(\"List2:\",list2)"
   ]
  },
  {
   "cell_type": "code",
   "execution_count": 78,
   "id": "7fae5641-96f0-4455-92f1-1e383446a700",
   "metadata": {},
   "outputs": [
    {
     "name": "stdout",
     "output_type": "stream",
     "text": [
      "2734442389952\n",
      "2734442396992\n"
     ]
    }
   ],
   "source": [
    "# how to check address of the variable\n",
    "print(id(list1))\n",
    "print(id(list2))"
   ]
  },
  {
   "cell_type": "code",
   "execution_count": 82,
   "id": "0c676d20-e5ba-4735-ad8b-e47efc5ef36d",
   "metadata": {},
   "outputs": [
    {
     "name": "stdout",
     "output_type": "stream",
     "text": [
      "[[99, 2], [3, 4]]\n",
      "[[99, 2], [3, 4]]\n"
     ]
    }
   ],
   "source": [
    "# Shallow copy()\n",
    "# A shallow copy creates a new object, but doesn't copy the inner(nested) objects- it only copies their references.\n",
    "# means \n",
    "# outer list = new \n",
    "# Innter lists = same object in the memory \n",
    "\n",
    "\n",
    "list1 = [[1,2],[3,4]]\n",
    "\n",
    "list2 = copy.copy(list1)\n",
    "\n",
    "list2[0][0]=99\n",
    "\n",
    "print(list1)\n",
    "print(list2)"
   ]
  },
  {
   "cell_type": "code",
   "execution_count": 89,
   "id": "84450de5-f462-4439-91ef-8cba2766f19a",
   "metadata": {},
   "outputs": [
    {
     "name": "stdin",
     "output_type": "stream",
     "text": [
      "Enter a string:  True\n"
     ]
    },
    {
     "name": "stdout",
     "output_type": "stream",
     "text": [
      "The text is: True\n",
      "<class 'str'>\n"
     ]
    }
   ],
   "source": [
    "# As different from the list, I also find significant the following information.\n",
    "# input() function \n",
    "# It provides a user fo a program supply input to the program at runtime.\n",
    "\n",
    "\n",
    "text = input(\"Enter a string: \")  # bydefault it takes string data type.\n",
    "print('The text is:',text)\n",
    "print(type(text))"
   ]
  },
  {
   "cell_type": "code",
   "execution_count": 98,
   "id": "6a0933fc-4eb0-468f-b865-dcddff33cd70",
   "metadata": {},
   "outputs": [
    {
     "name": "stdin",
     "output_type": "stream",
     "text": [
      "Enter any value:  123\n"
     ]
    },
    {
     "name": "stdout",
     "output_type": "stream",
     "text": [
      "Your Integer value is: 123\n"
     ]
    }
   ],
   "source": [
    "num = int(input(\"Enter any value: \"))\n",
    "print('Your Integer value is:',num)"
   ]
  },
  {
   "cell_type": "code",
   "execution_count": 96,
   "id": "fedddb05-f6a1-4740-a4f7-6e22717935ec",
   "metadata": {},
   "outputs": [
    {
     "name": "stdin",
     "output_type": "stream",
     "text": [
      "Enter any character:  a\n"
     ]
    },
    {
     "name": "stdout",
     "output_type": "stream",
     "text": [
      "The ASCII value is: a is 97\n"
     ]
    }
   ],
   "source": [
    "ch = input(\"Enter any character: \")  # A - 65 , a=97\n",
    "\n",
    "ascii_value = ord(ch)\n",
    "print(\"The ASCII value is:\", ch, 'is', ascii_value)"
   ]
  },
  {
   "cell_type": "code",
   "execution_count": 105,
   "id": "5fa874f7-8c0f-49ec-add1-6aa2c5259e8c",
   "metadata": {},
   "outputs": [
    {
     "name": "stdout",
     "output_type": "stream",
     "text": [
      "String value is: 8+7 <class 'str'>\n",
      "Sum of the expression is: 15\n",
      "<class 'int'>\n"
     ]
    }
   ],
   "source": [
    "# eval() function \n",
    "# This function servers the aim of converting a string to an integer or a float value.\n",
    "\n",
    "expression = \"8+7\"  # it is string value\n",
    "print(\"String value is:\", expression, type(expression))\n",
    "\n",
    "total = eval(expression)  # even change their data type: string to integer\n",
    "print(\"Sum of the expression is:\",total)\n",
    "print(type(total))"
   ]
  },
  {
   "cell_type": "code",
   "execution_count": 103,
   "id": "8cd18954-7641-449f-bf3e-999adb79a33c",
   "metadata": {},
   "outputs": [
    {
     "data": {
      "text/plain": [
       "15"
      ]
     },
     "execution_count": 103,
     "metadata": {},
     "output_type": "execute_result"
    }
   ],
   "source": [
    "8+7"
   ]
  },
  {
   "cell_type": "code",
   "execution_count": 107,
   "id": "bc362d05-9753-4e14-b9ab-3773a8cf2662",
   "metadata": {},
   "outputs": [
    {
     "name": "stdin",
     "output_type": "stream",
     "text": [
      "Enter first number:  15\n",
      "Enter second number:  25\n"
     ]
    },
    {
     "name": "stdout",
     "output_type": "stream",
     "text": [
      "Sum of the value 40.0\n",
      "Sum of 15.0 and 25.0 value is 40.0\n"
     ]
    }
   ],
   "source": [
    "# format() function \n",
    "# This function helps to format the output printed on the screen with good look and attractive.\n",
    "\n",
    "a = float(input(\"Enter first number: \"))\n",
    "b = float(input(\"Enter second number: \"))\n",
    "\n",
    "total = a+b\n",
    "print(\"Sum of the value\",total)  # it only display the total\n",
    "\n",
    "print(\"Sum of {} and {} value is {}\".format(a,b,total))  # it display the total with their addition variable."
   ]
  },
  {
   "cell_type": "code",
   "execution_count": 108,
   "id": "552730c8-a219-4235-82d4-a2aa6ce6ef97",
   "metadata": {},
   "outputs": [],
   "source": [
    "# Operators in Python\n",
    "\n",
    "# Arithematic Operator: +,-,*,/,//,%,**, ++, -=, *=,/=,\n",
    "    # >> Uniary operator: ++, --\n",
    "            # >> preIncrement: ++i\n",
    "            # >> PostIncrement: i++\n",
    "            # >> preDecrement: --i\n",
    "            # >> postDecrement: i--\n",
    "    # >> Binary operator: +,-,*,/,//,**,%,\n",
    "# Logical Operator: Basic Gates: [AND, OR, NOT], Universal Gates [NAND, NOR]\n",
    "\n",
    "# Relational Operator/ Comparison Operator: [<,>,<=,>=,==,!=]\n",
    "\n",
    "# Assignemnt Operator: [=]  # equals\n",
    "\n",
    "# Identity Operator: is or is not\n",
    "\n",
    "# Membership Operator: in or not in\n"
   ]
  },
  {
   "cell_type": "code",
   "execution_count": null,
   "id": "a9ed27bf-c295-4698-b69e-91639c71b977",
   "metadata": {},
   "outputs": [],
   "source": []
  },
  {
   "cell_type": "code",
   "execution_count": 109,
   "id": "c47dcceb-7f01-4022-ae19-868073c33598",
   "metadata": {},
   "outputs": [
    {
     "name": "stdout",
     "output_type": "stream",
     "text": [
      "['sanket', 'Python', 200]\n",
      "['sanket', 'Python', 200]\n"
     ]
    }
   ],
   "source": [
    "\n",
    "# shallow copy\n",
    "\n",
    "list1 = ['sanket',\"Python\",200]\n",
    "\n",
    "list2 = list1\n",
    "\n",
    "print(list1)\n",
    "print(list2)"
   ]
  },
  {
   "cell_type": "code",
   "execution_count": 111,
   "id": "f7f0805a-3d7e-451b-8c62-43a681d50aa7",
   "metadata": {},
   "outputs": [
    {
     "name": "stdout",
     "output_type": "stream",
     "text": [
      "['Sanket Hude', 'Python', 200]\n"
     ]
    }
   ],
   "source": [
    "list1[0] = \"Sanket Hude\"\n",
    "print(list1)"
   ]
  },
  {
   "cell_type": "code",
   "execution_count": 112,
   "id": "222f7f89-546e-44ee-b2dc-5d928e3ed0a8",
   "metadata": {},
   "outputs": [
    {
     "data": {
      "text/plain": [
       "['Sanket Hude', 'Python', 200]"
      ]
     },
     "execution_count": 112,
     "metadata": {},
     "output_type": "execute_result"
    }
   ],
   "source": [
    "list2"
   ]
  },
  {
   "cell_type": "code",
   "execution_count": 113,
   "id": "087673aa-50a7-47ee-b37c-0ef76713cdbd",
   "metadata": {},
   "outputs": [
    {
     "name": "stdout",
     "output_type": "stream",
     "text": [
      "['sanket', 'Python', 200]\n",
      "['sanket', 'Python', 200]\n"
     ]
    }
   ],
   "source": [
    "# deep copy()\n",
    "\n",
    "\n",
    "list1 = ['sanket',\"Python\",200]\n",
    "\n",
    "list2 = list1.copy()\n",
    "\n",
    "print(list1)\n",
    "print(list2)"
   ]
  },
  {
   "cell_type": "code",
   "execution_count": 115,
   "id": "690b0b53-2436-4ecd-b3d0-20b8e422c809",
   "metadata": {},
   "outputs": [
    {
     "name": "stdout",
     "output_type": "stream",
     "text": [
      "['Sanket Hude', 'Python', 200]\n"
     ]
    }
   ],
   "source": [
    "list2[0] = \"Sanket Hude\"\n",
    "print(list2)"
   ]
  },
  {
   "cell_type": "code",
   "execution_count": 116,
   "id": "31a72bbb-9a37-49bd-aa83-5871eb7bd1cc",
   "metadata": {},
   "outputs": [
    {
     "data": {
      "text/plain": [
       "['sanket', 'Python', 200]"
      ]
     },
     "execution_count": 116,
     "metadata": {},
     "output_type": "execute_result"
    }
   ],
   "source": [
    "list1"
   ]
  },
  {
   "cell_type": "code",
   "execution_count": null,
   "id": "63968b40-543f-4663-ab38-531d2730b0e9",
   "metadata": {},
   "outputs": [],
   "source": []
  }
 ],
 "metadata": {
  "kernelspec": {
   "display_name": "Python 3 (ipykernel)",
   "language": "python",
   "name": "python3"
  },
  "language_info": {
   "codemirror_mode": {
    "name": "ipython",
    "version": 3
   },
   "file_extension": ".py",
   "mimetype": "text/x-python",
   "name": "python",
   "nbconvert_exporter": "python",
   "pygments_lexer": "ipython3",
   "version": "3.13.7"
  }
 },
 "nbformat": 4,
 "nbformat_minor": 5
}
