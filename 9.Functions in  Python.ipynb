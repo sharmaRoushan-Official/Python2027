{
 "cells": [
  {
   "cell_type": "markdown",
   "id": "95f0504e-c6f7-472f-8e56-74141d58aceb",
   "metadata": {},
   "source": [
    "# 9. Functions in Python\n",
    "\n",
    " * __In python, a function is group of related statements that perform a specific task.__\n",
    " * __Function helps to break our program into smallaer and moduclar chinks. As per our program grows larger and larger, function make it more organized and manageable.___\n",
    " * __Furthermore, it avoids repetitions and make code resuable.__\n",
    " * __There are two types of functions__\n",
    " * __1.In-Build function (Pre-defined fucntions)__\n",
    " * __2.User-Defined function__\n",
    " * __In python a function is defined using the def keyword followed by the function name and parentheses()__\n",
    " * __Keyword def that marks to starts the function header.__\n",
    " * __A fucntions name is to uniquely indetify the function.__\n",
    " * __Parameters(arguments) through which we pass the values to a function. They are optional.__\n",
    " * __A colon(:) to marks the end of the function header.__\n",
    " * __Optional documentation string(docstring) ''' ''' to describe what the function header does.__\n",
    " * __One or more valid statements that mark up the function body.__\n",
    " * __Statements must have the same indentation level(usally 4-spaces).__\n",
    " * __A function also have:__\n",
    "   * ___Function with return value and function without return value.__\n",
    "   * __Function with parameter is called parameterized function.__\n",
    "   * __Function without parameter is called nullable function.__"
   ]
  },
  {
   "cell_type": "code",
   "execution_count": 2,
   "id": "6bfc98cb-135b-4f20-a893-746f18a5f31c",
   "metadata": {},
   "outputs": [
    {
     "data": {
      "text/plain": [
       "'Hello world'"
      ]
     },
     "execution_count": 2,
     "metadata": {},
     "output_type": "execute_result"
    }
   ],
   "source": [
    "def displayName(): # : marks to end the function header.\n",
    "    return \"Hello world\" # return value or body of function\n",
    "\n",
    "displayName()  # function calling"
   ]
  },
  {
   "cell_type": "code",
   "execution_count": null,
   "id": "9914ae87-6176-49ca-8a20-3ba14f72af14",
   "metadata": {},
   "outputs": [],
   "source": [
    "# snakeCase: starts from small letters and in the middle ony one _ sign  display_Name()\n",
    "# camelCase: starts from small letters and In the middle ony one charaster in capital. displayName()\n",
    "# Pascal CaseL: while letters is in capital case DISPLAYNAME()"
   ]
  },
  {
   "cell_type": "code",
   "execution_count": 3,
   "id": "55fb68cb-e6cc-43ac-83c3-956d1f1af8fe",
   "metadata": {},
   "outputs": [
    {
     "data": {
      "text/plain": [
       "'Hello world'"
      ]
     },
     "execution_count": 3,
     "metadata": {},
     "output_type": "execute_result"
    }
   ],
   "source": [
    "displayName()"
   ]
  },
  {
   "cell_type": "code",
   "execution_count": 4,
   "id": "a0ffa6db-cb0a-4e2c-9e9a-a613034c0275",
   "metadata": {},
   "outputs": [
    {
     "data": {
      "text/plain": [
       "'Hello world'"
      ]
     },
     "execution_count": 4,
     "metadata": {},
     "output_type": "execute_result"
    }
   ],
   "source": [
    "displayName()"
   ]
  },
  {
   "cell_type": "code",
   "execution_count": 13,
   "id": "0d913bde-b498-4ec9-bd82-2844805a00a1",
   "metadata": {},
   "outputs": [
    {
     "name": "stdout",
     "output_type": "stream",
     "text": [
      "20 0 100 1.0\n"
     ]
    }
   ],
   "source": [
    "def process(x):   #(parameters-1)\n",
    "    y1 = x+10  # 10+10\n",
    "    y2 = x-10 # 10-10\n",
    "    y3 = x*10  # 10*10\n",
    "    y4 = x/10 # 10/10\n",
    "    # return y1,y2,y3,y4\n",
    "    print(y1,y2,y3,y4)\n",
    "\n",
    "process(10)  # function calling with arguments"
   ]
  },
  {
   "cell_type": "code",
   "execution_count": 9,
   "id": "3dae97f5-1d24-4bd2-bf18-71e4912a52ff",
   "metadata": {},
   "outputs": [
    {
     "data": {
      "text/plain": [
       "(30, 10, 200, 2.0)"
      ]
     },
     "execution_count": 9,
     "metadata": {},
     "output_type": "execute_result"
    }
   ],
   "source": [
    "process(20)"
   ]
  },
  {
   "cell_type": "code",
   "execution_count": 10,
   "id": "6eaa07b3-2154-4a02-8efd-727f907d6e27",
   "metadata": {},
   "outputs": [
    {
     "data": {
      "text/plain": [
       "(-90, -110, -1000, -10.0)"
      ]
     },
     "execution_count": 10,
     "metadata": {},
     "output_type": "execute_result"
    }
   ],
   "source": [
    "process(-100)"
   ]
  },
  {
   "cell_type": "code",
   "execution_count": 11,
   "id": "88720414-03e8-484a-8c5b-75e9a9f6af43",
   "metadata": {},
   "outputs": [
    {
     "ename": "SyntaxError",
     "evalue": "'return' outside function (1324660243.py, line 1)",
     "output_type": "error",
     "traceback": [
      "  \u001b[36mCell\u001b[39m\u001b[36m \u001b[39m\u001b[32mIn[11]\u001b[39m\u001b[32m, line 1\u001b[39m\n\u001b[31m    \u001b[39m\u001b[31mreturn \"hello world\"\u001b[39m\n    ^\n\u001b[31mSyntaxError\u001b[39m\u001b[31m:\u001b[39m 'return' outside function\n"
     ]
    }
   ],
   "source": [
    "return \"hello world\""
   ]
  },
  {
   "cell_type": "code",
   "execution_count": 12,
   "id": "2fd4e395-db52-4d63-80fc-cf139513df15",
   "metadata": {},
   "outputs": [
    {
     "name": "stdout",
     "output_type": "stream",
     "text": [
      "Hello world\n"
     ]
    }
   ],
   "source": [
    "print(\"Hello world\")"
   ]
  },
  {
   "cell_type": "code",
   "execution_count": 16,
   "id": "b49366fa-7c11-4a97-9f16-61cad3b103a8",
   "metadata": {},
   "outputs": [
    {
     "name": "stdout",
     "output_type": "stream",
     "text": [
      "Hello world\n",
      "None\n"
     ]
    }
   ],
   "source": [
    "def displayName1():\n",
    "    print(\"Hello world\")\n",
    "    # return None\n",
    "\n",
    "print(displayName1())"
   ]
  },
  {
   "cell_type": "code",
   "execution_count": 18,
   "id": "1bb5e6eb-7127-4240-97e1-1b00e47adffb",
   "metadata": {},
   "outputs": [
    {
     "name": "stdout",
     "output_type": "stream",
     "text": [
      "Hello wolrd\n"
     ]
    }
   ],
   "source": [
    "def displayName2():\n",
    "    return \"Hello wolrd\"\n",
    "\n",
    "print(displayName2())"
   ]
  },
  {
   "cell_type": "code",
   "execution_count": 20,
   "id": "7aa49e5a-5473-4ddb-9643-d7379f7f9a4b",
   "metadata": {},
   "outputs": [
    {
     "data": {
      "text/plain": [
       "2738858909888"
      ]
     },
     "execution_count": 20,
     "metadata": {},
     "output_type": "execute_result"
    }
   ],
   "source": [
    "id(displayName1)"
   ]
  },
  {
   "cell_type": "code",
   "execution_count": 21,
   "id": "e0b62ee8-d871-4ff5-bc20-c34fe60480fc",
   "metadata": {},
   "outputs": [
    {
     "data": {
      "text/plain": [
       "2738858910048"
      ]
     },
     "execution_count": 21,
     "metadata": {},
     "output_type": "execute_result"
    }
   ],
   "source": [
    "id(displayName2)"
   ]
  },
  {
   "cell_type": "code",
   "execution_count": 22,
   "id": "9e6b562c-e298-43e9-b7f5-30f655f974b5",
   "metadata": {},
   "outputs": [
    {
     "name": "stdout",
     "output_type": "stream",
     "text": [
      "Hello world How are you?\n",
      "None\n"
     ]
    }
   ],
   "source": [
    "def displayName1():\n",
    "    print(\"Hello world How are you?\")\n",
    "    # return None\n",
    "print(displayName1())"
   ]
  },
  {
   "cell_type": "code",
   "execution_count": 23,
   "id": "e9a232a0-9bbd-447e-a3c2-7915974c5572",
   "metadata": {},
   "outputs": [
    {
     "data": {
      "text/plain": [
       "2738847819200"
      ]
     },
     "execution_count": 23,
     "metadata": {},
     "output_type": "execute_result"
    }
   ],
   "source": [
    "id(displayName1)"
   ]
  },
  {
   "cell_type": "markdown",
   "id": "9870f742-fe2e-4f48-883f-b2e66605e316",
   "metadata": {},
   "source": [
    "# varibales in Python Functions \n",
    "\n",
    " * __Variables defined inside a fucntion are called local variables.__\n",
    " * __Local variables are accessible only within that functions.__\n",
    " * __Variables defined outside all functions are global variables.__\n",
    " * __You can access global variables inside a fucntion using the global keyword.__\n",
    " * __Local variables are created when the function is calles and destroyed with it ends.__\n",
    " * __Global variables persist throughout the programs execution.__"
   ]
  },
  {
   "cell_type": "code",
   "execution_count": 35,
   "id": "d6b11b4b-d037-4ae8-b6f8-f68494e6ba8a",
   "metadata": {},
   "outputs": [
    {
     "name": "stdout",
     "output_type": "stream",
     "text": [
      "35\n"
     ]
    }
   ],
   "source": [
    "x=30  # global variable\n",
    "def my_func():\n",
    "    y = 5  # local variable.\n",
    "    print(x+y)\n",
    "\n",
    "my_func()  # snake_case"
   ]
  },
  {
   "cell_type": "code",
   "execution_count": 36,
   "id": "b48a35ee-146a-447a-8864-22c8746539b1",
   "metadata": {},
   "outputs": [
    {
     "name": "stdout",
     "output_type": "stream",
     "text": [
      "30\n"
     ]
    },
    {
     "ename": "NameError",
     "evalue": "name 'y' is not defined",
     "output_type": "error",
     "traceback": [
      "\u001b[31m---------------------------------------------------------------------------\u001b[39m",
      "\u001b[31mNameError\u001b[39m                                 Traceback (most recent call last)",
      "\u001b[36mCell\u001b[39m\u001b[36m \u001b[39m\u001b[32mIn[36]\u001b[39m\u001b[32m, line 2\u001b[39m\n\u001b[32m      1\u001b[39m \u001b[38;5;28mprint\u001b[39m(x)\n\u001b[32m----> \u001b[39m\u001b[32m2\u001b[39m \u001b[38;5;28mprint\u001b[39m(\u001b[43my\u001b[49m)\n",
      "\u001b[31mNameError\u001b[39m: name 'y' is not defined"
     ]
    }
   ],
   "source": [
    "print(x)\n",
    "print(y)"
   ]
  },
  {
   "cell_type": "code",
   "execution_count": 27,
   "id": "55a996b0-9604-45cd-a7db-d5b1d4fbdd60",
   "metadata": {},
   "outputs": [
    {
     "name": "stdout",
     "output_type": "stream",
     "text": [
      "30\n"
     ]
    }
   ],
   "source": [
    "print(x)"
   ]
  },
  {
   "cell_type": "code",
   "execution_count": 37,
   "id": "34653c5f-1033-4e47-8148-b747862e10c6",
   "metadata": {},
   "outputs": [
    {
     "name": "stdout",
     "output_type": "stream",
     "text": [
      "0\n"
     ]
    }
   ],
   "source": [
    "count = 0  # global varibale\n",
    "print(count)\n",
    "def increment():\n",
    "    global count\n",
    "    count = 10\n",
    "increment()"
   ]
  },
  {
   "cell_type": "code",
   "execution_count": 38,
   "id": "3f73af81-4216-44ae-92e5-fc03efba35a1",
   "metadata": {},
   "outputs": [
    {
     "data": {
      "text/plain": [
       "10"
      ]
     },
     "execution_count": 38,
     "metadata": {},
     "output_type": "execute_result"
    }
   ],
   "source": [
    "count"
   ]
  },
  {
   "cell_type": "code",
   "execution_count": 39,
   "id": "bdede2a9-6750-48d2-8c28-3270d52863d5",
   "metadata": {},
   "outputs": [
    {
     "ename": "TypeError",
     "evalue": "sum1() missing 1 required positional argument: 'x'",
     "output_type": "error",
     "traceback": [
      "\u001b[31m---------------------------------------------------------------------------\u001b[39m",
      "\u001b[31mTypeError\u001b[39m                                 Traceback (most recent call last)",
      "\u001b[36mCell\u001b[39m\u001b[36m \u001b[39m\u001b[32mIn[39]\u001b[39m\u001b[32m, line 7\u001b[39m\n\u001b[32m      4\u001b[39m     val = x + \u001b[32m100\u001b[39m\n\u001b[32m      5\u001b[39m     \u001b[38;5;28;01mreturn\u001b[39;00m val\n\u001b[32m----> \u001b[39m\u001b[32m7\u001b[39m \u001b[43msum1\u001b[49m\u001b[43m(\u001b[49m\u001b[43m)\u001b[49m\n",
      "\u001b[31mTypeError\u001b[39m: sum1() missing 1 required positional argument: 'x'"
     ]
    }
   ],
   "source": [
    "# default vairbale \n",
    "\n",
    "def sum1(x):\n",
    "    val = x + 100\n",
    "    return val\n",
    "\n",
    "sum1()"
   ]
  },
  {
   "cell_type": "code",
   "execution_count": 43,
   "id": "b2e2d898-0318-47df-8d08-b000eb288bb8",
   "metadata": {},
   "outputs": [
    {
     "data": {
      "text/plain": [
       "880"
      ]
     },
     "execution_count": 43,
     "metadata": {},
     "output_type": "execute_result"
    }
   ],
   "source": [
    "def sum1(x=45):  # x is a default value\n",
    "    val = x + 100\n",
    "    return val\n",
    "\n",
    "sum1(780)"
   ]
  },
  {
   "cell_type": "code",
   "execution_count": 47,
   "id": "b0e7aa92-39a2-4d25-b4d9-0d88f50edf6c",
   "metadata": {},
   "outputs": [
    {
     "name": "stdout",
     "output_type": "stream",
     "text": [
      "sum of the Natural Numbers is: 55\n"
     ]
    }
   ],
   "source": [
    "# waf to print sum of 10 natural numbers= 55\n",
    "\n",
    "\n",
    "def sumNaturalNumber(x):  # 11\n",
    "    sum1 = 0\n",
    "    for i in range(x):  # 0,10\n",
    "        sum1 = sum1+i\n",
    "        # print(i)\n",
    "    print(\"sum of the Natural Numbers is:\",sum1)\n",
    "sumNaturalNumber(11)\n"
   ]
  },
  {
   "cell_type": "code",
   "execution_count": 49,
   "id": "c8b11e10-a59f-49a1-b89c-6e222d3bfede",
   "metadata": {},
   "outputs": [
    {
     "name": "stdout",
     "output_type": "stream",
     "text": [
      "sum of the Natural Numbers is: 55\n"
     ]
    }
   ],
   "source": [
    "sum1 = 0\n",
    "for i in range(11):  # 0,10\n",
    "    sum1 = sum1+i\n",
    "print(\"sum of the Natural Numbers is:\",sum1)"
   ]
  },
  {
   "cell_type": "code",
   "execution_count": 50,
   "id": "b95a8bff-63b6-415e-96e5-249c69157930",
   "metadata": {},
   "outputs": [
    {
     "name": "stdout",
     "output_type": "stream",
     "text": [
      "sum of the Natural Numbers is: 190\n"
     ]
    }
   ],
   "source": [
    "sumNaturalNumber(20)"
   ]
  },
  {
   "cell_type": "code",
   "execution_count": 51,
   "id": "762a56cf-f1c0-4083-aca9-b2651c90781b",
   "metadata": {},
   "outputs": [
    {
     "name": "stdout",
     "output_type": "stream",
     "text": [
      "sum of the Natural Numbers is: 4950\n"
     ]
    }
   ],
   "source": [
    "sumNaturalNumber(100)"
   ]
  },
  {
   "cell_type": "code",
   "execution_count": 53,
   "id": "f65b8498-4901-44ca-9fba-bf8b4795db63",
   "metadata": {},
   "outputs": [
    {
     "name": "stdout",
     "output_type": "stream",
     "text": [
      "sum of the Natural Numbers is: 4005\n"
     ]
    }
   ],
   "source": [
    "sumNaturalNumber(90)"
   ]
  },
  {
   "cell_type": "code",
   "execution_count": 58,
   "id": "802cb6e4-942f-46f7-9327-227a7d2e7615",
   "metadata": {},
   "outputs": [
    {
     "name": "stdout",
     "output_type": "stream",
     "text": [
      "Even List is: [0, 2, 4, 6, 8, 10] = 30\n",
      "Odd List is: [1, 3, 5, 7, 9] = 25\n"
     ]
    }
   ],
   "source": [
    "# waf to sum of the value of even and odd number between 10 natural numbers.\n",
    "\n",
    "# 1,3,5,7,9 =\n",
    "# 2,4,6,8,10=\n",
    "\n",
    "def oddEvenSum():  # nullable function\n",
    "    evenList = []\n",
    "    oddList = []\n",
    "    sumEven = 0\n",
    "    sumOdd = 0\n",
    "    for i in range(11):\n",
    "        if i%2 == 0:\n",
    "            evenList.append(i)\n",
    "            # print(i)\n",
    "            sumEven = sumEven+i\n",
    "        else:\n",
    "            oddList.append(i)\n",
    "            sumOdd = sumOdd+i\n",
    "    print(\"Even List is:\",evenList,'=',sumEven)\n",
    "    print(\"Odd List is:\",oddList,'=',sumOdd)\n",
    "oddEvenSum()"
   ]
  },
  {
   "cell_type": "code",
   "execution_count": 61,
   "id": "1d33ebfb-eae3-4c99-8e73-ed778c6a5a38",
   "metadata": {},
   "outputs": [
    {
     "name": "stdout",
     "output_type": "stream",
     "text": [
      "Sum of odd numbers is 25\n"
     ]
    }
   ],
   "source": [
    "def sumOddNumber(x):\n",
    "    sum1 = 0\n",
    "    for i in range(x):\n",
    "        if i % 2 != 0:\n",
    "            sum1 = sum1 + i\n",
    "    print(\"Sum of odd numbers is\", sum1)\n",
    "sumOddNumber(10)"
   ]
  },
  {
   "cell_type": "code",
   "execution_count": 62,
   "id": "e2458490-932d-4663-bd1e-c97a7ee04be6",
   "metadata": {},
   "outputs": [
    {
     "name": "stdout",
     "output_type": "stream",
     "text": [
      "Sum of even numbers is 30\n"
     ]
    }
   ],
   "source": [
    "def sumEvenNumber(x):\n",
    "    sum2 = 0\n",
    "    for i in range(x):\n",
    "        if i % 2 == 0:\n",
    "            sum2 = sum2 + i\n",
    "    print(\"Sum of even numbers is\", sum2)\n",
    "\n",
    "\n",
    "sumEvenNumber(11)"
   ]
  },
  {
   "cell_type": "code",
   "execution_count": 67,
   "id": "1763040a-64a5-4068-ae61-f3a76901ce06",
   "metadata": {},
   "outputs": [
    {
     "name": "stdout",
     "output_type": "stream",
     "text": [
      " sum of even numbers:  30\n",
      " sum of odd numbers:  25\n"
     ]
    }
   ],
   "source": [
    "def evenNumber(x=11):\n",
    "    sum1= 0\n",
    "    sum2 = 0\n",
    "    for i in range(x):\n",
    "        if i%2==0:\n",
    "            sum1 = sum1+i\n",
    "        else:\n",
    "            sum2 = sum2+i\n",
    "    print(\" sum of even numbers: \",sum1)\n",
    "    print(\" sum of odd numbers: \",sum2)\n",
    "evenNumber()"
   ]
  },
  {
   "cell_type": "code",
   "execution_count": 1,
   "id": "77c4ad4e-b524-4f7f-b4e6-cb36a3e66509",
   "metadata": {},
   "outputs": [
    {
     "data": {
      "text/plain": [
       "'Hello,world!'"
      ]
     },
     "execution_count": 1,
     "metadata": {},
     "output_type": "execute_result"
    }
   ],
   "source": [
    "#1. Write a function to print “Hello, World!”.\n",
    "\n",
    "\n",
    "def displayHello():\n",
    "    x = \"Hello,world!\"\n",
    "    return x\n",
    "\n",
    "displayHello()"
   ]
  },
  {
   "cell_type": "code",
   "execution_count": 2,
   "id": "a7c1cd16-c8c9-4898-9093-ce6d1f0a7604",
   "metadata": {},
   "outputs": [
    {
     "data": {
      "text/plain": [
       "'Hello, World!'"
      ]
     },
     "execution_count": 2,
     "metadata": {},
     "output_type": "execute_result"
    }
   ],
   "source": [
    "def command1():\n",
    "    return \"Hello, World!\"\n",
    "\n",
    "command1()"
   ]
  },
  {
   "cell_type": "code",
   "execution_count": 4,
   "id": "8dee8a07-4b2c-46b3-b16d-02bc52a4122b",
   "metadata": {},
   "outputs": [
    {
     "data": {
      "text/plain": [
       "'Hello world'"
      ]
     },
     "execution_count": 4,
     "metadata": {},
     "output_type": "execute_result"
    }
   ],
   "source": [
    "def displayName():\n",
    "    return\"Hello world\"\n",
    "\n",
    "displayName()"
   ]
  },
  {
   "cell_type": "code",
   "execution_count": 6,
   "id": "f1a101d6-3467-422e-8e0e-5eed0ad43673",
   "metadata": {},
   "outputs": [
    {
     "name": "stdout",
     "output_type": "stream",
     "text": [
      "Welcome Sanket\n"
     ]
    }
   ],
   "source": [
    "#2. Write a function that takes a name as an argument and prints a greeting message.\n",
    "def func1(name):\n",
    "    \n",
    "    if name.isalpha():\n",
    "        print(f\"Welcome {name}\")\n",
    "    else:\n",
    "        print(\"Please enter a valid name.\")\n",
    "func1(\"Sanket\")"
   ]
  },
  {
   "cell_type": "code",
   "execution_count": 7,
   "id": "4ceceb88-b083-4c6a-aeb2-00a445f758fc",
   "metadata": {},
   "outputs": [
    {
     "data": {
      "text/plain": [
       "30"
      ]
     },
     "execution_count": 7,
     "metadata": {},
     "output_type": "execute_result"
    }
   ],
   "source": [
    "def twonumbers(x,y):\n",
    "    return x+y\n",
    "\n",
    "twonumbers(10,20)"
   ]
  },
  {
   "cell_type": "code",
   "execution_count": 8,
   "id": "94a8f444-5ac1-4256-a8c6-9855de2afc28",
   "metadata": {},
   "outputs": [
    {
     "data": {
      "text/plain": [
       "100"
      ]
     },
     "execution_count": 8,
     "metadata": {},
     "output_type": "execute_result"
    }
   ],
   "source": [
    "#4. Write a function that returns the square of a number.\n",
    "def numbersqr(x):\n",
    "    return x*x\n",
    "numbersqr(10)"
   ]
  },
  {
   "cell_type": "code",
   "execution_count": 10,
   "id": "c0cff919-8d03-4fa7-9676-bc88a6bd1e28",
   "metadata": {},
   "outputs": [
    {
     "name": "stdin",
     "output_type": "stream",
     "text": [
      "enter city name:   linesh\n"
     ]
    },
    {
     "data": {
      "text/plain": [
       "'Welcome linesh'"
      ]
     },
     "execution_count": 10,
     "metadata": {},
     "output_type": "execute_result"
    }
   ],
   "source": [
    "# Write a function that takes a name as an argument and prints a greeting message.\n",
    "cityname = input(\"enter city name:  \")\n",
    "def greetingMessage(name):\n",
    "    return \"Welcome \"+name\n",
    "\n",
    "\n",
    "\n",
    "greetingMessage(cityname)"
   ]
  },
  {
   "cell_type": "code",
   "execution_count": 11,
   "id": "95d6f8b3-e54a-498c-b6a5-04f433fff5cb",
   "metadata": {},
   "outputs": [
    {
     "name": "stdout",
     "output_type": "stream",
     "text": [
      "Entered number is an even number\n"
     ]
    }
   ],
   "source": [
    "#5. Write a function that checks whether a number is even or odd.\n",
    "def numcheck(x):\n",
    "        if x>0:\n",
    "            if x%2==0:\n",
    "                print(\"Entered number is an even number\")\n",
    "            else:\n",
    "                print(\"Entered number is an odd number\")\n",
    "        else:\n",
    "            (\"Invalid input\")\n",
    "numcheck(4)"
   ]
  },
  {
   "cell_type": "code",
   "execution_count": 14,
   "id": "c1d8cf9d-75d0-44d5-b034-1845bffc5478",
   "metadata": {},
   "outputs": [
    {
     "name": "stdin",
     "output_type": "stream",
     "text": [
      "enter any number: 10\n",
      "enter any number: 20\n"
     ]
    },
    {
     "data": {
      "text/plain": [
       "'The sum of two numbers is 10 and 20 is 30 '"
      ]
     },
     "execution_count": 14,
     "metadata": {},
     "output_type": "execute_result"
    }
   ],
   "source": [
    "#3. Write a function that takes two numbers and returns their sum.\n",
    "def numbers(x,y):\n",
    "    sum1 = num1 + num2\n",
    "    return f\"The sum of two numbers is {x} and {y} is {sum1} \"\n",
    "    \n",
    "    \n",
    "    \n",
    "num1 = int(input(\"enter any number:\"))\n",
    "num2 = int(input(\"enter any number:\"))\n",
    "numbers(num1,num2)"
   ]
  },
  {
   "cell_type": "code",
   "execution_count": 15,
   "id": "22cad6d3-d341-4648-9556-42a5823eec84",
   "metadata": {},
   "outputs": [
    {
     "data": {
      "text/plain": [
       "400"
      ]
     },
     "execution_count": 15,
     "metadata": {},
     "output_type": "execute_result"
    }
   ],
   "source": [
    "#4. Write a function that returns the square of a number.\n",
    "\n",
    "def squareNumber(x):\n",
    "    return x*x\n",
    "squareNumber(20)"
   ]
  },
  {
   "cell_type": "code",
   "execution_count": 17,
   "id": "617c7512-0f1b-471a-9410-e54dff0c7c7d",
   "metadata": {},
   "outputs": [
    {
     "name": "stdout",
     "output_type": "stream",
     "text": [
      "The number is even: 4\n"
     ]
    }
   ],
   "source": [
    "#5. Write a function that checks whether a number is even or odd.\n",
    "             \n",
    "def evenOddNumbers(x):\n",
    "    if x%2 == 0:\n",
    "         print(f\"The number is even: {x}\")\n",
    "    else:\n",
    "        print(f\"The number is Odd:{x} \")\n",
    "evenOddNumbers(4)"
   ]
  },
  {
   "cell_type": "code",
   "execution_count": 24,
   "id": "f4cfb5d4-5847-488d-88c7-975811560b5b",
   "metadata": {},
   "outputs": [
    {
     "name": "stdout",
     "output_type": "stream",
     "text": [
      "Greatest Number is: 89\n"
     ]
    }
   ],
   "source": [
    "#6. Write a function that takes a list of numbers and returns the largest number.\n",
    "\n",
    "def find_largest(numbers):\n",
    "    numbers = [10, 45, 32, 67, 22, 89, 5]\n",
    "    max_num = numbers[0] \n",
    "    \n",
    "    for num in numbers:\n",
    "        if num > max_num:\n",
    "            max_num = num\n",
    "    print(\"Greatest Number is:\",max_num)\n",
    "find_largest(numbers)"
   ]
  },
  {
   "cell_type": "code",
   "execution_count": 19,
   "id": "4145c8d7-3a2d-4252-b930-aaf1ec9be4a7",
   "metadata": {},
   "outputs": [
    {
     "data": {
      "text/plain": [
       "89"
      ]
     },
     "execution_count": 19,
     "metadata": {},
     "output_type": "execute_result"
    }
   ],
   "source": [
    "def find_largest(numbers):\n",
    "    numbers = [10, 45, 32, 67, 22, 89, 5]\n",
    "   \n",
    "    return max(numbers)\n",
    "\n",
    "find_largest(numbers)"
   ]
  },
  {
   "cell_type": "code",
   "execution_count": 20,
   "id": "7c34e06a-90dc-4c69-98a8-4b497af884c3",
   "metadata": {},
   "outputs": [
    {
     "data": {
      "text/plain": [
       "('Maximum number in the list is:', 100)"
      ]
     },
     "execution_count": 20,
     "metadata": {},
     "output_type": "execute_result"
    }
   ],
   "source": [
    "#Write a function that takes a list of numbers and returns the largest number.\n",
    "num = [1, 25, 45, 78, 98, 99, 100, 35, 87, 55, 15]\n",
    "\n",
    "def largeNumber(x):\n",
    "    maxNum = num[0]\n",
    "    for i in range(len(num)):\n",
    "        for j in range(len(num)):     \n",
    "            if num[j] > maxNum:\n",
    "                maxNum = num[j]      \n",
    "\n",
    "        return \"Maximum number in the list is:\", maxNum\n",
    "largeNumber(num)"
   ]
  },
  {
   "cell_type": "code",
   "execution_count": 25,
   "id": "4f51fae5-bb5a-4e47-b4b7-591cb3be7708",
   "metadata": {},
   "outputs": [],
   "source": [
    "# for i in iter(int, 1)"
   ]
  },
  {
   "cell_type": "code",
   "execution_count": 30,
   "id": "e090ccde-66e8-4856-9ceb-52b767d94b17",
   "metadata": {},
   "outputs": [
    {
     "data": {
      "text/plain": [
       "'The factorial of a given number is: 720'"
      ]
     },
     "execution_count": 30,
     "metadata": {},
     "output_type": "execute_result"
    }
   ],
   "source": [
    "# 5! = 1,2,3,4,5\n",
    "\n",
    "def factorial(x):\n",
    "    fact = 1\n",
    "    \n",
    "    for i in range(1,x+1):\n",
    "        fact = fact * i\n",
    "    \n",
    "    return f\"The factorial of a given number is: {fact}\"\n",
    "factorial(6)"
   ]
  },
  {
   "cell_type": "code",
   "execution_count": null,
   "id": "f4b09152-cb25-4184-aacd-ad5b586d35bc",
   "metadata": {},
   "outputs": [],
   "source": []
  }
 ],
 "metadata": {
  "kernelspec": {
   "display_name": "Python 3 (ipykernel)",
   "language": "python",
   "name": "python3"
  },
  "language_info": {
   "codemirror_mode": {
    "name": "ipython",
    "version": 3
   },
   "file_extension": ".py",
   "mimetype": "text/x-python",
   "name": "python",
   "nbconvert_exporter": "python",
   "pygments_lexer": "ipython3",
   "version": "3.13.7"
  }
 },
 "nbformat": 4,
 "nbformat_minor": 5
}
