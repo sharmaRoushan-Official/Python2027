{
 "cells": [
  {
   "cell_type": "markdown",
   "id": "ca3018a1-3d13-4e00-b8e6-ffb3a0f27db1",
   "metadata": {},
   "source": [
    "# 7. Conditions in Python\n",
    "\n"
   ]
  },
  {
   "cell_type": "code",
   "execution_count": 1,
   "id": "01c9e7e3-c8b4-4c6e-af15-bc2269d54934",
   "metadata": {},
   "outputs": [],
   "source": [
    "# Operators: Boolean- True/False\n",
    "\n",
    "# 1.Assignment Operator : =\n",
    "# 2.Identity Operator : is or is not\n",
    "# 3. Membership Operator: in or not in\n",
    "# 4. Arithematic Operator: [+,-,*,/,//,%,**]\n",
    "# 5. Relational Operator/Comparison Operator: [<,>,<=,>=,==.!=]\n",
    "# 6. Logical Operator: [AND, OR, NOT]"
   ]
  },
  {
   "cell_type": "code",
   "execution_count": 3,
   "id": "7c971888-085f-4bb1-9126-afc31b467b0e",
   "metadata": {},
   "outputs": [
    {
     "name": "stdout",
     "output_type": "stream",
     "text": [
      "True\n"
     ]
    }
   ],
   "source": [
    "ratio = 3.147\n",
    "\n",
    "print(ratio<4)  # Output: False"
   ]
  },
  {
   "cell_type": "code",
   "execution_count": 4,
   "id": "8d231b14-a582-4f75-ba04-1b4fa5be7816",
   "metadata": {},
   "outputs": [
    {
     "name": "stdout",
     "output_type": "stream",
     "text": [
      "False\n",
      "True\n"
     ]
    }
   ],
   "source": [
    "name = \"Sanket\"  # smallest: A:65+26 = 91\n",
    "name1 = \"sanket\" # a:97+26 = 123\n",
    "\n",
    "print(name>name1) # False\n",
    "print(name<name1) # True"
   ]
  },
  {
   "cell_type": "code",
   "execution_count": 6,
   "id": "673b9ee2-1eac-4912-867f-1d4ff87e04ea",
   "metadata": {},
   "outputs": [
    {
     "data": {
      "text/plain": [
       "65"
      ]
     },
     "execution_count": 6,
     "metadata": {},
     "output_type": "execute_result"
    }
   ],
   "source": [
    "ord(\"A\")"
   ]
  },
  {
   "cell_type": "code",
   "execution_count": 7,
   "id": "adb92aee-09fa-4ef4-a265-ffb2c134435f",
   "metadata": {},
   "outputs": [
    {
     "data": {
      "text/plain": [
       "90"
      ]
     },
     "execution_count": 7,
     "metadata": {},
     "output_type": "execute_result"
    }
   ],
   "source": [
    "ord(\"Z\")"
   ]
  },
  {
   "cell_type": "code",
   "execution_count": 8,
   "id": "6c11d620-1ce0-46d9-90c1-db7b0ca7d72a",
   "metadata": {},
   "outputs": [
    {
     "data": {
      "text/plain": [
       "97"
      ]
     },
     "execution_count": 8,
     "metadata": {},
     "output_type": "execute_result"
    }
   ],
   "source": [
    "ord('a')"
   ]
  },
  {
   "cell_type": "code",
   "execution_count": 9,
   "id": "e049fb2e-6048-4381-8880-70570c15ca02",
   "metadata": {},
   "outputs": [
    {
     "data": {
      "text/plain": [
       "122"
      ]
     },
     "execution_count": 9,
     "metadata": {},
     "output_type": "execute_result"
    }
   ],
   "source": [
    "ord('z')"
   ]
  },
  {
   "cell_type": "code",
   "execution_count": 10,
   "id": "82818a43-cd59-41a7-98c7-de0ea18aa76d",
   "metadata": {},
   "outputs": [
    {
     "name": "stdout",
     "output_type": "stream",
     "text": [
      "True\n"
     ]
    }
   ],
   "source": [
    "print('a'>'A')"
   ]
  },
  {
   "cell_type": "code",
   "execution_count": 11,
   "id": "8227e156-2429-4146-aae2-eed3fee9f250",
   "metadata": {},
   "outputs": [
    {
     "name": "stdout",
     "output_type": "stream",
     "text": [
      "False\n"
     ]
    }
   ],
   "source": [
    "print('A'>'a')"
   ]
  },
  {
   "cell_type": "markdown",
   "id": "2c28259d-29f3-443d-8219-c25a087e61fd",
   "metadata": {},
   "source": [
    "# Branching (if,elif,else)\n",
    "\n",
    " * __Decision making is required when we wanto to execute a code only if a certain condition is satisfied.__\n",
    " * __The if/elif/else statement is used in Python for decision making.__\n",
    " * __An else statement can be combined with if statement.__\n",
    " * __An else statement conatins the block of code that is executes if the conditional expression in the first statement resolves to 0 or a False value.__\n",
    " * __The else statement is an optional statement and there could be at most only one else statement following if.__\n",
    " * __The elif statement allows you to check multiple expression for True and execute a block of code as soon as one of the condition evaluates to True.__\n",
    " * __Similar to the else, the elif statement is optional.__"
   ]
  },
  {
   "cell_type": "code",
   "execution_count": 18,
   "id": "5fb242b0-7515-49b6-b51e-a5516e3fbca1",
   "metadata": {},
   "outputs": [
    {
     "name": "stdout",
     "output_type": "stream",
     "text": [
      "You can go to primary schoool\n"
     ]
    }
   ],
   "source": [
    "age = 5\n",
    "\n",
    "\n",
    "if age<6:  # True,False\n",
    "    print(\"You can go to primary schoool\")"
   ]
  },
  {
   "cell_type": "code",
   "execution_count": 19,
   "id": "1121a68d-a187-477f-a2a9-2d2126139c92",
   "metadata": {},
   "outputs": [
    {
     "data": {
      "text/plain": [
       "True"
      ]
     },
     "execution_count": 19,
     "metadata": {},
     "output_type": "execute_result"
    }
   ],
   "source": [
    "age<6"
   ]
  },
  {
   "cell_type": "code",
   "execution_count": 24,
   "id": "bbbd7614-3061-4c6e-b59c-5171609b70c5",
   "metadata": {},
   "outputs": [
    {
     "name": "stdout",
     "output_type": "stream",
     "text": [
      "You should go to kindergarten\n"
     ]
    }
   ],
   "source": [
    "age = 5  # 5 == 5\n",
    "\n",
    "\n",
    "if age>6:  # True,False\n",
    "    print(\"You can go to primary schoool\")\n",
    "\n",
    "elif age == 5:\n",
    "    print(\"You should go to kindergarten\")\n",
    "    \n",
    "else:\n",
    "    print(\"You are a baby\")"
   ]
  },
  {
   "cell_type": "code",
   "execution_count": 22,
   "id": "7e3d0c72-096d-49ff-b90f-eefc799baf21",
   "metadata": {},
   "outputs": [
    {
     "data": {
      "text/plain": [
       "False"
      ]
     },
     "execution_count": 22,
     "metadata": {},
     "output_type": "execute_result"
    }
   ],
   "source": [
    "# wap to check the citizen age criteria to cast voting or not.\n",
    "# age> 18 , age == 18"
   ]
  },
  {
   "cell_type": "code",
   "execution_count": 28,
   "id": "043e5dd3-7f7e-4f27-9a4e-cb371b529738",
   "metadata": {},
   "outputs": [
    {
     "name": "stdout",
     "output_type": "stream",
     "text": [
      "You are a teenager\n"
     ]
    }
   ],
   "source": [
    "age = 17\n",
    "\n",
    "if age>18:\n",
    "    print(\"You are eligible to cast vote\")\n",
    "elif age==18:\n",
    "    print(\"You are eligible to cast vote\")\n",
    "else:\n",
    "    print(\"You are a teenager\")"
   ]
  },
  {
   "cell_type": "code",
   "execution_count": 30,
   "id": "717da587-61ac-4eac-b571-6d509f5663ab",
   "metadata": {},
   "outputs": [],
   "source": [
    "age = 17\n",
    "if age>=18:\n",
    "    print(\"You are eligible for Voting\")\n",
    "else:\n",
    "    print(\"You are not elegible for voting\")"
   ]
  },
  {
   "cell_type": "code",
   "execution_count": 34,
   "id": "e28d790f-5d4e-4505-a197-a39fab308090",
   "metadata": {},
   "outputs": [
    {
     "name": "stdin",
     "output_type": "stream",
     "text": [
      "enter your age: 18\n"
     ]
    },
    {
     "name": "stdout",
     "output_type": "stream",
     "text": [
      "you are eligible for voting\n"
     ]
    }
   ],
   "source": [
    "age = int(input(\"enter your age:\"))\n",
    "if age>18:\n",
    "    print(\"You are not eligible for voting\")\n",
    "elif age == 18:\n",
    "    print(\"you are eligible for voting\")\n",
    "else:\n",
    "    print(\"apply for voting card after 18\")"
   ]
  },
  {
   "cell_type": "code",
   "execution_count": 35,
   "id": "500b7663-a1c8-4d17-9dbb-56135d1dbac8",
   "metadata": {},
   "outputs": [
    {
     "name": "stdin",
     "output_type": "stream",
     "text": [
      "enter a num 1 to 7: 1\n"
     ]
    },
    {
     "name": "stdout",
     "output_type": "stream",
     "text": [
      "Monday\n"
     ]
    }
   ],
   "source": [
    "# Wap to take number from user 1-8 and display 1-Monday, 2-Tuesday, 3-Wednesday........8-Sunday, 9- Weekday not found.\n",
    "\n",
    "num = int(input(\"enter a num 1 to 7:\"))\n",
    "if num>8:\n",
    "    print(\"Weekday not found\")\n",
    "elif num == 1:\n",
    "    print(\"Monday\")\n",
    "elif num == 2:\n",
    "    print(\"Tuesday\")\n",
    "elif num == 3:\n",
    "    print(\"Wednesday\")\n",
    "elif num == 4:\n",
    "    print(\"Thursday\")\n",
    "elif num == 5:\n",
    "    print(\"Friday\")\n",
    "elif num == 6:\n",
    "    print(\"Saturday\")\n",
    "elif num == 7:\n",
    "    print(\"Sunday\")\n",
    "else:\n",
    "    print(\"Weekday not found\")"
   ]
  },
  {
   "cell_type": "code",
   "execution_count": 41,
   "id": "764ea329-9e31-43e8-bd32-ee4fe0561291",
   "metadata": {},
   "outputs": [
    {
     "name": "stdin",
     "output_type": "stream",
     "text": [
      "enter weekday number: 9\n"
     ]
    },
    {
     "name": "stdout",
     "output_type": "stream",
     "text": [
      "9 Weekday is not found\n"
     ]
    }
   ],
   "source": [
    "user = int(input(\"enter weekday number:\"))\n",
    "if user == 1:\n",
    "    print(\"1 for Monday\")\n",
    "elif user == 2:\n",
    "    print(\"2 for Tuesday\")\n",
    "elif user == 3:\n",
    "    print(\"3 for Wednesday\")\n",
    "elif user == 4:\n",
    "    print(\"4 for thrusday\")\n",
    "elif user==5:\n",
    "    print(\"5 for Friday\")\n",
    "elif user==6:\n",
    "    print(\"6 for Saturday\")\n",
    "elif user==7:\n",
    "    print(f\"{user} for Sunday\")\n",
    "else:\n",
    "    print(f\"{user} Weekday is not found\")"
   ]
  },
  {
   "cell_type": "code",
   "execution_count": 42,
   "id": "e462a9ae-7f0e-49ec-bda6-d0944724dff4",
   "metadata": {},
   "outputs": [
    {
     "name": "stdin",
     "output_type": "stream",
     "text": [
      "enter a num 1 to 12: 2\n"
     ]
    },
    {
     "name": "stdout",
     "output_type": "stream",
     "text": [
      "February\n"
     ]
    }
   ],
   "source": [
    "# Month name : - 1-12 - 1-january, 12-December: 13-Monthname not found.\n",
    "\n",
    "num = int(input(\"enter a num 1 to 12:\"))\n",
    "if num==1:\n",
    "    print(\"January\")\n",
    "elif num == 2:\n",
    "    print(\"February\")\n",
    "elif num == 3:\n",
    "    print(\"March\")\n",
    "elif num == 4:\n",
    "    print(\"April\")\n",
    "elif num == 5:\n",
    "    print(\"May\")\n",
    "elif num == 6:\n",
    "    print(\"June\")\n",
    "elif num == 7:\n",
    "    print(\"July\")\n",
    "elif num == 8:\n",
    "    print(\"August\")\n",
    "elif num == 9:\n",
    "    print(\"September\")\n",
    "elif num == 10:\n",
    "    print(\"October\")\n",
    "elif num == 11:\n",
    "    print(\"November\")\n",
    "elif num == 12:\n",
    "    print(\"December\")\n",
    "else:\n",
    "    print(\"Monthname not found\")"
   ]
  },
  {
   "cell_type": "code",
   "execution_count": 43,
   "id": "fe516a73-f3ef-4c00-a59c-4130166e60d4",
   "metadata": {},
   "outputs": [
    {
     "name": "stdin",
     "output_type": "stream",
     "text": [
      "enter a num 1 to 12 5\n"
     ]
    },
    {
     "name": "stdout",
     "output_type": "stream",
     "text": [
      "for May\n"
     ]
    }
   ],
   "source": [
    "num = int(input(\"enter a num 1 to 12\"))\n",
    "if num == 1:\n",
    "    print(\"for January\")\n",
    "elif num == 2:\n",
    "    print(\"for February\")\n",
    "elif num == 3:\n",
    "    print(\"for March\")\n",
    "elif num == 4:\n",
    "    print(\"for April\")\n",
    "elif num == 5:\n",
    "    print(\"for May\")\n",
    "elif num == 6:\n",
    "    print(\"for June\")\n",
    "elif num == 7:\n",
    "    print(\"for July\")\n",
    "elif num == 8:\n",
    "    print(\"for Auguest\")\n",
    "elif num == 9:\n",
    "    print(\"for September\")\n",
    "elif num == 10:\n",
    "    print(\"for October\")\n",
    "elif num == 11:\n",
    "    print(\"for November\")\n",
    "elif num == 12:\n",
    "    print(\"for December\")\n",
    "else:\n",
    "    print(\"Month not found\")"
   ]
  },
  {
   "cell_type": "code",
   "execution_count": 48,
   "id": "81d6381c-3f90-461b-9064-ae66ccd97b05",
   "metadata": {},
   "outputs": [
    {
     "name": "stdin",
     "output_type": "stream",
     "text": [
      "Enter any value 3\n"
     ]
    },
    {
     "name": "stdout",
     "output_type": "stream",
     "text": [
      "3 is Odd Number\n"
     ]
    }
   ],
   "source": [
    "# Write a code find odd or even.\n",
    "\n",
    "num = int(input(\"Enter any value\"))  \n",
    "\n",
    "if num%2==0:\n",
    "    print(f\"{num} is Even Number\")\n",
    "else:\n",
    "    print(f\"{num} is Odd Number\")\n"
   ]
  },
  {
   "cell_type": "code",
   "execution_count": 44,
   "id": "c757bf93-b153-49a0-bdeb-53658c86471f",
   "metadata": {},
   "outputs": [
    {
     "data": {
      "text/plain": [
       "1"
      ]
     },
     "execution_count": 44,
     "metadata": {},
     "output_type": "execute_result"
    }
   ],
   "source": [
    "# % ---> It return mainder value\n",
    "3%2"
   ]
  },
  {
   "cell_type": "code",
   "execution_count": 45,
   "id": "d08596da-a69e-4500-9bb1-55092d4fbb3a",
   "metadata": {},
   "outputs": [
    {
     "data": {
      "text/plain": [
       "0"
      ]
     },
     "execution_count": 45,
     "metadata": {},
     "output_type": "execute_result"
    }
   ],
   "source": [
    "2%2"
   ]
  },
  {
   "cell_type": "code",
   "execution_count": 49,
   "id": "5995c7f6-2e34-429e-9e42-e6e9cd2c95fd",
   "metadata": {},
   "outputs": [
    {
     "data": {
      "text/plain": [
       "1"
      ]
     },
     "execution_count": 49,
     "metadata": {},
     "output_type": "execute_result"
    }
   ],
   "source": [
    "# pythonBasic\n",
    "# string\n",
    "# list\n",
    "\n",
    "# 3\n",
    "\n",
    "# set\n",
    "num%2"
   ]
  },
  {
   "cell_type": "code",
   "execution_count": 60,
   "id": "b1cd1c02-dd83-4cef-b085-fe992f66c0b7",
   "metadata": {},
   "outputs": [
    {
     "name": "stdin",
     "output_type": "stream",
     "text": [
      "Enter any value:  21\n"
     ]
    },
    {
     "name": "stdout",
     "output_type": "stream",
     "text": [
      "21 is divisible by only 3 not 2\n"
     ]
    }
   ],
   "source": [
    "# wap to take a number from user, and check this number is divisible by 2 and 3 or not.?\n",
    "\n",
    "# num = 3\n",
    "# print('{3} is divisible by 3 only not 2')\n",
    "\n",
    "num = int(input(\"Enter any value: \"))\n",
    "\n",
    "if num%2 == 0  and num%3==0:\n",
    "    print(f\"{num} is divisible by both of them 2 and 3\")\n",
    "elif num%2==0 and num%3!=0:\n",
    "    print(f\"{num} is divisible by only 2 not 3\")\n",
    "elif num%2!=0 and num%3==0:\n",
    "    print(f\"{num} is divisible by only 3 not 2\")\n",
    "elif num%2!=0 and num%3!=0:\n",
    "    print(f\"{num} is not divisible by both of them 2 and 3\")\n",
    "else:\n",
    "    print(\"Invalid Number\")"
   ]
  },
  {
   "cell_type": "code",
   "execution_count": 54,
   "id": "37a07186-8435-472c-b721-bd5d4b10fcd7",
   "metadata": {},
   "outputs": [
    {
     "data": {
      "text/plain": [
       "True"
      ]
     },
     "execution_count": 54,
     "metadata": {},
     "output_type": "execute_result"
    }
   ],
   "source": [
    "num%2 == 0"
   ]
  },
  {
   "cell_type": "code",
   "execution_count": 55,
   "id": "b6e60ae7-e8b5-4fd5-95e7-42746d1f77f8",
   "metadata": {},
   "outputs": [
    {
     "data": {
      "text/plain": [
       "True"
      ]
     },
     "execution_count": 55,
     "metadata": {},
     "output_type": "execute_result"
    }
   ],
   "source": [
    "num%3==0"
   ]
  },
  {
   "cell_type": "code",
   "execution_count": 11,
   "id": "35e32a00-9504-40f7-9813-1c0444ff725b",
   "metadata": {},
   "outputs": [
    {
     "name": "stdin",
     "output_type": "stream",
     "text": [
      "Enter City Name:  DELhi\n"
     ]
    },
    {
     "name": "stdout",
     "output_type": "stream",
     "text": [
      "Monuments: RedFort, QutubMinar, LotusTemple\n"
     ]
    }
   ],
   "source": [
    "# 1. Accepts any city and display their Monuments.\n",
    "\n",
    "# cityName-------------------> Monument\n",
    "\n",
    "# \"Delhi\"--------------------> ['Redfort','QutubMinar','LotusTemple']\n",
    "# Agra-----------------------> \"TajMahal\"\n",
    "# Jaipur---------------------> \"HawaMahal/JalMahal\"\n",
    "# Amritsar-------------------> \"GoldenTemple,Jalliawalabagh\"\n",
    "# Madurai--------------------> \"Meenakshi Temple\"\n",
    "# Mysore---------------------> \"Mysore palace\"\n",
    "# Mumbai --------------------> \"Gateway of India\"\n",
    "# Sanchi---------------------> \"Sanchi Stupa\"\n",
    "# Hydrabad-------------------> \"Charminar\"\n",
    "# Gujarat -------------------> \"Statue of Unity\"\n",
    "\n",
    "\n",
    "city1 = str(input(\"Enter City Name: \"))\n",
    "\n",
    "city = city.lower()\n",
    "if city == \"delhi\":\n",
    "    print(\"Monuments: RedFort, QutubMinar, LotusTemple\")\n",
    "\n",
    "elif city == \"agra\":\n",
    "    print(\"Monument: TajMahal\")\n",
    "\n",
    "elif city == \"jaipur\":\n",
    "    print(\"Monuments: HawaMahal, JalMahal\")\n",
    "\n",
    "elif city == \"amritsar\":\n",
    "    print(\"Monuments: GoldenTemple, JallianwalaBagh\")\n",
    "\n",
    "elif city == \"madurai\":\n",
    "    print(\"Monument: Meenakshi Temple\")\n",
    "\n",
    "elif city == \"mysore\":\n",
    "    print(\"Monument: Mysore Palace\")\n",
    "\n",
    "elif city == \"mumbai\":\n",
    "    print(\"Monument: Gateway of India\")\n",
    "    \n",
    "elif city == \"sanchi\":\n",
    "    print(\"Monument: Sanchi Stupa\")\n",
    "\n",
    "elif city == \"hydrabad\":\n",
    "    print(\"Monument: Charminar\")\n",
    "\n",
    "elif city == \"gujarat\":\n",
    "    print(\"Monument: Statue of Unity\")\n",
    "\n",
    "else:\n",
    "    print(\"city not found.\")"
   ]
  },
  {
   "cell_type": "code",
   "execution_count": 8,
   "id": "9841cc83-9a3d-49cf-8e26-d418a022e571",
   "metadata": {},
   "outputs": [
    {
     "name": "stdin",
     "output_type": "stream",
     "text": [
      "enter city name: delhi\n"
     ]
    },
    {
     "name": "stdout",
     "output_type": "stream",
     "text": [
      "Delhi represents the monument ['Redfort','QutubMinar','LotusTemple']\n"
     ]
    }
   ],
   "source": [
    "city1 = str(input(\"enter city name:\"))\n",
    "\n",
    "city = city1.capitalize()\n",
    "if city == \"Delhi\":  # capitalize() string\n",
    "    print(f\"{city} represents the monument ['Redfort','QutubMinar','LotusTemple']\")\n",
    "elif city == \"Agra\":\n",
    "     print(f\"{city} represents the monument 'TajMahal'\")\n",
    "elif city == \"Jaipur\":\n",
    "     print(f\"{city} represents the monument 'HawaMahal/JalMahal'\")\n",
    "elif city == \"Amritsar\":\n",
    "     print(f\"{city} represents the monument 'GoldenTemple,Jalliawalabagh'\")\n",
    "elif city == \"Madurai\":\n",
    "     print(f\"{city} represents the monument 'Meenakshi Temple'\")\n",
    "elif city == \"Mysore\":\n",
    "     print(f\"{city} represents the monument 'Mysore palace'\")\n",
    "elif city == \"Mumbai\":\n",
    "     print(f\"{city} represents the monument 'Gateway of India'\")\n",
    "elif city == \"Sanchi\":\n",
    "     print(f\"{city} represents the monument 'Sanchi Stupa'\")\n",
    "elif city == \"Hyderabad\":\n",
    "     print(f\"{city} represents the monument 'Charminar'\")\n",
    "elif city == \"Gujarat\":\n",
    "     print(f\"{city} represents the monument 'Statue of Unity'\")\n",
    "else:\n",
    "    print(f\"{city} is invalid\")"
   ]
  },
  {
   "cell_type": "code",
   "execution_count": 12,
   "id": "4c597240-506f-4f2f-a8e6-7d04e3cc6103",
   "metadata": {},
   "outputs": [
    {
     "name": "stdin",
     "output_type": "stream",
     "text": [
      "Enter the purchase amount:  10000\n"
     ]
    },
    {
     "name": "stdout",
     "output_type": "stream",
     "text": [
      "Discount applied: 20%\n",
      "Total amount after discount: 8000.0\n"
     ]
    }
   ],
   "source": [
    "# A shop wil give you discount of 20%, if the cost of purchased is more than 2000, \n",
    "# and if purchased amount will be 1000 more than then it will discount 10%, \n",
    "# And if purchased amout is less than 1000- \"No discount\" \n",
    "# as well print how much need more shopping amount will to get minimum discount.\n",
    "\n",
    "# 999 Alert: 1 - 10%\n",
    "\n",
    "amount = float(input(\"Enter the purchase amount: \"))\n",
    "\n",
    "if amount > 2000:\n",
    "    discount = 0.20\n",
    "elif amount > 1000:\n",
    "    discount = 0.10\n",
    "else:\n",
    "    discount = 0.0\n",
    "\n",
    "discounted_price = amount * (1 - discount)\n",
    "\n",
    "if discount == 0.0:\n",
    "    more_needed = 1000 - amount\n",
    "    print(f\"No discount. You need to shop {more_needed} more to get minimum discount.\")\n",
    "else:\n",
    "    print(f\"Discount applied: {int(discount * 100)}%\")\n",
    "\n",
    "print(f\"Total amount after discount: {discounted_price}\")"
   ]
  },
  {
   "cell_type": "code",
   "execution_count": 15,
   "id": "ab228165-c9b8-4b3b-9fc6-090c88952021",
   "metadata": {},
   "outputs": [
    {
     "name": "stdin",
     "output_type": "stream",
     "text": [
      "Enter the purchase amount:  2000\n"
     ]
    },
    {
     "name": "stdout",
     "output_type": "stream",
     "text": [
      "got 10% discount\n",
      "Discount Amount= 200.0\n",
      "Total Amount= 1800.0\n"
     ]
    }
   ],
   "source": [
    "# A shop wil give you discount of 20%, if the cost of purchased is more than 2000, \n",
    "# and if purchased amount will be 1000 more than then it will discount 10%, \n",
    "# And if purchased amout is less than 1000- \"No discount\" \n",
    "# as well print how much need more shopping amount will to get minimum discount.\n",
    "\n",
    "# 999 Alert: 1 - 10%\n",
    "\n",
    "amount = float(input(\"Enter the purchase amount: \"))\n",
    "\n",
    "if amount > 2000:\n",
    "    discount = amount*20/100\n",
    "    print(\"got 20% discount\")\n",
    "    total = amount - discount\n",
    "    print(\"Discount Amount=\", discount)\n",
    "    print(\"Total Amount=\", total)\n",
    "\n",
    "elif amount > 1000:  #for greaterthan 1000\n",
    "    discount = amount*10/100\n",
    "    print(\"got 10% discount\")\n",
    "    total = amount - discount\n",
    "    print(\"Discount Amount=\", discount)\n",
    "    print(\"Total Amount=\", total)\n",
    "\n",
    "elif amount < 1000: #for less than 1000\n",
    "    print(\"No discount available\")"
   ]
  },
  {
   "cell_type": "code",
   "execution_count": 26,
   "id": "a6df81ae-67bf-41e3-b35e-7a5cc993af84",
   "metadata": {},
   "outputs": [
    {
     "name": "stdin",
     "output_type": "stream",
     "text": [
      "Enter total shopping amount ₹:  484.6565\n"
     ]
    },
    {
     "name": "stdout",
     "output_type": "stream",
     "text": [
      "==============================================\n",
      "Total Shopping Amount ₹: 484.6565\n",
      "Discounted Amount: 0%\n",
      "Total discount ₹: 0.0\n",
      "Total Amount to pay ₹: 484.6565\n",
      "If you wanto to getn 10% discount then you need more to shop ₹: 515.3435\n"
     ]
    }
   ],
   "source": [
    "# A shop wil give you discount of 20%, if the cost of purchased is more than 2000, \n",
    "# and if purchased amount will be 1000 more than then it will discount 10%, \n",
    "# And if purchased amout is less than 1000- \"No discount\" \n",
    "# as well print how much need more shopping amount will to get minimum discount.\n",
    "\n",
    "# 999 Alert: 1 - 10%\n",
    "\n",
    "\n",
    "amount = float(input(\"Enter total shopping amount ₹: \"))\n",
    "print(\"==============================================\")\n",
    "if amount>=2000:\n",
    "    dis = \"20%\"\n",
    "    discountAmount = (amount*20)/100\n",
    "    # print(discountAmount)\n",
    "    totalAmount = amount-discountAmount\n",
    "    print(f\"Total Shopping Amount ₹: {amount}\\nDiscounted Amount: {dis}\\nTotal discount ₹: {discountAmount}\\nTotal Amount to pay ₹: {totalAmount}\")\n",
    "elif amount>=1000 and amount<2000:  # 1995\n",
    "    dis = \"10%\"\n",
    "    discountAmount = (amount*10)/100\n",
    "    # print(discountAmount)\n",
    "    totalAmount = amount-discountAmount\n",
    "    print(f\"Total Shopping Amount ₹: {amount}\\nDiscounted Amount: {dis}\\nTotal discount ₹: {discountAmount}\\nTotal Amount to pay ₹: {totalAmount}\")\n",
    "else:\n",
    "    dis = \"0%\"\n",
    "    discountAmount = (amount*0)/100\n",
    "    # print(discountAmount)\n",
    "    totalAmount = amount-discountAmount\n",
    "    needAmount = 1000 - amount\n",
    "    print(f\"Total Shopping Amount ₹: {amount}\\nDiscounted Amount: {dis}\\nTotal discount ₹: {discountAmount}\\nTotal Amount to pay ₹: {totalAmount}\")\n",
    "    print(f\"If you wanto to getn 10% discount then you need more to shop ₹: {needAmount}\")\n",
    "    "
   ]
  },
  {
   "cell_type": "code",
   "execution_count": 27,
   "id": "b90fc626-2d62-43a0-b915-148a3122fc0f",
   "metadata": {},
   "outputs": [
    {
     "data": {
      "text/plain": [
       "100.0"
      ]
     },
     "execution_count": 27,
     "metadata": {},
     "output_type": "execute_result"
    }
   ],
   "source": [
    "# 3.A compay will decided to give bonus to the employee according to the following criteria:\n",
    "# Time period of the service -------------------> Bonus\n",
    "# More then 10 Years ---------------------------> 10%\n",
    "# >=6 and <=10 ---------------------------------> 8%\n",
    "# <6 -------------------------------------------> 5%\n",
    "# Ask the user for their salary and yers of service and then calcualte the bonus amount is, \n",
    "# and display the total salary after increment of bonus.\n",
    "\n",
    "salary = int(input(\"enter the salary:\"))\n",
    "yos = int(input(\"enter the yos in years:\"))\n",
    "\n",
    "if yos>10:\n",
    "    bonus = 0.10\n",
    "elif yos>=6 and yos<=10:\n",
    "    bonus = 0.08\n",
    "elif yos<6:\n",
    "    bonus = 0.05\n",
    "else:\n",
    "    bonus = 0.0\n",
    "\n",
    "bonus_amount = salary * bonus\n",
    "print(f\"Total bonus amount is {bonus_amount}\")\n",
    "\n",
    "total_salary = salary * (1 + bonus)\n",
    "print(f\"Total salary of the employee is {total_salary}\")"
   ]
  },
  {
   "cell_type": "code",
   "execution_count": 28,
   "id": "2c172cd8-5ef2-44fb-84e7-8c91ceeba9e6",
   "metadata": {},
   "outputs": [
    {
     "name": "stdin",
     "output_type": "stream",
     "text": [
      "Enter the salary amount:  8000\n",
      "Enter Years of service:  5\n"
     ]
    },
    {
     "name": "stdout",
     "output_type": "stream",
     "text": [
      "total salary after increment: 8400.0\n",
      "bonus %: 5%\n",
      "total salary received:8400.0\n"
     ]
    }
   ],
   "source": [
    "\n",
    "salary =  float(input(\"Enter the salary amount: \"))\n",
    "service = int(input(\"Enter Years of service: \"))\n",
    "\n",
    "if service >= 10:\n",
    "    bonus = salary * 10/100\n",
    "    Bonus_in_percent = \"10%\"\n",
    "    total_salary = bonus + salary\n",
    "    print(f\"total salary after increment: {total_salary}\\nbonus %: {Bonus_in_percent}\\ntotal salary received:{total_salary}\")\n",
    "\n",
    "elif service>=6 and service<=10:\n",
    "    bonus = salary * 8/100\n",
    "    Bonus_in_percent = \"8%\"\n",
    "    total_salary = bonus + salary\n",
    "    print(f\"total salary after increment: {total_salary}\\nbonus %: {Bonus_in_percent}\\ntotal salary received:{total_salary}\")\n",
    "\n",
    "elif service <= 6:\n",
    "    bonus = salary * 5/100\n",
    "    Bonus_in_percent = \"5%\"\n",
    "    total_salary = bonus + salary\n",
    "    print(f\"total salary after increment: {total_salary}\\nbonus %: {Bonus_in_percent}\\ntotal salary received:{total_salary}\")"
   ]
  },
  {
   "cell_type": "code",
   "execution_count": 40,
   "id": "600710b4-5811-4ee5-a2f8-ed4cd981aec3",
   "metadata": {},
   "outputs": [
    {
     "name": "stdin",
     "output_type": "stream",
     "text": [
      "Enter the salary amount:  78000\n",
      "Enter Years of service:  10\n"
     ]
    },
    {
     "name": "stdout",
     "output_type": "stream",
     "text": [
      "total salary after increment: 85800.0\n",
      "bonus %: 10%\n",
      "total salary received:85800.0\n"
     ]
    }
   ],
   "source": [
    "salary =  float(input(\"Enter the salary amount: \"))\n",
    "service = int(input(\"Enter Years of service: \"))\n",
    "\n",
    "if salary>0:\n",
    "    if service>0 and service<=60:\n",
    "        if service >= 10:\n",
    "            bonus = (salary * 10)/100\n",
    "            Bonus_in_percent = \"10%\"\n",
    "            total_salary = bonus + salary\n",
    "            print(f\"total salary after increment: {total_salary}\\nbonus %: {Bonus_in_percent}\\ntotal salary received:{total_salary}\")\n",
    "        \n",
    "        elif service>=6 and service<10:\n",
    "            bonus = (salary * 8)/100\n",
    "            Bonus_in_percent = \"8%\"\n",
    "            total_salary = bonus + salary\n",
    "            print(f\"total salary after increment: {total_salary}\\nbonus %: {Bonus_in_percent}\\ntotal salary received:{total_salary}\")\n",
    "        \n",
    "        elif service < 6:\n",
    "            bonus = (salary * 5)/100\n",
    "            bonus_amount = total_salary - bonus\n",
    "            Bonus_in_percent = \"5%\"\n",
    "            total_salary = bonus + salary\n",
    "            print(f\"total salary after increment: {total_salary}\\nbonus %: {Bonus_in_percent}\\ntotal salary received:{total_salary}\")\n",
    "    else:\n",
    "        print(f\"Service period is not greater than 60 years.\")\n",
    "else:\n",
    "    print(f\"Salary Should be positive value.\")"
   ]
  },
  {
   "cell_type": "code",
   "execution_count": 41,
   "id": "67c39aa5-0e91-41a0-923c-7154229fa510",
   "metadata": {},
   "outputs": [
    {
     "name": "stdin",
     "output_type": "stream",
     "text": [
      "enter the cost price: 12\n"
     ]
    },
    {
     "name": "stdout",
     "output_type": "stream",
     "text": [
      "Road tax to be paid is:0.96\n"
     ]
    }
   ],
   "source": [
    "# 4. Write a program to accept the cost price of a bike and display the road tax to be paid \n",
    "# according to the following criteria:\n",
    "# Cost price of bike (in RS) ------------ Tax:\n",
    "# >100000 -------------------------------> 15%\n",
    "# >50000 and <=100000---------------------> 10%\n",
    "# <50000 --------------------------------> 8%\n",
    "\n",
    "\n",
    "cost_price = int(input(\"enter the cost price:\"))\n",
    "\n",
    "if cost_price>100000:\n",
    "    tax = \"15%\"\n",
    "    tax_amount = (cost_price*15)/100\n",
    "    print(f\"Road tax to be paid is:{tax_amount}\")\n",
    "elif cost_price>50000 and cost_price<=100000:\n",
    "    tax = \"10%\"\n",
    "    tax_amount = (cost_price*10)/100\n",
    "    print(f\"Road tax to be paid is:{tax_amount}\")\n",
    "elif cost_price<50000:\n",
    "    tax = \"8%\"\n",
    "    tax_amount = (cost_price*8)/100\n",
    "    print(f\"Road tax to be paid is:{tax_amount}\")\n",
    "else:\n",
    "    print(f\"Invalid amount\")"
   ]
  },
  {
   "cell_type": "code",
   "execution_count": 42,
   "id": "ed060c3f-aac5-4e65-9697-b5a0d7a41c9c",
   "metadata": {},
   "outputs": [
    {
     "name": "stdin",
     "output_type": "stream",
     "text": [
      "Enter the cost price of the bike(in RS):  78000\n"
     ]
    },
    {
     "name": "stdout",
     "output_type": "stream",
     "text": [
      "Road Tax to be paid: 7800.0\n",
      "Total Bike cost: 85800.0\n",
      "Total Tax Amount(₹):7800.0\n"
     ]
    }
   ],
   "source": [
    "Bikecost = int(input(\"Enter the cost price of the bike(in RS): \"))\n",
    "\n",
    "if Bikecost > 100000:\n",
    "    tax = (Bikecost * 15)/100\n",
    "    Percent_of_tax = \"15%\"\n",
    "    totalcost = Bikecost + tax\n",
    "    tax_amount = tax\n",
    "    print(f\"Road Tax to be paid: {tax_amount}\\nTotal Bike cost: {totalcost}\\nTotal Tax Amount(₹):{tax_amount}\")\n",
    "    \n",
    "\n",
    "elif Bikecost>50000 and Bikecost<= 100000:\n",
    "    tax = (Bikecost * 10)/100\n",
    "    Percent_of_tax = \"10%\"\n",
    "    totalcost = Bikecost + tax\n",
    "    tax_amount = tax\n",
    "    print(f\"Road Tax to be paid: {tax_amount}\\nTotal Bike cost: {totalcost}\\nTotal Tax Amount(₹):{tax_amount}\")\n",
    "\n",
    "elif Bikecost < 50000:\n",
    "    tax = (Bikecost * 8)/100\n",
    "    Percent_of_tax = \"8%\"\n",
    "    totalcost = Bikecost + tax\n",
    "    tax_amount = tax\n",
    "    print(f\"Road Tax to be paid: {tax_amount}\\nTotal Bike cost: {totalcost}\\nTotal Tax Amount(₹):{tax_amount}\")"
   ]
  },
  {
   "cell_type": "code",
   "execution_count": 44,
   "id": "9944edfd-5893-4d2b-aff3-ac37833b5e65",
   "metadata": {},
   "outputs": [
    {
     "name": "stdin",
     "output_type": "stream",
     "text": [
      "Enter the cost price of the bike(in RS):  -7800\n"
     ]
    },
    {
     "name": "stdout",
     "output_type": "stream",
     "text": [
      "No data found\n"
     ]
    }
   ],
   "source": [
    "bikecost = int(input(\"Enter the cost price of the bike(in RS): \"))\n",
    "\n",
    "if bikecost>0:\n",
    "    if bikecost > 100000:\n",
    "        tax = (bikecost * 15)/100\n",
    "        Percent_of_tax = \"15%\"\n",
    "        totalcost = bikecost + tax\n",
    "        tax_amount = tax\n",
    "        print(f\"Road Tax to be paid: {tax_amount}\\nTotal percent of tax(%):{Percent_of_tax}\\nTotal Tax Amount(₹):{tax_amount}\\nTotal Bike cost: {totalcost}\")\n",
    "    \n",
    "\n",
    "    elif bikecost>50000 and bikecost<= 100000:\n",
    "        tax = (bikecost * 10)/100\n",
    "        Percent_of_tax = \"10%\"\n",
    "        totalcost = bikecost + tax\n",
    "        tax_amount = tax\n",
    "        print(f\"Road Tax to be paid: {tax_amount}\\nTotal percent of tax(%):{Percent_of_tax}\\nTotal Tax Amount(₹):{tax_amount}\\nTotal Bike cost: {totalcost}\")\n",
    "\n",
    "    elif bikecost < 50000:\n",
    "        tax = (bikecost * 8)/100\n",
    "        Percent_of_tax = \"8%\"\n",
    "        totalcost = bikecost + tax\n",
    "        tax_amount = tax\n",
    "        print(f\"Road Tax to be paid: {tax_amount}\\nTotal percent of tax(%):{Percent_of_tax}\\nTotal Tax Amount(₹):{tax_amount}\\nTotal Bike cost: {totalcost}\")\n",
    "else:\n",
    "    print(\"No data found\")"
   ]
  },
  {
   "cell_type": "code",
   "execution_count": 45,
   "id": "f3d75936-f0c5-43c8-95a4-76902f70e86c",
   "metadata": {},
   "outputs": [
    {
     "name": "stdin",
     "output_type": "stream",
     "text": [
      "Enter the age of the person:  65\n"
     ]
    },
    {
     "name": "stdout",
     "output_type": "stream",
     "text": [
      "The person is a Senior Citizen.\n"
     ]
    }
   ],
   "source": [
    "# 5. Write a program to check person is sernior citizen or not?\n",
    "\n",
    "age = int(input(\"Enter the age of the person: \"))\n",
    "\n",
    "if age >= 60:\n",
    "    print(\"The person is a Senior Citizen.\")\n",
    "else:\n",
    "    print(\"The person is NOT a Senior Citizen.\")"
   ]
  },
  {
   "cell_type": "code",
   "execution_count": 46,
   "id": "ade7044f-c079-4e58-b645-849dda8eedce",
   "metadata": {},
   "outputs": [
    {
     "name": "stdin",
     "output_type": "stream",
     "text": [
      "enter the num: -10\n"
     ]
    },
    {
     "name": "stdout",
     "output_type": "stream",
     "text": [
      "The number is negative\n"
     ]
    }
   ],
   "source": [
    "#6. Write a program to check whether a number (accepted from the user) is positive or negative.\n",
    "\n",
    "num = float(input(\"enter the num:\"))\n",
    "if num<0:\n",
    "    print(\"The number is negative\")\n",
    "elif num>0:\n",
    "    print(\"The number is positive\")\n",
    "else:\n",
    "    print(\"The number is not positive nor negative\")\n",
    "\n",
    "\n"
   ]
  },
  {
   "cell_type": "code",
   "execution_count": 47,
   "id": "ba16ac24-9496-4344-aa45-4d39b7fbeb85",
   "metadata": {},
   "outputs": [
    {
     "name": "stdin",
     "output_type": "stream",
     "text": [
      "Enter a number:  78\n"
     ]
    },
    {
     "name": "stdout",
     "output_type": "stream",
     "text": [
      "The number is Positive.\n"
     ]
    }
   ],
   "source": [
    "num = float(input(\"Enter a number: \"))\n",
    "\n",
    "if num>0 and num!=0:\n",
    "    print(\"The number is Positive.\")\n",
    "\n",
    "elif num<0 and num!=0:\n",
    "    print(\"The number is Negative.\")"
   ]
  },
  {
   "cell_type": "code",
   "execution_count": 1,
   "id": "486a441c-d2cf-46d4-bf97-a4512c10107b",
   "metadata": {},
   "outputs": [
    {
     "name": "stdin",
     "output_type": "stream",
     "text": [
      "Enter total number of working days:  15\n",
      "Enter total number of absent days:  10\n"
     ]
    },
    {
     "name": "stdout",
     "output_type": "stream",
     "text": [
      "Total Working Days: 15\n",
      "total Present Days: 5\n",
      "Attendance Percentage: 33.33333333333333 %\n",
      "You are not allowed to sit in the exam.\n"
     ]
    }
   ],
   "source": [
    "# 7. Accept the following from the user and calculate the percentage of the class attendence.\n",
    "# Total number of working days.\n",
    "# Total number of absent.\n",
    "# if percentage is less than 75%, then student will not sit the exam.\n",
    "total = int(input(\"Enter total number of working days: \"))\n",
    "absent = int(input(\"Enter total number of absent days: \"))\n",
    "\n",
    "present = total - absent\n",
    "\n",
    "attendance = (present/total) * 100\n",
    "\n",
    "print(\"Total Working Days:\", total)\n",
    "print(\"total Present Days:\", present)\n",
    "print(\"Attendance Percentage:\", attendance, \"%\")\n",
    "\n",
    "if attendance>=75 and attendance<=100:\n",
    "    print(\"You are allowed to sit in the exam.\")\n",
    "else:\n",
    "    print(\"You are not allowed to sit in the exam.\")"
   ]
  },
  {
   "cell_type": "code",
   "execution_count": 2,
   "id": "df1b6e1d-0079-4b7a-8d34-5f6ab377a03d",
   "metadata": {},
   "outputs": [
    {
     "name": "stdin",
     "output_type": "stream",
     "text": [
      "Enter total number of working days:  45\n",
      "Enter total number of days absent:  10\n"
     ]
    },
    {
     "name": "stdout",
     "output_type": "stream",
     "text": [
      "Attendance percentage: 77.77777777777779\n",
      "You are allowed to sit in the exam\n"
     ]
    },
    {
     "name": "stdin",
     "output_type": "stream",
     "text": [
      "Enter your score (0-100):  77\n"
     ]
    },
    {
     "name": "stdout",
     "output_type": "stream",
     "text": [
      "Your grade is: C\n"
     ]
    }
   ],
   "source": [
    "# 7. Accept the following from the user and calculate the percentage of the class attendence.\n",
    "# Total number of working days.\n",
    "# Total number of absent.\n",
    "# if percentage is less than 75%, then student will not sit the exam.\n",
    "\n",
    "working_days = int(input(\"Enter total number of working days: \"))\n",
    "absent_days = int(input(\"Enter total number of days absent: \"))\n",
    "\n",
    "present_days = working_days - absent_days\n",
    "attendance_percentage = (present_days / working_days) * 100\n",
    "print(f\"Attendance percentage: {attendance_percentage}\")\n",
    "\n",
    "if attendance_percentage > 75:\n",
    "    print(\"You are allowed to sit in the exam\")\n",
    "else:\n",
    "    print(\"You are not allowed to sit in the exam.\")\n",
    "#8. Calculate letters grades (A,B,C,D,E) based on score ranges (eg.-90-100:A,80-89:B,70-79:C,\n",
    "#60-69:D,50-59:E)\n",
    "\n",
    "score = int(input(\"Enter your score (0-100): \"))\n",
    "\n",
    "if score <= 100 and score >=90:\n",
    "    grade = 'A'\n",
    "elif score <= 89 and score >=80:\n",
    "    grade = 'B'\n",
    "elif score <= 79 and score >=70:\n",
    "    grade = 'C'\n",
    "elif score <= 69 and score >=60 :\n",
    "    grade = 'D'\n",
    "elif score <= 59 and score >=50:\n",
    "    grade = 'E'\n",
    "else:\n",
    "    grade = 'F' \n",
    "\n",
    "print(f\"Your grade is: {grade}\")\n"
   ]
  },
  {
   "cell_type": "code",
   "execution_count": 3,
   "id": "4ccb6c64-7a6a-4844-ad33-70aac4d319d9",
   "metadata": {},
   "outputs": [
    {
     "name": "stdin",
     "output_type": "stream",
     "text": [
      "Enter the traffic light color (Green, Yellow, Red):  yellow\n"
     ]
    },
    {
     "name": "stdout",
     "output_type": "stream",
     "text": [
      "Caution\n"
     ]
    }
   ],
   "source": [
    "# 9. Simulate a traffic light, if the light is \"Green\", print \"Go\", If yellow, print \"Caution\",\n",
    "# if red \"Stop!\"\n",
    "\n",
    "light = input(\"Enter the traffic light color (Green, Yellow, Red): \")\n",
    "\n",
    "if light == 'green':\n",
    "    print(\"Go\")\n",
    "elif light == 'yellow':\n",
    "    print(\"Caution\")\n",
    "elif light == 'red':\n",
    "    print(\"Stop!\")\n",
    "else:\n",
    "    print(\"Invalid light color\")"
   ]
  },
  {
   "cell_type": "code",
   "execution_count": 5,
   "id": "194a1c16-f53c-4f9c-aa29-cde1515e9e48",
   "metadata": {},
   "outputs": [
    {
     "name": "stdin",
     "output_type": "stream",
     "text": [
      "Enter your score(0-100):  45\n"
     ]
    },
    {
     "name": "stdout",
     "output_type": "stream",
     "text": [
      "You didnot passed the minimum criteria which is 50\n"
     ]
    }
   ],
   "source": [
    "# Calculate letters grades (A,B,C,D,E) based on score ranges (eg.-90-100:A,80-89:B,70-79:C,\n",
    "#60-69:D,50-59:E)\n",
    "score = int(input(\"Enter your score(0-100): \"))\n",
    "\n",
    "if score>=90 and score<=100:\n",
    "    print(\"you are passed with Grade: 'A'\")\n",
    "elif score>=80 and score<=89:\n",
    "    print(\"you are passed with Grade: 'B'\")\n",
    "elif score>=70 and score<=79:\n",
    "    print(\"you are passed with Grade: 'C'\")\n",
    "elif score>=60 and score<=69:\n",
    "    print(\"you are passed with Grade: 'D'\")\n",
    "elif score>=50 and score<=59:\n",
    "    print(\"you are passed with Grade: 'E'\")\n",
    "else:\n",
    "    print(\"You didnot passed the minimum criteria which is 50\")"
   ]
  },
  {
   "cell_type": "code",
   "execution_count": 6,
   "id": "f9a40c24-77fb-4f75-913c-055c195643d5",
   "metadata": {},
   "outputs": [
    {
     "name": "stdin",
     "output_type": "stream",
     "text": [
      "Enter user role (admin, Editor, viewer):  78\n"
     ]
    },
    {
     "name": "stdout",
     "output_type": "stream",
     "text": [
      "Role not recognized\n"
     ]
    }
   ],
   "source": [
    "# 10. Check user roles, if \"admin\",print \"Access granted\", if \"Editor\",print \"Can edit\". If viewer\n",
    "# print \"Unknown role\"\n",
    "\n",
    "role = input(\"Enter user role (admin, Editor, viewer): \")\n",
    "\n",
    "if role == 'admin':\n",
    "    print(\"Access granted\")\n",
    "elif role == 'editor':\n",
    "    print(\"Can edit\")\n",
    "elif role == 'viewer':\n",
    "    print(\"Unknown role\")\n",
    "else:\n",
    "    print(\"Role not recognized\")"
   ]
  },
  {
   "cell_type": "code",
   "execution_count": 9,
   "id": "a085aa65-1cef-4809-8f15-24d53e0d9b65",
   "metadata": {},
   "outputs": [
    {
     "name": "stdin",
     "output_type": "stream",
     "text": [
      "Enter the traffic light color (Red/Yellow/Green):  45\n"
     ]
    },
    {
     "name": "stdout",
     "output_type": "stream",
     "text": [
      "No color detect!\n"
     ]
    }
   ],
   "source": [
    "# 9. Simulate a traffic light, if the light is \"Green\", print \"Go\", If yellow, print \"Caution\",\n",
    "# if red \"Stop!\"\n",
    "\n",
    "light = str(input(\"Enter the traffic light color (Red/Yellow/Green): \"))\n",
    "\n",
    "if light.lower() == \"green\":\n",
    "    print(\"Go\")\n",
    "elif light.lower() == \"yellow\":\n",
    "    print(\"Caution\")\n",
    "elif light.lower() == \"red\":\n",
    "    print(\"Stop!\")\n",
    "else:\n",
    "    print(\"No color detect!\")"
   ]
  },
  {
   "cell_type": "code",
   "execution_count": 10,
   "id": "36d96a26-fa93-40b9-8ec0-c8df6ee80882",
   "metadata": {},
   "outputs": [
    {
     "name": "stdin",
     "output_type": "stream",
     "text": [
      "Enter your role (Admin/Editor/Viewer):  admin\n"
     ]
    },
    {
     "name": "stdout",
     "output_type": "stream",
     "text": [
      "Access granted\n"
     ]
    }
   ],
   "source": [
    "role = str(input(\"Enter your role (Admin/Editor/Viewer): \"))\n",
    "\n",
    "if role.lower() == \"admin\":\n",
    "    print(\"Access granted\")\n",
    "\n",
    "elif role.lower() == \"editor\":\n",
    "    print(\"Can edit\")\n",
    "\n",
    "elif role.lower() == \"viewer\":\n",
    "    print(\"Read-only access\")\n",
    "\n",
    "else:\n",
    "    print(\"Unknown role\")"
   ]
  },
  {
   "cell_type": "code",
   "execution_count": 16,
   "id": "6defa932-0d46-439a-8c41-a14676114fe2",
   "metadata": {},
   "outputs": [
    {
     "name": "stdin",
     "output_type": "stream",
     "text": [
      "Enter purchase amount in $:  78\n"
     ]
    },
    {
     "name": "stdout",
     "output_type": "stream",
     "text": [
      "Amount in Rupees:₹67.85 \n",
      "Discount applied: 5%\n",
      "Total amount after discount: $74.1\n"
     ]
    }
   ],
   "source": [
    "# 11. Apply discount based on purchase amount. If over $100 first show in rupees \"₹ 86.99\" then 15% discount \n",
    "# if over $50, 5% discount, otherwise no discount.\n",
    "\n",
    "\n",
    "purchase_amount = float(input(\"Enter purchase amount in $: \"))\n",
    "\n",
    "if purchase_amount > 0:\n",
    "    if purchase_amount >= 100:\n",
    "        amount_in_rupees = (purchase_amount*86.99)/100 \n",
    "        discount_amount = (purchase_amount * 15) / 100  \n",
    "        Discount_in_percent = \"15%\"\n",
    "        discounted_price = purchase_amount - discount_amount\n",
    "        print(f\"Amount in Rupees:₹{amount_in_rupees:}\\nDiscount applied: {Discount_in_percent}\\nTotal amount after discount: ${discounted_price}\")\n",
    "    elif purchase_amount >= 50:\n",
    "        amount_in_rupees = (purchase_amount*86.99)/100\n",
    "        discount_amount = (purchase_amount * 5) / 100  \n",
    "        Discount_in_percent = \"5%\"\n",
    "        discounted_price = purchase_amount - discount_amount\n",
    "        print(f\"Amount in Rupees:₹{amount_in_rupees:.2f} \\nDiscount applied: {Discount_in_percent}\\nTotal amount after discount: ${discounted_price}\")\n",
    "    else:\n",
    "        discount_amount = 0.0 \n",
    "        Discount_in_percent = \"0%\"\n",
    "        discounted_price = purchase_amount\n",
    "        print(f\"Amount in Rupees₹{amount_in_rupees}\\nDiscount applied: {Discount_in_percent}\\nTotal amount after discount: ${discounted_price}\")\n",
    "else:\n",
    "    print(\"Purchase amount should be a positive value.\")"
   ]
  },
  {
   "cell_type": "code",
   "execution_count": 19,
   "id": "f816e5ba-8afd-424c-8ac6-9467118eea6a",
   "metadata": {},
   "outputs": [
    {
     "name": "stdin",
     "output_type": "stream",
     "text": [
      "Enter purchase amount in dollars ($):  76\n"
     ]
    },
    {
     "name": "stdout",
     "output_type": "stream",
     "text": [
      "Amount convert to INR:6611.24\n",
      "15% discount applied!: 5%\n",
      "Discount Amount:330.56199999999995\n",
      "Final price after discount:6280.68\n"
     ]
    }
   ],
   "source": [
    "USD_TO_INR = 86.99\n",
    "\n",
    "amount_USA = float(input(\"Enter purchase amount in dollars ($): \"))\n",
    "amount_INR = amount_USA * USD_TO_INR\n",
    "\n",
    "\n",
    "if amount_USA > 100:\n",
    "    discount = (amount_INR*15)/100\n",
    "    dis = \"15%\"\n",
    "    final_price = amount_INR - discount\n",
    "    print(f\"Amount convert to INR:{amount_INR:.2f}\\n15% discount applied!: {dis}\\nDiscount Amount:{discount}\\nFinal price after discount:{final_price:.2f}\")\n",
    "    \n",
    "\n",
    "elif amount_USA > 50:\n",
    "    discount = (amount_INR*5)/100\n",
    "    dis = \"5%\"\n",
    "    final_price = amount_INR - discount\n",
    "    print(f\"Amount convert to INR:{amount_INR:.2f}\\n15% discount applied!: {dis}\\nDiscount Amount:{discount}\\nFinal price after discount:{final_price:.2f}\")\n",
    "    \n",
    "\n",
    "else:\n",
    "    print(\"No discount applied.\")"
   ]
  },
  {
   "cell_type": "code",
   "execution_count": 21,
   "id": "65f59c0d-0e7c-407a-a917-9c4c635afb31",
   "metadata": {},
   "outputs": [
    {
     "name": "stdin",
     "output_type": "stream",
     "text": [
      "Enter a single character:  a\n"
     ]
    },
    {
     "name": "stdout",
     "output_type": "stream",
     "text": [
      "Lowercase character\n"
     ]
    }
   ],
   "source": [
    "# 12. Determine if a character is uppercase, lowercase, a digit or a special character.\n",
    "\n",
    "ch = input(\"Enter a single character: \")\n",
    "\n",
    "if   ch <= 'Z' and ch >= 'A':\n",
    "    print(\"Uppercase character\")\n",
    "elif  ch <= 'z' and ch >='a':\n",
    "    print(\"Lowercase character\")\n",
    "elif ch <= '9' and ch >= '0':\n",
    "    print(\"Digit\")\n",
    "else:\n",
    "    print(\"Special character\")"
   ]
  },
  {
   "cell_type": "code",
   "execution_count": 22,
   "id": "ef1ac434-9f39-416c-a2ff-56eef13dce98",
   "metadata": {},
   "outputs": [
    {
     "name": "stdin",
     "output_type": "stream",
     "text": [
      "Enter the number of sides:  9\n"
     ]
    },
    {
     "name": "stdout",
     "output_type": "stream",
     "text": [
      "Shape: Nonagon\n"
     ]
    }
   ],
   "source": [
    "# 13. Based on the number of sides entered (3,5,7 etc), Identify Triangle shape\n",
    "# (trianlge,pentagon, septagon etc)\n",
    "\n",
    "sides = int(input(\"Enter the number of sides: \"))\n",
    "if sides == 3:\n",
    "    shape = \"Triangle\"\n",
    "elif sides == 4:\n",
    "    shape = \"Quadrilateral\"\n",
    "elif sides == 5:\n",
    "    shape = \"Pentagon\"\n",
    "elif sides == 6:\n",
    "    shape = \"Hexagon\"\n",
    "elif sides == 7:\n",
    "    shape = \"Heptagon\"\n",
    "elif sides == 8:\n",
    "    shape = \"Octagon\"\n",
    "elif sides == 9:\n",
    "    shape = \"Nonagon\"\n",
    "elif sides == 7:\n",
    "    shape = \"Decagon\"\n",
    "else:\n",
    "    shape = \"Shape not identified\"\n",
    "\n",
    "print(\"Shape:\", shape)"
   ]
  },
  {
   "cell_type": "code",
   "execution_count": 23,
   "id": "16baf80f-f728-4472-a913-d62375dc9890",
   "metadata": {},
   "outputs": [
    {
     "name": "stdin",
     "output_type": "stream",
     "text": [
      "Enter a single alphabet character:  e\n"
     ]
    },
    {
     "name": "stdout",
     "output_type": "stream",
     "text": [
      "Vowel\n"
     ]
    }
   ],
   "source": [
    "# 14. Write a program to determine if a character is a vowel or consonent.\n",
    "\n",
    "char = input(\"Enter a single alphabet character: \").lower()\n",
    "\n",
    "if char in ['a', 'e', 'i', 'o', 'u']:\n",
    "    print(\"Vowel\")\n",
    "elif char <= 'z' and char >= 'a':\n",
    "    print(\"Consonant\")\n",
    "else:\n",
    "    print(\"Invalid input\")"
   ]
  },
  {
   "cell_type": "code",
   "execution_count": 24,
   "id": "9f30704a-8e29-44ea-a32f-ceaf7f492459",
   "metadata": {},
   "outputs": [
    {
     "name": "stdin",
     "output_type": "stream",
     "text": [
      "Enter first number:  78\n",
      "Enter second number:  89\n",
      "Enter operation (+, -, *, /, ^):  +\n"
     ]
    },
    {
     "name": "stdout",
     "output_type": "stream",
     "text": [
      "Result: 167.0\n"
     ]
    }
   ],
   "source": [
    "# 15. Crete a simple calulator that performs basic arithmetic operations based on two user input.\n",
    "# (^,*,/,-,+)\n",
    "\n",
    "num1 = float(input(\"Enter first number: \"))\n",
    "num2 = float(input(\"Enter second number: \"))\n",
    "op = input(\"Enter operation (+, -, *, /, ^): \")\n",
    "\n",
    "if op == '+':\n",
    "    result = num1 + num2\n",
    "elif op == '-':\n",
    "    result = num1 - num2\n",
    "elif op == '*':\n",
    "    result = num1 * num2\n",
    "elif op == '/':\n",
    "    if num2 != 0:\n",
    "        result = num1 / num2\n",
    "    else:\n",
    "        result = \"Error! Division by zero\"\n",
    "elif op == '^':\n",
    "    result = num1 ** num2\n",
    "else:\n",
    "    result = \"Invalid operator\"\n",
    "\n",
    "print(\"Result:\", result)"
   ]
  },
  {
   "cell_type": "code",
   "execution_count": 25,
   "id": "55566875-352a-46ff-84d8-ae3456a7040a",
   "metadata": {},
   "outputs": [
    {
     "name": "stdin",
     "output_type": "stream",
     "text": [
      "Enter any character:  A\n"
     ]
    },
    {
     "name": "stdout",
     "output_type": "stream",
     "text": [
      "The character enter is an Uppercase Letter.\n"
     ]
    }
   ],
   "source": [
    "character = input(\"Enter any character: \")\n",
    "\n",
    "if character >='A' and character <='Z':\n",
    "    print(\"The character enter is an Uppercase Letter.\")\n",
    "\n",
    "elif character >= 'a'and character <= 'z':\n",
    "    print(\"The character enter is a Lowercase Letter.\")\n",
    "\n",
    "elif character >= '0'and character <= '9':\n",
    "    print(\"The character enter is a Digit.\")\n",
    "\n",
    "elif character != ( (character >= 'A'and character <= 'Z') or (character >= 'a'and character <= 'z') or (character >= '0'and character <= '9') ):\n",
    "    print(\"The character enter is a Special Character.\")\n",
    "\n",
    "else:\n",
    "    print(\"Invalid input!\")"
   ]
  },
  {
   "cell_type": "code",
   "execution_count": 26,
   "id": "7dcb5c10-64bd-4628-9ad3-83083beb69d2",
   "metadata": {},
   "outputs": [
    {
     "name": "stdin",
     "output_type": "stream",
     "text": [
      "Enter num1: 78\n",
      "Enter num2: 95\n"
     ]
    },
    {
     "name": "stdout",
     "output_type": "stream",
     "text": [
      "Num2 is largest\n"
     ]
    }
   ],
   "source": [
    "#4. Write a Python program to find the *largest of two numbers*.\n",
    "\n",
    "num1 = float(input(\"Enter num1:\"))\n",
    "num2 = float(input(\"Enter num2:\"))\n",
    "\n",
    "if num1>num2:\n",
    "    print(\"Num1 is largest\")\n",
    "elif num2>num1:\n",
    "    print(\"Num2 is largest\")\n",
    "else:\n",
    "    print(\"Both are same\")"
   ]
  },
  {
   "cell_type": "code",
   "execution_count": 27,
   "id": "9bc4140f-159e-481e-9879-bfbc26625b62",
   "metadata": {},
   "outputs": [
    {
     "name": "stdin",
     "output_type": "stream",
     "text": [
      "Enter the number of sides:  6\n"
     ]
    },
    {
     "name": "stdout",
     "output_type": "stream",
     "text": [
      "This is Hexagon.\n"
     ]
    }
   ],
   "source": [
    "sides = int(input(\"Enter the number of sides: \"))\n",
    "\n",
    "if sides == 3:\n",
    "    print(\"This is Triangle.\")\n",
    "elif sides == 4:\n",
    "    print(\"This is Quadrilateral.\")\n",
    "elif sides == 5:\n",
    "    print(\"This is Pentagon.\")\n",
    "elif sides == 6:\n",
    "    print(\"This is Hexagon.\")\n",
    "elif sides == 7:\n",
    "    print(\"This is Heptagon.\")\n",
    "\n",
    "else:\n",
    "    print(\"No shape detect\")"
   ]
  },
  {
   "cell_type": "code",
   "execution_count": 28,
   "id": "06be11d7-45e4-40ce-a7ab-9b96da76e482",
   "metadata": {},
   "outputs": [
    {
     "name": "stdin",
     "output_type": "stream",
     "text": [
      "Enter the number: 55\n"
     ]
    },
    {
     "name": "stdout",
     "output_type": "stream",
     "text": [
      "55 is divisible by 5\n"
     ]
    }
   ],
   "source": [
    "#5. Write a Python program to check whether a number is *divisible by 5* or not.\n",
    "\n",
    "num = int(input(\"Enter the number:\"))\n",
    "\n",
    "if num%5 == 0:\n",
    "    print(f\"{num} is divisible by 5\")\n",
    "else:\n",
    "    print(\"number is not not divisible by 5\")"
   ]
  },
  {
   "cell_type": "code",
   "execution_count": 29,
   "id": "015e1e3a-db50-4c77-9ae7-197fb576034f",
   "metadata": {},
   "outputs": [
    {
     "name": "stdin",
     "output_type": "stream",
     "text": [
      "Enter first number:  89\n",
      "Enter operator (+, -, *, /, ^):  +\n",
      "Enter second number:  66\n"
     ]
    },
    {
     "name": "stdout",
     "output_type": "stream",
     "text": [
      "Result: 155.0\n"
     ]
    }
   ],
   "source": [
    "num1 = float(input(\"Enter first number: \"))\n",
    "operator = input(\"Enter operator (+, -, *, /, ^): \")\n",
    "num2 = float(input(\"Enter second number: \"))\n",
    "\n",
    "if operator == '+':\n",
    "    result = num1 + num2\n",
    "    print(f\"Result: {result}\")\n",
    "\n",
    "elif operator == '-':\n",
    "    result = num1 - num2\n",
    "    print(f\"Result: {result}\")\n",
    "\n",
    "elif operator == '*':\n",
    "    result = num1 * num2\n",
    "    print(f\"Result: {result}\")\n",
    "\n",
    "elif operator == '/':\n",
    "        result = num1 / num2\n",
    "        print(f\"Result: {result}\")\n",
    "\n",
    "elif operator == '^':\n",
    "    result = num1 ** num2\n",
    "    print(f\"Result: {result}\")\n",
    "\n",
    "else:\n",
    "    print(\"Invalid operator and do not use 0\")"
   ]
  },
  {
   "cell_type": "code",
   "execution_count": 30,
   "id": "ee1decec-4ca1-47a3-af72-3cbb32a7f8a4",
   "metadata": {},
   "outputs": [
    {
     "name": "stdin",
     "output_type": "stream",
     "text": [
      "Enter the number 77\n"
     ]
    },
    {
     "name": "stdout",
     "output_type": "stream",
     "text": [
      "The given number77is not divisible by both\n"
     ]
    }
   ],
   "source": [
    "#6. Write a Python program to check if a number is *a multiple of both 3 and 5*.\n",
    "\n",
    "num = int(input(\"Enter the number\"))\n",
    "\n",
    "if num%3==0 and num%5==0:\n",
    "    print(f\"{num} is divisible by both 3 and 5\")\n",
    "elif num%3==0 and num%5!=0:\n",
    "    print(f\"{num} is divisible by 3 only not 5\")\n",
    "elif num%3!=0 and num%5==0:\n",
    "    print(f\"{num} is divisible by 5 only not 3\")\n",
    "else:\n",
    "    print(f\"The given number{num}is not divisible by both\")"
   ]
  },
  {
   "cell_type": "code",
   "execution_count": 39,
   "id": "57acce0a-dd17-4bec-9376-f2fdae14840c",
   "metadata": {},
   "outputs": [
    {
     "name": "stdin",
     "output_type": "stream",
     "text": [
      "Enter a year:  1900\n"
     ]
    },
    {
     "name": "stdout",
     "output_type": "stream",
     "text": [
      "1900 is not leap year.\n"
     ]
    }
   ],
   "source": [
    "# 8. Write a Python program to determine whether a given year is a *leap year* or not.\n",
    "\n",
    "year = int(input(\"Enter a year: \"))\n",
    "\n",
    "if (year%400==0) or (year%100)!=0:\n",
    "    print(f\"{year} is leap year.\" )\n",
    "else:\n",
    "    print(f\"{year} is not leap year.\" )"
   ]
  },
  {
   "cell_type": "code",
   "execution_count": 34,
   "id": "93b09d3f-ace8-436c-893a-742cf25d322d",
   "metadata": {},
   "outputs": [
    {
     "data": {
      "text/plain": [
       "300"
      ]
     },
     "execution_count": 34,
     "metadata": {},
     "output_type": "execute_result"
    }
   ],
   "source": [
    "1900%400"
   ]
  },
  {
   "cell_type": "code",
   "execution_count": 35,
   "id": "48c3f1df-fee5-4ff2-8084-9368d8277295",
   "metadata": {},
   "outputs": [
    {
     "data": {
      "text/plain": [
       "0"
      ]
     },
     "execution_count": 35,
     "metadata": {},
     "output_type": "execute_result"
    }
   ],
   "source": [
    "1900%100"
   ]
  },
  {
   "cell_type": "code",
   "execution_count": 36,
   "id": "c21670e3-8ca6-43de-94ef-42f7a541409e",
   "metadata": {},
   "outputs": [
    {
     "data": {
      "text/plain": [
       "304"
      ]
     },
     "execution_count": 36,
     "metadata": {},
     "output_type": "execute_result"
    }
   ],
   "source": [
    "1904%400"
   ]
  },
  {
   "cell_type": "code",
   "execution_count": 40,
   "id": "e86dd73c-8841-4ae1-a0df-0a53a2eda0f9",
   "metadata": {},
   "outputs": [
    {
     "data": {
      "text/plain": [
       "4"
      ]
     },
     "execution_count": 40,
     "metadata": {},
     "output_type": "execute_result"
    }
   ],
   "source": [
    "1904%100"
   ]
  },
  {
   "cell_type": "code",
   "execution_count": 41,
   "id": "c31c4998-8d5a-420f-80b8-7ca27cfc34a3",
   "metadata": {},
   "outputs": [],
   "source": [
    "# A year is a leap year if:\n",
    "    # * it's divisible by 400  \n",
    "    # * it's divisble by 4 but not by 100"
   ]
  },
  {
   "cell_type": "code",
   "execution_count": 43,
   "id": "0046afdf-7ee4-4c08-8387-696035165e23",
   "metadata": {},
   "outputs": [
    {
     "name": "stdin",
     "output_type": "stream",
     "text": [
      "Enter a year:  1904\n"
     ]
    },
    {
     "name": "stdout",
     "output_type": "stream",
     "text": [
      "Leap Year\n"
     ]
    }
   ],
   "source": [
    "year = int(input(\"Enter a year: \"))\n",
    "\n",
    "if year%4 == 0:\n",
    "    if year%100 == 0:\n",
    "        if year%400 == 0:\n",
    "            print(\"Leap Year\")\n",
    "        else:\n",
    "            print(\"Not Leap Year\")\n",
    "    else:\n",
    "        print('Leap Year')\n",
    "else:\n",
    "    print(\"Not Leap year\")"
   ]
  },
  {
   "cell_type": "code",
   "execution_count": 44,
   "id": "b1adee1c-e506-461d-91c7-909d7cc57bff",
   "metadata": {},
   "outputs": [
    {
     "data": {
      "text/plain": [
       "25"
      ]
     },
     "execution_count": 44,
     "metadata": {},
     "output_type": "execute_result"
    }
   ],
   "source": [
    "2025%400"
   ]
  },
  {
   "cell_type": "code",
   "execution_count": 45,
   "id": "6f7e8db3-f7e9-480a-bf57-e6eeb5723895",
   "metadata": {},
   "outputs": [
    {
     "data": {
      "text/plain": [
       "25"
      ]
     },
     "execution_count": 45,
     "metadata": {},
     "output_type": "execute_result"
    }
   ],
   "source": [
    "2025%100"
   ]
  },
  {
   "cell_type": "code",
   "execution_count": 46,
   "id": "66e38294-78f2-440c-9670-783447228052",
   "metadata": {},
   "outputs": [
    {
     "data": {
      "text/plain": [
       "25"
      ]
     },
     "execution_count": 46,
     "metadata": {},
     "output_type": "execute_result"
    }
   ],
   "source": [
    "2025%400"
   ]
  },
  {
   "cell_type": "code",
   "execution_count": 47,
   "id": "1eab8b8a-cdf7-462c-988c-5ff63261279b",
   "metadata": {},
   "outputs": [
    {
     "data": {
      "text/plain": [
       "25"
      ]
     },
     "execution_count": 47,
     "metadata": {},
     "output_type": "execute_result"
    }
   ],
   "source": [
    "2025%100"
   ]
  },
  {
   "cell_type": "code",
   "execution_count": 53,
   "id": "cbb4b985-af1a-4855-bb32-bb49d07120d9",
   "metadata": {},
   "outputs": [
    {
     "data": {
      "text/plain": [
       "24"
      ]
     },
     "execution_count": 53,
     "metadata": {},
     "output_type": "execute_result"
    }
   ],
   "source": [
    "2024%400"
   ]
  },
  {
   "cell_type": "code",
   "execution_count": 50,
   "id": "dd0a7ca3-c69e-40d7-918b-86bf220a1fd5",
   "metadata": {},
   "outputs": [
    {
     "data": {
      "text/plain": [
       "24"
      ]
     },
     "execution_count": 50,
     "metadata": {},
     "output_type": "execute_result"
    }
   ],
   "source": [
    "2024%100"
   ]
  },
  {
   "cell_type": "code",
   "execution_count": 51,
   "id": "bfb30c89-c54c-4079-93e0-9b8eefaa09f9",
   "metadata": {},
   "outputs": [
    {
     "data": {
      "text/plain": [
       "300"
      ]
     },
     "execution_count": 51,
     "metadata": {},
     "output_type": "execute_result"
    }
   ],
   "source": [
    "1900%400"
   ]
  },
  {
   "cell_type": "code",
   "execution_count": 52,
   "id": "69834e21-56a3-4e92-8778-4a655a6fa256",
   "metadata": {},
   "outputs": [
    {
     "data": {
      "text/plain": [
       "0"
      ]
     },
     "execution_count": 52,
     "metadata": {},
     "output_type": "execute_result"
    }
   ],
   "source": [
    "1900%100"
   ]
  },
  {
   "cell_type": "code",
   "execution_count": 54,
   "id": "ee0a6769-e383-4241-bbbf-f77eddaff052",
   "metadata": {},
   "outputs": [
    {
     "data": {
      "text/plain": [
       "2"
      ]
     },
     "execution_count": 54,
     "metadata": {},
     "output_type": "execute_result"
    }
   ],
   "source": [
    "1902%100"
   ]
  },
  {
   "cell_type": "code",
   "execution_count": 56,
   "id": "6d03e81f-6178-4b71-bdaa-d49ab7987002",
   "metadata": {},
   "outputs": [
    {
     "data": {
      "text/plain": [
       "302"
      ]
     },
     "execution_count": 56,
     "metadata": {},
     "output_type": "execute_result"
    }
   ],
   "source": [
    "1902%400  # 0"
   ]
  },
  {
   "cell_type": "code",
   "execution_count": 58,
   "id": "b3b3c842-f321-494f-bd2b-cfda59d91062",
   "metadata": {},
   "outputs": [
    {
     "data": {
      "text/plain": [
       "2"
      ]
     },
     "execution_count": 58,
     "metadata": {},
     "output_type": "execute_result"
    }
   ],
   "source": [
    "1902%4  # 0"
   ]
  },
  {
   "cell_type": "code",
   "execution_count": 59,
   "id": "ecb944f4-083d-456a-91a8-bde6f4b83ef6",
   "metadata": {},
   "outputs": [
    {
     "data": {
      "text/plain": [
       "2"
      ]
     },
     "execution_count": 59,
     "metadata": {},
     "output_type": "execute_result"
    }
   ],
   "source": [
    "1902%100"
   ]
  },
  {
   "cell_type": "code",
   "execution_count": 60,
   "id": "95fc6785-fda1-4f84-8589-1e1b043787f7",
   "metadata": {},
   "outputs": [
    {
     "data": {
      "text/plain": [
       "304"
      ]
     },
     "execution_count": 60,
     "metadata": {},
     "output_type": "execute_result"
    }
   ],
   "source": [
    "1904%400"
   ]
  },
  {
   "cell_type": "code",
   "execution_count": 61,
   "id": "6d0eeafb-9757-4bd5-aa56-421c2a096e51",
   "metadata": {},
   "outputs": [
    {
     "data": {
      "text/plain": [
       "0"
      ]
     },
     "execution_count": 61,
     "metadata": {},
     "output_type": "execute_result"
    }
   ],
   "source": [
    "304%4"
   ]
  },
  {
   "cell_type": "code",
   "execution_count": 62,
   "id": "b4fabc68-89a6-4717-9695-5a26d0155a4d",
   "metadata": {},
   "outputs": [
    {
     "data": {
      "text/plain": [
       "4"
      ]
     },
     "execution_count": 62,
     "metadata": {},
     "output_type": "execute_result"
    }
   ],
   "source": [
    "1904%100"
   ]
  },
  {
   "cell_type": "code",
   "execution_count": 63,
   "id": "c4f3fe94-e43a-43c6-aac8-7056d068b6ab",
   "metadata": {},
   "outputs": [
    {
     "name": "stdin",
     "output_type": "stream",
     "text": [
      "Enter a year:  78\n"
     ]
    },
    {
     "name": "stdout",
     "output_type": "stream",
     "text": [
      "78 is not a leap year.\n"
     ]
    }
   ],
   "source": [
    "year = int(input(\"Enter a year: \"))\n",
    "\n",
    "if (year % 400 == 0) or (year % 100 != 0 and year % 4 == 0):\n",
    "    print(f\"{year} is a leap year.\")\n",
    "else:\n",
    "    print(f\"{year} is not a leap year.\")"
   ]
  },
  {
   "cell_type": "code",
   "execution_count": 64,
   "id": "bfecd451-e776-464f-88a1-2323f91e5e80",
   "metadata": {},
   "outputs": [
    {
     "data": {
      "text/plain": [
       "302"
      ]
     },
     "execution_count": 64,
     "metadata": {},
     "output_type": "execute_result"
    }
   ],
   "source": [
    "1902%400"
   ]
  },
  {
   "cell_type": "code",
   "execution_count": 65,
   "id": "b275885b-afe8-4b0f-a046-07afa88c8075",
   "metadata": {},
   "outputs": [
    {
     "data": {
      "text/plain": [
       "2"
      ]
     },
     "execution_count": 65,
     "metadata": {},
     "output_type": "execute_result"
    }
   ],
   "source": [
    "302%4"
   ]
  },
  {
   "cell_type": "code",
   "execution_count": 66,
   "id": "9ed1af45-176e-4bd2-aaa0-97d3f10e2618",
   "metadata": {},
   "outputs": [
    {
     "data": {
      "text/plain": [
       "2"
      ]
     },
     "execution_count": 66,
     "metadata": {},
     "output_type": "execute_result"
    }
   ],
   "source": [
    "1902%100"
   ]
  },
  {
   "cell_type": "code",
   "execution_count": 67,
   "id": "cf25eb49-eabf-486c-97dd-725485cb078d",
   "metadata": {},
   "outputs": [],
   "source": [
    "# 400 - 0, someting %4 =0\n",
    "\n",
    "# 1902%100 = someting value Not 0"
   ]
  },
  {
   "cell_type": "code",
   "execution_count": 68,
   "id": "de181bf6-fdd5-4f4d-9530-75a9010d6866",
   "metadata": {},
   "outputs": [
    {
     "data": {
      "text/plain": [
       "303"
      ]
     },
     "execution_count": 68,
     "metadata": {},
     "output_type": "execute_result"
    }
   ],
   "source": [
    "1903%400"
   ]
  },
  {
   "cell_type": "code",
   "execution_count": 69,
   "id": "fe33c9ab-901f-4f86-b349-960c7fd99604",
   "metadata": {},
   "outputs": [
    {
     "data": {
      "text/plain": [
       "3"
      ]
     },
     "execution_count": 69,
     "metadata": {},
     "output_type": "execute_result"
    }
   ],
   "source": [
    "303%4"
   ]
  },
  {
   "cell_type": "code",
   "execution_count": 70,
   "id": "c82caeaf-2110-40b3-851a-69f5608625f4",
   "metadata": {},
   "outputs": [
    {
     "data": {
      "text/plain": [
       "3"
      ]
     },
     "execution_count": 70,
     "metadata": {},
     "output_type": "execute_result"
    }
   ],
   "source": [
    "1903%100"
   ]
  },
  {
   "cell_type": "code",
   "execution_count": 71,
   "id": "2331a0ca-8cad-44fe-9f4b-e59816332846",
   "metadata": {},
   "outputs": [
    {
     "data": {
      "text/plain": [
       "304"
      ]
     },
     "execution_count": 71,
     "metadata": {},
     "output_type": "execute_result"
    }
   ],
   "source": [
    "1904%400"
   ]
  },
  {
   "cell_type": "code",
   "execution_count": 72,
   "id": "52572fbd-5a8d-47e4-b274-9af7ea2f00ce",
   "metadata": {},
   "outputs": [
    {
     "data": {
      "text/plain": [
       "0"
      ]
     },
     "execution_count": 72,
     "metadata": {},
     "output_type": "execute_result"
    }
   ],
   "source": [
    "304%4  # leap"
   ]
  },
  {
   "cell_type": "code",
   "execution_count": null,
   "id": "88247020-12a6-4d43-96d0-251fd98cf224",
   "metadata": {},
   "outputs": [],
   "source": [
    "19"
   ]
  }
 ],
 "metadata": {
  "kernelspec": {
   "display_name": "Python 3 (ipykernel)",
   "language": "python",
   "name": "python3"
  },
  "language_info": {
   "codemirror_mode": {
    "name": "ipython",
    "version": 3
   },
   "file_extension": ".py",
   "mimetype": "text/x-python",
   "name": "python",
   "nbconvert_exporter": "python",
   "pygments_lexer": "ipython3",
   "version": "3.13.7"
  }
 },
 "nbformat": 4,
 "nbformat_minor": 5
}
