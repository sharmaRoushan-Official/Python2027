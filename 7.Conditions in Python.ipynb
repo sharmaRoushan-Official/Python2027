{
 "cells": [
  {
   "cell_type": "markdown",
   "id": "ca3018a1-3d13-4e00-b8e6-ffb3a0f27db1",
   "metadata": {},
   "source": [
    "# 7. Conditions in Python\n",
    "\n"
   ]
  },
  {
   "cell_type": "code",
   "execution_count": 1,
   "id": "01c9e7e3-c8b4-4c6e-af15-bc2269d54934",
   "metadata": {},
   "outputs": [],
   "source": [
    "# Operators: Boolean- True/False\n",
    "\n",
    "# 1.Assignment Operator : =\n",
    "# 2.Identity Operator : is or is not\n",
    "# 3. Membership Operator: in or not in\n",
    "# 4. Arithematic Operator: [+,-,*,/,//,%,**]\n",
    "# 5. Relational Operator/Comparison Operator: [<,>,<=,>=,==.!=]\n",
    "# 6. Logical Operator: [AND, OR, NOT]"
   ]
  },
  {
   "cell_type": "code",
   "execution_count": 3,
   "id": "7c971888-085f-4bb1-9126-afc31b467b0e",
   "metadata": {},
   "outputs": [
    {
     "name": "stdout",
     "output_type": "stream",
     "text": [
      "True\n"
     ]
    }
   ],
   "source": [
    "ratio = 3.147\n",
    "\n",
    "print(ratio<4)  # Output: False"
   ]
  },
  {
   "cell_type": "code",
   "execution_count": 4,
   "id": "8d231b14-a582-4f75-ba04-1b4fa5be7816",
   "metadata": {},
   "outputs": [
    {
     "name": "stdout",
     "output_type": "stream",
     "text": [
      "False\n",
      "True\n"
     ]
    }
   ],
   "source": [
    "name = \"Sanket\"  # smallest: A:65+26 = 91\n",
    "name1 = \"sanket\" # a:97+26 = 123\n",
    "\n",
    "print(name>name1) # False\n",
    "print(name<name1) # True"
   ]
  },
  {
   "cell_type": "code",
   "execution_count": 6,
   "id": "673b9ee2-1eac-4912-867f-1d4ff87e04ea",
   "metadata": {},
   "outputs": [
    {
     "data": {
      "text/plain": [
       "65"
      ]
     },
     "execution_count": 6,
     "metadata": {},
     "output_type": "execute_result"
    }
   ],
   "source": [
    "ord(\"A\")"
   ]
  },
  {
   "cell_type": "code",
   "execution_count": 7,
   "id": "adb92aee-09fa-4ef4-a265-ffb2c134435f",
   "metadata": {},
   "outputs": [
    {
     "data": {
      "text/plain": [
       "90"
      ]
     },
     "execution_count": 7,
     "metadata": {},
     "output_type": "execute_result"
    }
   ],
   "source": [
    "ord(\"Z\")"
   ]
  },
  {
   "cell_type": "code",
   "execution_count": 8,
   "id": "6c11d620-1ce0-46d9-90c1-db7b0ca7d72a",
   "metadata": {},
   "outputs": [
    {
     "data": {
      "text/plain": [
       "97"
      ]
     },
     "execution_count": 8,
     "metadata": {},
     "output_type": "execute_result"
    }
   ],
   "source": [
    "ord('a')"
   ]
  },
  {
   "cell_type": "code",
   "execution_count": 9,
   "id": "e049fb2e-6048-4381-8880-70570c15ca02",
   "metadata": {},
   "outputs": [
    {
     "data": {
      "text/plain": [
       "122"
      ]
     },
     "execution_count": 9,
     "metadata": {},
     "output_type": "execute_result"
    }
   ],
   "source": [
    "ord('z')"
   ]
  },
  {
   "cell_type": "code",
   "execution_count": 10,
   "id": "82818a43-cd59-41a7-98c7-de0ea18aa76d",
   "metadata": {},
   "outputs": [
    {
     "name": "stdout",
     "output_type": "stream",
     "text": [
      "True\n"
     ]
    }
   ],
   "source": [
    "print('a'>'A')"
   ]
  },
  {
   "cell_type": "code",
   "execution_count": 11,
   "id": "8227e156-2429-4146-aae2-eed3fee9f250",
   "metadata": {},
   "outputs": [
    {
     "name": "stdout",
     "output_type": "stream",
     "text": [
      "False\n"
     ]
    }
   ],
   "source": [
    "print('A'>'a')"
   ]
  },
  {
   "cell_type": "markdown",
   "id": "2c28259d-29f3-443d-8219-c25a087e61fd",
   "metadata": {},
   "source": [
    "# Branching (if,elif,else)\n",
    "\n",
    " * __Decision making is required when we wanto to execute a code only if a certain condition is satisfied.__\n",
    " * __The if/elif/else statement is used in Python for decision making.__\n",
    " * __An else statement can be combined with if statement.__\n",
    " * __An else statement conatins the block of code that is executes if the conditional expression in the first statement resolves to 0 or a False value.__\n",
    " * __The else statement is an optional statement and there could be at most only one else statement following if.__\n",
    " * __The elif statement allows you to check multiple expression for True and execute a block of code as soon as one of the condition evaluates to True.__\n",
    " * __Similar to the else, the elif statement is optional.__"
   ]
  },
  {
   "cell_type": "code",
   "execution_count": 18,
   "id": "5fb242b0-7515-49b6-b51e-a5516e3fbca1",
   "metadata": {},
   "outputs": [
    {
     "name": "stdout",
     "output_type": "stream",
     "text": [
      "You can go to primary schoool\n"
     ]
    }
   ],
   "source": [
    "age = 5\n",
    "\n",
    "\n",
    "if age<6:  # True,False\n",
    "    print(\"You can go to primary schoool\")"
   ]
  },
  {
   "cell_type": "code",
   "execution_count": 19,
   "id": "1121a68d-a187-477f-a2a9-2d2126139c92",
   "metadata": {},
   "outputs": [
    {
     "data": {
      "text/plain": [
       "True"
      ]
     },
     "execution_count": 19,
     "metadata": {},
     "output_type": "execute_result"
    }
   ],
   "source": [
    "age<6"
   ]
  },
  {
   "cell_type": "code",
   "execution_count": 24,
   "id": "bbbd7614-3061-4c6e-b59c-5171609b70c5",
   "metadata": {},
   "outputs": [
    {
     "name": "stdout",
     "output_type": "stream",
     "text": [
      "You should go to kindergarten\n"
     ]
    }
   ],
   "source": [
    "age = 5  # 5 == 5\n",
    "\n",
    "\n",
    "if age>6:  # True,False\n",
    "    print(\"You can go to primary schoool\")\n",
    "\n",
    "elif age == 5:\n",
    "    print(\"You should go to kindergarten\")\n",
    "    \n",
    "else:\n",
    "    print(\"You are a baby\")"
   ]
  },
  {
   "cell_type": "code",
   "execution_count": 22,
   "id": "7e3d0c72-096d-49ff-b90f-eefc799baf21",
   "metadata": {},
   "outputs": [
    {
     "data": {
      "text/plain": [
       "False"
      ]
     },
     "execution_count": 22,
     "metadata": {},
     "output_type": "execute_result"
    }
   ],
   "source": [
    "# wap to check the citizen age criteria to cast voting or not.\n",
    "# age> 18 , age == 18"
   ]
  },
  {
   "cell_type": "code",
   "execution_count": 28,
   "id": "043e5dd3-7f7e-4f27-9a4e-cb371b529738",
   "metadata": {},
   "outputs": [
    {
     "name": "stdout",
     "output_type": "stream",
     "text": [
      "You are a teenager\n"
     ]
    }
   ],
   "source": [
    "age = 17\n",
    "\n",
    "if age>18:\n",
    "    print(\"You are eligible to cast vote\")\n",
    "elif age==18:\n",
    "    print(\"You are eligible to cast vote\")\n",
    "else:\n",
    "    print(\"You are a teenager\")"
   ]
  },
  {
   "cell_type": "code",
   "execution_count": 30,
   "id": "717da587-61ac-4eac-b571-6d509f5663ab",
   "metadata": {},
   "outputs": [],
   "source": [
    "age = 17\n",
    "if age>=18:\n",
    "    print(\"You are eligible for Voting\")\n",
    "else:\n",
    "    print(\"You are not elegible for voting\")"
   ]
  },
  {
   "cell_type": "code",
   "execution_count": 34,
   "id": "e28d790f-5d4e-4505-a197-a39fab308090",
   "metadata": {},
   "outputs": [
    {
     "name": "stdin",
     "output_type": "stream",
     "text": [
      "enter your age: 18\n"
     ]
    },
    {
     "name": "stdout",
     "output_type": "stream",
     "text": [
      "you are eligible for voting\n"
     ]
    }
   ],
   "source": [
    "age = int(input(\"enter your age:\"))\n",
    "if age>18:\n",
    "    print(\"You are not eligible for voting\")\n",
    "elif age == 18:\n",
    "    print(\"you are eligible for voting\")\n",
    "else:\n",
    "    print(\"apply for voting card after 18\")"
   ]
  },
  {
   "cell_type": "code",
   "execution_count": 35,
   "id": "500b7663-a1c8-4d17-9dbb-56135d1dbac8",
   "metadata": {},
   "outputs": [
    {
     "name": "stdin",
     "output_type": "stream",
     "text": [
      "enter a num 1 to 7: 1\n"
     ]
    },
    {
     "name": "stdout",
     "output_type": "stream",
     "text": [
      "Monday\n"
     ]
    }
   ],
   "source": [
    "# Wap to take number from user 1-8 and display 1-Monday, 2-Tuesday, 3-Wednesday........8-Sunday, 9- Weekday not found.\n",
    "\n",
    "num = int(input(\"enter a num 1 to 7:\"))\n",
    "if num>8:\n",
    "    print(\"Weekday not found\")\n",
    "elif num == 1:\n",
    "    print(\"Monday\")\n",
    "elif num == 2:\n",
    "    print(\"Tuesday\")\n",
    "elif num == 3:\n",
    "    print(\"Wednesday\")\n",
    "elif num == 4:\n",
    "    print(\"Thursday\")\n",
    "elif num == 5:\n",
    "    print(\"Friday\")\n",
    "elif num == 6:\n",
    "    print(\"Saturday\")\n",
    "elif num == 7:\n",
    "    print(\"Sunday\")\n",
    "else:\n",
    "    print(\"Weekday not found\")"
   ]
  },
  {
   "cell_type": "code",
   "execution_count": 41,
   "id": "764ea329-9e31-43e8-bd32-ee4fe0561291",
   "metadata": {},
   "outputs": [
    {
     "name": "stdin",
     "output_type": "stream",
     "text": [
      "enter weekday number: 9\n"
     ]
    },
    {
     "name": "stdout",
     "output_type": "stream",
     "text": [
      "9 Weekday is not found\n"
     ]
    }
   ],
   "source": [
    "user = int(input(\"enter weekday number:\"))\n",
    "if user == 1:\n",
    "    print(\"1 for Monday\")\n",
    "elif user == 2:\n",
    "    print(\"2 for Tuesday\")\n",
    "elif user == 3:\n",
    "    print(\"3 for Wednesday\")\n",
    "elif user == 4:\n",
    "    print(\"4 for thrusday\")\n",
    "elif user==5:\n",
    "    print(\"5 for Friday\")\n",
    "elif user==6:\n",
    "    print(\"6 for Saturday\")\n",
    "elif user==7:\n",
    "    print(f\"{user} for Sunday\")\n",
    "else:\n",
    "    print(f\"{user} Weekday is not found\")"
   ]
  },
  {
   "cell_type": "code",
   "execution_count": 42,
   "id": "e462a9ae-7f0e-49ec-bda6-d0944724dff4",
   "metadata": {},
   "outputs": [
    {
     "name": "stdin",
     "output_type": "stream",
     "text": [
      "enter a num 1 to 12: 2\n"
     ]
    },
    {
     "name": "stdout",
     "output_type": "stream",
     "text": [
      "February\n"
     ]
    }
   ],
   "source": [
    "# Month name : - 1-12 - 1-january, 12-December: 13-Monthname not found.\n",
    "\n",
    "num = int(input(\"enter a num 1 to 12:\"))\n",
    "if num==1:\n",
    "    print(\"January\")\n",
    "elif num == 2:\n",
    "    print(\"February\")\n",
    "elif num == 3:\n",
    "    print(\"March\")\n",
    "elif num == 4:\n",
    "    print(\"April\")\n",
    "elif num == 5:\n",
    "    print(\"May\")\n",
    "elif num == 6:\n",
    "    print(\"June\")\n",
    "elif num == 7:\n",
    "    print(\"July\")\n",
    "elif num == 8:\n",
    "    print(\"August\")\n",
    "elif num == 9:\n",
    "    print(\"September\")\n",
    "elif num == 10:\n",
    "    print(\"October\")\n",
    "elif num == 11:\n",
    "    print(\"November\")\n",
    "elif num == 12:\n",
    "    print(\"December\")\n",
    "else:\n",
    "    print(\"Monthname not found\")"
   ]
  },
  {
   "cell_type": "code",
   "execution_count": 43,
   "id": "fe516a73-f3ef-4c00-a59c-4130166e60d4",
   "metadata": {},
   "outputs": [
    {
     "name": "stdin",
     "output_type": "stream",
     "text": [
      "enter a num 1 to 12 5\n"
     ]
    },
    {
     "name": "stdout",
     "output_type": "stream",
     "text": [
      "for May\n"
     ]
    }
   ],
   "source": [
    "num = int(input(\"enter a num 1 to 12\"))\n",
    "if num == 1:\n",
    "    print(\"for January\")\n",
    "elif num == 2:\n",
    "    print(\"for February\")\n",
    "elif num == 3:\n",
    "    print(\"for March\")\n",
    "elif num == 4:\n",
    "    print(\"for April\")\n",
    "elif num == 5:\n",
    "    print(\"for May\")\n",
    "elif num == 6:\n",
    "    print(\"for June\")\n",
    "elif num == 7:\n",
    "    print(\"for July\")\n",
    "elif num == 8:\n",
    "    print(\"for Auguest\")\n",
    "elif num == 9:\n",
    "    print(\"for September\")\n",
    "elif num == 10:\n",
    "    print(\"for October\")\n",
    "elif num == 11:\n",
    "    print(\"for November\")\n",
    "elif num == 12:\n",
    "    print(\"for December\")\n",
    "else:\n",
    "    print(\"Month not found\")"
   ]
  },
  {
   "cell_type": "code",
   "execution_count": 48,
   "id": "81d6381c-3f90-461b-9064-ae66ccd97b05",
   "metadata": {},
   "outputs": [
    {
     "name": "stdin",
     "output_type": "stream",
     "text": [
      "Enter any value 3\n"
     ]
    },
    {
     "name": "stdout",
     "output_type": "stream",
     "text": [
      "3 is Odd Number\n"
     ]
    }
   ],
   "source": [
    "# Write a code find odd or even.\n",
    "\n",
    "num = int(input(\"Enter any value\"))  \n",
    "\n",
    "if num%2==0:\n",
    "    print(f\"{num} is Even Number\")\n",
    "else:\n",
    "    print(f\"{num} is Odd Number\")\n"
   ]
  },
  {
   "cell_type": "code",
   "execution_count": 44,
   "id": "c757bf93-b153-49a0-bdeb-53658c86471f",
   "metadata": {},
   "outputs": [
    {
     "data": {
      "text/plain": [
       "1"
      ]
     },
     "execution_count": 44,
     "metadata": {},
     "output_type": "execute_result"
    }
   ],
   "source": [
    "# % ---> It return mainder value\n",
    "3%2"
   ]
  },
  {
   "cell_type": "code",
   "execution_count": 45,
   "id": "d08596da-a69e-4500-9bb1-55092d4fbb3a",
   "metadata": {},
   "outputs": [
    {
     "data": {
      "text/plain": [
       "0"
      ]
     },
     "execution_count": 45,
     "metadata": {},
     "output_type": "execute_result"
    }
   ],
   "source": [
    "2%2"
   ]
  },
  {
   "cell_type": "code",
   "execution_count": 49,
   "id": "5995c7f6-2e34-429e-9e42-e6e9cd2c95fd",
   "metadata": {},
   "outputs": [
    {
     "data": {
      "text/plain": [
       "1"
      ]
     },
     "execution_count": 49,
     "metadata": {},
     "output_type": "execute_result"
    }
   ],
   "source": [
    "# pythonBasic\n",
    "# string\n",
    "# list\n",
    "\n",
    "# 3\n",
    "\n",
    "# set\n",
    "num%2"
   ]
  },
  {
   "cell_type": "code",
   "execution_count": 60,
   "id": "b1cd1c02-dd83-4cef-b085-fe992f66c0b7",
   "metadata": {},
   "outputs": [
    {
     "name": "stdin",
     "output_type": "stream",
     "text": [
      "Enter any value:  21\n"
     ]
    },
    {
     "name": "stdout",
     "output_type": "stream",
     "text": [
      "21 is divisible by only 3 not 2\n"
     ]
    }
   ],
   "source": [
    "# wap to take a number from user, and check this number is divisible by 2 and 3 or not.?\n",
    "\n",
    "# num = 3\n",
    "# print('{3} is divisible by 3 only not 2')\n",
    "\n",
    "num = int(input(\"Enter any value: \"))\n",
    "\n",
    "if num%2 == 0  and num%3==0:\n",
    "    print(f\"{num} is divisible by both of them 2 and 3\")\n",
    "elif num%2==0 and num%3!=0:\n",
    "    print(f\"{num} is divisible by only 2 not 3\")\n",
    "elif num%2!=0 and num%3==0:\n",
    "    print(f\"{num} is divisible by only 3 not 2\")\n",
    "elif num%2!=0 and num%3!=0:\n",
    "    print(f\"{num} is not divisible by both of them 2 and 3\")\n",
    "else:\n",
    "    print(\"Invalid Number\")"
   ]
  },
  {
   "cell_type": "code",
   "execution_count": 54,
   "id": "37a07186-8435-472c-b721-bd5d4b10fcd7",
   "metadata": {},
   "outputs": [
    {
     "data": {
      "text/plain": [
       "True"
      ]
     },
     "execution_count": 54,
     "metadata": {},
     "output_type": "execute_result"
    }
   ],
   "source": [
    "num%2 == 0"
   ]
  },
  {
   "cell_type": "code",
   "execution_count": 55,
   "id": "b6e60ae7-e8b5-4fd5-95e7-42746d1f77f8",
   "metadata": {},
   "outputs": [
    {
     "data": {
      "text/plain": [
       "True"
      ]
     },
     "execution_count": 55,
     "metadata": {},
     "output_type": "execute_result"
    }
   ],
   "source": [
    "num%3==0"
   ]
  },
  {
   "cell_type": "code",
   "execution_count": null,
   "id": "35e32a00-9504-40f7-9813-1c0444ff725b",
   "metadata": {},
   "outputs": [],
   "source": []
  }
 ],
 "metadata": {
  "kernelspec": {
   "display_name": "Python 3 (ipykernel)",
   "language": "python",
   "name": "python3"
  },
  "language_info": {
   "codemirror_mode": {
    "name": "ipython",
    "version": 3
   },
   "file_extension": ".py",
   "mimetype": "text/x-python",
   "name": "python",
   "nbconvert_exporter": "python",
   "pygments_lexer": "ipython3",
   "version": "3.13.7"
  }
 },
 "nbformat": 4,
 "nbformat_minor": 5
}
