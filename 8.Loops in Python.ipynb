{
 "cells": [
  {
   "cell_type": "markdown",
   "id": "1b391017-76ba-40ef-839c-5bc0da2d5f18",
   "metadata": {},
   "source": [
    "## 8. Loops in Python\n",
    "\n",
    " * __A for loop is used for iterating over a sequence(that is either a list, a tuple, a dictionary, a set or a string).__\n",
    " * __This is less like the for keyword in other programming languages, and works more like an iterator method as found in other object-oriented programming languages.__\n",
    " * __With the for loop we can execute a set of statements, once for each item in a list, tuple, set etc.__\n",
    " * __The for loop does not require an indexing variable to set beforehand.__\n",
    " * __With the while loop we can execute a set of statements as long as condition is True.__\n",
    " * __Note: remember to increment i, or else the loop will continue forever.__\n",
    " * __The while loop requires relevant variables to be ready, in this example we need to define an indexing variable, i, which we set to 1.__\n",
    "\n",
    "\n",
    "### range() function \n",
    " * __It is helpful to think of the range object as an ordered list.__\n",
    " * __To loop throught a set of code a specified number of times, we can use the range() function.__ \n",
    " * __The range() function returns a sequence of numbers, starting from 0 by default, and increments by 1 (by default), and ends at a specified number.__"
   ]
  },
  {
   "cell_type": "code",
   "execution_count": 4,
   "id": "fc94544a-1631-4696-86f4-c4813752982f",
   "metadata": {},
   "outputs": [
    {
     "name": "stdout",
     "output_type": "stream",
     "text": [
      "range(0, 10)\n",
      "range(0, 50)\n"
     ]
    }
   ],
   "source": [
    "# 1-10\n",
    "\n",
    "# Take a range() function \n",
    "\n",
    "print(range(10))\n",
    "print(range(50))"
   ]
  },
  {
   "cell_type": "code",
   "execution_count": 5,
   "id": "41dc4b20-ca8b-4b0b-bc67-041ef57c8546",
   "metadata": {},
   "outputs": [
    {
     "data": {
      "text/plain": [
       "range(10, 30)"
      ]
     },
     "execution_count": 5,
     "metadata": {},
     "output_type": "execute_result"
    }
   ],
   "source": [
    "range(10,30)"
   ]
  },
  {
   "cell_type": "code",
   "execution_count": 11,
   "id": "0ff1694e-fd15-4fe4-a03f-c54c7ce1b9a0",
   "metadata": {},
   "outputs": [
    {
     "name": "stdout",
     "output_type": "stream",
     "text": [
      "2005\n",
      "2006\n",
      "2007\n",
      "2008\n",
      "2009\n",
      "2010\n"
     ]
    }
   ],
   "source": [
    "years = [2005,2006,2007,2008,2009,2010]\n",
    "\n",
    "print(years[0])\n",
    "print(years[1])\n",
    "print(years[2])\n",
    "print(years[3])\n",
    "print(years[4])\n",
    "print(years[5])"
   ]
  },
  {
   "cell_type": "code",
   "execution_count": 12,
   "id": "79780b7a-fd79-4010-bf3e-6398db7ad12f",
   "metadata": {},
   "outputs": [
    {
     "name": "stdout",
     "output_type": "stream",
     "text": [
      "2005\n",
      "2006\n",
      "2007\n",
      "2008\n",
      "2009\n",
      "2010\n"
     ]
    }
   ],
   "source": [
    "years = [2005,2006,2007,2008,2009,2010]\n",
    "for i in years:\n",
    "    print(i)"
   ]
  },
  {
   "cell_type": "code",
   "execution_count": 13,
   "id": "f37df24c-8ea7-4657-bd74-f42965d154bf",
   "metadata": {},
   "outputs": [
    {
     "ename": "TypeError",
     "evalue": "'list' object cannot be interpreted as an integer",
     "output_type": "error",
     "traceback": [
      "\u001b[31m---------------------------------------------------------------------------\u001b[39m",
      "\u001b[31mTypeError\u001b[39m                                 Traceback (most recent call last)",
      "\u001b[36mCell\u001b[39m\u001b[36m \u001b[39m\u001b[32mIn[13]\u001b[39m\u001b[32m, line 3\u001b[39m\n\u001b[32m      1\u001b[39m years = [\u001b[32m2005\u001b[39m,\u001b[32m2006\u001b[39m,\u001b[32m2007\u001b[39m,\u001b[32m2008\u001b[39m,\u001b[32m2009\u001b[39m,\u001b[32m2010\u001b[39m]\n\u001b[32m----> \u001b[39m\u001b[32m3\u001b[39m \u001b[38;5;28;01mfor\u001b[39;00m i \u001b[38;5;129;01min\u001b[39;00m \u001b[38;5;28;43mrange\u001b[39;49m\u001b[43m(\u001b[49m\u001b[43myears\u001b[49m\u001b[43m)\u001b[49m:\n\u001b[32m      4\u001b[39m     \u001b[38;5;28mprint\u001b[39m(i)\n",
      "\u001b[31mTypeError\u001b[39m: 'list' object cannot be interpreted as an integer"
     ]
    }
   ],
   "source": [
    "years = [2005,2006,2007,2008,2009,2010] # len(years): 6\n",
    "\n",
    "for i in range(years):  # we can't be pass any variable directly in the range() function 0\n",
    "    print(i)"
   ]
  },
  {
   "cell_type": "code",
   "execution_count": 15,
   "id": "b77ed660-206e-4eb7-832c-f9e0cdabdeab",
   "metadata": {},
   "outputs": [
    {
     "name": "stdout",
     "output_type": "stream",
     "text": [
      "0 2005\n",
      "1 2006\n",
      "2 2007\n",
      "3 2008\n",
      "4 2009\n",
      "5 2010\n"
     ]
    }
   ],
   "source": [
    "years = [2005,2006,2007,2008,2009,2010] # len(years): 6 : 0-5 = 6\n",
    "\n",
    "for i in range(len(years)):  # we can't be pass any variable directly in the range() function 0\n",
    "    print(i, years[i])"
   ]
  },
  {
   "cell_type": "code",
   "execution_count": 16,
   "id": "454f2c83-71c4-4562-9212-62dddaa7a167",
   "metadata": {},
   "outputs": [
    {
     "data": {
      "text/plain": [
       "2010"
      ]
     },
     "execution_count": 16,
     "metadata": {},
     "output_type": "execute_result"
    }
   ],
   "source": [
    "years[i] # 2005\n",
    "# years[1] = 2006"
   ]
  },
  {
   "cell_type": "code",
   "execution_count": 18,
   "id": "22b5e162-e905-4cf6-8402-7ffe51d24ad5",
   "metadata": {},
   "outputs": [
    {
     "name": "stdout",
     "output_type": "stream",
     "text": [
      "Java\n",
      "Python\n",
      "C\n",
      "C++\n",
      "Kotlin\n",
      "Android\n",
      "JavaScript\n",
      "R\n",
      "Machine Learning\n"
     ]
    }
   ],
   "source": [
    "languages = ['Java',\"Python\",\"C\",\"C++\",\"Kotlin\",\"Android\",\"JavaScript\",\"R\",\"Machine Learning\"]\n",
    "\n",
    "for i in languages:\n",
    "    print(i)"
   ]
  },
  {
   "cell_type": "code",
   "execution_count": 20,
   "id": "6c0d5be1-8f90-4172-8ab1-a183367df394",
   "metadata": {},
   "outputs": [
    {
     "name": "stdout",
     "output_type": "stream",
     "text": [
      "0 Java\n",
      "1 Python\n",
      "2 C\n",
      "3 C++\n",
      "4 Kotlin\n",
      "5 Android\n",
      "6 JavaScript\n",
      "7 R\n",
      "8 Machine Learning\n"
     ]
    }
   ],
   "source": [
    "# with range() function\n",
    "\n",
    "for k in range(len(languages)):\n",
    "    print(k, languages[k])"
   ]
  },
  {
   "cell_type": "code",
   "execution_count": 22,
   "id": "bb30f0b0-1acf-474f-8cde-87ae2981fc65",
   "metadata": {},
   "outputs": [
    {
     "name": "stdout",
     "output_type": "stream",
     "text": [
      "0 Java\n",
      "1 Python\n",
      "2 C\n",
      "3 C++\n",
      "4 Kotlin\n",
      "5 Android\n",
      "6 JavaScript\n",
      "7 R\n",
      "8 Machine Learning\n"
     ]
    }
   ],
   "source": [
    "# Enumaeration of the elements in the list\n",
    "\n",
    "languages = ['Java',\"Python\",\"C\",\"C++\",\"Kotlin\",\"Android\",\"JavaScript\",\"R\",\"Machine Learning\"]\n",
    "\n",
    "for index,values in enumerate(languages):\n",
    "    print(index,values)"
   ]
  },
  {
   "cell_type": "code",
   "execution_count": 24,
   "id": "99a8d38c-012d-4137-9bcb-fd004a407b39",
   "metadata": {},
   "outputs": [
    {
     "name": "stdout",
     "output_type": "stream",
     "text": [
      "0\n",
      "1\n",
      "2\n",
      "3\n",
      "4\n",
      "5\n",
      "6\n",
      "7\n",
      "8\n",
      "9\n"
     ]
    }
   ],
   "source": [
    "# 1-10\n",
    "\n",
    "for i in range(10):\n",
    "    print(i)"
   ]
  },
  {
   "cell_type": "code",
   "execution_count": 25,
   "id": "190782f6-e30b-41b5-ba1c-6bd200247e74",
   "metadata": {},
   "outputs": [
    {
     "name": "stdout",
     "output_type": "stream",
     "text": [
      "20\n",
      "21\n",
      "22\n",
      "23\n",
      "24\n",
      "25\n",
      "26\n",
      "27\n",
      "28\n",
      "29\n",
      "30\n"
     ]
    }
   ],
   "source": [
    "for i in range(20,31):\n",
    "    print(i)"
   ]
  },
  {
   "cell_type": "code",
   "execution_count": 26,
   "id": "c9b3d892-0702-4679-b8dd-77bb90e22730",
   "metadata": {},
   "outputs": [],
   "source": [
    "for x in range(10,1):  # this code can't execute because logic is not correct.\n",
    "    print(x)"
   ]
  },
  {
   "cell_type": "code",
   "execution_count": 29,
   "id": "cb1005d7-902b-4eda-b9bc-647ada08ea76",
   "metadata": {},
   "outputs": [
    {
     "name": "stdout",
     "output_type": "stream",
     "text": [
      "10\n",
      "9\n",
      "8\n",
      "7\n",
      "6\n",
      "5\n",
      "4\n",
      "3\n",
      "2\n",
      "1\n",
      "0\n"
     ]
    }
   ],
   "source": [
    "for i in range(10,-1,-1):  # (starts, ends, negative)\n",
    "    print(i)"
   ]
  },
  {
   "cell_type": "code",
   "execution_count": 32,
   "id": "51030cc7-0ec9-4022-8166-5e2e846d2fa0",
   "metadata": {},
   "outputs": [
    {
     "name": "stdout",
     "output_type": "stream",
     "text": [
      "1\n",
      "3\n",
      "6\n",
      "10\n",
      "15\n",
      "21\n",
      "28\n",
      "36\n",
      "45\n",
      "55\n"
     ]
    }
   ],
   "source": [
    "# wap to find the sum of 1 to 10\n",
    "\n",
    "sum1 = 0  # empty variable  # global variable : 1,3, 6,10, 15,21,28, 36,45  \n",
    "for i in range(1,11):\n",
    "    sum1 = sum1 + i  # 0+1, 1+2 = 3, 3+3 = 6, 6+4=10, 10+5=15, 15+6=21, 21+7 = 28, 28+8 = 36, 36+9 = 45, 45+10 = 55\n",
    "    # print(i)\n",
    "    print(sum1)"
   ]
  },
  {
   "cell_type": "code",
   "execution_count": null,
   "id": "c7eefb0e-baa6-4bf9-883f-27bfa5e9d665",
   "metadata": {},
   "outputs": [],
   "source": [
    "# 10-30"
   ]
  },
  {
   "cell_type": "code",
   "execution_count": 35,
   "id": "5522d4c5-b76a-4a00-8825-2e7b9ba54750",
   "metadata": {},
   "outputs": [
    {
     "name": "stdout",
     "output_type": "stream",
     "text": [
      "420\n"
     ]
    }
   ],
   "source": [
    "# range()\n",
    "sum1 = 0\n",
    "for i in range(10,31):\n",
    "    sum1 = sum1+i\n",
    "    # print(i)\n",
    "print(sum1)"
   ]
  },
  {
   "cell_type": "code",
   "execution_count": null,
   "id": "96aa4bf8-5f54-47ba-9eea-f6649636885a",
   "metadata": {},
   "outputs": [],
   "source": [
    "# len(), enumerates()\n",
    "\n",
    "list1 = [10,11,12,13,14,15,16,17,18,19,20,21,22,23,24,25,26,27,28,29,30]\n",
    "\n"
   ]
  },
  {
   "cell_type": "code",
   "execution_count": 39,
   "id": "3fc22285-2eb6-4788-b30c-cf639fbab670",
   "metadata": {},
   "outputs": [
    {
     "name": "stdout",
     "output_type": "stream",
     "text": [
      "420\n"
     ]
    }
   ],
   "source": [
    "list1 = [10,11,12,13,14,15,16,17,18,19,20,21,22,23,24,25,26,27,28,29,30]\n",
    "sum1 = 0\n",
    "\n",
    "for index,values in enumerate(list1):\n",
    "    sum1 = sum1 + values\n",
    "print(sum1)"
   ]
  },
  {
   "cell_type": "code",
   "execution_count": 40,
   "id": "71d9e3f2-9d75-4ce1-9f5e-bee5c426c10f",
   "metadata": {},
   "outputs": [
    {
     "name": "stdout",
     "output_type": "stream",
     "text": [
      "420\n"
     ]
    }
   ],
   "source": [
    "list1 = [10,11,12,13,14,15,16,17,18,19,20,21,22,23,24,25,26,27,28,29,30]\n",
    "sum1 = 0\n",
    "\n",
    "for i in range(len(list1)):\n",
    "    sum1 = sum1 + (list1[i])\n",
    "print(sum1)"
   ]
  },
  {
   "cell_type": "code",
   "execution_count": null,
   "id": "278841af-7c4f-49b2-bb28-b09861fce1ed",
   "metadata": {},
   "outputs": [],
   "source": []
  }
 ],
 "metadata": {
  "kernelspec": {
   "display_name": "Python 3 (ipykernel)",
   "language": "python",
   "name": "python3"
  },
  "language_info": {
   "codemirror_mode": {
    "name": "ipython",
    "version": 3
   },
   "file_extension": ".py",
   "mimetype": "text/x-python",
   "name": "python",
   "nbconvert_exporter": "python",
   "pygments_lexer": "ipython3",
   "version": "3.13.7"
  }
 },
 "nbformat": 4,
 "nbformat_minor": 5
}
