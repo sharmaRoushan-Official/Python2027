{
 "cells": [
  {
   "cell_type": "markdown",
   "id": "1b391017-76ba-40ef-839c-5bc0da2d5f18",
   "metadata": {},
   "source": [
    "## 8. Loops in Python\n",
    "\n",
    " * __A for loop is used for iterating over a sequence(that is either a list, a tuple, a dictionary, a set or a string).__\n",
    " * __This is less like the for keyword in other programming languages, and works more like an iterator method as found in other object-oriented programming languages.__\n",
    " * __With the for loop we can execute a set of statements, once for each item in a list, tuple, set etc.__\n",
    " * __The for loop does not require an indexing variable to set beforehand.__\n",
    " * __With the while loop we can execute a set of statements as long as condition is True.__\n",
    " * __Note: remember to increment i, or else the loop will continue forever.__\n",
    " * __The while loop requires relevant variables to be ready, in this example we need to define an indexing variable, i, which we set to 1.__\n",
    "\n",
    "\n",
    "### range() function \n",
    " * __It is helpful to think of the range object as an ordered list.__\n",
    " * __To loop throught a set of code a specified number of times, we can use the range() function.__ \n",
    " * __The range() function returns a sequence of numbers, starting from 0 by default, and increments by 1 (by default), and ends at a specified number.__"
   ]
  },
  {
   "cell_type": "code",
   "execution_count": 4,
   "id": "fc94544a-1631-4696-86f4-c4813752982f",
   "metadata": {},
   "outputs": [
    {
     "name": "stdout",
     "output_type": "stream",
     "text": [
      "range(0, 10)\n",
      "range(0, 50)\n"
     ]
    }
   ],
   "source": [
    "# 1-10\n",
    "\n",
    "# Take a range() function \n",
    "\n",
    "print(range(10))\n",
    "print(range(50))"
   ]
  },
  {
   "cell_type": "code",
   "execution_count": 5,
   "id": "41dc4b20-ca8b-4b0b-bc67-041ef57c8546",
   "metadata": {},
   "outputs": [
    {
     "data": {
      "text/plain": [
       "range(10, 30)"
      ]
     },
     "execution_count": 5,
     "metadata": {},
     "output_type": "execute_result"
    }
   ],
   "source": [
    "range(10,30)"
   ]
  },
  {
   "cell_type": "code",
   "execution_count": 11,
   "id": "0ff1694e-fd15-4fe4-a03f-c54c7ce1b9a0",
   "metadata": {},
   "outputs": [
    {
     "name": "stdout",
     "output_type": "stream",
     "text": [
      "2005\n",
      "2006\n",
      "2007\n",
      "2008\n",
      "2009\n",
      "2010\n"
     ]
    }
   ],
   "source": [
    "years = [2005,2006,2007,2008,2009,2010]\n",
    "\n",
    "print(years[0])\n",
    "print(years[1])\n",
    "print(years[2])\n",
    "print(years[3])\n",
    "print(years[4])\n",
    "print(years[5])"
   ]
  },
  {
   "cell_type": "code",
   "execution_count": 12,
   "id": "79780b7a-fd79-4010-bf3e-6398db7ad12f",
   "metadata": {},
   "outputs": [
    {
     "name": "stdout",
     "output_type": "stream",
     "text": [
      "2005\n",
      "2006\n",
      "2007\n",
      "2008\n",
      "2009\n",
      "2010\n"
     ]
    }
   ],
   "source": [
    "years = [2005,2006,2007,2008,2009,2010]\n",
    "for i in years:\n",
    "    print(i)"
   ]
  },
  {
   "cell_type": "code",
   "execution_count": 13,
   "id": "f37df24c-8ea7-4657-bd74-f42965d154bf",
   "metadata": {},
   "outputs": [
    {
     "ename": "TypeError",
     "evalue": "'list' object cannot be interpreted as an integer",
     "output_type": "error",
     "traceback": [
      "\u001b[31m---------------------------------------------------------------------------\u001b[39m",
      "\u001b[31mTypeError\u001b[39m                                 Traceback (most recent call last)",
      "\u001b[36mCell\u001b[39m\u001b[36m \u001b[39m\u001b[32mIn[13]\u001b[39m\u001b[32m, line 3\u001b[39m\n\u001b[32m      1\u001b[39m years = [\u001b[32m2005\u001b[39m,\u001b[32m2006\u001b[39m,\u001b[32m2007\u001b[39m,\u001b[32m2008\u001b[39m,\u001b[32m2009\u001b[39m,\u001b[32m2010\u001b[39m]\n\u001b[32m----> \u001b[39m\u001b[32m3\u001b[39m \u001b[38;5;28;01mfor\u001b[39;00m i \u001b[38;5;129;01min\u001b[39;00m \u001b[38;5;28;43mrange\u001b[39;49m\u001b[43m(\u001b[49m\u001b[43myears\u001b[49m\u001b[43m)\u001b[49m:\n\u001b[32m      4\u001b[39m     \u001b[38;5;28mprint\u001b[39m(i)\n",
      "\u001b[31mTypeError\u001b[39m: 'list' object cannot be interpreted as an integer"
     ]
    }
   ],
   "source": [
    "years = [2005,2006,2007,2008,2009,2010] # len(years): 6\n",
    "\n",
    "for i in range(years):  # we can't be pass any variable directly in the range() function 0\n",
    "    print(i)"
   ]
  },
  {
   "cell_type": "code",
   "execution_count": 15,
   "id": "b77ed660-206e-4eb7-832c-f9e0cdabdeab",
   "metadata": {},
   "outputs": [
    {
     "name": "stdout",
     "output_type": "stream",
     "text": [
      "0 2005\n",
      "1 2006\n",
      "2 2007\n",
      "3 2008\n",
      "4 2009\n",
      "5 2010\n"
     ]
    }
   ],
   "source": [
    "years = [2005,2006,2007,2008,2009,2010] # len(years): 6 : 0-5 = 6\n",
    "\n",
    "for i in range(len(years)):  # we can't be pass any variable directly in the range() function 0\n",
    "    print(i, years[i])"
   ]
  },
  {
   "cell_type": "code",
   "execution_count": 16,
   "id": "454f2c83-71c4-4562-9212-62dddaa7a167",
   "metadata": {},
   "outputs": [
    {
     "data": {
      "text/plain": [
       "2010"
      ]
     },
     "execution_count": 16,
     "metadata": {},
     "output_type": "execute_result"
    }
   ],
   "source": [
    "years[i] # 2005\n",
    "# years[1] = 2006"
   ]
  },
  {
   "cell_type": "code",
   "execution_count": 18,
   "id": "22b5e162-e905-4cf6-8402-7ffe51d24ad5",
   "metadata": {},
   "outputs": [
    {
     "name": "stdout",
     "output_type": "stream",
     "text": [
      "Java\n",
      "Python\n",
      "C\n",
      "C++\n",
      "Kotlin\n",
      "Android\n",
      "JavaScript\n",
      "R\n",
      "Machine Learning\n"
     ]
    }
   ],
   "source": [
    "languages = ['Java',\"Python\",\"C\",\"C++\",\"Kotlin\",\"Android\",\"JavaScript\",\"R\",\"Machine Learning\"]\n",
    "\n",
    "for i in languages:\n",
    "    print(i)"
   ]
  },
  {
   "cell_type": "code",
   "execution_count": 20,
   "id": "6c0d5be1-8f90-4172-8ab1-a183367df394",
   "metadata": {},
   "outputs": [
    {
     "name": "stdout",
     "output_type": "stream",
     "text": [
      "0 Java\n",
      "1 Python\n",
      "2 C\n",
      "3 C++\n",
      "4 Kotlin\n",
      "5 Android\n",
      "6 JavaScript\n",
      "7 R\n",
      "8 Machine Learning\n"
     ]
    }
   ],
   "source": [
    "# with range() function\n",
    "\n",
    "for k in range(len(languages)):\n",
    "    print(k, languages[k])"
   ]
  },
  {
   "cell_type": "code",
   "execution_count": 22,
   "id": "bb30f0b0-1acf-474f-8cde-87ae2981fc65",
   "metadata": {},
   "outputs": [
    {
     "name": "stdout",
     "output_type": "stream",
     "text": [
      "0 Java\n",
      "1 Python\n",
      "2 C\n",
      "3 C++\n",
      "4 Kotlin\n",
      "5 Android\n",
      "6 JavaScript\n",
      "7 R\n",
      "8 Machine Learning\n"
     ]
    }
   ],
   "source": [
    "# Enumaeration of the elements in the list\n",
    "\n",
    "languages = ['Java',\"Python\",\"C\",\"C++\",\"Kotlin\",\"Android\",\"JavaScript\",\"R\",\"Machine Learning\"]\n",
    "\n",
    "for index,values in enumerate(languages):\n",
    "    print(index,values)"
   ]
  },
  {
   "cell_type": "code",
   "execution_count": 24,
   "id": "99a8d38c-012d-4137-9bcb-fd004a407b39",
   "metadata": {},
   "outputs": [
    {
     "name": "stdout",
     "output_type": "stream",
     "text": [
      "0\n",
      "1\n",
      "2\n",
      "3\n",
      "4\n",
      "5\n",
      "6\n",
      "7\n",
      "8\n",
      "9\n"
     ]
    }
   ],
   "source": [
    "# 1-10\n",
    "\n",
    "for i in range(10):\n",
    "    print(i)"
   ]
  },
  {
   "cell_type": "code",
   "execution_count": 25,
   "id": "190782f6-e30b-41b5-ba1c-6bd200247e74",
   "metadata": {},
   "outputs": [
    {
     "name": "stdout",
     "output_type": "stream",
     "text": [
      "20\n",
      "21\n",
      "22\n",
      "23\n",
      "24\n",
      "25\n",
      "26\n",
      "27\n",
      "28\n",
      "29\n",
      "30\n"
     ]
    }
   ],
   "source": [
    "for i in range(20,31):\n",
    "    print(i)"
   ]
  },
  {
   "cell_type": "code",
   "execution_count": 26,
   "id": "c9b3d892-0702-4679-b8dd-77bb90e22730",
   "metadata": {},
   "outputs": [],
   "source": [
    "for x in range(10,1):  # this code can't execute because logic is not correct.\n",
    "    print(x)"
   ]
  },
  {
   "cell_type": "code",
   "execution_count": 29,
   "id": "cb1005d7-902b-4eda-b9bc-647ada08ea76",
   "metadata": {},
   "outputs": [
    {
     "name": "stdout",
     "output_type": "stream",
     "text": [
      "10\n",
      "9\n",
      "8\n",
      "7\n",
      "6\n",
      "5\n",
      "4\n",
      "3\n",
      "2\n",
      "1\n",
      "0\n"
     ]
    }
   ],
   "source": [
    "for i in range(10,-1,-1):  # (starts, ends, negative)\n",
    "    print(i)"
   ]
  },
  {
   "cell_type": "code",
   "execution_count": 32,
   "id": "51030cc7-0ec9-4022-8166-5e2e846d2fa0",
   "metadata": {},
   "outputs": [
    {
     "name": "stdout",
     "output_type": "stream",
     "text": [
      "1\n",
      "3\n",
      "6\n",
      "10\n",
      "15\n",
      "21\n",
      "28\n",
      "36\n",
      "45\n",
      "55\n"
     ]
    }
   ],
   "source": [
    "# wap to find the sum of 1 to 10\n",
    "\n",
    "sum1 = 0  # empty variable  # global variable : 1,3, 6,10, 15,21,28, 36,45  \n",
    "for i in range(1,11):\n",
    "    sum1 = sum1 + i  # 0+1, 1+2 = 3, 3+3 = 6, 6+4=10, 10+5=15, 15+6=21, 21+7 = 28, 28+8 = 36, 36+9 = 45, 45+10 = 55\n",
    "    # print(i)\n",
    "    print(sum1)"
   ]
  },
  {
   "cell_type": "code",
   "execution_count": null,
   "id": "c7eefb0e-baa6-4bf9-883f-27bfa5e9d665",
   "metadata": {},
   "outputs": [],
   "source": [
    "# 10-30"
   ]
  },
  {
   "cell_type": "code",
   "execution_count": 35,
   "id": "5522d4c5-b76a-4a00-8825-2e7b9ba54750",
   "metadata": {},
   "outputs": [
    {
     "name": "stdout",
     "output_type": "stream",
     "text": [
      "420\n"
     ]
    }
   ],
   "source": [
    "# range()\n",
    "sum1 = 0\n",
    "for i in range(10,31):\n",
    "    sum1 = sum1+i\n",
    "    # print(i)\n",
    "print(sum1)"
   ]
  },
  {
   "cell_type": "code",
   "execution_count": null,
   "id": "96aa4bf8-5f54-47ba-9eea-f6649636885a",
   "metadata": {},
   "outputs": [],
   "source": [
    "# len(), enumerates()\n",
    "\n",
    "list1 = [10,11,12,13,14,15,16,17,18,19,20,21,22,23,24,25,26,27,28,29,30]\n",
    "\n"
   ]
  },
  {
   "cell_type": "code",
   "execution_count": 39,
   "id": "3fc22285-2eb6-4788-b30c-cf639fbab670",
   "metadata": {},
   "outputs": [
    {
     "name": "stdout",
     "output_type": "stream",
     "text": [
      "420\n"
     ]
    }
   ],
   "source": [
    "list1 = [10,11,12,13,14,15,16,17,18,19,20,21,22,23,24,25,26,27,28,29,30]\n",
    "sum1 = 0\n",
    "\n",
    "for index,values in enumerate(list1):\n",
    "    sum1 = sum1 + values\n",
    "print(sum1)"
   ]
  },
  {
   "cell_type": "code",
   "execution_count": 40,
   "id": "71d9e3f2-9d75-4ce1-9f5e-bee5c426c10f",
   "metadata": {},
   "outputs": [
    {
     "name": "stdout",
     "output_type": "stream",
     "text": [
      "420\n"
     ]
    }
   ],
   "source": [
    "list1 = [10,11,12,13,14,15,16,17,18,19,20,21,22,23,24,25,26,27,28,29,30]\n",
    "sum1 = 0\n",
    "\n",
    "for i in range(len(list1)):\n",
    "    sum1 = sum1 + (list1[i])\n",
    "print(sum1)"
   ]
  },
  {
   "cell_type": "code",
   "execution_count": 1,
   "id": "278841af-7c4f-49b2-bb28-b09861fce1ed",
   "metadata": {},
   "outputs": [
    {
     "name": "stdout",
     "output_type": "stream",
     "text": [
      "1\n",
      "2\n",
      "3\n",
      "4\n",
      "5\n",
      "6\n",
      "7\n",
      "8\n",
      "9\n",
      "10\n"
     ]
    }
   ],
   "source": [
    "# 1-10\n",
    "for i in range(1,11):\n",
    "    print(i)"
   ]
  },
  {
   "cell_type": "code",
   "execution_count": 3,
   "id": "236b70ef-405c-4ae4-85c0-334517c1aceb",
   "metadata": {},
   "outputs": [
    {
     "name": "stdout",
     "output_type": "stream",
     "text": [
      "55\n"
     ]
    }
   ],
   "source": [
    "# sum of range 1,10\n",
    "sum1 = 0\n",
    "for i in range(1,11):\n",
    "    sum1 = sum1+i\n",
    "    # print(i)\n",
    "print(sum1)"
   ]
  },
  {
   "cell_type": "code",
   "execution_count": 7,
   "id": "a80e959e-a737-41f7-8da6-aa1b51df6413",
   "metadata": {},
   "outputs": [
    {
     "name": "stdout",
     "output_type": "stream",
     "text": [
      "1\n",
      "2\n",
      "3\n",
      "4\n",
      "5\n"
     ]
    }
   ],
   "source": [
    "# break and continue in for loop\n",
    "\n",
    "# output = 5\n",
    "for i in range(1,11):\n",
    "    if i == 6:\n",
    "        break\n",
    "    print(i)"
   ]
  },
  {
   "cell_type": "code",
   "execution_count": 8,
   "id": "3eb028af-3523-4357-bd7c-a21011b04339",
   "metadata": {},
   "outputs": [
    {
     "name": "stdout",
     "output_type": "stream",
     "text": [
      "1\n",
      "2\n",
      "3\n",
      "4\n",
      "5\n",
      "6\n"
     ]
    }
   ],
   "source": [
    "for i in range(1,11):\n",
    "    print(i)\n",
    "    if i == 6:\n",
    "        break\n",
    "    "
   ]
  },
  {
   "cell_type": "code",
   "execution_count": 10,
   "id": "2d273861-864e-45ae-be1e-2d09d0194f48",
   "metadata": {},
   "outputs": [
    {
     "name": "stdout",
     "output_type": "stream",
     "text": [
      "1\n",
      "2\n",
      "3\n",
      "4\n",
      "5\n",
      "7\n",
      "8\n",
      "9\n",
      "10\n"
     ]
    }
   ],
   "source": [
    "# continue \n",
    "\n",
    "for i in range(1,11):\n",
    "    if i == 6:  # skip\n",
    "        continue\n",
    "    print(i)"
   ]
  },
  {
   "cell_type": "code",
   "execution_count": 11,
   "id": "50a0c91a-4525-43b5-b771-62fa4ca406c9",
   "metadata": {},
   "outputs": [
    {
     "name": "stdout",
     "output_type": "stream",
     "text": [
      "1\n",
      "2\n",
      "3\n",
      "4\n",
      "5\n",
      "6\n",
      "7\n",
      "8\n",
      "9\n",
      "10\n"
     ]
    }
   ],
   "source": [
    "for i in range(1,11):\n",
    "    print(i)\n",
    "    if i == 6:  # skip\n",
    "        continue\n",
    "    "
   ]
  },
  {
   "cell_type": "code",
   "execution_count": 12,
   "id": "a0feae28-8b65-416e-9407-c33a90c7a87c",
   "metadata": {},
   "outputs": [],
   "source": [
    "# range()  it increaments the value by default +1\n",
    "# -------------------------------------------------------------\n",
    "\n",
    "# while (condition):\n",
    "#     statement True\n",
    "#     statement True\n",
    "# else:\n",
    "#     print('After True block it will be executed')"
   ]
  },
  {
   "cell_type": "code",
   "execution_count": 13,
   "id": "53579843-e680-4863-8873-9d2e45c3a160",
   "metadata": {},
   "outputs": [
    {
     "name": "stdout",
     "output_type": "stream",
     "text": [
      "1\n",
      "2\n",
      "3\n",
      "4\n",
      "5\n",
      "6\n",
      "7\n",
      "8\n",
      "9\n",
      "10\n"
     ]
    }
   ],
   "source": [
    "# 1-10 \n",
    "\n",
    "i = 1\n",
    "j = 11\n",
    "\n",
    "while (i<j):  # entry controlled loop\n",
    "    print(i) # 1 2 3 4 5 6 7 8 9 10\n",
    "    i+=1 # i=2, i=3, i=4 i=5 i=6 i = 7, i = 8, i = 9, i=10, i=11"
   ]
  },
  {
   "cell_type": "code",
   "execution_count": 14,
   "id": "5cc52e5f-cede-44ca-85db-1334372bfa29",
   "metadata": {},
   "outputs": [
    {
     "name": "stdout",
     "output_type": "stream",
     "text": [
      "55\n"
     ]
    }
   ],
   "source": [
    "# 1 - 10 using while loop \n",
    "\n",
    "i = 1\n",
    "j = 11\n",
    "sum1= 0\n",
    "\n",
    "while (i<j):\n",
    "    sum1 = sum1 + i\n",
    "    \n",
    "    i+=1\n",
    "print(sum1)"
   ]
  },
  {
   "cell_type": "code",
   "execution_count": 17,
   "id": "ee2b2c21-4ddd-4a46-a4fc-9fc68acbe4c1",
   "metadata": {},
   "outputs": [
    {
     "name": "stdout",
     "output_type": "stream",
     "text": [
      "1\n",
      "2\n",
      "3\n",
      "4\n",
      "5\n"
     ]
    }
   ],
   "source": [
    "# break and continue\n",
    "\n",
    "# 1-10\n",
    "# output =5\n",
    "i=1\n",
    "j = 10\n",
    "\n",
    "while i<j:\n",
    "    \n",
    "    if i == 6:\n",
    "        break\n",
    "    print(i)\n",
    "    i+=1"
   ]
  },
  {
   "cell_type": "code",
   "execution_count": 19,
   "id": "b12fed0e-901d-4bc2-986e-a715c91468dc",
   "metadata": {},
   "outputs": [
    {
     "name": "stdout",
     "output_type": "stream",
     "text": [
      "1\n",
      "2\n",
      "3\n",
      "4\n",
      "5\n"
     ]
    }
   ],
   "source": [
    "i=1\n",
    "j = 10\n",
    "\n",
    "while i<j:\n",
    "    print(i)\n",
    "    if i == 5:\n",
    "        break\n",
    "    \n",
    "    i+=1"
   ]
  },
  {
   "cell_type": "code",
   "execution_count": 21,
   "id": "d8146aad-8736-4d10-8f0a-afa3b645d693",
   "metadata": {},
   "outputs": [
    {
     "name": "stdout",
     "output_type": "stream",
     "text": [
      "1\n",
      "2\n",
      "3\n",
      "4\n",
      "5\n",
      "6\n",
      "7\n",
      "8\n",
      "9\n"
     ]
    }
   ],
   "source": [
    "# continue\n",
    "\n",
    "# 1-10  # 1-5,7-10\n",
    "\n",
    "i = 1\n",
    "j = 10\n",
    "\n",
    "while i<j: # condition\n",
    "    print(i) #statement\n",
    "    i+=1 # increment value\n",
    "    if i == 5:\n",
    "        continue"
   ]
  },
  {
   "cell_type": "code",
   "execution_count": 23,
   "id": "a5c9d596-762d-4a49-bf7a-8a19973f4966",
   "metadata": {},
   "outputs": [
    {
     "name": "stdout",
     "output_type": "stream",
     "text": [
      "1\n",
      "2\n",
      "3\n",
      "4\n",
      "6\n",
      "7\n",
      "8\n",
      "9\n",
      "10\n"
     ]
    }
   ],
   "source": [
    "i = 0\n",
    "j = 10\n",
    "\n",
    "while i<j: # condition 1<10\n",
    "    \n",
    "    i+=1 # increment value , 2\n",
    "    if i == 5:\n",
    "        continue\n",
    "    print(i) #statement"
   ]
  },
  {
   "cell_type": "code",
   "execution_count": 24,
   "id": "f37dab6c-15cb-4081-9820-24dee7c3cbe1",
   "metadata": {},
   "outputs": [
    {
     "name": "stdout",
     "output_type": "stream",
     "text": [
      "ERROR! Session/line number was not unique in database. History logging moved to new session 113\n"
     ]
    }
   ],
   "source": [
    "# i = 0\n",
    "# j = 10\n",
    "\n",
    "# while i<j: # condition 1<10\n",
    "#     print(i) #statement\n",
    "#     if i == 5:  # infinite loop, output- 0,1,2,3,4,5,5,5,5,5,5,5,5,5,5,5,5,5,5,5,5,5,5,5,5,5,5,5,5,5,5\n",
    "#         continue\n",
    "#     i+=1 # increment value , 2"
   ]
  },
  {
   "cell_type": "code",
   "execution_count": 28,
   "id": "a9a27c17-64b7-483b-923f-24cc6e676b0d",
   "metadata": {},
   "outputs": [
    {
     "name": "stdout",
     "output_type": "stream",
     "text": [
      "19 X 1 = 19\n",
      "19 X 2 = 38\n",
      "19 X 3 = 57\n",
      "19 X 4 = 76\n",
      "19 X 5 = 95\n",
      "19 X 6 = 114\n",
      "19 X 7 = 133\n",
      "19 X 8 = 152\n",
      "19 X 9 = 171\n",
      "19 X 10 = 190\n"
     ]
    }
   ],
   "source": [
    "# display multiple of 19 table \n",
    "\n",
    "# 19x1=19\n",
    "# 19x2=38\n",
    "# 19x3=57\n",
    "\n",
    "num=19\n",
    "\n",
    "for i in range(1,11):\n",
    "    print(num,\"X\",i,\"=\", num*i)"
   ]
  },
  {
   "cell_type": "code",
   "execution_count": 29,
   "id": "59f5557c-1cd8-4b90-9f58-983ad1685e11",
   "metadata": {},
   "outputs": [
    {
     "name": "stdout",
     "output_type": "stream",
     "text": [
      "19X1=19\n",
      "19X2=38\n",
      "19X3=57\n",
      "19X4=76\n",
      "19X5=95\n",
      "19X6=114\n",
      "19X7=133\n",
      "19X8=152\n",
      "19X9=171\n",
      "19X10=190\n"
     ]
    }
   ],
   "source": [
    "\n",
    "num=19\n",
    "\n",
    "for i in range(1,11):\n",
    "    print(\"%dX%d=%d\"%(num,i,num*i))"
   ]
  },
  {
   "cell_type": "code",
   "execution_count": 31,
   "id": "f4e40fa7-6206-4f68-bca6-d1cf5d7ce673",
   "metadata": {},
   "outputs": [
    {
     "name": "stdout",
     "output_type": "stream",
     "text": [
      "19X1=19\n",
      "19X2=38\n",
      "19X3=57\n",
      "19X4=76\n",
      "19X5=95\n",
      "19X6=114\n",
      "19X7=133\n",
      "19X8=152\n",
      "19X9=171\n",
      "19X10=190\n"
     ]
    }
   ],
   "source": [
    "\n",
    "num=19\n",
    "\n",
    "for i in range(1,11):\n",
    "    print(f'{num}X{i}={num*i}')"
   ]
  },
  {
   "cell_type": "code",
   "execution_count": 32,
   "id": "a235a01f-55fb-47af-8dc1-ac6233ca9c1b",
   "metadata": {},
   "outputs": [
    {
     "name": "stdout",
     "output_type": "stream",
     "text": [
      "19X1=19\n",
      "19X2=38\n",
      "19X3=57\n",
      "19X4=76\n",
      "19X5=95\n",
      "19X6=114\n",
      "19X7=133\n",
      "19X8=152\n",
      "19X9=171\n",
      "19X10=190\n"
     ]
    }
   ],
   "source": [
    "\n",
    "num=19\n",
    "\n",
    "for i in range(1,11):\n",
    "    print('{}X{}={}'.format(num,i,num*i))"
   ]
  },
  {
   "cell_type": "code",
   "execution_count": 33,
   "id": "b095d32e-898d-4d62-938a-9f47eeb20851",
   "metadata": {},
   "outputs": [
    {
     "name": "stdout",
     "output_type": "stream",
     "text": [
      "19x1=19\n",
      "19x2=38\n",
      "19x3=57\n",
      "19x4=76\n",
      "19x5=95\n",
      "19x6=114\n",
      "19x7=133\n",
      "19x8=152\n",
      "19x9=171\n",
      "19x10=190\n"
     ]
    }
   ],
   "source": [
    "# 29\n",
    "\n",
    "\n",
    "i = 19\n",
    "j = 1\n",
    "\n",
    "while (j<11):\n",
    "    print(f\"{i}x{j}={i*j}\")\n",
    "    j+=1"
   ]
  },
  {
   "cell_type": "code",
   "execution_count": 38,
   "id": "dba1be95-8a29-4fc3-a8ec-7162038aba20",
   "metadata": {},
   "outputs": [
    {
     "name": "stdout",
     "output_type": "stream",
     "text": [
      "\n",
      "~~~~~~~~~~~~Table of 1~~~~~~~~~~~~~~~~~\n",
      "1X1=1\n",
      "1X2=2\n",
      "1X3=3\n",
      "1X4=4\n",
      "1X5=5\n",
      "1X6=6\n",
      "1X7=7\n",
      "1X8=8\n",
      "1X9=9\n",
      "1X10=10\n",
      "\n",
      "~~~~~~~~~~~~Table of 2~~~~~~~~~~~~~~~~~\n",
      "2X1=2\n",
      "2X2=4\n",
      "2X3=6\n",
      "2X4=8\n",
      "2X5=10\n",
      "2X6=12\n",
      "2X7=14\n",
      "2X8=16\n",
      "2X9=18\n",
      "2X10=20\n",
      "\n",
      "~~~~~~~~~~~~Table of 3~~~~~~~~~~~~~~~~~\n",
      "3X1=3\n",
      "3X2=6\n",
      "3X3=9\n",
      "3X4=12\n",
      "3X5=15\n",
      "3X6=18\n",
      "3X7=21\n",
      "3X8=24\n",
      "3X9=27\n",
      "3X10=30\n",
      "\n",
      "~~~~~~~~~~~~Table of 4~~~~~~~~~~~~~~~~~\n",
      "4X1=4\n",
      "4X2=8\n",
      "4X3=12\n",
      "4X4=16\n",
      "4X5=20\n",
      "4X6=24\n",
      "4X7=28\n",
      "4X8=32\n",
      "4X9=36\n",
      "4X10=40\n",
      "\n",
      "~~~~~~~~~~~~Table of 5~~~~~~~~~~~~~~~~~\n",
      "5X1=5\n",
      "5X2=10\n",
      "5X3=15\n",
      "5X4=20\n",
      "5X5=25\n",
      "5X6=30\n",
      "5X7=35\n",
      "5X8=40\n",
      "5X9=45\n",
      "5X10=50\n",
      "\n",
      "~~~~~~~~~~~~Table of 6~~~~~~~~~~~~~~~~~\n",
      "6X1=6\n",
      "6X2=12\n",
      "6X3=18\n",
      "6X4=24\n",
      "6X5=30\n",
      "6X6=36\n",
      "6X7=42\n",
      "6X8=48\n",
      "6X9=54\n",
      "6X10=60\n",
      "\n",
      "~~~~~~~~~~~~Table of 7~~~~~~~~~~~~~~~~~\n",
      "7X1=7\n",
      "7X2=14\n",
      "7X3=21\n",
      "7X4=28\n",
      "7X5=35\n",
      "7X6=42\n",
      "7X7=49\n",
      "7X8=56\n",
      "7X9=63\n",
      "7X10=70\n",
      "\n",
      "~~~~~~~~~~~~Table of 8~~~~~~~~~~~~~~~~~\n",
      "8X1=8\n",
      "8X2=16\n",
      "8X3=24\n",
      "8X4=32\n",
      "8X5=40\n",
      "8X6=48\n",
      "8X7=56\n",
      "8X8=64\n",
      "8X9=72\n",
      "8X10=80\n",
      "\n",
      "~~~~~~~~~~~~Table of 9~~~~~~~~~~~~~~~~~\n",
      "9X1=9\n",
      "9X2=18\n",
      "9X3=27\n",
      "9X4=36\n",
      "9X5=45\n",
      "9X6=54\n",
      "9X7=63\n",
      "9X8=72\n",
      "9X9=81\n",
      "9X10=90\n",
      "\n",
      "~~~~~~~~~~~~Table of 10~~~~~~~~~~~~~~~~~\n",
      "10X1=10\n",
      "10X2=20\n",
      "10X3=30\n",
      "10X4=40\n",
      "10X5=50\n",
      "10X6=60\n",
      "10X7=70\n",
      "10X8=80\n",
      "10X9=90\n",
      "10X10=100\n",
      "\n",
      "~~~~~~~~~~~~Table of 11~~~~~~~~~~~~~~~~~\n",
      "11X1=11\n",
      "11X2=22\n",
      "11X3=33\n",
      "11X4=44\n",
      "11X5=55\n",
      "11X6=66\n",
      "11X7=77\n",
      "11X8=88\n",
      "11X9=99\n",
      "11X10=110\n",
      "\n",
      "~~~~~~~~~~~~Table of 12~~~~~~~~~~~~~~~~~\n",
      "12X1=12\n",
      "12X2=24\n",
      "12X3=36\n",
      "12X4=48\n",
      "12X5=60\n",
      "12X6=72\n",
      "12X7=84\n",
      "12X8=96\n",
      "12X9=108\n",
      "12X10=120\n",
      "\n",
      "~~~~~~~~~~~~Table of 13~~~~~~~~~~~~~~~~~\n",
      "13X1=13\n",
      "13X2=26\n",
      "13X3=39\n",
      "13X4=52\n",
      "13X5=65\n",
      "13X6=78\n",
      "13X7=91\n",
      "13X8=104\n",
      "13X9=117\n",
      "13X10=130\n",
      "\n",
      "~~~~~~~~~~~~Table of 14~~~~~~~~~~~~~~~~~\n",
      "14X1=14\n",
      "14X2=28\n",
      "14X3=42\n",
      "14X4=56\n",
      "14X5=70\n",
      "14X6=84\n",
      "14X7=98\n",
      "14X8=112\n",
      "14X9=126\n",
      "14X10=140\n",
      "\n",
      "~~~~~~~~~~~~Table of 15~~~~~~~~~~~~~~~~~\n",
      "15X1=15\n",
      "15X2=30\n",
      "15X3=45\n",
      "15X4=60\n",
      "15X5=75\n",
      "15X6=90\n",
      "15X7=105\n",
      "15X8=120\n",
      "15X9=135\n",
      "15X10=150\n",
      "\n",
      "~~~~~~~~~~~~Table of 16~~~~~~~~~~~~~~~~~\n",
      "16X1=16\n",
      "16X2=32\n",
      "16X3=48\n",
      "16X4=64\n",
      "16X5=80\n",
      "16X6=96\n",
      "16X7=112\n",
      "16X8=128\n",
      "16X9=144\n",
      "16X10=160\n",
      "\n",
      "~~~~~~~~~~~~Table of 17~~~~~~~~~~~~~~~~~\n",
      "17X1=17\n",
      "17X2=34\n",
      "17X3=51\n",
      "17X4=68\n",
      "17X5=85\n",
      "17X6=102\n",
      "17X7=119\n",
      "17X8=136\n",
      "17X9=153\n",
      "17X10=170\n",
      "\n",
      "~~~~~~~~~~~~Table of 18~~~~~~~~~~~~~~~~~\n",
      "18X1=18\n",
      "18X2=36\n",
      "18X3=54\n",
      "18X4=72\n",
      "18X5=90\n",
      "18X6=108\n",
      "18X7=126\n",
      "18X8=144\n",
      "18X9=162\n",
      "18X10=180\n",
      "\n",
      "~~~~~~~~~~~~Table of 19~~~~~~~~~~~~~~~~~\n",
      "19X1=19\n",
      "19X2=38\n",
      "19X3=57\n",
      "19X4=76\n",
      "19X5=95\n",
      "19X6=114\n",
      "19X7=133\n",
      "19X8=152\n",
      "19X9=171\n",
      "19X10=190\n",
      "\n",
      "~~~~~~~~~~~~Table of 20~~~~~~~~~~~~~~~~~\n",
      "20X1=20\n",
      "20X2=40\n",
      "20X3=60\n",
      "20X4=80\n",
      "20X5=100\n",
      "20X6=120\n",
      "20X7=140\n",
      "20X8=160\n",
      "20X9=180\n",
      "20X10=200\n",
      "\n",
      "~~~~~~~~~~~~Table of 21~~~~~~~~~~~~~~~~~\n",
      "21X1=21\n",
      "21X2=42\n",
      "21X3=63\n",
      "21X4=84\n",
      "21X5=105\n",
      "21X6=126\n",
      "21X7=147\n",
      "21X8=168\n",
      "21X9=189\n",
      "21X10=210\n",
      "\n",
      "~~~~~~~~~~~~Table of 22~~~~~~~~~~~~~~~~~\n",
      "22X1=22\n",
      "22X2=44\n",
      "22X3=66\n",
      "22X4=88\n",
      "22X5=110\n",
      "22X6=132\n",
      "22X7=154\n",
      "22X8=176\n",
      "22X9=198\n",
      "22X10=220\n",
      "\n",
      "~~~~~~~~~~~~Table of 23~~~~~~~~~~~~~~~~~\n",
      "23X1=23\n",
      "23X2=46\n",
      "23X3=69\n",
      "23X4=92\n",
      "23X5=115\n",
      "23X6=138\n",
      "23X7=161\n",
      "23X8=184\n",
      "23X9=207\n",
      "23X10=230\n",
      "\n",
      "~~~~~~~~~~~~Table of 24~~~~~~~~~~~~~~~~~\n",
      "24X1=24\n",
      "24X2=48\n",
      "24X3=72\n",
      "24X4=96\n",
      "24X5=120\n",
      "24X6=144\n",
      "24X7=168\n",
      "24X8=192\n",
      "24X9=216\n",
      "24X10=240\n",
      "\n",
      "~~~~~~~~~~~~Table of 25~~~~~~~~~~~~~~~~~\n",
      "25X1=25\n",
      "25X2=50\n",
      "25X3=75\n",
      "25X4=100\n",
      "25X5=125\n",
      "25X6=150\n",
      "25X7=175\n",
      "25X8=200\n",
      "25X9=225\n",
      "25X10=250\n",
      "\n",
      "~~~~~~~~~~~~Table of 26~~~~~~~~~~~~~~~~~\n",
      "26X1=26\n",
      "26X2=52\n",
      "26X3=78\n",
      "26X4=104\n",
      "26X5=130\n",
      "26X6=156\n",
      "26X7=182\n",
      "26X8=208\n",
      "26X9=234\n",
      "26X10=260\n",
      "\n",
      "~~~~~~~~~~~~Table of 27~~~~~~~~~~~~~~~~~\n",
      "27X1=27\n",
      "27X2=54\n",
      "27X3=81\n",
      "27X4=108\n",
      "27X5=135\n",
      "27X6=162\n",
      "27X7=189\n",
      "27X8=216\n",
      "27X9=243\n",
      "27X10=270\n",
      "\n",
      "~~~~~~~~~~~~Table of 28~~~~~~~~~~~~~~~~~\n",
      "28X1=28\n",
      "28X2=56\n",
      "28X3=84\n",
      "28X4=112\n",
      "28X5=140\n",
      "28X6=168\n",
      "28X7=196\n",
      "28X8=224\n",
      "28X9=252\n",
      "28X10=280\n",
      "\n",
      "~~~~~~~~~~~~Table of 29~~~~~~~~~~~~~~~~~\n",
      "29X1=29\n",
      "29X2=58\n",
      "29X3=87\n",
      "29X4=116\n",
      "29X5=145\n",
      "29X6=174\n",
      "29X7=203\n",
      "29X8=232\n",
      "29X9=261\n",
      "29X10=290\n",
      "\n",
      "~~~~~~~~~~~~Table of 30~~~~~~~~~~~~~~~~~\n",
      "30X1=30\n",
      "30X2=60\n",
      "30X3=90\n",
      "30X4=120\n",
      "30X5=150\n",
      "30X6=180\n",
      "30X7=210\n",
      "30X8=240\n",
      "30X9=270\n",
      "30X10=300\n",
      "\n",
      "~~~~~~~~~~~~Table of 31~~~~~~~~~~~~~~~~~\n",
      "31X1=31\n",
      "31X2=62\n",
      "31X3=93\n",
      "31X4=124\n",
      "31X5=155\n",
      "31X6=186\n",
      "31X7=217\n",
      "31X8=248\n",
      "31X9=279\n",
      "31X10=310\n",
      "\n",
      "~~~~~~~~~~~~Table of 32~~~~~~~~~~~~~~~~~\n",
      "32X1=32\n",
      "32X2=64\n",
      "32X3=96\n",
      "32X4=128\n",
      "32X5=160\n",
      "32X6=192\n",
      "32X7=224\n",
      "32X8=256\n",
      "32X9=288\n",
      "32X10=320\n",
      "\n",
      "~~~~~~~~~~~~Table of 33~~~~~~~~~~~~~~~~~\n",
      "33X1=33\n",
      "33X2=66\n",
      "33X3=99\n",
      "33X4=132\n",
      "33X5=165\n",
      "33X6=198\n",
      "33X7=231\n",
      "33X8=264\n",
      "33X9=297\n",
      "33X10=330\n",
      "\n",
      "~~~~~~~~~~~~Table of 34~~~~~~~~~~~~~~~~~\n",
      "34X1=34\n",
      "34X2=68\n",
      "34X3=102\n",
      "34X4=136\n",
      "34X5=170\n",
      "34X6=204\n",
      "34X7=238\n",
      "34X8=272\n",
      "34X9=306\n",
      "34X10=340\n",
      "\n",
      "~~~~~~~~~~~~Table of 35~~~~~~~~~~~~~~~~~\n",
      "35X1=35\n",
      "35X2=70\n",
      "35X3=105\n",
      "35X4=140\n",
      "35X5=175\n",
      "35X6=210\n",
      "35X7=245\n",
      "35X8=280\n",
      "35X9=315\n",
      "35X10=350\n",
      "\n",
      "~~~~~~~~~~~~Table of 36~~~~~~~~~~~~~~~~~\n",
      "36X1=36\n",
      "36X2=72\n",
      "36X3=108\n",
      "36X4=144\n",
      "36X5=180\n",
      "36X6=216\n",
      "36X7=252\n",
      "36X8=288\n",
      "36X9=324\n",
      "36X10=360\n",
      "\n",
      "~~~~~~~~~~~~Table of 37~~~~~~~~~~~~~~~~~\n",
      "37X1=37\n",
      "37X2=74\n",
      "37X3=111\n",
      "37X4=148\n",
      "37X5=185\n",
      "37X6=222\n",
      "37X7=259\n",
      "37X8=296\n",
      "37X9=333\n",
      "37X10=370\n",
      "\n",
      "~~~~~~~~~~~~Table of 38~~~~~~~~~~~~~~~~~\n",
      "38X1=38\n",
      "38X2=76\n",
      "38X3=114\n",
      "38X4=152\n",
      "38X5=190\n",
      "38X6=228\n",
      "38X7=266\n",
      "38X8=304\n",
      "38X9=342\n",
      "38X10=380\n",
      "\n",
      "~~~~~~~~~~~~Table of 39~~~~~~~~~~~~~~~~~\n",
      "39X1=39\n",
      "39X2=78\n",
      "39X3=117\n",
      "39X4=156\n",
      "39X5=195\n",
      "39X6=234\n",
      "39X7=273\n",
      "39X8=312\n",
      "39X9=351\n",
      "39X10=390\n",
      "\n",
      "~~~~~~~~~~~~Table of 40~~~~~~~~~~~~~~~~~\n",
      "40X1=40\n",
      "40X2=80\n",
      "40X3=120\n",
      "40X4=160\n",
      "40X5=200\n",
      "40X6=240\n",
      "40X7=280\n",
      "40X8=320\n",
      "40X9=360\n",
      "40X10=400\n"
     ]
    }
   ],
   "source": [
    "# 1-40 , 1,2,3,4,5,6,7,8,9,10,11,12,13,14,15........................................40\n",
    "# 1-10\n",
    "\n",
    "\n",
    "# nested loop \n",
    "# outer loop \n",
    "# inner loop \n",
    "\n",
    "for i in range(1,41):\n",
    "    print(f\"\\n~~~~~~~~~~~~Table of {i}~~~~~~~~~~~~~~~~~\")\n",
    "    for j in range(1,11):\n",
    "        print('{}X{}={}'.format(i,j,i*j))\n",
    "    # print(i)\n"
   ]
  },
  {
   "cell_type": "code",
   "execution_count": 43,
   "id": "66b3e236-ffa7-4b41-9e47-eb61aa82dfa9",
   "metadata": {},
   "outputs": [
    {
     "name": "stdout",
     "output_type": "stream",
     "text": [
      "~~~~~~~~~~~~~~~~Table of 1~~~~~~~~~~~~~~~\n",
      "1X1=1\n",
      "1X2=2\n",
      "1X3=3\n",
      "1X4=4\n",
      "1X5=5\n",
      "1X6=6\n",
      "1X7=7\n",
      "1X8=8\n",
      "1X9=9\n",
      "1X10=10\n",
      "~~~~~~~~~~~~~~~~Table of 2~~~~~~~~~~~~~~~\n",
      "2X1=2\n",
      "2X2=4\n",
      "2X3=6\n",
      "2X4=8\n",
      "2X5=10\n",
      "2X6=12\n",
      "2X7=14\n",
      "2X8=16\n",
      "2X9=18\n",
      "2X10=20\n",
      "~~~~~~~~~~~~~~~~Table of 3~~~~~~~~~~~~~~~\n",
      "3X1=3\n",
      "3X2=6\n",
      "3X3=9\n",
      "3X4=12\n",
      "3X5=15\n",
      "3X6=18\n",
      "3X7=21\n",
      "3X8=24\n",
      "3X9=27\n",
      "3X10=30\n",
      "~~~~~~~~~~~~~~~~Table of 4~~~~~~~~~~~~~~~\n",
      "4X1=4\n",
      "4X2=8\n",
      "4X3=12\n",
      "4X4=16\n",
      "4X5=20\n",
      "4X6=24\n",
      "4X7=28\n",
      "4X8=32\n",
      "4X9=36\n",
      "4X10=40\n",
      "~~~~~~~~~~~~~~~~Table of 5~~~~~~~~~~~~~~~\n",
      "5X1=5\n",
      "5X2=10\n",
      "5X3=15\n",
      "5X4=20\n",
      "5X5=25\n",
      "5X6=30\n",
      "5X7=35\n",
      "5X8=40\n",
      "5X9=45\n",
      "5X10=50\n",
      "~~~~~~~~~~~~~~~~Table of 6~~~~~~~~~~~~~~~\n",
      "6X1=6\n",
      "6X2=12\n",
      "6X3=18\n",
      "6X4=24\n",
      "6X5=30\n",
      "6X6=36\n",
      "6X7=42\n",
      "6X8=48\n",
      "6X9=54\n",
      "6X10=60\n",
      "~~~~~~~~~~~~~~~~Table of 7~~~~~~~~~~~~~~~\n",
      "7X1=7\n",
      "7X2=14\n",
      "7X3=21\n",
      "7X4=28\n",
      "7X5=35\n",
      "7X6=42\n",
      "7X7=49\n",
      "7X8=56\n",
      "7X9=63\n",
      "7X10=70\n",
      "~~~~~~~~~~~~~~~~Table of 8~~~~~~~~~~~~~~~\n",
      "8X1=8\n",
      "8X2=16\n",
      "8X3=24\n",
      "8X4=32\n",
      "8X5=40\n",
      "8X6=48\n",
      "8X7=56\n",
      "8X8=64\n",
      "8X9=72\n",
      "8X10=80\n",
      "~~~~~~~~~~~~~~~~Table of 9~~~~~~~~~~~~~~~\n",
      "9X1=9\n",
      "9X2=18\n",
      "9X3=27\n",
      "9X4=36\n",
      "9X5=45\n",
      "9X6=54\n",
      "9X7=63\n",
      "9X8=72\n",
      "9X9=81\n",
      "9X10=90\n",
      "~~~~~~~~~~~~~~~~Table of 10~~~~~~~~~~~~~~~\n",
      "10X1=10\n",
      "10X2=20\n",
      "10X3=30\n",
      "10X4=40\n",
      "10X5=50\n",
      "10X6=60\n",
      "10X7=70\n",
      "10X8=80\n",
      "10X9=90\n",
      "10X10=100\n",
      "~~~~~~~~~~~~~~~~Table of 11~~~~~~~~~~~~~~~\n",
      "11X1=11\n",
      "11X2=22\n",
      "11X3=33\n",
      "11X4=44\n",
      "11X5=55\n",
      "11X6=66\n",
      "11X7=77\n",
      "11X8=88\n",
      "11X9=99\n",
      "11X10=110\n",
      "~~~~~~~~~~~~~~~~Table of 12~~~~~~~~~~~~~~~\n",
      "12X1=12\n",
      "12X2=24\n",
      "12X3=36\n",
      "12X4=48\n",
      "12X5=60\n",
      "12X6=72\n",
      "12X7=84\n",
      "12X8=96\n",
      "12X9=108\n",
      "12X10=120\n",
      "~~~~~~~~~~~~~~~~Table of 13~~~~~~~~~~~~~~~\n",
      "13X1=13\n",
      "13X2=26\n",
      "13X3=39\n",
      "13X4=52\n",
      "13X5=65\n",
      "13X6=78\n",
      "13X7=91\n",
      "13X8=104\n",
      "13X9=117\n",
      "13X10=130\n",
      "~~~~~~~~~~~~~~~~Table of 14~~~~~~~~~~~~~~~\n",
      "14X1=14\n",
      "14X2=28\n",
      "14X3=42\n",
      "14X4=56\n",
      "14X5=70\n",
      "14X6=84\n",
      "14X7=98\n",
      "14X8=112\n",
      "14X9=126\n",
      "14X10=140\n",
      "~~~~~~~~~~~~~~~~Table of 15~~~~~~~~~~~~~~~\n",
      "15X1=15\n",
      "15X2=30\n",
      "15X3=45\n",
      "15X4=60\n",
      "15X5=75\n",
      "15X6=90\n",
      "15X7=105\n",
      "15X8=120\n",
      "15X9=135\n",
      "15X10=150\n",
      "~~~~~~~~~~~~~~~~Table of 16~~~~~~~~~~~~~~~\n",
      "16X1=16\n",
      "16X2=32\n",
      "16X3=48\n",
      "16X4=64\n",
      "16X5=80\n",
      "16X6=96\n",
      "16X7=112\n",
      "16X8=128\n",
      "16X9=144\n",
      "16X10=160\n",
      "~~~~~~~~~~~~~~~~Table of 17~~~~~~~~~~~~~~~\n",
      "17X1=17\n",
      "17X2=34\n",
      "17X3=51\n",
      "17X4=68\n",
      "17X5=85\n",
      "17X6=102\n",
      "17X7=119\n",
      "17X8=136\n",
      "17X9=153\n",
      "17X10=170\n",
      "~~~~~~~~~~~~~~~~Table of 18~~~~~~~~~~~~~~~\n",
      "18X1=18\n",
      "18X2=36\n",
      "18X3=54\n",
      "18X4=72\n",
      "18X5=90\n",
      "18X6=108\n",
      "18X7=126\n",
      "18X8=144\n",
      "18X9=162\n",
      "18X10=180\n",
      "~~~~~~~~~~~~~~~~Table of 19~~~~~~~~~~~~~~~\n",
      "19X1=19\n",
      "19X2=38\n",
      "19X3=57\n",
      "19X4=76\n",
      "19X5=95\n",
      "19X6=114\n",
      "19X7=133\n",
      "19X8=152\n",
      "19X9=171\n",
      "19X10=190\n",
      "~~~~~~~~~~~~~~~~Table of 20~~~~~~~~~~~~~~~\n",
      "20X1=20\n",
      "20X2=40\n",
      "20X3=60\n",
      "20X4=80\n",
      "20X5=100\n",
      "20X6=120\n",
      "20X7=140\n",
      "20X8=160\n",
      "20X9=180\n",
      "20X10=200\n",
      "~~~~~~~~~~~~~~~~Table of 21~~~~~~~~~~~~~~~\n",
      "21X1=21\n",
      "21X2=42\n",
      "21X3=63\n",
      "21X4=84\n",
      "21X5=105\n",
      "21X6=126\n",
      "21X7=147\n",
      "21X8=168\n",
      "21X9=189\n",
      "21X10=210\n",
      "~~~~~~~~~~~~~~~~Table of 22~~~~~~~~~~~~~~~\n",
      "22X1=22\n",
      "22X2=44\n",
      "22X3=66\n",
      "22X4=88\n",
      "22X5=110\n",
      "22X6=132\n",
      "22X7=154\n",
      "22X8=176\n",
      "22X9=198\n",
      "22X10=220\n",
      "~~~~~~~~~~~~~~~~Table of 23~~~~~~~~~~~~~~~\n",
      "23X1=23\n",
      "23X2=46\n",
      "23X3=69\n",
      "23X4=92\n",
      "23X5=115\n",
      "23X6=138\n",
      "23X7=161\n",
      "23X8=184\n",
      "23X9=207\n",
      "23X10=230\n",
      "~~~~~~~~~~~~~~~~Table of 24~~~~~~~~~~~~~~~\n",
      "24X1=24\n",
      "24X2=48\n",
      "24X3=72\n",
      "24X4=96\n",
      "24X5=120\n",
      "24X6=144\n",
      "24X7=168\n",
      "24X8=192\n",
      "24X9=216\n",
      "24X10=240\n",
      "~~~~~~~~~~~~~~~~Table of 25~~~~~~~~~~~~~~~\n",
      "25X1=25\n",
      "25X2=50\n",
      "25X3=75\n",
      "25X4=100\n",
      "25X5=125\n",
      "25X6=150\n",
      "25X7=175\n",
      "25X8=200\n",
      "25X9=225\n",
      "25X10=250\n",
      "~~~~~~~~~~~~~~~~Table of 26~~~~~~~~~~~~~~~\n",
      "26X1=26\n",
      "26X2=52\n",
      "26X3=78\n",
      "26X4=104\n",
      "26X5=130\n",
      "26X6=156\n",
      "26X7=182\n",
      "26X8=208\n",
      "26X9=234\n",
      "26X10=260\n",
      "~~~~~~~~~~~~~~~~Table of 27~~~~~~~~~~~~~~~\n",
      "27X1=27\n",
      "27X2=54\n",
      "27X3=81\n",
      "27X4=108\n",
      "27X5=135\n",
      "27X6=162\n",
      "27X7=189\n",
      "27X8=216\n",
      "27X9=243\n",
      "27X10=270\n",
      "~~~~~~~~~~~~~~~~Table of 28~~~~~~~~~~~~~~~\n",
      "28X1=28\n",
      "28X2=56\n",
      "28X3=84\n",
      "28X4=112\n",
      "28X5=140\n",
      "28X6=168\n",
      "28X7=196\n",
      "28X8=224\n",
      "28X9=252\n",
      "28X10=280\n",
      "~~~~~~~~~~~~~~~~Table of 29~~~~~~~~~~~~~~~\n",
      "29X1=29\n",
      "29X2=58\n",
      "29X3=87\n",
      "29X4=116\n",
      "29X5=145\n",
      "29X6=174\n",
      "29X7=203\n",
      "29X8=232\n",
      "29X9=261\n",
      "29X10=290\n",
      "~~~~~~~~~~~~~~~~Table of 30~~~~~~~~~~~~~~~\n",
      "30X1=30\n",
      "30X2=60\n",
      "30X3=90\n",
      "30X4=120\n",
      "30X5=150\n",
      "30X6=180\n",
      "30X7=210\n",
      "30X8=240\n",
      "30X9=270\n",
      "30X10=300\n",
      "~~~~~~~~~~~~~~~~Table of 31~~~~~~~~~~~~~~~\n",
      "31X1=31\n",
      "31X2=62\n",
      "31X3=93\n",
      "31X4=124\n",
      "31X5=155\n",
      "31X6=186\n",
      "31X7=217\n",
      "31X8=248\n",
      "31X9=279\n",
      "31X10=310\n",
      "~~~~~~~~~~~~~~~~Table of 32~~~~~~~~~~~~~~~\n",
      "32X1=32\n",
      "32X2=64\n",
      "32X3=96\n",
      "32X4=128\n",
      "32X5=160\n",
      "32X6=192\n",
      "32X7=224\n",
      "32X8=256\n",
      "32X9=288\n",
      "32X10=320\n",
      "~~~~~~~~~~~~~~~~Table of 33~~~~~~~~~~~~~~~\n",
      "33X1=33\n",
      "33X2=66\n",
      "33X3=99\n",
      "33X4=132\n",
      "33X5=165\n",
      "33X6=198\n",
      "33X7=231\n",
      "33X8=264\n",
      "33X9=297\n",
      "33X10=330\n",
      "~~~~~~~~~~~~~~~~Table of 34~~~~~~~~~~~~~~~\n",
      "34X1=34\n",
      "34X2=68\n",
      "34X3=102\n",
      "34X4=136\n",
      "34X5=170\n",
      "34X6=204\n",
      "34X7=238\n",
      "34X8=272\n",
      "34X9=306\n",
      "34X10=340\n",
      "~~~~~~~~~~~~~~~~Table of 35~~~~~~~~~~~~~~~\n",
      "35X1=35\n",
      "35X2=70\n",
      "35X3=105\n",
      "35X4=140\n",
      "35X5=175\n",
      "35X6=210\n",
      "35X7=245\n",
      "35X8=280\n",
      "35X9=315\n",
      "35X10=350\n",
      "~~~~~~~~~~~~~~~~Table of 36~~~~~~~~~~~~~~~\n",
      "36X1=36\n",
      "36X2=72\n",
      "36X3=108\n",
      "36X4=144\n",
      "36X5=180\n",
      "36X6=216\n",
      "36X7=252\n",
      "36X8=288\n",
      "36X9=324\n",
      "36X10=360\n",
      "~~~~~~~~~~~~~~~~Table of 37~~~~~~~~~~~~~~~\n",
      "37X1=37\n",
      "37X2=74\n",
      "37X3=111\n",
      "37X4=148\n",
      "37X5=185\n",
      "37X6=222\n",
      "37X7=259\n",
      "37X8=296\n",
      "37X9=333\n",
      "37X10=370\n",
      "~~~~~~~~~~~~~~~~Table of 38~~~~~~~~~~~~~~~\n",
      "38X1=38\n",
      "38X2=76\n",
      "38X3=114\n",
      "38X4=152\n",
      "38X5=190\n",
      "38X6=228\n",
      "38X7=266\n",
      "38X8=304\n",
      "38X9=342\n",
      "38X10=380\n",
      "~~~~~~~~~~~~~~~~Table of 39~~~~~~~~~~~~~~~\n",
      "39X1=39\n",
      "39X2=78\n",
      "39X3=117\n",
      "39X4=156\n",
      "39X5=195\n",
      "39X6=234\n",
      "39X7=273\n",
      "39X8=312\n",
      "39X9=351\n",
      "39X10=390\n",
      "~~~~~~~~~~~~~~~~Table of 40~~~~~~~~~~~~~~~\n",
      "40X1=40\n",
      "40X2=80\n",
      "40X3=120\n",
      "40X4=160\n",
      "40X5=200\n",
      "40X6=240\n",
      "40X7=280\n",
      "40X8=320\n",
      "40X9=360\n",
      "40X10=400\n"
     ]
    }
   ],
   "source": [
    "i=1\n",
    "j=41\n",
    "\n",
    "while i<j:\n",
    "    # print(i)\n",
    "    print(f\"~~~~~~~~~~~~~~~~Table of {i}~~~~~~~~~~~~~~~\")\n",
    "    k=1\n",
    "    l=11\n",
    "    while k<l:\n",
    "        # print(k)\n",
    "        print('{}X{}={}'.format(i,k,i*k))\n",
    "        k+=1\n",
    "    i+=1"
   ]
  },
  {
   "cell_type": "code",
   "execution_count": 1,
   "id": "54b843a6-2c2d-4f15-a51c-95c34c0c871a",
   "metadata": {},
   "outputs": [
    {
     "name": "stdout",
     "output_type": "stream",
     "text": [
      "1\n",
      "2\n",
      "3\n",
      "4\n",
      "5\n",
      "6\n",
      "7\n",
      "8\n",
      "9\n",
      "10\n"
     ]
    }
   ],
   "source": [
    "#1. Print numbers from 1 to 10 using a for loop.\n",
    "for i in range(1,11):\n",
    "    print(i)\n"
   ]
  },
  {
   "cell_type": "code",
   "execution_count": 2,
   "id": "9aae2692-f8b5-4c3d-90ca-bcea3e14c9df",
   "metadata": {},
   "outputs": [
    {
     "name": "stdout",
     "output_type": "stream",
     "text": [
      "1\n",
      "2\n",
      "3\n",
      "4\n",
      "5\n",
      "6\n",
      "7\n",
      "8\n",
      "9\n",
      "10\n"
     ]
    }
   ],
   "source": [
    "i = 1\n",
    "j = 11\n",
    "\n",
    "while i<j:\n",
    "    print(i)\n",
    "    i+=1"
   ]
  },
  {
   "cell_type": "code",
   "execution_count": 4,
   "id": "1a92f4b0-a0df-415d-9691-97d23578107d",
   "metadata": {},
   "outputs": [
    {
     "name": "stdout",
     "output_type": "stream",
     "text": [
      "2 4 6 8 10 12 14 16 18 20 22 24 26 28 30 32 34 36 38 40 42 44 46 48 50 52 54 56 58 60 62 64 66 68 70 72 74 76 78 80 82 84 86 88 90 92 94 96 98 100 "
     ]
    }
   ],
   "source": [
    "#2. Print all even numbers between 1 and 100.\n",
    "for num in range (1,101):\n",
    "    if num%2==0:\n",
    "        print(num,end=\" \")"
   ]
  },
  {
   "cell_type": "code",
   "execution_count": 5,
   "id": "a5ccffde-6094-47dd-9f1e-27ed02d21b6e",
   "metadata": {},
   "outputs": [
    {
     "name": "stdout",
     "output_type": "stream",
     "text": [
      "2 4 6 8 10 12 14 16 18 20 22 24 26 28 30 32 34 36 38 40 42 44 46 48 50 52 54 56 58 60 62 64 66 68 70 72 74 76 78 80 82 84 86 88 90 92 94 96 98 100 "
     ]
    }
   ],
   "source": [
    "i = 1\n",
    "j = 101\n",
    "\n",
    "while i<j :\n",
    "    if i%2==0:\n",
    "        print(i, end=\" \")\n",
    "    i+=1"
   ]
  },
  {
   "cell_type": "code",
   "execution_count": 6,
   "id": "e6b3d6fc-cc8b-4fcf-91d2-cbd26dc1e908",
   "metadata": {},
   "outputs": [
    {
     "name": "stdin",
     "output_type": "stream",
     "text": [
      "Enter a number: 78\n"
     ]
    },
    {
     "name": "stdout",
     "output_type": "stream",
     "text": [
      "78x1=78\n",
      "78x2=156\n",
      "78x3=234\n",
      "78x4=312\n",
      "78x5=390\n",
      "78x6=468\n",
      "78x7=546\n",
      "78x8=624\n",
      "78x9=702\n",
      "78x10=780\n"
     ]
    }
   ],
   "source": [
    "#3. Print the table of a given number (e.g., input 5 → 5, 10, 15, … 50).\n",
    "num = int(input(\"Enter a number:\"))\n",
    "\n",
    "for i in range(num,(num+1)):\n",
    "    #num = int(input(\"Enter a number:\"))\n",
    "    for j in range(1,11):\n",
    "            print(f\"{i}x{j}={i*j}\")"
   ]
  },
  {
   "cell_type": "code",
   "execution_count": 7,
   "id": "99db8bb7-28bd-4360-bfc5-b20269b755e1",
   "metadata": {},
   "outputs": [
    {
     "name": "stdin",
     "output_type": "stream",
     "text": [
      "Enter the num: 78\n"
     ]
    },
    {
     "name": "stdout",
     "output_type": "stream",
     "text": [
      "78x1=78\n",
      "78x2=156\n",
      "78x3=234\n",
      "78x4=312\n",
      "78x5=390\n",
      "78x6=468\n",
      "78x7=546\n",
      "78x8=624\n",
      "78x9=702\n",
      "78x10=780\n"
     ]
    }
   ],
   "source": [
    "i = int(input(\"Enter the num:\"))\n",
    "j = 1\n",
    "k = 11\n",
    "\n",
    "while j<k:\n",
    "    print(f\"{i}x{j}={i*j}\")\n",
    "    j+=1"
   ]
  },
  {
   "cell_type": "code",
   "execution_count": 11,
   "id": "32f9bd7c-c6d2-48d6-8d21-e254be7478a3",
   "metadata": {},
   "outputs": [
    {
     "name": "stdin",
     "output_type": "stream",
     "text": [
      "Enter any number: 10\n"
     ]
    },
    {
     "name": "stdout",
     "output_type": "stream",
     "text": [
      "55\n"
     ]
    }
   ],
   "source": [
    "#4. Calculate the sum of numbers from 1 to n.\n",
    "\n",
    "n = int(input(\"Enter any number:\"))\n",
    "sum1=0\n",
    "for i in range(1,n+1):\n",
    "    sum1 = sum1 + i\n",
    "    i+=1\n",
    "print(sum1)\n"
   ]
  },
  {
   "cell_type": "code",
   "execution_count": 13,
   "id": "733ba85e-9084-441c-a407-586ecbdd7874",
   "metadata": {},
   "outputs": [
    {
     "name": "stdin",
     "output_type": "stream",
     "text": [
      "Enter any number: 10\n"
     ]
    },
    {
     "name": "stdout",
     "output_type": "stream",
     "text": [
      "55\n"
     ]
    }
   ],
   "source": [
    "n = int(input(\"Enter any number:\"))\n",
    "i = 1\n",
    "j = n+1\n",
    "sum1=0\n",
    "while i<j:\n",
    "    sum1 = sum1 + i\n",
    "    i+=1\n",
    "print(sum1)"
   ]
  },
  {
   "cell_type": "code",
   "execution_count": 17,
   "id": "6a213f55-7b00-4fd8-9263-9411fe4b9080",
   "metadata": {},
   "outputs": [
    {
     "name": "stdin",
     "output_type": "stream",
     "text": [
      "Enter the number: 5\n"
     ]
    },
    {
     "name": "stdout",
     "output_type": "stream",
     "text": [
      "120\n"
     ]
    }
   ],
   "source": [
    "#5. Calculate the factorial of a number using a loop.\n",
    "num = int(input(\"Enter the number:\"))\n",
    "for i in range(1,(num)): \n",
    "    num*=i\n",
    "print(f\"{num}\")"
   ]
  },
  {
   "cell_type": "code",
   "execution_count": 19,
   "id": "0c2770cc-f339-47f8-83b2-9c0b0d7c34bf",
   "metadata": {},
   "outputs": [
    {
     "name": "stdin",
     "output_type": "stream",
     "text": [
      "Enter the number: 5\n"
     ]
    },
    {
     "name": "stdout",
     "output_type": "stream",
     "text": [
      "Factorial of given number 5 is: 120\n"
     ]
    }
   ],
   "source": [
    "num = int(input(\"Enter the number:\"))\n",
    "\n",
    "i=1\n",
    "fact = 1\n",
    "while i<num+1:\n",
    "    # print(i)\n",
    "    fact = fact*i\n",
    "    i+=1\n",
    "print(f\"Factorial of given number {num} is: {fact}\")"
   ]
  },
  {
   "cell_type": "code",
   "execution_count": 20,
   "id": "467fd099-76de-4a13-abc8-13e91a09ccfa",
   "metadata": {},
   "outputs": [
    {
     "name": "stdout",
     "output_type": "stream",
     "text": [
      "15\n",
      "30\n",
      "45\n",
      "60\n",
      "75\n",
      "90\n"
     ]
    }
   ],
   "source": [
    "#6. Print all numbers divisible by 3 and 5 from 1 to 100.\n",
    "for i in range(1,100):\n",
    "    if i%3==0 and i%5==0:\n",
    "        print(i)"
   ]
  },
  {
   "cell_type": "code",
   "execution_count": 24,
   "id": "36aed0cc-7464-491c-bce5-fe68f6082928",
   "metadata": {},
   "outputs": [
    {
     "name": "stdout",
     "output_type": "stream",
     "text": [
      "15\n",
      "30\n",
      "45\n",
      "60\n",
      "75\n",
      "90\n"
     ]
    }
   ],
   "source": [
    "i = 1\n",
    "j = 100\n",
    "\n",
    "while i<j+1:\n",
    "    if i%3==0 and i%5==0:\n",
    "         print(i)\n",
    "    i+=1  # increment value"
   ]
  },
  {
   "cell_type": "code",
   "execution_count": 29,
   "id": "c934f2be-55f2-474d-9293-8d53a62438b7",
   "metadata": {},
   "outputs": [
    {
     "name": "stdout",
     "output_type": "stream",
     "text": [
      "51561614\n"
     ]
    }
   ],
   "source": [
    "#7. Print the reverse of a given number (e.g., 123 → 321).\n",
    "\n",
    "num = \"41616515\"\n",
    "\n",
    "revNum = \"\" # 1, 21, 321\n",
    "for i in num:\n",
    "    revNum = i + revNum  # 1, 21, 3+21\n",
    "print(revNum)"
   ]
  },
  {
   "cell_type": "code",
   "execution_count": 37,
   "id": "f6ff75e6-44af-4e8a-b46e-376ac65ce7c8",
   "metadata": {},
   "outputs": [
    {
     "name": "stdin",
     "output_type": "stream",
     "text": [
      "Enter any value:  159877\n"
     ]
    },
    {
     "name": "stdout",
     "output_type": "stream",
     "text": [
      "After Reversed Value is: 778951\n"
     ]
    }
   ],
   "source": [
    "num=input(\"Enter any value: \")  # 654\n",
    "\n",
    "i=0\n",
    "\n",
    "revNum = \"\"\n",
    "while i< len(num):\n",
    "    # print(num[i])\n",
    "    revNum = num[i] + revNum\n",
    "    i+=1\n",
    "print(\"After Reversed Value is:\",revNum)"
   ]
  },
  {
   "cell_type": "code",
   "execution_count": 44,
   "id": "25a442d8-2eac-4145-8e5a-928c64f06e09",
   "metadata": {},
   "outputs": [
    {
     "name": "stdout",
     "output_type": "stream",
     "text": [
      "Total Number of value is: 24\n"
     ]
    }
   ],
   "source": [
    "#8. Count digits in a number using a loop.\n",
    "\n",
    "num = \"123548562545845465844889\"\n",
    "\n",
    "count=0\n",
    "for i in num:\n",
    "    count = count+1\n",
    "print(\"Total Number of value is:\",count)"
   ]
  },
  {
   "cell_type": "code",
   "execution_count": 54,
   "id": "671100e6-6a0e-4eac-b608-9c7e4eca42b5",
   "metadata": {},
   "outputs": [
    {
     "name": "stdin",
     "output_type": "stream",
     "text": [
      "enter your name 1apple\n"
     ]
    },
    {
     "name": "stdout",
     "output_type": "stream",
     "text": [
      "Username is invalid. 1apple\n"
     ]
    }
   ],
   "source": [
    "# 24. Write a Python program to check if a *username* starts with a letter and not a number.\n",
    "\n",
    "username = input(\"enter your name\")\n",
    "\n",
    "# num.isalpha()\n",
    "\n",
    "if username[0].isalpha():\n",
    "    print(\"Username is Valid.\",username)\n",
    "else:\n",
    "    print(\"Username is invalid.\",username)"
   ]
  },
  {
   "cell_type": "code",
   "execution_count": 59,
   "id": "3fc3f2a0-d853-4cd3-8ebf-e252633f4b0e",
   "metadata": {},
   "outputs": [
    {
     "name": "stdin",
     "output_type": "stream",
     "text": [
      "enter your name al;sjfa\n"
     ]
    },
    {
     "name": "stdout",
     "output_type": "stream",
     "text": [
      "Invalid Input\n"
     ]
    }
   ],
   "source": [
    "# 30. Write a Python program to check whether an input string is, **only spaces, or **contains characters*.\n",
    "\n",
    "username = input(\"enter your name\")\n",
    "# print(username)\n",
    "\n",
    "# isalpha()\n",
    "\n",
    "if username == \" \":\n",
    "    print(\"only space defines in username\")\n",
    "elif username.isalpha():\n",
    "    print(\"Value contains characters\")\n",
    "else:\n",
    "    print(\"Invalid Input\")"
   ]
  },
  {
   "cell_type": "code",
   "execution_count": 1,
   "id": "a1dc7534-2d75-4e6c-b336-fdd341d79e69",
   "metadata": {},
   "outputs": [],
   "source": [
    "# isdigit()  # digits\n",
    "# isalpha()  # only alphabets\n",
    "# islower() # is value is in lower or not\n",
    "# isupper() #  is valie is in upper or not\n",
    "# isalnum() # alphabets and numeric value\n",
    "\n",
    "# else: special characters.\n"
   ]
  },
  {
   "cell_type": "code",
   "execution_count": 2,
   "id": "aba90a59-2436-4af4-84d5-79a255e33783",
   "metadata": {},
   "outputs": [
    {
     "name": "stdin",
     "output_type": "stream",
     "text": [
      "Enter the number: 10\n"
     ]
    },
    {
     "name": "stdout",
     "output_type": "stream",
     "text": [
      "01\n"
     ]
    }
   ],
   "source": [
    "#7. Print the reverse of a given number (e.g., 123 → 321).\n",
    "num = input(\"Enter the number:\")\n",
    "\n",
    "revNum = \"\"\n",
    "\n",
    "for i in num:\n",
    "    revNum = i + revNum\n",
    "print(revNum)\n"
   ]
  },
  {
   "cell_type": "code",
   "execution_count": 3,
   "id": "b648d85d-f5ab-420d-829f-d023547f914b",
   "metadata": {},
   "outputs": [
    {
     "name": "stdin",
     "output_type": "stream",
     "text": [
      "Enter any value:  10\n"
     ]
    },
    {
     "name": "stdout",
     "output_type": "stream",
     "text": [
      "After reversed value is: 01\n"
     ]
    }
   ],
   "source": [
    "num = input(\"Enter any value: \")\n",
    "\n",
    "i=0\n",
    "\n",
    "revNum = \"\"\n",
    "while i< len(num):\n",
    "    revNum = num[i] + revNum\n",
    "    i+=1\n",
    "print(\"After reversed value is:\",revNum)"
   ]
  },
  {
   "cell_type": "code",
   "execution_count": 4,
   "id": "043b5ca7-35d9-4d41-9d83-60d7cbc6301f",
   "metadata": {},
   "outputs": [
    {
     "name": "stdin",
     "output_type": "stream",
     "text": [
      "Enter a number: 10\n"
     ]
    },
    {
     "name": "stdout",
     "output_type": "stream",
     "text": [
      "Total number of value is: 2\n"
     ]
    }
   ],
   "source": [
    "#8. Count digits in a number using a loop.\n",
    "num = input(\"Enter a number:\")\n",
    "\n",
    "count=0\n",
    "for i in num:\n",
    "    count = count+1\n",
    "print(\"Total number of value is:\",count)\n"
   ]
  },
  {
   "cell_type": "code",
   "execution_count": 5,
   "id": "a7a4b972-b68e-4002-bd00-e2da3e41595d",
   "metadata": {},
   "outputs": [
    {
     "name": "stdin",
     "output_type": "stream",
     "text": [
      "Enter a number: 10\n"
     ]
    },
    {
     "name": "stdout",
     "output_type": "stream",
     "text": [
      "Total number of value is: 2\n"
     ]
    }
   ],
   "source": [
    "num = input(\"Enter a number:\")\n",
    "i = 0\n",
    "count=0\n",
    "while i < len(num):\n",
    "    count = count+1\n",
    "    i+=1\n",
    "print(\"Total number of value is:\",count)"
   ]
  },
  {
   "cell_type": "code",
   "execution_count": 7,
   "id": "b209f131-4248-4d1d-b02e-0c7b0d9934fd",
   "metadata": {},
   "outputs": [
    {
     "name": "stdin",
     "output_type": "stream",
     "text": [
      "Enter the input:  10\n"
     ]
    },
    {
     "name": "stdout",
     "output_type": "stream",
     "text": [
      "1\n",
      "0\n"
     ]
    }
   ],
   "source": [
    "#9. Print all characters of a string using a loop.\n",
    "data= str(input(\"Enter the input: \"))\n",
    "\n",
    "for i in data:\n",
    "    print(i)\n",
    "\n",
    "\n",
    "\n"
   ]
  },
  {
   "cell_type": "code",
   "execution_count": 8,
   "id": "c51efd49-205a-4e79-bb29-7e5ca8e6119a",
   "metadata": {},
   "outputs": [
    {
     "name": "stdin",
     "output_type": "stream",
     "text": [
      "Enter the input:  10\n"
     ]
    },
    {
     "name": "stdout",
     "output_type": "stream",
     "text": [
      "1\n",
      "0\n"
     ]
    }
   ],
   "source": [
    "data= str(input(\"Enter the input: \"))\n",
    "i = 0\n",
    "\n",
    "while i<len(data):\n",
    "    print(data[i])\n",
    "    i+=1"
   ]
  },
  {
   "cell_type": "code",
   "execution_count": 9,
   "id": "613a5ade-c74a-414f-9588-1dc7f3f7b768",
   "metadata": {},
   "outputs": [
    {
     "name": "stdin",
     "output_type": "stream",
     "text": [
      "Enter the input:  hello world\n"
     ]
    },
    {
     "name": "stdout",
     "output_type": "stream",
     "text": [
      "e\n",
      "o\n",
      "o\n"
     ]
    }
   ],
   "source": [
    "#10. Print only vowels from a string input by the user.\n",
    "data = str(input(\"Enter the input: \"))\n",
    "\n",
    "for i in data:\n",
    "    if i.lower() in ['a', 'e', 'i', 'o', 'u']:\n",
    "        print(i)\n"
   ]
  },
  {
   "cell_type": "code",
   "execution_count": 10,
   "id": "aeeb7aee-52fe-4665-8ddc-5e41067d5b88",
   "metadata": {},
   "outputs": [
    {
     "name": "stdin",
     "output_type": "stream",
     "text": [
      "Enter the input:  hello world\n"
     ]
    },
    {
     "name": "stdout",
     "output_type": "stream",
     "text": [
      "e\n",
      "o\n",
      "o\n"
     ]
    }
   ],
   "source": [
    "data = str(input(\"Enter the input: \"))\n",
    "i = 0\n",
    "while i < len(data):\n",
    "    if data[i].lower() in ['a', 'e', 'i', 'o', 'u']:\n",
    "        print(data[i])\n",
    "    i += 1\n",
    "#11. Print a countdown from 10 to 1."
   ]
  },
  {
   "cell_type": "code",
   "execution_count": 11,
   "id": "c26f23e3-34ef-4685-adf6-f316a6e24e18",
   "metadata": {},
   "outputs": [
    {
     "name": "stdin",
     "output_type": "stream",
     "text": [
      "Enter the input:  hell\n"
     ]
    },
    {
     "name": "stdout",
     "output_type": "stream",
     "text": [
      "e\n"
     ]
    }
   ],
   "source": [
    "data = str(input(\"Enter the input: \"))\n",
    "i = 0\n",
    "while i < len(data):\n",
    "    if data[i].lower() in ['a', 'e', 'i', 'o', 'u']:\n",
    "        print(data[i])\n",
    "    i += 1\n"
   ]
  },
  {
   "cell_type": "code",
   "execution_count": 14,
   "id": "e910023b-9b07-4819-a0d5-2a46ca8b17e2",
   "metadata": {},
   "outputs": [
    {
     "name": "stdout",
     "output_type": "stream",
     "text": [
      "10\n",
      "9\n",
      "8\n",
      "7\n",
      "6\n",
      "5\n",
      "4\n",
      "3\n",
      "2\n",
      "1\n"
     ]
    }
   ],
   "source": [
    "for i in range(10, 0, -1):\n",
    "    print(i)\n"
   ]
  },
  {
   "cell_type": "code",
   "execution_count": 15,
   "id": "580e1a6d-fb73-4897-828d-2aecae5358e8",
   "metadata": {},
   "outputs": [
    {
     "name": "stdout",
     "output_type": "stream",
     "text": [
      "10\n",
      "9\n",
      "8\n",
      "7\n",
      "6\n",
      "5\n",
      "4\n",
      "3\n",
      "2\n",
      "1\n"
     ]
    }
   ],
   "source": [
    "i = 10\n",
    "while i >= 1:\n",
    "    print(i)\n",
    "    i -= 1"
   ]
  },
  {
   "cell_type": "code",
   "execution_count": 21,
   "id": "3c31f504-2b7e-4bdf-a468-d172139bc9a7",
   "metadata": {},
   "outputs": [
    {
     "name": "stdin",
     "output_type": "stream",
     "text": [
      "Enter any number:  10\n",
      "Enter any number:  20\n",
      "Enter any number:  55\n",
      "Enter any number:  66\n",
      "Enter any number:  99\n",
      "Enter any number:  -100\n",
      "Enter any number:  20\n",
      "Enter any number:  -88\n",
      "Enter any number:  0\n"
     ]
    },
    {
     "name": "stdout",
     "output_type": "stream",
     "text": [
      "User Input Number is: [10, 20, 55, 66, 99, -100, 20, -88] = 82\n"
     ]
    }
   ],
   "source": [
    "#12. Take numbers as input until the user enters 0, then print their sum.\n",
    "\n",
    "# infinite loop: loop execute forever\n",
    "\n",
    "listNum = []\n",
    "sum1 = 0\n",
    "for i in iter(int, 1): # range(1)\n",
    "    userNum = int(input('Enter any number: '))\n",
    "    \n",
    "    if userNum == 0:\n",
    "        break\n",
    "    listNum.append(userNum)\n",
    "    sum1 = sum1 + userNum\n",
    "print(\"User Input Number is:\",listNum,'=',sum1)    "
   ]
  },
  {
   "cell_type": "code",
   "execution_count": 22,
   "id": "b08c2cea-546c-474d-b222-dd6129b0bc57",
   "metadata": {},
   "outputs": [
    {
     "name": "stdin",
     "output_type": "stream",
     "text": [
      "Enter any number:  410\n",
      "Enter any number:  20\n",
      "Enter any number:  0\n"
     ]
    },
    {
     "name": "stdout",
     "output_type": "stream",
     "text": [
      "User Input Number is: [410, 20] = 430\n"
     ]
    }
   ],
   "source": [
    "listNum= []\n",
    "sum1=0\n",
    "\n",
    "while True:\n",
    "    userNum = int(input(\"Enter any number: \"))\n",
    "    \n",
    "    if userNum ==0:\n",
    "        break\n",
    "    listNum.append(userNum)\n",
    "    sum1= sum1 + userNum\n",
    "    \n",
    "print(\"User Input Number is:\",listNum,'=',sum1)"
   ]
  },
  {
   "cell_type": "code",
   "execution_count": 26,
   "id": "c282e904-6a9d-43c5-8411-7d192e831087",
   "metadata": {},
   "outputs": [
    {
     "name": "stdin",
     "output_type": "stream",
     "text": [
      "Enter any number:  10\n",
      "Enter any number:  20\n",
      "Enter any number:  30\n",
      "Enter any number:  0\n"
     ]
    },
    {
     "name": "stdout",
     "output_type": "stream",
     "text": [
      "user input Number is: [10, 20, 30] = 60\n"
     ]
    }
   ],
   "source": [
    "listNum= []\n",
    "sum1 = 0\n",
    "\n",
    "while True:\n",
    "    userNum = int(input('Enter any number: '))\n",
    "    if userNum == 0:\n",
    "        break\n",
    "    listNum.append(userNum)\n",
    "    sum1 = sum1 + userNum\n",
    "print(\"user input Number is:\", listNum,\"=\",sum1)"
   ]
  },
  {
   "cell_type": "code",
   "execution_count": 28,
   "id": "74a2fa38-3d5d-41fe-85fa-07f7be438ecb",
   "metadata": {},
   "outputs": [
    {
     "name": "stdin",
     "output_type": "stream",
     "text": [
      "Set your password:  125\n",
      "Re-enter your password to verify:  00\n",
      "Re-enter your password to verify:  00\n",
      "Re-enter your password to verify:  123\n",
      "Re-enter your password to verify:  125\n"
     ]
    },
    {
     "name": "stdout",
     "output_type": "stream",
     "text": [
      "User password is matched: 125\n"
     ]
    }
   ],
   "source": [
    "#13. Keep asking for a password until the correct one is entered.\n",
    "stored_password = input(\"Set your password: \")\n",
    "\n",
    "for i in iter(int, 1):\n",
    "    entered_password = input(\"Re-enter your password to verify: \")\n",
    "\n",
    "    if entered_password ==stored_password:\n",
    "        break\n",
    "print(\"User password is matched:\",entered_password)\n"
   ]
  },
  {
   "cell_type": "code",
   "execution_count": 29,
   "id": "0a8744d5-2863-4b48-9cb7-451f3c97073e",
   "metadata": {},
   "outputs": [
    {
     "name": "stdin",
     "output_type": "stream",
     "text": [
      "Set your password:  125\n",
      "Re-enter your password to verify:  125\n"
     ]
    },
    {
     "name": "stdout",
     "output_type": "stream",
     "text": [
      "User password is matched: 125\n"
     ]
    }
   ],
   "source": [
    "stored_password = input(\"Set your password: \")\n",
    "\n",
    "while True:\n",
    "    entered_password = input(\"Re-enter your password to verify: \")\n",
    "\n",
    "    if entered_password ==stored_password:\n",
    "        break\n",
    "print(\"User password is matched:\",entered_password)"
   ]
  },
  {
   "cell_type": "code",
   "execution_count": 41,
   "id": "09d7b8ef-d5e6-402f-8acb-48beae2e79bc",
   "metadata": {},
   "outputs": [
    {
     "name": "stdin",
     "output_type": "stream",
     "text": [
      "Enter a number: 10\n"
     ]
    },
    {
     "name": "stdout",
     "output_type": "stream",
     "text": [
      "Total number of digits are:2\n",
      " sum of digits: 3\n"
     ]
    }
   ],
   "source": [
    "#14. Find the sum of digits of a number using a while loop.\n",
    "num = input(\"Enter a number:\")\n",
    "sum1 = 0\n",
    "count=0\n",
    "for i in num:\n",
    "    count = count+1\n",
    "    sum1 = sum1 + count\n",
    "print(f\"Total number of digits are:{count}\\n sum of digits: {sum1}\")\n"
   ]
  },
  {
   "cell_type": "code",
   "execution_count": 42,
   "id": "7dad6b6a-1f7f-4280-bace-8f8214c83d4e",
   "metadata": {},
   "outputs": [
    {
     "name": "stdin",
     "output_type": "stream",
     "text": [
      "Enter a number:  10\n"
     ]
    },
    {
     "name": "stdout",
     "output_type": "stream",
     "text": [
      "Total number of digits are:2\n",
      " sum of digits: 3\n"
     ]
    }
   ],
   "source": [
    "num = input(\"Enter a number: \")\n",
    "\n",
    "sum1 = 0\n",
    "count = 0\n",
    "\n",
    "i=0\n",
    "while i<len(num):\n",
    "    count = count+1   # 1 2 = 3\n",
    "    sum1 = sum1 + count\n",
    "    i += 1 \n",
    "print(f\"Total number of digits are:{count}\\n sum of digits: {sum1}\")\n",
    "    "
   ]
  },
  {
   "cell_type": "code",
   "execution_count": 31,
   "id": "ed9d6cba-3b28-4d16-9118-5954c4c7def1",
   "metadata": {},
   "outputs": [
    {
     "name": "stdin",
     "output_type": "stream",
     "text": [
      "Enter a number: 456\n"
     ]
    },
    {
     "name": "stdout",
     "output_type": "stream",
     "text": [
      "Total number of digits are:3\n",
      " sum of digits: 6\n"
     ]
    }
   ],
   "source": [
    "num = input(\"Enter a number:\")\n",
    "i = 0\n",
    "count=0\n",
    "sum1=0\n",
    "while i < len(num):\n",
    "    count = count+1\n",
    "    sum1 = sum1 + count\n",
    "    i+=1\n",
    "print(f\"Total number of digits are:{count}\\n sum of digits: {sum1}\")"
   ]
  },
  {
   "cell_type": "code",
   "execution_count": 47,
   "id": "3956ccb5-3815-48a7-8dd5-466f82db11d5",
   "metadata": {},
   "outputs": [
    {
     "name": "stdout",
     "output_type": "stream",
     "text": [
      "*\n",
      "**\n",
      "***\n",
      "****\n"
     ]
    }
   ],
   "source": [
    "# 16. Print this pattern:\n",
    "\n",
    "\n",
    "# *\n",
    "# **\n",
    "# ***\n",
    "# ****\n",
    "\n",
    "\n",
    "for i in range(1,5):\n",
    "    print(\"*\"*i)"
   ]
  },
  {
   "cell_type": "code",
   "execution_count": 45,
   "id": "0c628beb-7e1c-4c9d-9519-fd21603229b6",
   "metadata": {},
   "outputs": [
    {
     "data": {
      "text/plain": [
       "'sanketsanketsanketsanketsanket'"
      ]
     },
     "execution_count": 45,
     "metadata": {},
     "output_type": "execute_result"
    }
   ],
   "source": [
    "\"sanket\"*5"
   ]
  },
  {
   "cell_type": "code",
   "execution_count": 1,
   "id": "40f8a370-81bb-4f94-8c34-2775888fd4ed",
   "metadata": {},
   "outputs": [
    {
     "name": "stdin",
     "output_type": "stream",
     "text": [
      "Enter any string:  123\n"
     ]
    },
    {
     "name": "stdout",
     "output_type": "stream",
     "text": [
      "After reversed string is: 321\n"
     ]
    }
   ],
   "source": [
    "#15. Reverse a string using a while loop.\n",
    "str1 = input(\"Enter any string: \")\n",
    "\n",
    "i = 0\n",
    "revString = \"\"\n",
    "while i < len(str1):\n",
    "    revString = str1[i] + revString\n",
    "    i += 1\n",
    "print(\"After reversed string is:\", revString)\n"
   ]
  },
  {
   "cell_type": "code",
   "execution_count": 2,
   "id": "d45d89e1-20d1-437e-a6a7-c6bdf412b82a",
   "metadata": {},
   "outputs": [
    {
     "name": "stdin",
     "output_type": "stream",
     "text": [
      "Enter any string:  125\n"
     ]
    },
    {
     "name": "stdout",
     "output_type": "stream",
     "text": [
      "After reversed string is: 521\n"
     ]
    }
   ],
   "source": [
    "str1 = input(\"Enter any string: \")\n",
    "\n",
    "revString = \"\"\n",
    "\n",
    "for i in str1:\n",
    "    revString = i + revString\n",
    "print(\"After reversed string is:\", revString)"
   ]
  },
  {
   "cell_type": "code",
   "execution_count": 4,
   "id": "0afc1c77-a4c2-4a9a-81ac-565e810a0899",
   "metadata": {},
   "outputs": [
    {
     "name": "stdout",
     "output_type": "stream",
     "text": [
      "*\n",
      "**\n",
      "***\n",
      "****\n"
     ]
    }
   ],
   "source": [
    "\n",
    "#16. Print this pattern:\n",
    "#    *\n",
    "#    **\n",
    "#    ***\n",
    "#    ****\n",
    "for i in range(1,5):\n",
    "    print(\"*\"*i)\n",
    "i=1\n",
    "j=5\n",
    "\n"
   ]
  },
  {
   "cell_type": "code",
   "execution_count": 5,
   "id": "cecf9f1b-d319-4a36-a1cf-db4aeeac01e3",
   "metadata": {},
   "outputs": [
    {
     "name": "stdout",
     "output_type": "stream",
     "text": [
      "*\n",
      "**\n",
      "***\n",
      "****\n"
     ]
    }
   ],
   "source": [
    "while i<j:\n",
    "    print(\"*\"*i)\n",
    "    i+=1"
   ]
  },
  {
   "cell_type": "code",
   "execution_count": 6,
   "id": "50202e25-c9ca-4488-8273-49855182ad69",
   "metadata": {},
   "outputs": [
    {
     "name": "stdout",
     "output_type": "stream",
     "text": [
      "\n",
      "~~~~~~~~~~~~Table of 1~~~~~~~~~~~~~~~~~\n",
      "1X1=1\n",
      "1X2=2\n",
      "1X3=3\n",
      "1X4=4\n",
      "1X5=5\n",
      "1X6=6\n",
      "1X7=7\n",
      "1X8=8\n",
      "1X9=9\n",
      "1X10=10\n",
      "\n",
      "~~~~~~~~~~~~Table of 2~~~~~~~~~~~~~~~~~\n",
      "2X1=2\n",
      "2X2=4\n",
      "2X3=6\n",
      "2X4=8\n",
      "2X5=10\n",
      "2X6=12\n",
      "2X7=14\n",
      "2X8=16\n",
      "2X9=18\n",
      "2X10=20\n",
      "\n",
      "~~~~~~~~~~~~Table of 3~~~~~~~~~~~~~~~~~\n",
      "3X1=3\n",
      "3X2=6\n",
      "3X3=9\n",
      "3X4=12\n",
      "3X5=15\n",
      "3X6=18\n",
      "3X7=21\n",
      "3X8=24\n",
      "3X9=27\n",
      "3X10=30\n",
      "\n",
      "~~~~~~~~~~~~Table of 4~~~~~~~~~~~~~~~~~\n",
      "4X1=4\n",
      "4X2=8\n",
      "4X3=12\n",
      "4X4=16\n",
      "4X5=20\n",
      "4X6=24\n",
      "4X7=28\n",
      "4X8=32\n",
      "4X9=36\n",
      "4X10=40\n",
      "\n",
      "~~~~~~~~~~~~Table of 5~~~~~~~~~~~~~~~~~\n",
      "5X1=5\n",
      "5X2=10\n",
      "5X3=15\n",
      "5X4=20\n",
      "5X5=25\n",
      "5X6=30\n",
      "5X7=35\n",
      "5X8=40\n",
      "5X9=45\n",
      "5X10=50\n"
     ]
    }
   ],
   "source": [
    "#17. Print multiplication tables from 1 to 5 using nested loops.\n",
    "for i in range(1,6):\n",
    "    print(f\"\\n~~~~~~~~~~~~Table of {i}~~~~~~~~~~~~~~~~~\")\n",
    "    for j in range(1,11):\n",
    "        print('{}X{}={}'.format(i,j,i*j))\n"
   ]
  },
  {
   "cell_type": "code",
   "execution_count": 7,
   "id": "dd701f10-24bf-4daf-9d73-e702a5b5a108",
   "metadata": {},
   "outputs": [
    {
     "name": "stdout",
     "output_type": "stream",
     "text": [
      "~~~~~~~~~~~~~~~~Table of 1~~~~~~~~~~~~~~~\n",
      "1X1=1\n",
      "1X2=2\n",
      "1X3=3\n",
      "1X4=4\n",
      "1X5=5\n",
      "1X6=6\n",
      "1X7=7\n",
      "1X8=8\n",
      "1X9=9\n",
      "1X10=10\n",
      "~~~~~~~~~~~~~~~~Table of 2~~~~~~~~~~~~~~~\n",
      "2X1=2\n",
      "2X2=4\n",
      "2X3=6\n",
      "2X4=8\n",
      "2X5=10\n",
      "2X6=12\n",
      "2X7=14\n",
      "2X8=16\n",
      "2X9=18\n",
      "2X10=20\n",
      "~~~~~~~~~~~~~~~~Table of 3~~~~~~~~~~~~~~~\n",
      "3X1=3\n",
      "3X2=6\n",
      "3X3=9\n",
      "3X4=12\n",
      "3X5=15\n",
      "3X6=18\n",
      "3X7=21\n",
      "3X8=24\n",
      "3X9=27\n",
      "3X10=30\n",
      "~~~~~~~~~~~~~~~~Table of 4~~~~~~~~~~~~~~~\n",
      "4X1=4\n",
      "4X2=8\n",
      "4X3=12\n",
      "4X4=16\n",
      "4X5=20\n",
      "4X6=24\n",
      "4X7=28\n",
      "4X8=32\n",
      "4X9=36\n",
      "4X10=40\n",
      "~~~~~~~~~~~~~~~~Table of 5~~~~~~~~~~~~~~~\n",
      "5X1=5\n",
      "5X2=10\n",
      "5X3=15\n",
      "5X4=20\n",
      "5X5=25\n",
      "5X6=30\n",
      "5X7=35\n",
      "5X8=40\n",
      "5X9=45\n",
      "5X10=50\n"
     ]
    }
   ],
   "source": [
    "i=1\n",
    "j=6\n",
    "\n",
    "while i<j:\n",
    "    print(f\"~~~~~~~~~~~~~~~~Table of {i}~~~~~~~~~~~~~~~\")\n",
    "    k=1\n",
    "    l=11\n",
    "    while k<l:\n",
    "        print('{}X{}={}'.format(i,k,i*k))\n",
    "        k+=1\n",
    "    i+=1"
   ]
  },
  {
   "cell_type": "code",
   "execution_count": 8,
   "id": "e12abcb1-ad6d-42ab-8b29-e0fd8de1e441",
   "metadata": {},
   "outputs": [
    {
     "name": "stdout",
     "output_type": "stream",
     "text": [
      "\n",
      "Multiplication Table of 1\n",
      "~~~~~~~~~~~~~~~~~~~~~~~~~~~~\n",
      "1X1=1\n",
      "1X2=2\n",
      "1X3=3\n",
      "1X4=4\n",
      "1X5=5\n",
      "1X6=6\n",
      "1X7=7\n",
      "1X8=8\n",
      "1X9=9\n",
      "1X10=10\n",
      "\n",
      "Multiplication Table of 2\n",
      "~~~~~~~~~~~~~~~~~~~~~~~~~~~~\n",
      "2X1=2\n",
      "2X2=4\n",
      "2X3=6\n",
      "2X4=8\n",
      "2X5=10\n",
      "2X6=12\n",
      "2X7=14\n",
      "2X8=16\n",
      "2X9=18\n",
      "2X10=20\n",
      "\n",
      "Multiplication Table of 3\n",
      "~~~~~~~~~~~~~~~~~~~~~~~~~~~~\n",
      "3X1=3\n",
      "3X2=6\n",
      "3X3=9\n",
      "3X4=12\n",
      "3X5=15\n",
      "3X6=18\n",
      "3X7=21\n",
      "3X8=24\n",
      "3X9=27\n",
      "3X10=30\n",
      "\n",
      "Multiplication Table of 4\n",
      "~~~~~~~~~~~~~~~~~~~~~~~~~~~~\n",
      "4X1=4\n",
      "4X2=8\n",
      "4X3=12\n",
      "4X4=16\n",
      "4X5=20\n",
      "4X6=24\n",
      "4X7=28\n",
      "4X8=32\n",
      "4X9=36\n",
      "4X10=40\n",
      "\n",
      "Multiplication Table of 5\n",
      "~~~~~~~~~~~~~~~~~~~~~~~~~~~~\n",
      "5X1=5\n",
      "5X2=10\n",
      "5X3=15\n",
      "5X4=20\n",
      "5X5=25\n",
      "5X6=30\n",
      "5X7=35\n",
      "5X8=40\n",
      "5X9=45\n",
      "5X10=50\n"
     ]
    }
   ],
   "source": [
    "for i in range(1, 6):      \n",
    "    print(\"\\nMultiplication Table of\", i)\n",
    "    print(\"~~~~~~~~~~~~~~~~~~~~~~~~~~~~\")\n",
    "    \n",
    "    for j in range(1, 11):   \n",
    "        print(\"%dX%d=%d\"%(i,j,i*j))"
   ]
  },
  {
   "cell_type": "code",
   "execution_count": 11,
   "id": "192179f0-7066-4ee7-88ef-3ee0a084160a",
   "metadata": {},
   "outputs": [
    {
     "name": "stdout",
     "output_type": "stream",
     "text": [
      "\n",
      "Multiplication Table of 1\n",
      "~~~~~~~~~~~~~~~~~~~~~~~~~~~~\n",
      "1X1=1\n",
      "1X2=2\n",
      "1X3=3\n",
      "1X4=4\n",
      "1X5=5\n",
      "1X6=6\n",
      "1X7=7\n",
      "1X8=8\n",
      "1X9=9\n",
      "1X10=10\n",
      "\n",
      "Multiplication Table of 2\n",
      "~~~~~~~~~~~~~~~~~~~~~~~~~~~~\n",
      "2X1=2\n",
      "2X2=4\n",
      "2X3=6\n",
      "2X4=8\n",
      "2X5=10\n",
      "2X6=12\n",
      "2X7=14\n",
      "2X8=16\n",
      "2X9=18\n",
      "2X10=20\n",
      "\n",
      "Multiplication Table of 3\n",
      "~~~~~~~~~~~~~~~~~~~~~~~~~~~~\n",
      "3X1=3\n",
      "3X2=6\n",
      "3X3=9\n",
      "3X4=12\n",
      "3X5=15\n",
      "3X6=18\n",
      "3X7=21\n",
      "3X8=24\n",
      "3X9=27\n",
      "3X10=30\n",
      "\n",
      "Multiplication Table of 4\n",
      "~~~~~~~~~~~~~~~~~~~~~~~~~~~~\n",
      "4X1=4\n",
      "4X2=8\n",
      "4X3=12\n",
      "4X4=16\n",
      "4X5=20\n",
      "4X6=24\n",
      "4X7=28\n",
      "4X8=32\n",
      "4X9=36\n",
      "4X10=40\n",
      "\n",
      "Multiplication Table of 5\n",
      "~~~~~~~~~~~~~~~~~~~~~~~~~~~~\n",
      "5X1=5\n",
      "5X2=10\n",
      "5X3=15\n",
      "5X4=20\n",
      "5X5=25\n",
      "5X6=30\n",
      "5X7=35\n",
      "5X8=40\n",
      "5X9=45\n",
      "5X10=50\n"
     ]
    }
   ],
   "source": [
    "i = 1  \n",
    "while i <= 5:\n",
    "    print(\"\\nMultiplication Table of\", i)\n",
    "    print(\"~~~~~~~~~~~~~~~~~~~~~~~~~~~~\")\n",
    "    j = 1\n",
    "    while j <= 10:\n",
    "        print(\"%dX%d=%d\"%(i,j,i*j))\n",
    "        j+=1  \n",
    "    i+=1"
   ]
  },
  {
   "cell_type": "code",
   "execution_count": 14,
   "id": "238f4286-ffc4-47d3-be00-3f5a001a5540",
   "metadata": {},
   "outputs": [
    {
     "name": "stdout",
     "output_type": "stream",
     "text": [
      "2\n",
      "3\n",
      "5\n",
      "7\n",
      "11\n",
      "13\n",
      "17\n",
      "19\n",
      "23\n",
      "29\n",
      "31\n",
      "37\n",
      "41\n",
      "43\n",
      "47\n",
      "53\n",
      "59\n",
      "61\n",
      "67\n",
      "71\n",
      "73\n",
      "79\n",
      "83\n",
      "89\n",
      "97\n"
     ]
    }
   ],
   "source": [
    "#18. Print all prime numbers between 1 and 100.\n",
    "# 1 = 1, 2- 1,2, 3= 1,3, 7- 1,7\n",
    "for num in range(2,101):  # 2,101\n",
    "    # print(num)\n",
    "    for i in range(2,num): # 2,2\n",
    "        if num%i == 0:\n",
    "            break\n",
    "    else:\n",
    "        print(num)"
   ]
  },
  {
   "cell_type": "code",
   "execution_count": 15,
   "id": "b04093fe-e7b3-4495-8234-c1d3bb75c293",
   "metadata": {},
   "outputs": [
    {
     "data": {
      "text/plain": [
       "0"
      ]
     },
     "execution_count": 15,
     "metadata": {},
     "output_type": "execute_result"
    }
   ],
   "source": [
    "# 2%2"
   ]
  },
  {
   "cell_type": "code",
   "execution_count": 18,
   "id": "535b3a4f-c9c8-4961-bf25-8b75ee967177",
   "metadata": {},
   "outputs": [
    {
     "name": "stdout",
     "output_type": "stream",
     "text": [
      "2\n",
      "3\n",
      "5\n",
      "7\n",
      "11\n",
      "13\n",
      "17\n",
      "19\n",
      "23\n",
      "29\n",
      "31\n",
      "37\n",
      "41\n",
      "43\n",
      "47\n",
      "53\n",
      "59\n",
      "61\n",
      "67\n",
      "71\n",
      "73\n",
      "79\n",
      "83\n",
      "89\n",
      "97\n"
     ]
    }
   ],
   "source": [
    "num = 2\n",
    "\n",
    "while num<=100:\n",
    "    # print(num)\n",
    "    i = 2\n",
    "    while i< num:\n",
    "        if num%i ==0:\n",
    "            break\n",
    "        i+=1\n",
    "    else:\n",
    "        print(num)\n",
    "    num+=1"
   ]
  },
  {
   "cell_type": "code",
   "execution_count": 25,
   "id": "9f544eb7-5182-42a7-939c-8550f42c9ad8",
   "metadata": {},
   "outputs": [
    {
     "name": "stdout",
     "output_type": "stream",
     "text": [
      "1\n",
      "12\n",
      "123\n",
      "1234\n"
     ]
    }
   ],
   "source": [
    "#19. Print number pattern:\n",
    "\n",
    "#1\n",
    "#12\n",
    "#123\n",
    "#1234\n",
    "\n",
    "\n",
    "for i in range(1,5):\n",
    "    for j in range(1,i+1): #1,2\n",
    "        print(j,end=\"\")\n",
    "    print()"
   ]
  },
  {
   "cell_type": "code",
   "execution_count": 26,
   "id": "9aa8c43e-7e55-4ec2-a4a0-82bb33ea3ba2",
   "metadata": {},
   "outputs": [],
   "source": [
    "#20. Print Floyd's Triangle:\n",
    "\n",
    "\n",
    "#1\n",
    "#2 3\n",
    "#4 5 6\n",
    "#7 8 9 10"
   ]
  },
  {
   "cell_type": "code",
   "execution_count": 31,
   "id": "93eb080b-c0cd-4e10-9b54-067c58bf2961",
   "metadata": {},
   "outputs": [
    {
     "name": "stdout",
     "output_type": "stream",
     "text": [
      "1 \n",
      "2 3 \n",
      "4 5 6 \n",
      "7 8 9 10 \n"
     ]
    }
   ],
   "source": [
    "num=1 # 2\n",
    "for i in range(1,5): # 1 , 2\n",
    "    for j in range(i):  #0,1,2,3\n",
    "        print(num,end=\" \") # 1, 2, 3, 4,5,6, 7,8,9,10\n",
    "        num+=1\n",
    "    print()"
   ]
  },
  {
   "cell_type": "code",
   "execution_count": null,
   "id": "8bfb87d1-915a-46aa-b0b6-b01da07be6da",
   "metadata": {},
   "outputs": [],
   "source": []
  },
  {
   "cell_type": "code",
   "execution_count": null,
   "id": "59f3ba6c-8773-4080-bbe1-4afb597b56cf",
   "metadata": {},
   "outputs": [],
   "source": []
  }
 ],
 "metadata": {
  "kernelspec": {
   "display_name": "Python 3 (ipykernel)",
   "language": "python",
   "name": "python3"
  },
  "language_info": {
   "codemirror_mode": {
    "name": "ipython",
    "version": 3
   },
   "file_extension": ".py",
   "mimetype": "text/x-python",
   "name": "python",
   "nbconvert_exporter": "python",
   "pygments_lexer": "ipython3",
   "version": "3.13.7"
  }
 },
 "nbformat": 4,
 "nbformat_minor": 5
}
