{
 "cells": [
  {
   "cell_type": "markdown",
   "id": "279a842e-da4a-4b44-be89-73e333c06a8d",
   "metadata": {},
   "source": [
    "# 6. Dictionaries in Python\n",
    "\n",
    " * __Dictionaries are used to sotre data values in key:values pairs.__\n",
    " * __A dictionary is a collection which is ordered, changeable or mutable and do not allow duplicates.__\n",
    " * __Dictionary items are presented in key:value pairs, and can be referred to by using the key name.__\n",
    " * __Dictionary items are changeable, meaning that we can change, add or remove items after the dictionary has been created.__\n",
    " * __Dictionaries cannot have two items with the same key.__\n",
    " * __A dictionary can nested and can contains another dictionary.__\n",
    "\n",
    "|Keys|Values|\n",
    "|-----|-----|\n",
    "|'name'|\"John\"|\n",
    "|'age'|\"65\"|\n",
    "|'email'|\"john@gmail.com\"|\n",
    "|'phoneNo'|\"5465564165\"|\n",
    "|'address'|\"Texas\"|"
   ]
  },
  {
   "cell_type": "code",
   "execution_count": 3,
   "id": "42ea4023-c147-4632-bb42-e65e452ce782",
   "metadata": {},
   "outputs": [
    {
     "name": "stdout",
     "output_type": "stream",
     "text": [
      "{} <class 'dict'>\n"
     ]
    }
   ],
   "source": [
    "# we {} backets to deonote dictionary.\n",
    "\n",
    "# create empty dictionary\n",
    "\n",
    "x = {}\n",
    "print(x,type(x))"
   ]
  },
  {
   "cell_type": "code",
   "execution_count": 36,
   "id": "223f1b34-742f-4672-bfc3-405fdcb2904e",
   "metadata": {},
   "outputs": [
    {
     "data": {
      "text/plain": [
       "{'key_1': 3.14,\n",
       " 'key_2': 1.618,\n",
       " 'key_3': True,\n",
       " 'key_4': False,\n",
       " 'key_5': [3.14, 1.618],\n",
       " 100: 'hello world',\n",
       " 5: None}"
      ]
     },
     "execution_count": 36,
     "metadata": {},
     "output_type": "execute_result"
    }
   ],
   "source": [
    "sampleDict = {\n",
    "    'key_1':3.14,\n",
    "    'key_2':1.618,\n",
    "    'key_3':True,\n",
    "    'key_4':False,\n",
    "    'key_5':[3.14,1.618],\n",
    "    100 : 'hello world',\n",
    "    5:None\n",
    "}\n",
    "\n",
    "sampleDict"
   ]
  },
  {
   "cell_type": "markdown",
   "id": "02e40107-d9a3-4e0a-92d9-77b82557e458",
   "metadata": {},
   "source": [
    "__Note:__\n",
    "    As you see that the whole dictionary is enclosed in curly bracket, each key is sperarated from it's value by a colon, \":\" and (,) are used to separate the items in the dictionary. "
   ]
  },
  {
   "cell_type": "code",
   "execution_count": 8,
   "id": "b8631461-4f4d-424b-9301-21f83e924181",
   "metadata": {},
   "outputs": [
    {
     "data": {
      "text/plain": [
       "{'key_1': 3.14,\n",
       " 'key_2': 1.618,\n",
       " 'key_3': True,\n",
       " 'key_4': False,\n",
       " 'key_5': [3.14, 1.618],\n",
       " 100: 'hello world',\n",
       " 5: None}"
      ]
     },
     "execution_count": 8,
     "metadata": {},
     "output_type": "execute_result"
    }
   ],
   "source": [
    "# Accessing thier value.\n",
    "\n",
    "sampleDict"
   ]
  },
  {
   "cell_type": "code",
   "execution_count": 9,
   "id": "ede05516-6123-4668-a318-06ce96204e4c",
   "metadata": {},
   "outputs": [
    {
     "data": {
      "text/plain": [
       "3.14"
      ]
     },
     "execution_count": 9,
     "metadata": {},
     "output_type": "execute_result"
    }
   ],
   "source": [
    "sampleDict['key_1']"
   ]
  },
  {
   "cell_type": "code",
   "execution_count": 10,
   "id": "94261326-46a2-4530-a60a-06e40bde7e01",
   "metadata": {},
   "outputs": [
    {
     "data": {
      "text/plain": [
       "1.618"
      ]
     },
     "execution_count": 10,
     "metadata": {},
     "output_type": "execute_result"
    }
   ],
   "source": [
    "sampleDict['key_2']"
   ]
  },
  {
   "cell_type": "code",
   "execution_count": 11,
   "id": "f1dac7d1-a022-4c6d-a0a4-0d6a5e10fabd",
   "metadata": {},
   "outputs": [
    {
     "data": {
      "text/plain": [
       "True"
      ]
     },
     "execution_count": 11,
     "metadata": {},
     "output_type": "execute_result"
    }
   ],
   "source": [
    "sampleDict['key_3']"
   ]
  },
  {
   "cell_type": "code",
   "execution_count": 12,
   "id": "adec2494-8cf4-4814-b450-2b7b5898122e",
   "metadata": {},
   "outputs": [
    {
     "data": {
      "text/plain": [
       "False"
      ]
     },
     "execution_count": 12,
     "metadata": {},
     "output_type": "execute_result"
    }
   ],
   "source": [
    "sampleDict['key_4']"
   ]
  },
  {
   "cell_type": "code",
   "execution_count": 13,
   "id": "580f64c8-a101-455f-82f5-ff352e18ffef",
   "metadata": {},
   "outputs": [
    {
     "data": {
      "text/plain": [
       "[3.14, 1.618]"
      ]
     },
     "execution_count": 13,
     "metadata": {},
     "output_type": "execute_result"
    }
   ],
   "source": [
    "sampleDict['key_5']"
   ]
  },
  {
   "cell_type": "code",
   "execution_count": 14,
   "id": "b5f678e3-1289-49b0-8a77-b420146e5e1e",
   "metadata": {},
   "outputs": [
    {
     "data": {
      "text/plain": [
       "'hello world'"
      ]
     },
     "execution_count": 14,
     "metadata": {},
     "output_type": "execute_result"
    }
   ],
   "source": [
    "sampleDict[100]"
   ]
  },
  {
   "cell_type": "code",
   "execution_count": 15,
   "id": "453e89af-8f03-4660-aaa7-0b8b5dad68a8",
   "metadata": {},
   "outputs": [],
   "source": [
    "sampleDict[5]"
   ]
  },
  {
   "cell_type": "code",
   "execution_count": 16,
   "id": "08f47f4d-5f3e-46ed-82d9-a43415dfad9c",
   "metadata": {},
   "outputs": [
    {
     "data": {
      "text/plain": [
       "dict_keys(['key_1', 'key_2', 'key_3', 'key_4', 'key_5', 100, 5])"
      ]
     },
     "execution_count": 16,
     "metadata": {},
     "output_type": "execute_result"
    }
   ],
   "source": [
    "# keys() function to get the keys in the dictionary\n",
    "\n",
    "sampleDict.keys()"
   ]
  },
  {
   "cell_type": "code",
   "execution_count": 17,
   "id": "3b127f93-f815-4044-86b4-a4bdf99ff8b0",
   "metadata": {},
   "outputs": [
    {
     "data": {
      "text/plain": [
       "dict_values([3.14, 1.618, True, False, [3.14, 1.618], 'hello world', None])"
      ]
     },
     "execution_count": 17,
     "metadata": {},
     "output_type": "execute_result"
    }
   ],
   "source": [
    "# values() function to get the values in the dictionary \n",
    "\n",
    "sampleDict.values()"
   ]
  },
  {
   "cell_type": "code",
   "execution_count": 18,
   "id": "c5588d6e-58da-4658-bf0a-2cd5360a72f6",
   "metadata": {},
   "outputs": [
    {
     "data": {
      "text/plain": [
       "{'key_1': 3.14,\n",
       " 'key_2': 1.618,\n",
       " 'key_3': True,\n",
       " 'key_4': False,\n",
       " 'key_5': [3.14, 1.618],\n",
       " 100: 'hello world',\n",
       " 5: None,\n",
       " 'name': 'Sanket'}"
      ]
     },
     "execution_count": 18,
     "metadata": {},
     "output_type": "execute_result"
    }
   ],
   "source": [
    "# Addition of new key:value pair in the dictionary\n",
    "\n",
    "sampleDict['name'] = \"Sanket\"\n",
    "sampleDict"
   ]
  },
  {
   "cell_type": "code",
   "execution_count": 19,
   "id": "4c9834ae-ca59-49ba-aa03-4fcf3843e843",
   "metadata": {},
   "outputs": [
    {
     "data": {
      "text/plain": [
       "{'key_1': 3.14,\n",
       " 'key_2': 1.618,\n",
       " 'key_3': True,\n",
       " 'key_4': False,\n",
       " 'key_5': [3.14, 1.618],\n",
       " 100: 'hello world',\n",
       " 5: None,\n",
       " 'name': 'Sanket'}"
      ]
     },
     "execution_count": 19,
     "metadata": {},
     "output_type": "execute_result"
    }
   ],
   "source": [
    "#  if keys is existed then it can update thier value, but if key is not found then first it create key and then put thir value inside it.\n",
    "\n",
    "\n",
    "sampleDict['name'] = \"Sanket\"\n",
    "sampleDict"
   ]
  },
  {
   "cell_type": "code",
   "execution_count": 21,
   "id": "88be1ff3-4415-4c7e-b85b-982e972b2fc8",
   "metadata": {},
   "outputs": [
    {
     "data": {
      "text/plain": [
       "{'key_1': 3.14,\n",
       " 'key_2': 1.618,\n",
       " 'key_3': True,\n",
       " 'key_4': False,\n",
       " 'key_5': [3.14, 1.618],\n",
       " 100: 'hello world',\n",
       " 5: None,\n",
       " 'name': 'Sanket Hude'}"
      ]
     },
     "execution_count": 21,
     "metadata": {},
     "output_type": "execute_result"
    }
   ],
   "source": [
    "\n",
    "sampleDict['name'] = \"Sanket Hude\"\n",
    "sampleDict"
   ]
  },
  {
   "cell_type": "code",
   "execution_count": 23,
   "id": "553063da-f78c-4f10-8204-c8a19a2eee19",
   "metadata": {},
   "outputs": [
    {
     "name": "stdout",
     "output_type": "stream",
     "text": [
      "True\n",
      "False\n"
     ]
    }
   ],
   "source": [
    "# Verifiction of keys in the dictionary\n",
    "\n",
    "print('key_1' in sampleDict)  # True\n",
    "print('key_2' not in sampleDict) # False"
   ]
  },
  {
   "cell_type": "code",
   "execution_count": 29,
   "id": "e10ad709-6e52-4885-b8d2-74db8f5ec817",
   "metadata": {},
   "outputs": [
    {
     "data": {
      "text/plain": [
       "{'family': 'music',\n",
       " 'type1': 'pop',\n",
       " 'year': 2027,\n",
       " 'name': 'new year',\n",
       " 'hello': 100}"
      ]
     },
     "execution_count": 29,
     "metadata": {},
     "output_type": "execute_result"
    }
   ],
   "source": [
    "# dict() function\n",
    "# This function is used to create a dictionary\n",
    "\n",
    "\n",
    "dict_sample = dict(family=\"music\",type1 = 'pop', year=2027, name=\"new year\",hello=100)\n",
    "dict_sample\n",
    "\n",
    "# Number can't be included as variable. Ex:- 100 = \"Hello \" it is wrong."
   ]
  },
  {
   "cell_type": "code",
   "execution_count": 26,
   "id": "0da222ab-5109-4919-b550-dea3ab0ceff8",
   "metadata": {},
   "outputs": [
    {
     "ename": "KeyError",
     "evalue": "1",
     "output_type": "error",
     "traceback": [
      "\u001b[31m---------------------------------------------------------------------------\u001b[39m",
      "\u001b[31mKeyError\u001b[39m                                  Traceback (most recent call last)",
      "\u001b[36mCell\u001b[39m\u001b[36m \u001b[39m\u001b[32mIn[26]\u001b[39m\u001b[32m, line 1\u001b[39m\n\u001b[32m----> \u001b[39m\u001b[32m1\u001b[39m \u001b[43mdict_sample\u001b[49m\u001b[43m[\u001b[49m\u001b[32;43m1\u001b[39;49m\u001b[43m]\u001b[49m\n",
      "\u001b[31mKeyError\u001b[39m: 1"
     ]
    }
   ],
   "source": [
    "dict_sample[1]"
   ]
  },
  {
   "cell_type": "code",
   "execution_count": 32,
   "id": "a0475d52-e1bf-48a4-bccd-ab174864ed70",
   "metadata": {},
   "outputs": [
    {
     "data": {
      "text/plain": [
       "{'family': 'music',\n",
       " 'type1': 'pop',\n",
       " 'year': 2027,\n",
       " 'name': 'new year',\n",
       " 'hello': 100}"
      ]
     },
     "execution_count": 32,
     "metadata": {},
     "output_type": "execute_result"
    }
   ],
   "source": [
    "# 10 = 'sanket'\n",
    "\n",
    "# let no. be varibale\n",
    "# clear() :\n",
    "# It removes all the items in the dictionary and returns as empty dictionary \n",
    "\n",
    "dict_sample"
   ]
  },
  {
   "cell_type": "code",
   "execution_count": 33,
   "id": "467e6d49-ca84-45a0-85c2-f0e907cbea91",
   "metadata": {},
   "outputs": [],
   "source": [
    "dict_sample.clear()"
   ]
  },
  {
   "cell_type": "code",
   "execution_count": 34,
   "id": "2783dd59-62d9-42e3-903f-2ceafb995693",
   "metadata": {},
   "outputs": [
    {
     "data": {
      "text/plain": [
       "{}"
      ]
     },
     "execution_count": 34,
     "metadata": {},
     "output_type": "execute_result"
    }
   ],
   "source": [
    "dict_sample"
   ]
  },
  {
   "cell_type": "code",
   "execution_count": 37,
   "id": "dc5d8434-5ac4-40f8-850f-604d1d720490",
   "metadata": {},
   "outputs": [
    {
     "data": {
      "text/plain": [
       "{'key_1': 3.14,\n",
       " 'key_2': 1.618,\n",
       " 'key_3': True,\n",
       " 'key_4': False,\n",
       " 'key_5': [3.14, 1.618],\n",
       " 100: 'hello world',\n",
       " 5: None}"
      ]
     },
     "execution_count": 37,
     "metadata": {},
     "output_type": "execute_result"
    }
   ],
   "source": [
    "# pop() function: \n",
    "# This function is used to remove a specific items from the dictionary. \n",
    "sampleDict"
   ]
  },
  {
   "cell_type": "code",
   "execution_count": 39,
   "id": "653701b7-4abe-44bb-82cb-f353910bb7f5",
   "metadata": {},
   "outputs": [
    {
     "data": {
      "text/plain": [
       "'hello world'"
      ]
     },
     "execution_count": 39,
     "metadata": {},
     "output_type": "execute_result"
    }
   ],
   "source": [
    "sampleDict.pop(100)"
   ]
  },
  {
   "cell_type": "code",
   "execution_count": 40,
   "id": "bcf8e2f9-ed1f-4490-9e8c-9e68c63a6656",
   "metadata": {},
   "outputs": [
    {
     "data": {
      "text/plain": [
       "{'key_1': 3.14,\n",
       " 'key_2': 1.618,\n",
       " 'key_3': True,\n",
       " 'key_4': False,\n",
       " 'key_5': [3.14, 1.618],\n",
       " 5: None}"
      ]
     },
     "execution_count": 40,
     "metadata": {},
     "output_type": "execute_result"
    }
   ],
   "source": [
    "sampleDict"
   ]
  },
  {
   "cell_type": "code",
   "execution_count": 41,
   "id": "17440560-d468-4ab2-9d21-11d807ec8c11",
   "metadata": {},
   "outputs": [
    {
     "data": {
      "text/plain": [
       "3.14"
      ]
     },
     "execution_count": 41,
     "metadata": {},
     "output_type": "execute_result"
    }
   ],
   "source": [
    "sampleDict.pop('key_1')"
   ]
  },
  {
   "cell_type": "code",
   "execution_count": 42,
   "id": "97e435c6-9083-48eb-a9b0-a1f762c7aaba",
   "metadata": {},
   "outputs": [
    {
     "data": {
      "text/plain": [
       "{'key_2': 1.618,\n",
       " 'key_3': True,\n",
       " 'key_4': False,\n",
       " 'key_5': [3.14, 1.618],\n",
       " 5: None}"
      ]
     },
     "execution_count": 42,
     "metadata": {},
     "output_type": "execute_result"
    }
   ],
   "source": [
    "sampleDict "
   ]
  },
  {
   "cell_type": "code",
   "execution_count": 43,
   "id": "9411c9f4-e1c2-454f-b7df-1008396a510b",
   "metadata": {},
   "outputs": [
    {
     "data": {
      "text/plain": [
       "(5, None)"
      ]
     },
     "execution_count": 43,
     "metadata": {},
     "output_type": "execute_result"
    }
   ],
   "source": [
    "# popitem() function \n",
    "# It is used to remove the items from the dictionary and returns as a tuple.  tuple()\n",
    "\n",
    "# it is works on LIFO - Last In First Out\n",
    "\n",
    "sampleDict.popitem()"
   ]
  },
  {
   "cell_type": "code",
   "execution_count": 44,
   "id": "77edd5ef-ce8c-4728-98c7-f5c4c08ee677",
   "metadata": {},
   "outputs": [
    {
     "data": {
      "text/plain": [
       "{'key_2': 1.618, 'key_3': True, 'key_4': False, 'key_5': [3.14, 1.618]}"
      ]
     },
     "execution_count": 44,
     "metadata": {},
     "output_type": "execute_result"
    }
   ],
   "source": [
    "sampleDict"
   ]
  },
  {
   "cell_type": "code",
   "execution_count": 45,
   "id": "c8bc249d-9429-452b-b03c-19792b07e854",
   "metadata": {},
   "outputs": [
    {
     "data": {
      "text/plain": [
       "('key_5', [3.14, 1.618])"
      ]
     },
     "execution_count": 45,
     "metadata": {},
     "output_type": "execute_result"
    }
   ],
   "source": [
    "sampleDict.popitem()"
   ]
  },
  {
   "cell_type": "code",
   "execution_count": 46,
   "id": "1c3773ad-64c8-4961-ad38-6a4a99781bc2",
   "metadata": {},
   "outputs": [
    {
     "data": {
      "text/plain": [
       "{'key_2': 1.618, 'key_3': True, 'key_4': False}"
      ]
     },
     "execution_count": 46,
     "metadata": {},
     "output_type": "execute_result"
    }
   ],
   "source": [
    "sampleDict"
   ]
  },
  {
   "cell_type": "code",
   "execution_count": 47,
   "id": "e3066cc8-aaab-46c3-8c15-b467ced147fa",
   "metadata": {},
   "outputs": [
    {
     "data": {
      "text/plain": [
       "{'key_2': 1.618, 'key_3': True, 'key_4': False}"
      ]
     },
     "execution_count": 47,
     "metadata": {},
     "output_type": "execute_result"
    }
   ],
   "source": [
    "# get() function \n",
    "# This method returns the value for the specified key if it available in the dictionary. If the keys is not available. It returns None.\n",
    "\n",
    "\n",
    "sampleDict"
   ]
  },
  {
   "cell_type": "code",
   "execution_count": 48,
   "id": "81ea3f82-c164-4f92-a13d-ac2ccde20b25",
   "metadata": {},
   "outputs": [],
   "source": [
    "sampleDict.get('key_5')"
   ]
  },
  {
   "cell_type": "code",
   "execution_count": 49,
   "id": "ee7c6a35-051b-4998-9a43-6509054e82d8",
   "metadata": {},
   "outputs": [
    {
     "data": {
      "text/plain": [
       "1.618"
      ]
     },
     "execution_count": 49,
     "metadata": {},
     "output_type": "execute_result"
    }
   ],
   "source": [
    "sampleDict.get('key_2')"
   ]
  },
  {
   "cell_type": "code",
   "execution_count": 50,
   "id": "0d2cef6e-41cd-4f5d-8a3c-102139b6a137",
   "metadata": {},
   "outputs": [
    {
     "data": {
      "text/plain": [
       "False"
      ]
     },
     "execution_count": 50,
     "metadata": {},
     "output_type": "execute_result"
    }
   ],
   "source": [
    "sampleDict.get('key_4')  # get()"
   ]
  },
  {
   "cell_type": "code",
   "execution_count": 51,
   "id": "542ff51d-f238-4535-82f9-6a42cee7d7a0",
   "metadata": {},
   "outputs": [
    {
     "data": {
      "text/plain": [
       "{'key_2': 1.618, 'key_3': True, 'key_4': False}"
      ]
     },
     "execution_count": 51,
     "metadata": {},
     "output_type": "execute_result"
    }
   ],
   "source": [
    "sampleDict"
   ]
  },
  {
   "cell_type": "code",
   "execution_count": 53,
   "id": "82152f7a-4e13-4553-8640-2ede89f94557",
   "metadata": {},
   "outputs": [
    {
     "ename": "KeyError",
     "evalue": "'key_10'",
     "output_type": "error",
     "traceback": [
      "\u001b[31m---------------------------------------------------------------------------\u001b[39m",
      "\u001b[31mKeyError\u001b[39m                                  Traceback (most recent call last)",
      "\u001b[36mCell\u001b[39m\u001b[36m \u001b[39m\u001b[32mIn[53]\u001b[39m\u001b[32m, line 1\u001b[39m\n\u001b[32m----> \u001b[39m\u001b[32m1\u001b[39m \u001b[43msampleDict\u001b[49m\u001b[43m[\u001b[49m\u001b[33;43m'\u001b[39;49m\u001b[33;43mkey_10\u001b[39;49m\u001b[33;43m'\u001b[39;49m\u001b[43m]\u001b[49m\n",
      "\u001b[31mKeyError\u001b[39m: 'key_10'"
     ]
    }
   ],
   "source": [
    "sampleDict['key_10']"
   ]
  },
  {
   "cell_type": "code",
   "execution_count": 54,
   "id": "41d8856c-0155-4271-84cd-83a7d4a36aa5",
   "metadata": {},
   "outputs": [],
   "source": [
    "sampleDict.get('key_10')"
   ]
  },
  {
   "cell_type": "code",
   "execution_count": 59,
   "id": "006c186f-eacd-4d0d-a7d7-bc9ba6e2cec0",
   "metadata": {},
   "outputs": [
    {
     "name": "stdout",
     "output_type": "stream",
     "text": [
      "('Linesh', 'good Boy')\n"
     ]
    }
   ],
   "source": [
    "name= \"Linesh\", \"good Boy\"\n",
    "print(name)"
   ]
  },
  {
   "cell_type": "code",
   "execution_count": 60,
   "id": "6543b624-b0ab-4b6c-954c-00d814c628da",
   "metadata": {},
   "outputs": [
    {
     "name": "stdout",
     "output_type": "stream",
     "text": [
      "{'T', 'A', 'G', 'C'} <class 'set'>\n"
     ]
    }
   ],
   "source": [
    "# fromkeys() function\n",
    "# It returns a new dictionary with the certain sequence of the items as the keys of the dictionary and the values are assigned with None.\n",
    "\n",
    "keys = {'A',\"T\",\"G\",\"C\"}  # keys \n",
    "print(keys,type(keys))"
   ]
  },
  {
   "cell_type": "code",
   "execution_count": 62,
   "id": "fad568bf-d121-4595-aaa1-b7eccb6c3313",
   "metadata": {},
   "outputs": [
    {
     "data": {
      "text/plain": [
       "{'T': None, 'A': None, 'G': None, 'C': None}"
      ]
     },
     "execution_count": 62,
     "metadata": {},
     "output_type": "execute_result"
    }
   ],
   "source": [
    "dict2 = dict.fromkeys(keys)\n",
    "dict2"
   ]
  },
  {
   "cell_type": "code",
   "execution_count": 63,
   "id": "32331ba4-07a4-4094-bed2-38f423fb41ea",
   "metadata": {},
   "outputs": [
    {
     "data": {
      "text/plain": [
       "dict_keys(['T', 'A', 'G', 'C'])"
      ]
     },
     "execution_count": 63,
     "metadata": {},
     "output_type": "execute_result"
    }
   ],
   "source": [
    "dict2.keys()"
   ]
  },
  {
   "cell_type": "code",
   "execution_count": 65,
   "id": "c20a5da4-ad41-42a9-9eb1-6351b5c0f82f",
   "metadata": {},
   "outputs": [
    {
     "data": {
      "text/plain": [
       "dict_values([None, None, None, None])"
      ]
     },
     "execution_count": 65,
     "metadata": {},
     "output_type": "execute_result"
    }
   ],
   "source": [
    "dict2.values()"
   ]
  },
  {
   "cell_type": "code",
   "execution_count": 66,
   "id": "50602a1c-9a41-4799-8a89-8ac56f398512",
   "metadata": {},
   "outputs": [
    {
     "data": {
      "text/plain": [
       "{'T': None, 'A': 'Apple', 'G': None, 'C': None}"
      ]
     },
     "execution_count": 66,
     "metadata": {},
     "output_type": "execute_result"
    }
   ],
   "source": [
    "# {}\n",
    "# dict()\n",
    "dict2['A'] = \"Apple\"\n",
    "dict2"
   ]
  },
  {
   "cell_type": "code",
   "execution_count": 67,
   "id": "795b1d11-2646-4119-ac36-32bfb75b6be0",
   "metadata": {},
   "outputs": [
    {
     "data": {
      "text/plain": [
       "{'T': None, 'A': 'Apple', 'G': None, 'C': None, 'A1': 'Apple'}"
      ]
     },
     "execution_count": 67,
     "metadata": {},
     "output_type": "execute_result"
    }
   ],
   "source": [
    "dict2['A1'] = \"Apple\"\n",
    "dict2"
   ]
  },
  {
   "cell_type": "code",
   "execution_count": 68,
   "id": "e80dfbaf-a8aa-4377-bf13-30f7b3a71c33",
   "metadata": {},
   "outputs": [
    {
     "data": {
      "text/plain": [
       "dict_items([('T', None), ('A', 'Apple'), ('G', None), ('C', None), ('A1', 'Apple')])"
      ]
     },
     "execution_count": 68,
     "metadata": {},
     "output_type": "execute_result"
    }
   ],
   "source": [
    "# items() function \n",
    "\n",
    "# keys()\n",
    "# values()\n",
    "# items()\n",
    "\n",
    "dict2.items()"
   ]
  },
  {
   "cell_type": "code",
   "execution_count": 69,
   "id": "477b4e98-18a2-4a9f-9402-0c802596cb14",
   "metadata": {},
   "outputs": [
    {
     "data": {
      "text/plain": [
       "{'T': None, 'A': 'Apple', 'G': None, 'C': None, 'A1': 'Apple'}"
      ]
     },
     "execution_count": 69,
     "metadata": {},
     "output_type": "execute_result"
    }
   ],
   "source": [
    "# get()\n",
    "# dict2['keys']\n",
    "\n",
    "dict2"
   ]
  },
  {
   "cell_type": "code",
   "execution_count": 74,
   "id": "4ea36ecb-d7b4-4993-9c5a-737562e89b53",
   "metadata": {},
   "outputs": [
    {
     "data": {
      "text/plain": [
       "'Apple'"
      ]
     },
     "execution_count": 74,
     "metadata": {},
     "output_type": "execute_result"
    }
   ],
   "source": [
    "dict2.get('A') # get()"
   ]
  },
  {
   "cell_type": "code",
   "execution_count": 75,
   "id": "2e9ccaca-8bf5-4958-890f-0bac98326232",
   "metadata": {},
   "outputs": [
    {
     "data": {
      "text/plain": [
       "'Apple'"
      ]
     },
     "execution_count": 75,
     "metadata": {},
     "output_type": "execute_result"
    }
   ],
   "source": [
    "dict2['A']"
   ]
  },
  {
   "cell_type": "code",
   "execution_count": null,
   "id": "3465f932-2f5c-4dca-927e-a324e32df671",
   "metadata": {},
   "outputs": [],
   "source": [
    "# dict()\n",
    "# set()\n",
    "# tuple()\n",
    "\n"
   ]
  }
 ],
 "metadata": {
  "kernelspec": {
   "display_name": "Python 3 (ipykernel)",
   "language": "python",
   "name": "python3"
  },
  "language_info": {
   "codemirror_mode": {
    "name": "ipython",
    "version": 3
   },
   "file_extension": ".py",
   "mimetype": "text/x-python",
   "name": "python",
   "nbconvert_exporter": "python",
   "pygments_lexer": "ipython3",
   "version": "3.13.7"
  }
 },
 "nbformat": 4,
 "nbformat_minor": 5
}
