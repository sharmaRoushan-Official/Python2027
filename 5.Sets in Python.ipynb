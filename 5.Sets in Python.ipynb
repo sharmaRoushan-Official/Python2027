{
 "cells": [
  {
   "cell_type": "markdown",
   "id": "e4411747-70fe-4b87-bf76-d94200fc13a4",
   "metadata": {},
   "source": [
    "# 5. Sets in Python\n",
    "\n",
    " * __Set is one of 4 built-in data types in Python used to store collections of data including Tuples, and Dictionary.__\n",
    " * __Sets are unordered, but you can  remove items and add new items.__\n",
    " * __Set elements are unique. Duplicate elements are not allowed.__\n",
    " * __A set itself may be modified, but the elemnets contained in the set must be an immutable type.__\n",
    " * __Sets are used to store mutliple items in a single variable.__\n",
    " * __You can deone a set with a pair of curly brackets.__"
   ]
  },
  {
   "cell_type": "code",
   "execution_count": 5,
   "id": "7820bec5-5d90-4492-955f-e40fde84d649",
   "metadata": {},
   "outputs": [
    {
     "name": "stdout",
     "output_type": "stream",
     "text": [
      "{} <class 'dict'>\n"
     ]
    }
   ],
   "source": [
    "x = {}\n",
    "print(x,type(x))"
   ]
  },
  {
   "cell_type": "code",
   "execution_count": 3,
   "id": "3c099801-7415-46a6-9ca5-58df13b8d60a",
   "metadata": {},
   "outputs": [
    {
     "name": "stdout",
     "output_type": "stream",
     "text": [
      "{}\n"
     ]
    }
   ],
   "source": [
    "# dictionary ={}\n",
    "# sets = {}\n",
    "x = {}\n",
    "print(x)"
   ]
  },
  {
   "cell_type": "code",
   "execution_count": 6,
   "id": "57bfced6-959e-4d57-8a23-e27393091759",
   "metadata": {},
   "outputs": [
    {
     "name": "stdout",
     "output_type": "stream",
     "text": [
      "{1} <class 'set'>\n"
     ]
    }
   ],
   "source": [
    "x= {1}\n",
    "print(x,type(x))"
   ]
  },
  {
   "cell_type": "code",
   "execution_count": 7,
   "id": "bdd8f51f-3373-4cb9-ae77-d40135b4d9d0",
   "metadata": {},
   "outputs": [],
   "source": [
    "# ID - \n",
    "# 'Name':\"Linesh\""
   ]
  },
  {
   "cell_type": "code",
   "execution_count": null,
   "id": "3929d158-061e-47cb-9e96-2cac69a1ce9f",
   "metadata": {},
   "outputs": [],
   "source": []
  },
  {
   "cell_type": "code",
   "execution_count": 13,
   "id": "4152e117-8db5-4359-af2b-7b464a2892c0",
   "metadata": {},
   "outputs": [
    {
     "name": "stdout",
     "output_type": "stream",
     "text": [
      "{} <class 'dict'>\n",
      "{1, 10} <class 'set'>\n"
     ]
    }
   ],
   "source": [
    "dict = {} # key and values\n",
    "sets = {1,10} # number of keys\n",
    "# It is dictinary\n",
    "print(dict,type(dict))\n",
    "print(sets,type(sets))"
   ]
  },
  {
   "cell_type": "code",
   "execution_count": 14,
   "id": "7fcd8d60-a73c-4aea-a09e-04f15f7a2690",
   "metadata": {},
   "outputs": [
    {
     "name": "stdout",
     "output_type": "stream",
     "text": [
      "set() <class 'set'>\n"
     ]
    }
   ],
   "source": [
    "# we can't create a empty set, set()\n",
    "\n",
    "x1 = set()\n",
    "print(x1,type(x1))"
   ]
  },
  {
   "cell_type": "code",
   "execution_count": 15,
   "id": "e13c8c5f-8d37-49f4-8c53-8d170dde7f24",
   "metadata": {},
   "outputs": [
    {
     "name": "stdout",
     "output_type": "stream",
     "text": [
      "(10, 20)\n"
     ]
    }
   ],
   "source": [
    "# sets is unordered data type\n",
    "\n",
    "x = (10,20)  # tuple ordered data collections\n",
    "print(x)"
   ]
  },
  {
   "cell_type": "code",
   "execution_count": 21,
   "id": "8d458c5d-2cbb-428f-9f34-bf33cae0547f",
   "metadata": {},
   "outputs": [
    {
     "name": "stdout",
     "output_type": "stream",
     "text": [
      "{True, 'Linesh', 8, 10, 11}\n"
     ]
    }
   ],
   "source": [
    "x1 = {10,10,8,\"Linesh\",11,True,\"Linesh\"}\n",
    "print(x1)"
   ]
  },
  {
   "cell_type": "code",
   "execution_count": 23,
   "id": "898058ca-6b9c-4d89-ac44-a6964a2f059f",
   "metadata": {},
   "outputs": [],
   "source": [
    "# Set Operations \n",
    "\n",
    "# add() function\n",
    "\n",
    "# to add an element into a set, we use the function add(). If the same element is added to the set, \n",
    "# noting will happen because the set accepts no duplcates."
   ]
  },
  {
   "cell_type": "code",
   "execution_count": 27,
   "id": "dad67372-2535-429b-a3d8-58bddf602041",
   "metadata": {},
   "outputs": [
    {
     "data": {
      "text/plain": [
       "{10, 11, 8, 'Linesh', True}"
      ]
     },
     "execution_count": 27,
     "metadata": {},
     "output_type": "execute_result"
    }
   ],
   "source": [
    "# append(), insert(), extend() ----> List : Ordered\n",
    "\n",
    "# add() function : No need index value.\n",
    "x1"
   ]
  },
  {
   "cell_type": "code",
   "execution_count": 28,
   "id": "292a5363-8f62-4ed5-a817-04431d64005f",
   "metadata": {},
   "outputs": [
    {
     "data": {
      "text/plain": [
       "{10, 11, 8, 'Linesh', True}"
      ]
     },
     "execution_count": 28,
     "metadata": {},
     "output_type": "execute_result"
    }
   ],
   "source": [
    "x1"
   ]
  },
  {
   "cell_type": "code",
   "execution_count": 29,
   "id": "5ac6ad7f-a3c3-49da-a151-3089aa67d4f8",
   "metadata": {},
   "outputs": [
    {
     "data": {
      "text/plain": [
       "{10, 11, 8, 'Linesh', True}"
      ]
     },
     "execution_count": 29,
     "metadata": {},
     "output_type": "execute_result"
    }
   ],
   "source": [
    "x1"
   ]
  },
  {
   "cell_type": "code",
   "execution_count": 30,
   "id": "aaecaf49-e8a4-4417-95e1-6b58f4538a82",
   "metadata": {},
   "outputs": [],
   "source": [
    "x1.add('Sanket')"
   ]
  },
  {
   "cell_type": "code",
   "execution_count": 31,
   "id": "f4186a93-a9e6-4514-9c11-ce8939e2b4bf",
   "metadata": {},
   "outputs": [
    {
     "data": {
      "text/plain": [
       "{10, 11, 8, 'Linesh', 'Sanket', True}"
      ]
     },
     "execution_count": 31,
     "metadata": {},
     "output_type": "execute_result"
    }
   ],
   "source": [
    "x1"
   ]
  },
  {
   "cell_type": "code",
   "execution_count": 32,
   "id": "74f7d39b-550b-49b0-b2e4-5de0fccbcba2",
   "metadata": {},
   "outputs": [],
   "source": [
    "x1.add('Sanket')"
   ]
  },
  {
   "cell_type": "code",
   "execution_count": 33,
   "id": "257d8dc1-89ee-4d8b-9a96-b4c21c80d535",
   "metadata": {},
   "outputs": [
    {
     "data": {
      "text/plain": [
       "{10, 11, 8, 'Linesh', 'Sanket', True}"
      ]
     },
     "execution_count": 33,
     "metadata": {},
     "output_type": "execute_result"
    }
   ],
   "source": [
    "x1"
   ]
  },
  {
   "cell_type": "code",
   "execution_count": 34,
   "id": "7816099f-f1f7-4f76-882d-e53add8a567a",
   "metadata": {},
   "outputs": [
    {
     "data": {
      "text/plain": [
       "{10, 11, 8, 'Linesh', 'Sanket', True}"
      ]
     },
     "execution_count": 34,
     "metadata": {},
     "output_type": "execute_result"
    }
   ],
   "source": [
    "x1.add('Sanket')\n",
    "x1"
   ]
  },
  {
   "cell_type": "code",
   "execution_count": 35,
   "id": "f0330e45-3689-4c00-a5bd-0ca10f0a744f",
   "metadata": {},
   "outputs": [
    {
     "data": {
      "text/plain": [
       "{6, 7, 8, 9}"
      ]
     },
     "execution_count": 35,
     "metadata": {},
     "output_type": "execute_result"
    }
   ],
   "source": [
    "# update() function\n",
    "# to add multiple elemnets int the set.\n",
    "\n",
    "x_set = {6,7,8,9}\n",
    "x_set"
   ]
  },
  {
   "cell_type": "code",
   "execution_count": 36,
   "id": "2c993775-2516-4d3a-8f70-f65b2a4195c8",
   "metadata": {},
   "outputs": [
    {
     "name": "stdout",
     "output_type": "stream",
     "text": [
      "{4, 5, 6}\n"
     ]
    }
   ],
   "source": [
    "y_set = {4,5,6}\n",
    "print(y_set)"
   ]
  },
  {
   "cell_type": "code",
   "execution_count": 37,
   "id": "41b59fec-9483-4e36-8242-ab79ad3a5019",
   "metadata": {},
   "outputs": [
    {
     "name": "stdout",
     "output_type": "stream",
     "text": [
      "{4, 5, 6, 7, 8, 9}\n"
     ]
    }
   ],
   "source": [
    "x_set.update(y_set)\n",
    "print(x_set)"
   ]
  },
  {
   "cell_type": "code",
   "execution_count": 38,
   "id": "0b03f52c-6ac7-482b-bbdd-72e5506b3057",
   "metadata": {},
   "outputs": [],
   "source": [
    "# remove() function\n",
    "\n",
    "x_set.remove(8)"
   ]
  },
  {
   "cell_type": "code",
   "execution_count": 39,
   "id": "562665bd-e376-4720-9792-fb4dca21f8f4",
   "metadata": {},
   "outputs": [
    {
     "data": {
      "text/plain": [
       "{4, 5, 6, 7, 9}"
      ]
     },
     "execution_count": 39,
     "metadata": {},
     "output_type": "execute_result"
    }
   ],
   "source": [
    "x_set"
   ]
  },
  {
   "cell_type": "code",
   "execution_count": 40,
   "id": "8e9a3059-f6e0-4150-ab25-dff730f49fa6",
   "metadata": {},
   "outputs": [
    {
     "data": {
      "text/plain": [
       "{4, 5, 6, 7, 9, 'Linesh', 'Sanket'}"
      ]
     },
     "execution_count": 40,
     "metadata": {},
     "output_type": "execute_result"
    }
   ],
   "source": [
    "name = {'Linesh',\"Sanket\"}\n",
    "\n",
    "x_set.update(name)\n",
    "x_set"
   ]
  },
  {
   "cell_type": "code",
   "execution_count": 41,
   "id": "3cfc4332-10ba-483f-ad60-183601f9c6ad",
   "metadata": {},
   "outputs": [
    {
     "ename": "KeyError",
     "evalue": "8",
     "output_type": "error",
     "traceback": [
      "\u001b[31m---------------------------------------------------------------------------\u001b[39m",
      "\u001b[31mKeyError\u001b[39m                                  Traceback (most recent call last)",
      "\u001b[36mCell\u001b[39m\u001b[36m \u001b[39m\u001b[32mIn[41]\u001b[39m\u001b[32m, line 1\u001b[39m\n\u001b[32m----> \u001b[39m\u001b[32m1\u001b[39m \u001b[43mx_set\u001b[49m\u001b[43m.\u001b[49m\u001b[43mremove\u001b[49m\u001b[43m(\u001b[49m\u001b[32;43m8\u001b[39;49m\u001b[43m)\u001b[49m\n",
      "\u001b[31mKeyError\u001b[39m: 8"
     ]
    }
   ],
   "source": [
    "x_set.remove(8)"
   ]
  },
  {
   "cell_type": "code",
   "execution_count": 48,
   "id": "948c4e5a-7671-4686-8130-699d80feb8a3",
   "metadata": {},
   "outputs": [
    {
     "ename": "KeyError",
     "evalue": "8",
     "output_type": "error",
     "traceback": [
      "\u001b[31m---------------------------------------------------------------------------\u001b[39m",
      "\u001b[31mKeyError\u001b[39m                                  Traceback (most recent call last)",
      "\u001b[36mCell\u001b[39m\u001b[36m \u001b[39m\u001b[32mIn[48]\u001b[39m\u001b[32m, line 1\u001b[39m\n\u001b[32m----> \u001b[39m\u001b[32m1\u001b[39m \u001b[43mx_set\u001b[49m\u001b[43m.\u001b[49m\u001b[43mremove\u001b[49m\u001b[43m(\u001b[49m\u001b[32;43m8\u001b[39;49m\u001b[43m)\u001b[49m\n\u001b[32m      2\u001b[39m \u001b[38;5;28mprint\u001b[39m(\u001b[33m\"\u001b[39m\u001b[33mHello world\u001b[39m\u001b[33m\"\u001b[39m)\n",
      "\u001b[31mKeyError\u001b[39m: 8"
     ]
    }
   ],
   "source": [
    "x_set.remove(8)  # cell exectuation terminated\n",
    "print(\"Hello world\")"
   ]
  },
  {
   "cell_type": "code",
   "execution_count": 43,
   "id": "d58fbf13-7e3d-4b2d-8a4c-96bfd3acd938",
   "metadata": {},
   "outputs": [
    {
     "data": {
      "text/plain": [
       "{4, 5, 6, 7, 9, 'Linesh', 'Sanket'}"
      ]
     },
     "execution_count": 43,
     "metadata": {},
     "output_type": "execute_result"
    }
   ],
   "source": [
    "# discard() function\n",
    "# it leaves the set Unchanged if the element to be deleted is not available in the set.\n",
    "\n",
    "x_set"
   ]
  },
  {
   "cell_type": "code",
   "execution_count": 44,
   "id": "44c153d7-34fe-4efa-94bc-38442eb56150",
   "metadata": {},
   "outputs": [
    {
     "data": {
      "text/plain": [
       "{4, 5, 6, 7, 9, 'Linesh', 'Sanket'}"
      ]
     },
     "execution_count": 44,
     "metadata": {},
     "output_type": "execute_result"
    }
   ],
   "source": [
    "x_set.discard(8)\n",
    "x_set"
   ]
  },
  {
   "cell_type": "code",
   "execution_count": 45,
   "id": "3ffbd4b9-124d-4d6e-b099-82feb386361f",
   "metadata": {},
   "outputs": [
    {
     "data": {
      "text/plain": [
       "{4, 5, 6, 7, 'Linesh', 'Sanket'}"
      ]
     },
     "execution_count": 45,
     "metadata": {},
     "output_type": "execute_result"
    }
   ],
   "source": [
    "x_set.discard(9)\n",
    "x_set"
   ]
  },
  {
   "cell_type": "code",
   "execution_count": 46,
   "id": "3ab1958d-6238-4a07-91b5-ab21bd9193b4",
   "metadata": {},
   "outputs": [
    {
     "data": {
      "text/plain": [
       "{4, 5, 6, 7, 'Linesh', 'Sanket'}"
      ]
     },
     "execution_count": 46,
     "metadata": {},
     "output_type": "execute_result"
    }
   ],
   "source": [
    "x_set.discard(9)\n",
    "x_set"
   ]
  },
  {
   "cell_type": "code",
   "execution_count": 50,
   "id": "c608f5e8-51da-45b9-87ab-713945811dc9",
   "metadata": {},
   "outputs": [
    {
     "name": "stdout",
     "output_type": "stream",
     "text": [
      "{4, 5, 6, 7, 'Sanket', 'Linesh'}\n",
      "Hello world\n"
     ]
    }
   ],
   "source": [
    "x_set.discard(9)\n",
    "print(x_set)\n",
    "print(\"Hello world\")"
   ]
  },
  {
   "cell_type": "code",
   "execution_count": 52,
   "id": "1cc73f29-1eac-465e-8e78-e7f116838302",
   "metadata": {},
   "outputs": [
    {
     "name": "stdout",
     "output_type": "stream",
     "text": [
      "[10, 10, 10, 10, 225, 55, 66, 'Hello Python']\n",
      "{225, 66, 10, 55, 'Hello Python'}\n"
     ]
    }
   ],
   "source": [
    "# Logic Operation in sets\n",
    "\n",
    "# Union \n",
    "# Intersection\n",
    "# difference\n",
    "# symmetric_difference\n",
    "\n",
    "list1 = [10,10,10,10,225,55,66,\"Hello Python\"]\n",
    "print(list1)\n",
    "set4 = set(list1)  # rules set, index value: random\n",
    "print(set4)"
   ]
  },
  {
   "cell_type": "code",
   "execution_count": 54,
   "id": "156d2819-3a07-4c36-860e-0ed6cad293d8",
   "metadata": {},
   "outputs": [
    {
     "name": "stdout",
     "output_type": "stream",
     "text": [
      "{1.618, 3.147, 'hello world', 'Hello Python'}\n",
      "{False, 1.618, True, 3.147, 2025}\n"
     ]
    }
   ],
   "source": [
    "setA = set(['Hello Python',3.147,1.618,\"hello world\"])\n",
    "print(setA)\n",
    "setB = {3.147,1.618,True,False, 2025}\n",
    "print(setB)"
   ]
  },
  {
   "cell_type": "code",
   "execution_count": 55,
   "id": "ff6e13b7-7a5f-4bfc-ad18-e11a2b8d4274",
   "metadata": {},
   "outputs": [
    {
     "data": {
      "text/plain": [
       "{1.618, 2025, 3.147, False, 'Hello Python', True, 'hello world'}"
      ]
     },
     "execution_count": 55,
     "metadata": {},
     "output_type": "execute_result"
    }
   ],
   "source": [
    "# union: two sets have unique value\n",
    "\n",
    "setA.union(setB)"
   ]
  },
  {
   "cell_type": "code",
   "execution_count": 58,
   "id": "e9cd85fc-49c6-4535-b75b-2ddc0097cd28",
   "metadata": {},
   "outputs": [
    {
     "data": {
      "text/plain": [
       "{1.618, 2025, 3.147, False, 'Hello Python', True, 'hello world'}"
      ]
     },
     "execution_count": 58,
     "metadata": {},
     "output_type": "execute_result"
    }
   ],
   "source": [
    "setC = setB.union(setA) # It is unordered.\n",
    "setC"
   ]
  },
  {
   "cell_type": "code",
   "execution_count": 61,
   "id": "b1549768-4723-4976-bae3-812e999d9381",
   "metadata": {},
   "outputs": [],
   "source": [
    "# Intersection \n",
    "\n",
    "setD = {'apple',1.618}"
   ]
  },
  {
   "cell_type": "code",
   "execution_count": 62,
   "id": "27e83f3c-4d49-4539-ae00-8cd27d59f767",
   "metadata": {},
   "outputs": [
    {
     "data": {
      "text/plain": [
       "{1.618, 2025, 3.147, False, 'Hello Python', True, 'apple', 'hello world'}"
      ]
     },
     "execution_count": 62,
     "metadata": {},
     "output_type": "execute_result"
    }
   ],
   "source": [
    "setC.union(setD)"
   ]
  },
  {
   "cell_type": "code",
   "execution_count": 63,
   "id": "fc8cfd9c-84a7-4af0-879f-2723c4b8f59a",
   "metadata": {},
   "outputs": [
    {
     "data": {
      "text/plain": [
       "({1.618, 3.147, 'Hello Python', 'hello world'},\n",
       " {False, True, 1.618, 3.147, 2025})"
      ]
     },
     "execution_count": 63,
     "metadata": {},
     "output_type": "execute_result"
    }
   ],
   "source": [
    "# Instersection : Opposite of Union: Duplicate Value\n",
    "\n",
    "setA,setB"
   ]
  },
  {
   "cell_type": "code",
   "execution_count": 64,
   "id": "86107a3e-3536-4686-af72-0919a315ca71",
   "metadata": {},
   "outputs": [
    {
     "data": {
      "text/plain": [
       "{1.618, 3.147}"
      ]
     },
     "execution_count": 64,
     "metadata": {},
     "output_type": "execute_result"
    }
   ],
   "source": [
    "setA.intersection(setB)"
   ]
  },
  {
   "cell_type": "code",
   "execution_count": 65,
   "id": "0ef5012a-e07a-48d5-ba98-b5f2d5a9bd35",
   "metadata": {},
   "outputs": [
    {
     "data": {
      "text/plain": [
       "{1.618, 3.147}"
      ]
     },
     "execution_count": 65,
     "metadata": {},
     "output_type": "execute_result"
    }
   ],
   "source": [
    "setB.intersection(setA)"
   ]
  },
  {
   "cell_type": "code",
   "execution_count": 66,
   "id": "771647f2-28cb-47fa-a856-775a1f8376a1",
   "metadata": {},
   "outputs": [
    {
     "data": {
      "text/plain": [
       "{1.618, 3.147}"
      ]
     },
     "execution_count": 66,
     "metadata": {},
     "output_type": "execute_result"
    }
   ],
   "source": [
    "setA&setB"
   ]
  },
  {
   "cell_type": "code",
   "execution_count": 67,
   "id": "5b2d0e42-93c9-4eae-ac71-d6c32a5f205d",
   "metadata": {},
   "outputs": [
    {
     "data": {
      "text/plain": [
       "{1.618, 3.147}"
      ]
     },
     "execution_count": 67,
     "metadata": {},
     "output_type": "execute_result"
    }
   ],
   "source": [
    "setB&setA"
   ]
  },
  {
   "cell_type": "code",
   "execution_count": 68,
   "id": "a92242fe-e5ce-4f58-904b-80db734885eb",
   "metadata": {},
   "outputs": [
    {
     "name": "stdout",
     "output_type": "stream",
     "text": [
      "{1.618, 3.147, 'hello world', 'Hello Python'}\n",
      "{False, 1.618, True, 3.147, 2025}\n"
     ]
    }
   ],
   "source": [
    "# difference: subtract:-\n",
    "# setA - setB\n",
    "# setB-setA\n",
    "print(setA)  \n",
    "print(setB)"
   ]
  },
  {
   "cell_type": "code",
   "execution_count": 69,
   "id": "0a13449c-9295-4d87-bcdb-23e1644de008",
   "metadata": {},
   "outputs": [
    {
     "data": {
      "text/plain": [
       "{'Hello Python', 'hello world'}"
      ]
     },
     "execution_count": 69,
     "metadata": {},
     "output_type": "execute_result"
    }
   ],
   "source": [
    "setA-setB"
   ]
  },
  {
   "cell_type": "code",
   "execution_count": 70,
   "id": "7bfa7f12-43f5-431a-8ff0-9fb0fa597b79",
   "metadata": {},
   "outputs": [
    {
     "data": {
      "text/plain": [
       "{False, True, 2025}"
      ]
     },
     "execution_count": 70,
     "metadata": {},
     "output_type": "execute_result"
    }
   ],
   "source": [
    "setB-setA"
   ]
  },
  {
   "cell_type": "code",
   "execution_count": 72,
   "id": "c4ac72d1-e5e0-479d-aea6-6fa78de523a5",
   "metadata": {},
   "outputs": [
    {
     "data": {
      "text/plain": [
       "{'Hello Python', 'hello world'}"
      ]
     },
     "execution_count": 72,
     "metadata": {},
     "output_type": "execute_result"
    }
   ],
   "source": [
    "setA.difference(setB)"
   ]
  },
  {
   "cell_type": "code",
   "execution_count": 73,
   "id": "e9146e63-ea34-4e0a-9259-e57f3af9dec1",
   "metadata": {},
   "outputs": [
    {
     "data": {
      "text/plain": [
       "{False, True, 2025}"
      ]
     },
     "execution_count": 73,
     "metadata": {},
     "output_type": "execute_result"
    }
   ],
   "source": [
    "setB.difference(setA)"
   ]
  },
  {
   "cell_type": "code",
   "execution_count": 74,
   "id": "237c2e2a-dc74-4f9a-bbee-30b97569d969",
   "metadata": {},
   "outputs": [
    {
     "name": "stdout",
     "output_type": "stream",
     "text": [
      "{1.618, 3.147, 'hello world', 'Hello Python'}\n",
      "{False, 1.618, True, 3.147, 2025}\n"
     ]
    }
   ],
   "source": [
    "# symmetric_difference\n",
    "\n",
    "print(setA)\n",
    "print(setB)"
   ]
  },
  {
   "cell_type": "code",
   "execution_count": 75,
   "id": "de51db77-54c3-4eec-98b0-4e0b1a81eb26",
   "metadata": {},
   "outputs": [
    {
     "data": {
      "text/plain": [
       "{2025, False, 'Hello Python', True, 'hello world'}"
      ]
     },
     "execution_count": 75,
     "metadata": {},
     "output_type": "execute_result"
    }
   ],
   "source": [
    "setA.symmetric_difference(setB)"
   ]
  },
  {
   "cell_type": "code",
   "execution_count": 82,
   "id": "ae23a58e-8afc-49e6-8032-4d3887215e0e",
   "metadata": {},
   "outputs": [
    {
     "name": "stdout",
     "output_type": "stream",
     "text": [
      "[1, 1, 1, 2, 2, 2, 3, 5, 6, 6, 96, 6]\n",
      "{96, 1, 2, 3, 5, 6}\n",
      "The Minimum value of the list is: 1\n",
      "The Minum Key of the set is: 1\n",
      "The Maximum value of the list is: 96\n",
      "The Maximum value of the set is: 96\n",
      "The sum of the list is: 131\n",
      "The sum of the set is: 113\n"
     ]
    }
   ],
   "source": [
    "# Methods of sets: \n",
    "\n",
    "# min(), max(), sum() function \n",
    "\n",
    "A = [1,1,1,2,2,2,3,5,6,6,96,6] # list\n",
    "B = {1,1,1,2,2,2,3,5,6,6,96,6} # set\n",
    "print(A)\n",
    "print(B)\n",
    "\n",
    "print(\"The Minimum value of the list is:\",min(A))\n",
    "print(\"The Minum Key of the set is:\",min(B))\n",
    "print(\"The Maximum value of the list is:\",max(A))\n",
    "print(\"The Maximum value of the set is:\",max(B))\n",
    "print(\"The sum of the list is:\",sum(A))\n",
    "print(\"The sum of the set is:\", sum(B))"
   ]
  },
  {
   "cell_type": "code",
   "execution_count": 83,
   "id": "7894e9e5-dea0-4147-9053-48a91db4acd5",
   "metadata": {},
   "outputs": [],
   "source": [
    "# No Mutable sequece in a set \n",
    "# A set can not have mutable elements such as list or dictionary in it. If any, it returns as error."
   ]
  },
  {
   "cell_type": "code",
   "execution_count": 85,
   "id": "082107ce-1817-4034-9bf6-e0bcd2a2d567",
   "metadata": {},
   "outputs": [
    {
     "ename": "TypeError",
     "evalue": "unhashable type: 'list'",
     "output_type": "error",
     "traceback": [
      "\u001b[31m---------------------------------------------------------------------------\u001b[39m",
      "\u001b[31mTypeError\u001b[39m                                 Traceback (most recent call last)",
      "\u001b[36mCell\u001b[39m\u001b[36m \u001b[39m\u001b[32mIn[85]\u001b[39m\u001b[32m, line 1\u001b[39m\n\u001b[32m----> \u001b[39m\u001b[32m1\u001b[39m x = {\u001b[32m1\u001b[39m,\u001b[32m2\u001b[39m,\u001b[32m3\u001b[39m,\u001b[32m4\u001b[39m,\u001b[32m4\u001b[39m,\u001b[32m4\u001b[39m,[\u001b[33m'\u001b[39m\u001b[33mHello world\u001b[39m\u001b[33m'\u001b[39m]}\n\u001b[32m      2\u001b[39m \u001b[38;5;28mprint\u001b[39m(x)\n",
      "\u001b[31mTypeError\u001b[39m: unhashable type: 'list'"
     ]
    }
   ],
   "source": [
    "x = {1,2,3,4,4,4,['Hello world']}\n",
    "print(x)"
   ]
  },
  {
   "cell_type": "code",
   "execution_count": 86,
   "id": "104dd771-98ee-41eb-8085-b3cbf20540ab",
   "metadata": {},
   "outputs": [],
   "source": [
    "# Index() function\n",
    "# This function does not work in set since the set is unordered collection"
   ]
  },
  {
   "cell_type": "code",
   "execution_count": 87,
   "id": "a85877cd-e2ec-4345-b15a-73db88a3ee8e",
   "metadata": {},
   "outputs": [
    {
     "data": {
      "text/plain": [
       "{1.618, 3.147, 'Hello Python', 'hello world'}"
      ]
     },
     "execution_count": 87,
     "metadata": {},
     "output_type": "execute_result"
    }
   ],
   "source": [
    "setA"
   ]
  },
  {
   "cell_type": "code",
   "execution_count": 88,
   "id": "12c9c1fb-77e3-4502-8c4f-b5557af2acb1",
   "metadata": {},
   "outputs": [
    {
     "ename": "TypeError",
     "evalue": "'set' object is not subscriptable",
     "output_type": "error",
     "traceback": [
      "\u001b[31m---------------------------------------------------------------------------\u001b[39m",
      "\u001b[31mTypeError\u001b[39m                                 Traceback (most recent call last)",
      "\u001b[36mCell\u001b[39m\u001b[36m \u001b[39m\u001b[32mIn[88]\u001b[39m\u001b[32m, line 1\u001b[39m\n\u001b[32m----> \u001b[39m\u001b[32m1\u001b[39m \u001b[43msetA\u001b[49m\u001b[43m[\u001b[49m\u001b[32;43m0\u001b[39;49m\u001b[43m]\u001b[49m\n",
      "\u001b[31mTypeError\u001b[39m: 'set' object is not subscriptable"
     ]
    }
   ],
   "source": [
    "setA[0]"
   ]
  },
  {
   "cell_type": "code",
   "execution_count": 89,
   "id": "dc0e44ed-4acb-4e96-aa71-56132bb14425",
   "metadata": {},
   "outputs": [
    {
     "data": {
      "text/plain": [
       "{1.618, 3.147, 'Hello Python', 'hello world'}"
      ]
     },
     "execution_count": 89,
     "metadata": {},
     "output_type": "execute_result"
    }
   ],
   "source": [
    "setA"
   ]
  },
  {
   "cell_type": "code",
   "execution_count": 90,
   "id": "35e4094a-d23f-4f24-aef5-92cb8b5965bb",
   "metadata": {},
   "outputs": [],
   "source": [
    "setA.clear()"
   ]
  },
  {
   "cell_type": "code",
   "execution_count": 91,
   "id": "344da358-c0a3-429a-8f30-5f54a69e53d0",
   "metadata": {},
   "outputs": [
    {
     "data": {
      "text/plain": [
       "set()"
      ]
     },
     "execution_count": 91,
     "metadata": {},
     "output_type": "execute_result"
    }
   ],
   "source": [
    "setA"
   ]
  },
  {
   "cell_type": "code",
   "execution_count": 94,
   "id": "dbdea6b5-5ec0-4463-914c-e8f4c2925095",
   "metadata": {},
   "outputs": [
    {
     "data": {
      "text/plain": [
       "{1.618, 3.147, 'Hello Python', 'hello world'}"
      ]
     },
     "execution_count": 94,
     "metadata": {},
     "output_type": "execute_result"
    }
   ],
   "source": [
    "setA ={1.618, 3.147, 'Hello Python', 'hello world'}\n",
    "setA"
   ]
  },
  {
   "cell_type": "code",
   "execution_count": 95,
   "id": "8192d569-4e29-4de6-9910-2e2412246f3e",
   "metadata": {},
   "outputs": [
    {
     "data": {
      "text/plain": [
       "1.618"
      ]
     },
     "execution_count": 95,
     "metadata": {},
     "output_type": "execute_result"
    }
   ],
   "source": [
    "# pop() function \n",
    "# It removes keys inside the set.\n",
    "\n",
    "setA.pop()"
   ]
  },
  {
   "cell_type": "code",
   "execution_count": 96,
   "id": "1987a351-f2e6-454c-9cb4-b88835d52745",
   "metadata": {},
   "outputs": [
    {
     "data": {
      "text/plain": [
       "{3.147, 'Hello Python', 'hello world'}"
      ]
     },
     "execution_count": 96,
     "metadata": {},
     "output_type": "execute_result"
    }
   ],
   "source": [
    "setA"
   ]
  },
  {
   "cell_type": "code",
   "execution_count": 97,
   "id": "707817b1-6e90-4cc3-884b-9f9a7b347c92",
   "metadata": {},
   "outputs": [
    {
     "data": {
      "text/plain": [
       "3.147"
      ]
     },
     "execution_count": 97,
     "metadata": {},
     "output_type": "execute_result"
    }
   ],
   "source": [
    "setA.pop()"
   ]
  },
  {
   "cell_type": "code",
   "execution_count": 98,
   "id": "ff167682-165b-487f-8e16-5dc1cee9d164",
   "metadata": {},
   "outputs": [
    {
     "data": {
      "text/plain": [
       "{'Hello Python', 'hello world'}"
      ]
     },
     "execution_count": 98,
     "metadata": {},
     "output_type": "execute_result"
    }
   ],
   "source": [
    "setA"
   ]
  },
  {
   "cell_type": "code",
   "execution_count": null,
   "id": "256e447f-c613-43fb-b509-71c1bd7c59ec",
   "metadata": {},
   "outputs": [],
   "source": []
  }
 ],
 "metadata": {
  "kernelspec": {
   "display_name": "Python 3 (ipykernel)",
   "language": "python",
   "name": "python3"
  },
  "language_info": {
   "codemirror_mode": {
    "name": "ipython",
    "version": 3
   },
   "file_extension": ".py",
   "mimetype": "text/x-python",
   "name": "python",
   "nbconvert_exporter": "python",
   "pygments_lexer": "ipython3",
   "version": "3.13.7"
  }
 },
 "nbformat": 4,
 "nbformat_minor": 5
}
